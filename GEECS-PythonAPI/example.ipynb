{
 "cells": [
  {
   "cell_type": "code",
   "execution_count": 22,
   "metadata": {},
   "outputs": [],
   "source": [
    "import time\n",
    "from GEECSPythonAPI import GEECSDevice"
   ]
  },
  {
   "cell_type": "code",
   "execution_count": 23,
   "metadata": {},
   "outputs": [],
   "source": [
    "JetX=GEECSDevice(device_name=\"U_ESP_JetXYZ\",variables=['Position.Axis 1',[2.0,7.0],True,None])"
   ]
  },
  {
   "cell_type": "code",
   "execution_count": 25,
   "metadata": {},
   "outputs": [
    {
     "name": "stdout",
     "output_type": "stream",
     "text": [
      "Message from Server b'setPosition.Axis 1>>3.0>>accepted' \n",
      "53307\n",
      "Message from Server b'U_ESP_JetXYZ>>setPosition.Axis 1>>3.0>>no error,' \n",
      "using the get command to read the value: 3.000000\n"
     ]
    }
   ],
   "source": [
    "JetX.device_initialize()\n",
    "JetX.set(3.0)\n",
    "\n",
    "time.sleep(1)\n",
    "\n",
    "v1=JetX.get()\n",
    "print(\"using the get command to read the value: \"+v1)"
   ]
  }
 ],
 "metadata": {
  "kernelspec": {
   "display_name": "Python 3 (ipykernel)",
   "language": "python",
   "name": "python3"
  },
  "language_info": {
   "codemirror_mode": {
    "name": "ipython",
    "version": 3
   },
   "file_extension": ".py",
   "mimetype": "text/x-python",
   "name": "python",
   "nbconvert_exporter": "python",
   "pygments_lexer": "ipython3",
   "version": "3.9.13"
  }
 },
 "nbformat": 4,
 "nbformat_minor": 4
}
