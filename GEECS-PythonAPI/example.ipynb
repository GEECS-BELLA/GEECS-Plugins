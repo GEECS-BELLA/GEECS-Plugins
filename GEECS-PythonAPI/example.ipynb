{
 "cells": [
  {
   "cell_type": "code",
   "execution_count": 1,
   "metadata": {},
   "outputs": [],
   "source": [
    "import time\n",
    "from GEECSPythonAPI import GEECSDevice\n",
    "from GEECSPythonAPI import OptimizationControl"
   ]
  },
  {
   "cell_type": "code",
   "execution_count": 3,
   "metadata": {},
   "outputs": [],
   "source": [
    "JetX=GEECSDevice(device_name=\"U_ESP_JetXYZ\")\n",
    "JetX.device_initialize()\n"
   ]
  },
  {
   "cell_type": "code",
   "execution_count": 3,
   "metadata": {},
   "outputs": [
    {
     "name": "stdout",
     "output_type": "stream",
     "text": [
      "set command accepted\n",
      "get command accepted\n",
      "set command accepted\n",
      "using the get command to read the value: 7.000090\n"
     ]
    }
   ],
   "source": [
    "testVar='Position.Axis 1';\n",
    "v1=JetX.set_only_udp(testVar,7.00000)\n",
    "# print(\"using the set command to read the value: \"+v1)\n",
    "\n",
    "v1=JetX.get_only_udp(testVar)\n",
    "v1=JetX.set_only_udp(testVar,2.00000,port_bind=False)\n",
    "\n",
    "# print(\"using the get command to read the value: \"+v1)\n",
    "v1=JetX.read_slow_UDP()\n",
    "print(\"using the get command to read the value: \"+v1)"
   ]
  },
  {
   "cell_type": "code",
   "execution_count": 4,
   "metadata": {},
   "outputs": [
    {
     "name": "stdout",
     "output_type": "stream",
     "text": [
      "get command accepted\n",
      "b'U_ESP_JetXYZ>>getPosition.Axis 1>>2.000000>>no error,'\n",
      "using the get command to read the value: 2.000000\n"
     ]
    }
   ],
   "source": [
    "v1=JetX.get_and_wait_udp(testVar)\n",
    "print(\"using the get command to read the value: \"+v1)"
   ]
  },
  {
   "cell_type": "code",
   "execution_count": 5,
   "metadata": {},
   "outputs": [
    {
     "name": "stdout",
     "output_type": "stream",
     "text": [
      "invalid command\n"
     ]
    }
   ],
   "source": [
    "JetX.command('sdfds',testVar)"
   ]
  },
  {
   "cell_type": "code",
   "execution_count": 6,
   "metadata": {},
   "outputs": [
    {
     "data": {
      "text/plain": [
       "<socket.socket fd=76, family=AddressFamily.AF_INET, type=SocketKind.SOCK_STREAM, proto=0, laddr=('192.168.8.0', 59030), raddr=('192.168.8.198', 65158)>"
      ]
     },
     "execution_count": 6,
     "metadata": {},
     "output_type": "execute_result"
    }
   ],
   "source": [
    "JetX.create_tcp_subscribing_client(testVar)"
   ]
  },
  {
   "cell_type": "code",
   "execution_count": 7,
   "metadata": {},
   "outputs": [],
   "source": [
    "JetX.get_tcp_nonblocking()\n"
   ]
  },
  {
   "cell_type": "code",
   "execution_count": 8,
   "metadata": {},
   "outputs": [],
   "source": [
    "JetX.device_close()"
   ]
  },
  {
   "cell_type": "code",
   "execution_count": 1,
   "metadata": {},
   "outputs": [],
   "source": [
    "import time\n",
    "from GEECSPythonAPI import GEECSDevice\n",
    "from GEECSPythonAPI import OptimizationControl"
   ]
  },
  {
   "cell_type": "code",
   "execution_count": 2,
   "metadata": {},
   "outputs": [],
   "source": [
    "JetX=OptimizationControl(device_name=\"U_ESP_JetXYZ\",variable='Position.Axis 1')\n",
    "JetY=OptimizationControl(device_name=\"U_ESP_JetXYZ\",variable='Position.Axis 2',bounds=[-8.0,-6.0])\n",
    "\n",
    "# JetX.echo_dev_name()\n",
    "JetX.device_initialize()\n",
    "JetY.device_initialize()"
   ]
  },
  {
   "cell_type": "code",
   "execution_count": 3,
   "metadata": {},
   "outputs": [
    {
     "name": "stdout",
     "output_type": "stream",
     "text": [
      "no bounds defined for this device variable. This is unsafe so set function is disabled\n"
     ]
    }
   ],
   "source": [
    "JetX.xopt_set(6)"
   ]
  },
  {
   "cell_type": "code",
   "execution_count": 4,
   "metadata": {},
   "outputs": [],
   "source": [
    "classDict=dict({\"JetX\":JetX,\"JetY\":JetY})"
   ]
  },
  {
   "cell_type": "code",
   "execution_count": 11,
   "metadata": {},
   "outputs": [
    {
     "name": "stdout",
     "output_type": "stream",
     "text": [
      "can set\n",
      "set command accepted\n"
     ]
    }
   ],
   "source": [
    "classDict['JetX'].xopt_set(5)"
   ]
  },
  {
   "cell_type": "code",
   "execution_count": 6,
   "metadata": {},
   "outputs": [
    {
     "name": "stdout",
     "output_type": "stream",
     "text": [
      "<GEECSPythonAPI.OptimizationControl object at 0x7f9dd272da30>\n",
      "5.0\n",
      "no bounds defined for this device variable. This is unsafe so set function is disabled\n",
      "<GEECSPythonAPI.OptimizationControl object at 0x7f9dd269b250>\n",
      "-6.5\n",
      "can set\n",
      "set command accepted\n"
     ]
    }
   ],
   "source": [
    "test_dict=dict({\"JetX\":5.0,\"JetY\":-6.5})\n",
    "for i in test_dict.keys():\n",
    "    print(classDict[i])\n",
    "    print(test_dict[i])\n",
    "    classDict[i].xopt_set(test_dict[i])\n",
    "    "
   ]
  },
  {
   "cell_type": "code",
   "execution_count": null,
   "metadata": {},
   "outputs": [],
   "source": []
  }
 ],
 "metadata": {
  "kernelspec": {
   "display_name": "Python 3 (ipykernel)",
   "language": "python",
   "name": "python3"
  },
  "language_info": {
   "codemirror_mode": {
    "name": "ipython",
    "version": 3
   },
   "file_extension": ".py",
   "mimetype": "text/x-python",
   "name": "python",
   "nbconvert_exporter": "python",
   "pygments_lexer": "ipython3",
   "version": "3.9.13"
  }
 },
 "nbformat": 4,
 "nbformat_minor": 4
}
