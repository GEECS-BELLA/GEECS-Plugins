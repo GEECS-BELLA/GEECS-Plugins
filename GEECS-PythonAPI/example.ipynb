{
 "cells": [
  {
   "cell_type": "code",
   "execution_count": 1,
   "metadata": {},
   "outputs": [],
   "source": [
    "import time\n",
    "from GEECSPythonAPI import GEECSDevice\n",
    "from GEECSPythonAPI import OptimizationControl"
   ]
  },
  {
   "cell_type": "code",
   "execution_count": 3,
   "metadata": {},
   "outputs": [],
   "source": [
    "JetX=GEECSDevice(device_name=\"U_ESP_JetXYZ\")\n",
    "JetX.device_initialize()"
   ]
  },
  {
   "cell_type": "code",
   "execution_count": 4,
   "metadata": {},
   "outputs": [
    {
     "name": "stdout",
     "output_type": "stream",
     "text": [
      "set command accepted\n",
      "done with set command\n",
      "get command accepted\n",
      "set command accepted\n",
      "using the get command to read the value: 6.999990\n"
     ]
    }
   ],
   "source": [
    "testVar='Position.Axis 1';\n",
    "v1=JetX.set_only_udp(testVar,7.00000)\n",
    "# print(\"using the set command to read the value: \"+v1)\n",
    "print('done with set command')\n",
    "v1=JetX.get_only_udp(testVar)\n",
    "v1=JetX.set_only_udp(testVar,2.00000,port_bind=False)\n",
    "\n",
    "# print(\"using the get command to read the value: \"+v1)\n",
    "v1=JetX.read_slow_UDP()\n",
    "print(\"using the get command to read the value: \"+v1)"
   ]
  },
  {
   "cell_type": "code",
   "execution_count": 4,
   "metadata": {},
   "outputs": [
    {
     "name": "stdout",
     "output_type": "stream",
     "text": [
      "get command accepted\n",
      "b'U_ESP_JetXYZ>>getPosition.Axis 1>>2.000000>>no error,'\n",
      "using the get command to read the value: 2.000000\n"
     ]
    }
   ],
   "source": [
    "v1=JetX.get_and_wait_udp(testVar)\n",
    "print(\"using the get command to read the value: \"+v1)"
   ]
  },
  {
   "cell_type": "code",
   "execution_count": 5,
   "metadata": {},
   "outputs": [
    {
     "name": "stdout",
     "output_type": "stream",
     "text": [
      "invalid command\n"
     ]
    }
   ],
   "source": [
    "JetX.command('sdfds',testVar)"
   ]
  },
  {
   "cell_type": "code",
   "execution_count": 6,
   "metadata": {},
   "outputs": [
    {
     "data": {
      "text/plain": [
       "<socket.socket fd=76, family=AddressFamily.AF_INET, type=SocketKind.SOCK_STREAM, proto=0, laddr=('192.168.8.0', 59030), raddr=('192.168.8.198', 65158)>"
      ]
     },
     "execution_count": 6,
     "metadata": {},
     "output_type": "execute_result"
    }
   ],
   "source": [
    "JetX.create_tcp_subscribing_client(testVar)"
   ]
  },
  {
   "cell_type": "code",
   "execution_count": 7,
   "metadata": {},
   "outputs": [],
   "source": [
    "JetX.get_tcp_nonblocking()\n"
   ]
  },
  {
   "cell_type": "code",
   "execution_count": 8,
   "metadata": {},
   "outputs": [],
   "source": [
    "JetX.device_close()"
   ]
  },
  {
   "cell_type": "code",
   "execution_count": 15,
   "metadata": {},
   "outputs": [],
   "source": [
    "import time\n",
    "from GEECSPythonAPI import GEECSDevice\n",
    "from GEECSPythonAPI import OptimizationControl"
   ]
  },
  {
   "cell_type": "code",
   "execution_count": 2,
   "metadata": {},
   "outputs": [],
   "source": [
    "JetX=OptimizationControl(device_name=\"U_ESP_JetXYZ\",variable='Position.Axis 1')\n",
    "JetY=OptimizationControl(device_name=\"U_ESP_JetXYZ\",variable='Position.Axis 2',bounds=[-8.0,-6.0])\n",
    "\n",
    "# JetX.echo_dev_name()\n",
    "JetX.device_initialize()\n",
    "JetY.device_initialize()"
   ]
  },
  {
   "cell_type": "code",
   "execution_count": 4,
   "metadata": {},
   "outputs": [
    {
     "name": "stdout",
     "output_type": "stream",
     "text": [
      "can set\n",
      "set command accepted\n"
     ]
    }
   ],
   "source": [
    "JetY.xopt_set(-6)"
   ]
  },
  {
   "cell_type": "code",
   "execution_count": 4,
   "metadata": {},
   "outputs": [],
   "source": [
    "classDict=dict({\"JetX\":JetX,\"JetY\":JetY})"
   ]
  },
  {
   "cell_type": "code",
   "execution_count": 11,
   "metadata": {},
   "outputs": [
    {
     "name": "stdout",
     "output_type": "stream",
     "text": [
      "can set\n",
      "set command accepted\n"
     ]
    }
   ],
   "source": [
    "classDict['JetX'].xopt_set(5)"
   ]
  },
  {
   "cell_type": "code",
   "execution_count": 6,
   "metadata": {},
   "outputs": [
    {
     "name": "stdout",
     "output_type": "stream",
     "text": [
      "<GEECSPythonAPI.OptimizationControl object at 0x7f9dd272da30>\n",
      "5.0\n",
      "no bounds defined for this device variable. This is unsafe so set function is disabled\n",
      "<GEECSPythonAPI.OptimizationControl object at 0x7f9dd269b250>\n",
      "-6.5\n",
      "can set\n",
      "set command accepted\n"
     ]
    }
   ],
   "source": [
    "test_dict=dict({\"JetX\":5.0,\"JetY\":-6.5})\n",
    "for i in test_dict.keys():\n",
    "    print(classDict[i])\n",
    "    print(test_dict[i])\n",
    "    classDict[i].xopt_set(test_dict[i])\n",
    "    "
   ]
  },
  {
   "cell_type": "code",
   "execution_count": 4,
   "metadata": {},
   "outputs": [
    {
     "data": {
      "text/plain": [
       "{'control_variables': {'JetX': {'device_name': 'U_ESP_JetXYZ',\n",
       "   'device_variable': 'Position.Axis 1',\n",
       "   'range': [2.0, 7.0],\n",
       "   'ipaddress': '0.0.0.0',\n",
       "   'port': 9999,\n",
       "   'busy': 0,\n",
       "   'newDataFlag': 0,\n",
       "   'tcp_client': 'na',\n",
       "   'actual_value': 0.0,\n",
       "   'set': True,\n",
       "   'set_value': 0.0,\n",
       "   'proximal_lengthscale': 1.5,\n",
       "   'objective': False},\n",
       "  'JetY': {'device_name': 'U_ESP_JetXYZ',\n",
       "   'device_variable': 'Position.Axis 2',\n",
       "   'range': [-8.0, -5.0],\n",
       "   'ipaddress': '0.0.0.0',\n",
       "   'port': 9999,\n",
       "   'busy': 0,\n",
       "   'newDataFlag': 0,\n",
       "   'tcp_client': 'na',\n",
       "   'actual_value': 0.0,\n",
       "   'set': True,\n",
       "   'set_value': 0.0,\n",
       "   'proximal_lengthscale': 1.5,\n",
       "   'objective': False}}}"
      ]
     },
     "execution_count": 4,
     "metadata": {},
     "output_type": "execute_result"
    }
   ],
   "source": [
    "import yaml\n",
    "yamlfile=\"HTU_config.yaml\"\n",
    "with open(yamlfile, \"r\") as stream:\n",
    "    try:\n",
    "        bella_config=yaml.safe_load(stream)\n",
    "    except yaml.YAMLError as exc:\n",
    "        print(exc)\n",
    "bella_config"
   ]
  },
  {
   "cell_type": "code",
   "execution_count": 16,
   "metadata": {},
   "outputs": [],
   "source": [
    "optimization_controls=[]\n",
    "cv_tags=dict(bella_config['control_variables'])\n",
    "for cv_tag, cv_config in cv_tags.items():\n",
    "    if cv_config['set']:\n",
    "        opt_contr=OptimizationControl(device_name=cv_config['device_name'],variable=cv_config['device_variable'],bounds=cv_config['range'])\n",
    "        optimization_controls.append(opt_contr)\n",
    "#         ranges.append(cv_config['range'])\n",
    "#         range_offset=[0,cv_config['range'][1]-cv_config['range'][0]]\n",
    "#         range_norm=[0,1]\n",
    "#         print(range_offset)\n",
    "#         if normalize_ranges:\n",
    "#             yaml_output['vocs']['variables'][cv_tag]=[0,1]\n",
    "#             yaml_output['generator']['acq']['proximal_lengthscales'].append(cv_config['proximal_lengthscale']/range_offset[1])\n",
    "#         else:\n",
    "#             yaml_output['vocs']['variables'][cv_tag]=cv_config['range']\n",
    "#     if cv_config['objective']:\n",
    "#         obj_tags.append(cv_tag)"
   ]
  },
  {
   "cell_type": "code",
   "execution_count": 17,
   "metadata": {},
   "outputs": [
    {
     "data": {
      "text/plain": [
       "[<GEECSPythonAPI.OptimizationControl at 0x7fd8582a8940>,\n",
       " <GEECSPythonAPI.OptimizationControl at 0x7fd8582a8910>]"
      ]
     },
     "execution_count": 17,
     "metadata": {},
     "output_type": "execute_result"
    }
   ],
   "source": [
    "optimization_controls"
   ]
  },
  {
   "cell_type": "code",
   "execution_count": null,
   "metadata": {},
   "outputs": [],
   "source": []
  }
 ],
 "metadata": {
  "kernelspec": {
   "display_name": "Python 3 (ipykernel)",
   "language": "python",
   "name": "python3"
  },
  "language_info": {
   "codemirror_mode": {
    "name": "ipython",
    "version": 3
   },
   "file_extension": ".py",
   "mimetype": "text/x-python",
   "name": "python",
   "nbconvert_exporter": "python",
   "pygments_lexer": "ipython3",
   "version": "3.7.9"
  }
 },
 "nbformat": 4,
 "nbformat_minor": 4
}
