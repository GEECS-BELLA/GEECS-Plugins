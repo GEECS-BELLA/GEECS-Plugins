{
 "cells": [
  {
   "cell_type": "code",
   "execution_count": 3,
   "id": "0f0f5a53-1e16-4185-850a-956d6eb0869d",
   "metadata": {
    "tags": []
   },
   "outputs": [
    {
     "name": "stdout",
     "output_type": "stream",
     "text": [
      "exposure before setting 0.005\n",
      "exposure should be 0.002 0.002\n",
      "exposure should be 0.005 0.005\n"
     ]
    }
   ],
   "source": [
    "from geecs_api.interface.geecs_database import GeecsDatabase\n",
    "from geecs_api.devices.geecs_device import GeecsDevice\n",
    "GeecsDevice.exp_info = GeecsDatabase.collect_exp_info(\"Bella\")\n",
    "ccd = GeecsDevice('CAM-HPD-CCD')\n",
    "exposure = ccd.get('exposure', sync=True)\n",
    "print('exposure before setting',exposure)\n",
    "ccd.set('exposure', 0.002)\n",
    "exposure = ccd.get('exposure', sync=True)\n",
    "print('exposure should be 0.002',exposure)\n",
    "ccd.set('exposure', 0.005)\n",
    "exposure = ccd.get('exposure', sync=True)\n",
    "print('exposure should be 0.005',exposure)\n"
   ]
  },
  {
   "cell_type": "code",
   "execution_count": 4,
   "id": "142301e4-f8b0-411b-be74-e433796860fe",
   "metadata": {
    "tags": []
   },
   "outputs": [
    {
     "name": "stdout",
     "output_type": "stream",
     "text": [
      "stage before setting 0.086043\n"
     ]
    }
   ],
   "source": [
    "DPMstage = GeecsDevice('MCD-PL1-NewmarkDPM')\n",
    "DPMx = DPMstage.get('Position.Stage A', sync=True)\n",
    "print('stage before setting',DPMx)"
   ]
  },
  {
   "cell_type": "code",
   "execution_count": 11,
   "id": "a8e01f42-61c5-45ad-a7c8-afc6447205af",
   "metadata": {
    "tags": []
   },
   "outputs": [
    {
     "name": "stdout",
     "output_type": "stream",
     "text": [
      "Error:\n",
      "\tMessage: Error occurred during check values -  Position.Stage B was not change acording to the command. actual value= 1.999996\n",
      "\tSource:  Failed to execute command \"setPosition.Stage B\", error originated in control system\n"
     ]
    },
    {
     "data": {
      "text/plain": [
       "1.999996"
      ]
     },
     "execution_count": 11,
     "metadata": {},
     "output_type": "execute_result"
    }
   ],
   "source": [
    "DPMstage.set('Position.Stage B',2.5)"
   ]
  },
  {
   "cell_type": "code",
   "execution_count": 10,
   "id": "d59de97e-7fe1-4c53-8af9-36a1f62f34e8",
   "metadata": {
    "tags": []
   },
   "outputs": [
    {
     "data": {
      "text/plain": [
       "1.999996"
      ]
     },
     "execution_count": 10,
     "metadata": {},
     "output_type": "execute_result"
    }
   ],
   "source": [
    "DPMstage.get('Position.Stage B', sync=True)"
   ]
  },
  {
   "cell_type": "code",
   "execution_count": null,
   "id": "3690c1cc-6cde-470a-aee8-4c45a1079511",
   "metadata": {},
   "outputs": [],
   "source": []
  }
 ],
 "metadata": {
  "kernelspec": {
   "display_name": "Python 3 (ipykernel)",
   "language": "python",
   "name": "python3"
  },
  "language_info": {
   "codemirror_mode": {
    "name": "ipython",
    "version": 3
   },
   "file_extension": ".py",
   "mimetype": "text/x-python",
   "name": "python",
   "nbconvert_exporter": "python",
   "pygments_lexer": "ipython3",
   "version": "3.11.3"
  }
 },
 "nbformat": 4,
 "nbformat_minor": 5
}
