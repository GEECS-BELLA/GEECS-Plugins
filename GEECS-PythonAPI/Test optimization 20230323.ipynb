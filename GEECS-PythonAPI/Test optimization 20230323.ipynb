{
 "cells": [
  {
   "cell_type": "code",
   "execution_count": 1,
   "id": "143e87c5-90cf-475f-b05b-f35053e3ce92",
   "metadata": {},
   "outputs": [],
   "source": [
    "import time\n",
    "import numpy as np\n",
    "from GEECSPythonAPI import GEECSDevice\n",
    "from GEECSPythonAPI import OptimizationControl\n",
    "import yaml"
   ]
  },
  {
   "cell_type": "code",
   "execution_count": 2,
   "id": "825ba635-1f1c-44e6-a552-02438b6b35a3",
   "metadata": {},
   "outputs": [],
   "source": [
    "# Axicon Horizontal vertical looking at minimizing STD \n",
    "# yamlfile=\"AxiconHorizontalVertical.yaml\"\n",
    "# evaluator_str = \"-abs(np.std(outs))\"\n",
    "# TestPoints_dict = {\"AxiconHorizontal\":0.5,\"AxiconVertical\":0.5}\n",
    "# InitialPoints_dict = {\"AxiconHorizontal\":[0.85,0.1],\"AxiconVertical\":[0.85,0.1]}\n",
    "#tolerance=0.001\n",
    "\n",
    "#hpd focal scan\n",
    "yamlfile=\"PWfocusLpMode.yaml\"\n",
    "evaluator_str = \"np.median(outs)\"\n",
    "TestPoints_dict = {\"exposure\":0.0005}\n",
    "InitialPoints_dict = {\"Position\":[0.7,0.3]}\n",
    "tolerance=0.01\n",
    "\n",
    "# yamlfile=\"AxiconHorizontalVertical.yaml\"\n",
    "# evaluator_str = \"-abs(np.std(outs))\"\n",
    "# TestPoints_dict = {\"AxiconHorizontal\":0.5,\"AxiconVertical\":0.5}\n",
    "# InitialPoints_dict = {\"AxiconHorizontal\":[0.85,0.1],\"AxiconVertical\":[0.85,0.1]}\n",
    "#tolerance=0.01\n",
    "\n",
    "\n",
    "# this one is good for aligning to a crosshair\n",
    "#    return {'f': -abs(np.median(outs)-672)}\n",
    "#This is for minimizing fluctuation of the data\n",
    "#    return {'f': eval(evaluator_str)}"
   ]
  },
  {
   "cell_type": "code",
   "execution_count": 3,
   "id": "a4cd56ae-ec3d-449d-95ca-1d0aaafb0611",
   "metadata": {},
   "outputs": [
    {
     "data": {
      "text/plain": [
       "{'control_variables': {'exposure': {'device_name': 'CAM-2BL-ProbeM6M7',\n",
       "   'device_variable': 'exposure',\n",
       "   'range': [3e-05, 0.001],\n",
       "   'ipaddress': '0.0.0.0',\n",
       "   'port': 9999,\n",
       "   'busy': 0,\n",
       "   'newDataFlag': 0,\n",
       "   'tcp_client': 'na',\n",
       "   'actual_value': 0.0,\n",
       "   'set': True,\n",
       "   'set_value': 0.0,\n",
       "   'proximal_lengthscale': 0.001,\n",
       "   'objective': False},\n",
       "  'Charge': {'device_name': 'CAM-PL1-LPMode',\n",
       "   'device_variable': 'MaxCounts',\n",
       "   'ipaddress': '0.0.0.0',\n",
       "   'port': 9999,\n",
       "   'busy': 0,\n",
       "   'newDataFlag': 0,\n",
       "   'tcp_client': 'na',\n",
       "   'actual_value': 0.0,\n",
       "   'method': 'MAXIMIZE',\n",
       "   'objective': True,\n",
       "   'set': False}},\n",
       " 'objective_variables': {'Charge': {'device_name': 'CAM-2BL-ProbeM6M7',\n",
       "   'device_variable': 'MaxCounts',\n",
       "   'range': [0, 1000.0],\n",
       "   'ipaddress': '0.0.0.0',\n",
       "   'port': 9999,\n",
       "   'busy': 0,\n",
       "   'newDataFlag': 0,\n",
       "   'tcp_client': 'na',\n",
       "   'actual_value': 0.0,\n",
       "   'method': 'MAXIMIZE'}},\n",
       " 'database': {'name': 'loasis',\n",
       "  'port': 3306,\n",
       "  'ipaddress': '192.168.13.23',\n",
       "  'user': 'loasis',\n",
       "  'password': 'dat+l0sim'},\n",
       " 'optimization_parameters': {'shots_per_step': 15}}"
      ]
     },
     "execution_count": 3,
     "metadata": {},
     "output_type": "execute_result"
    }
   ],
   "source": [
    "#define a \"yaml file\" with no entries for variables. These will be filled in used the \"bella_config\" yamml file\n",
    "YAML = \"\"\"\n",
    "xopt:\n",
    "    dump_file: dump.yaml\n",
    "generator:\n",
    "    name: upper_confidence_bound\n",
    "    n_initial: 5\n",
    "    optim:\n",
    "        num_restarts: 1\n",
    "    acq:\n",
    "        proximal_lengthscales: []\n",
    "\n",
    "evaluator:\n",
    "    function: __main__.geecs_measurement\n",
    "\n",
    "vocs:\n",
    "    variables:\n",
    "        {}\n",
    "    objectives: {f: \"MAXIMIZE\"}\n",
    "\n",
    "\"\"\"\n",
    "yaml_output = yaml.safe_load(YAML)\n",
    "\n",
    "with open(yamlfile, \"r\") as stream:\n",
    "    try:\n",
    "        bella_config=yaml.safe_load(stream)\n",
    "    except yaml.YAMLError as exc:\n",
    "        print(exc)\n",
    "bella_config"
   ]
  },
  {
   "cell_type": "code",
   "execution_count": 4,
   "id": "4ca0f2b9-02f7-4d8c-924f-f2452caf36b6",
   "metadata": {},
   "outputs": [
    {
     "name": "stdout",
     "output_type": "stream",
     "text": [
      "[0, 0.00097]\n"
     ]
    }
   ],
   "source": [
    "optimization_controls=[]\n",
    "ranges=[]\n",
    "obj_tags=[]\n",
    "normalize_ranges=False\n",
    "cv_tags=dict(bella_config['control_variables'])\n",
    "optimization_objects_dict=dict()\n",
    "optimization_function_dict=dict()\n",
    "for cv_tag, cv_config in cv_tags.items():\n",
    "    if cv_config['set']:\n",
    "        #find the variables in the config yaml file chosen as select and create a control object for them\n",
    "        opt_contr=OptimizationControl(device_name=cv_config['device_name'],variable=cv_config['device_variable'],bounds=cv_config['range'])\n",
    "        opt_contr.device_initialize()\n",
    "        #optimization_controls.append(opt_contr)\n",
    "        \n",
    "        \n",
    "        \n",
    "\n",
    "        \n",
    "        #create a dictionary with the keys that matech what are put into the VOCS structure that map to the \n",
    "        #xopt control objects so that they can be called later in geecs_measurement\n",
    "        optimization_objects_dict[cv_tag]=opt_contr\n",
    "        \n",
    "        \n",
    "        #calculate normalized ranges\n",
    "        ranges.append(cv_config['range'])\n",
    "        range_offset=[0,cv_config['range'][1]-cv_config['range'][0]]\n",
    "        range_norm=[0,1]\n",
    "        print(range_offset)\n",
    "        \n",
    "        #update the VOCS structure to use values taken from the config file\n",
    "        if normalize_ranges:\n",
    "            yaml_output['vocs']['variables'][cv_tag]=[0,1]\n",
    "            yaml_output['generator']['acq']['proximal_lengthscales'].append(cv_config['proximal_lengthscale']/range_offset[1])\n",
    "        else:\n",
    "            yaml_output['vocs']['variables'][cv_tag]=cv_config['range']\n",
    "    \n",
    "    \n",
    "    if cv_config['objective']:\n",
    "        opt_contr=OptimizationControl(device_name=cv_config['device_name'],variable=cv_config['device_variable'])\n",
    "        optimization_function_dict[cv_tag]=opt_contr\n",
    "        opt_contr.device_initialize()\n",
    "        "
   ]
  },
  {
   "cell_type": "code",
   "execution_count": null,
   "id": "42547914",
   "metadata": {},
   "outputs": [],
   "source": []
  },
  {
   "cell_type": "code",
   "execution_count": null,
   "id": "0d1c132b",
   "metadata": {},
   "outputs": [],
   "source": []
  },
  {
   "cell_type": "code",
   "execution_count": 5,
   "id": "32b35aad-1954-49ec-b271-e4a7952aeea7",
   "metadata": {},
   "outputs": [],
   "source": [
    "outputs=obj_tags\n",
    "\n",
    "def geecs_measurement(input_dict):\n",
    "\n",
    "    for i in list(input_dict.keys()):\n",
    "        set_val=float(input_dict[i])\n",
    "        print('set '+str(i)+' to '+str(set_val))\n",
    "        optimization_objects_dict[i].xopt_set(float(set_val))\n",
    "\n",
    "    outs=[]\n",
    "    counter=0\n",
    "    while counter<bella_config['optimization_parameters']['shots_per_step']:\n",
    "        for i in outputs:\n",
    "            val=float(optimization_function_dict[i].xopt_get())\n",
    "            outs.append(val)\n",
    "        counter=counter+1\n",
    "    print(outs)\n",
    "\n",
    "###############\n",
    "## TO DO\n",
    "###############\n",
    "## Add some data processing on the resulting on the acquired data.\n",
    "## for example, remove the extreme values, then maybe take a median\n",
    "## also need to test with passing all acquired data points rather than some stat\n",
    "\n",
    "# this one is good for aligning to a crosshair\n",
    "#    return {'f': -abs(np.median(outs)-672)}\n",
    "#This is for minimizing fluctuation of the data\n",
    "#    return {'f': -abs(np.std(outs))}\n",
    "    return {'f': eval(evaluator_str)}"
   ]
  },
  {
   "cell_type": "code",
   "execution_count": 6,
   "id": "c38ad4de-f389-4abc-b369-3f6423afb847",
   "metadata": {},
   "outputs": [
    {
     "name": "stdout",
     "output_type": "stream",
     "text": [
      "set exposure to 0.0005\n",
      "can set\n",
      "set command accepted\n"
     ]
    },
    {
     "ename": "timeout",
     "evalue": "timed out",
     "output_type": "error",
     "traceback": [
      "\u001b[1;31m---------------------------------------------------------------------------\u001b[0m",
      "\u001b[1;31mtimeout\u001b[0m                                   Traceback (most recent call last)",
      "\u001b[1;32m~\\AppData\\Local\\Temp\\ipykernel_22020\\3730461731.py\u001b[0m in \u001b[0;36m<module>\u001b[1;34m\u001b[0m\n\u001b[1;32m----> 1\u001b[1;33m \u001b[0mgeecs_measurement\u001b[0m\u001b[1;33m(\u001b[0m\u001b[0mTestPoints_dict\u001b[0m\u001b[1;33m)\u001b[0m\u001b[1;33m\u001b[0m\u001b[1;33m\u001b[0m\u001b[0m\n\u001b[0m",
      "\u001b[1;32m~\\AppData\\Local\\Temp\\ipykernel_22020\\3976161809.py\u001b[0m in \u001b[0;36mgeecs_measurement\u001b[1;34m(input_dict)\u001b[0m\n\u001b[0;32m      6\u001b[0m         \u001b[0mset_val\u001b[0m\u001b[1;33m=\u001b[0m\u001b[0mfloat\u001b[0m\u001b[1;33m(\u001b[0m\u001b[0minput_dict\u001b[0m\u001b[1;33m[\u001b[0m\u001b[0mi\u001b[0m\u001b[1;33m]\u001b[0m\u001b[1;33m)\u001b[0m\u001b[1;33m\u001b[0m\u001b[1;33m\u001b[0m\u001b[0m\n\u001b[0;32m      7\u001b[0m         \u001b[0mprint\u001b[0m\u001b[1;33m(\u001b[0m\u001b[1;34m'set '\u001b[0m\u001b[1;33m+\u001b[0m\u001b[0mstr\u001b[0m\u001b[1;33m(\u001b[0m\u001b[0mi\u001b[0m\u001b[1;33m)\u001b[0m\u001b[1;33m+\u001b[0m\u001b[1;34m' to '\u001b[0m\u001b[1;33m+\u001b[0m\u001b[0mstr\u001b[0m\u001b[1;33m(\u001b[0m\u001b[0mset_val\u001b[0m\u001b[1;33m)\u001b[0m\u001b[1;33m)\u001b[0m\u001b[1;33m\u001b[0m\u001b[1;33m\u001b[0m\u001b[0m\n\u001b[1;32m----> 8\u001b[1;33m         \u001b[0moptimization_objects_dict\u001b[0m\u001b[1;33m[\u001b[0m\u001b[0mi\u001b[0m\u001b[1;33m]\u001b[0m\u001b[1;33m.\u001b[0m\u001b[0mxopt_set\u001b[0m\u001b[1;33m(\u001b[0m\u001b[0mfloat\u001b[0m\u001b[1;33m(\u001b[0m\u001b[0mset_val\u001b[0m\u001b[1;33m)\u001b[0m\u001b[1;33m)\u001b[0m\u001b[1;33m\u001b[0m\u001b[1;33m\u001b[0m\u001b[0m\n\u001b[0m\u001b[0;32m      9\u001b[0m \u001b[1;33m\u001b[0m\u001b[0m\n\u001b[0;32m     10\u001b[0m     \u001b[0mouts\u001b[0m\u001b[1;33m=\u001b[0m\u001b[1;33m[\u001b[0m\u001b[1;33m]\u001b[0m\u001b[1;33m\u001b[0m\u001b[1;33m\u001b[0m\u001b[0m\n",
      "\u001b[1;32mC:\\GEECS\\Developers Version\\source\\GEECS-Plugins\\GEECS-PythonAPI\\GEECSPythonAPI.py\u001b[0m in \u001b[0;36mxopt_set\u001b[1;34m(self, value)\u001b[0m\n\u001b[0;32m    353\u001b[0m             \u001b[1;32mif\u001b[0m \u001b[0mself\u001b[0m\u001b[1;33m.\u001b[0m\u001b[0mbounds\u001b[0m\u001b[1;33m[\u001b[0m\u001b[1;36m0\u001b[0m\u001b[1;33m]\u001b[0m\u001b[1;33m<=\u001b[0m\u001b[0mvalue\u001b[0m\u001b[1;33m<=\u001b[0m\u001b[0mself\u001b[0m\u001b[1;33m.\u001b[0m\u001b[0mbounds\u001b[0m\u001b[1;33m[\u001b[0m\u001b[1;36m1\u001b[0m\u001b[1;33m]\u001b[0m\u001b[1;33m:\u001b[0m\u001b[1;33m\u001b[0m\u001b[1;33m\u001b[0m\u001b[0m\n\u001b[0;32m    354\u001b[0m                 \u001b[0mprint\u001b[0m\u001b[1;33m(\u001b[0m\u001b[1;34m\"can set\"\u001b[0m\u001b[1;33m)\u001b[0m\u001b[1;33m\u001b[0m\u001b[1;33m\u001b[0m\u001b[0m\n\u001b[1;32m--> 355\u001b[1;33m                 \u001b[0mself\u001b[0m\u001b[1;33m.\u001b[0m\u001b[0mset_and_wait_udp\u001b[0m\u001b[1;33m(\u001b[0m\u001b[0mself\u001b[0m\u001b[1;33m.\u001b[0m\u001b[0mvariable\u001b[0m\u001b[1;33m,\u001b[0m\u001b[0mvalue\u001b[0m\u001b[1;33m)\u001b[0m\u001b[1;33m\u001b[0m\u001b[1;33m\u001b[0m\u001b[0m\n\u001b[0m\u001b[0;32m    356\u001b[0m             \u001b[1;32melse\u001b[0m\u001b[1;33m:\u001b[0m\u001b[1;33m\u001b[0m\u001b[1;33m\u001b[0m\u001b[0m\n\u001b[0;32m    357\u001b[0m                 \u001b[0mprint\u001b[0m\u001b[1;33m(\u001b[0m\u001b[1;34m\"out of bounds\"\u001b[0m\u001b[1;33m)\u001b[0m\u001b[1;33m\u001b[0m\u001b[1;33m\u001b[0m\u001b[0m\n",
      "\u001b[1;32mC:\\GEECS\\Developers Version\\source\\GEECS-Plugins\\GEECS-PythonAPI\\GEECSPythonAPI.py\u001b[0m in \u001b[0;36mset_and_wait_udp\u001b[1;34m(self, var_name, value)\u001b[0m\n\u001b[0;32m    225\u001b[0m \u001b[1;33m\u001b[0m\u001b[0m\n\u001b[0;32m    226\u001b[0m     \u001b[1;32mdef\u001b[0m \u001b[0mset_and_wait_udp\u001b[0m\u001b[1;33m(\u001b[0m\u001b[0mself\u001b[0m\u001b[1;33m,\u001b[0m\u001b[0mvar_name\u001b[0m\u001b[1;33m,\u001b[0m\u001b[0mvalue\u001b[0m\u001b[1;33m)\u001b[0m\u001b[1;33m:\u001b[0m\u001b[1;33m\u001b[0m\u001b[1;33m\u001b[0m\u001b[0m\n\u001b[1;32m--> 227\u001b[1;33m         \u001b[0mself\u001b[0m\u001b[1;33m.\u001b[0m\u001b[0mcommand\u001b[0m\u001b[1;33m(\u001b[0m\u001b[1;34m'set'\u001b[0m\u001b[1;33m,\u001b[0m\u001b[0mvar_name\u001b[0m\u001b[1;33m,\u001b[0m\u001b[0mvalue\u001b[0m\u001b[1;33m=\u001b[0m\u001b[0mvalue\u001b[0m\u001b[1;33m,\u001b[0m\u001b[0mwait_for_response\u001b[0m\u001b[1;33m=\u001b[0m\u001b[1;32mTrue\u001b[0m\u001b[1;33m)\u001b[0m\u001b[1;33m\u001b[0m\u001b[1;33m\u001b[0m\u001b[0m\n\u001b[0m\u001b[0;32m    228\u001b[0m         \u001b[1;32mreturn\u001b[0m \u001b[0mself\u001b[0m\u001b[1;33m.\u001b[0m\u001b[0mlast_slow_udp\u001b[0m\u001b[1;33m.\u001b[0m\u001b[0mdecode\u001b[0m\u001b[1;33m(\u001b[0m\u001b[1;34m'ascii'\u001b[0m\u001b[1;33m)\u001b[0m\u001b[1;33m.\u001b[0m\u001b[0msplit\u001b[0m\u001b[1;33m(\u001b[0m\u001b[1;34m\">>\"\u001b[0m\u001b[1;33m)\u001b[0m\u001b[1;33m[\u001b[0m\u001b[1;33m-\u001b[0m\u001b[1;36m2\u001b[0m\u001b[1;33m]\u001b[0m\u001b[1;33m\u001b[0m\u001b[1;33m\u001b[0m\u001b[0m\n\u001b[0;32m    229\u001b[0m \u001b[1;33m\u001b[0m\u001b[0m\n",
      "\u001b[1;32mC:\\GEECS\\Developers Version\\source\\GEECS-Plugins\\GEECS-PythonAPI\\GEECSPythonAPI.py\u001b[0m in \u001b[0;36mcommand\u001b[1;34m(self, command_string, var, **kwargs)\u001b[0m\n\u001b[0;32m    192\u001b[0m \u001b[1;33m\u001b[0m\u001b[0m\n\u001b[0;32m    193\u001b[0m             \u001b[1;32mif\u001b[0m \u001b[0mkwargs\u001b[0m\u001b[1;33m[\u001b[0m\u001b[1;34m'wait_for_response'\u001b[0m\u001b[1;33m]\u001b[0m\u001b[1;33m:\u001b[0m\u001b[1;33m\u001b[0m\u001b[1;33m\u001b[0m\u001b[0m\n\u001b[1;32m--> 194\u001b[1;33m                 \u001b[0mself\u001b[0m\u001b[1;33m.\u001b[0m\u001b[0mread_slow_UDP\u001b[0m\u001b[1;33m(\u001b[0m\u001b[1;33m)\u001b[0m\u001b[1;33m\u001b[0m\u001b[1;33m\u001b[0m\u001b[0m\n\u001b[0m\u001b[0;32m    195\u001b[0m \u001b[1;33m\u001b[0m\u001b[0m\n\u001b[0;32m    196\u001b[0m \u001b[1;33m\u001b[0m\u001b[0m\n",
      "\u001b[1;32mC:\\GEECS\\Developers Version\\source\\GEECS-Plugins\\GEECS-PythonAPI\\GEECSPythonAPI.py\u001b[0m in \u001b[0;36mread_slow_UDP\u001b[1;34m(self)\u001b[0m\n\u001b[0;32m    197\u001b[0m     \u001b[1;32mdef\u001b[0m \u001b[0mread_slow_UDP\u001b[0m\u001b[1;33m(\u001b[0m\u001b[0mself\u001b[0m\u001b[1;33m)\u001b[0m\u001b[1;33m:\u001b[0m\u001b[1;33m\u001b[0m\u001b[1;33m\u001b[0m\u001b[0m\n\u001b[0;32m    198\u001b[0m         \u001b[0mbufferSize\u001b[0m \u001b[1;33m=\u001b[0m \u001b[1;36m1024\u001b[0m\u001b[1;33m\u001b[0m\u001b[1;33m\u001b[0m\u001b[0m\n\u001b[1;32m--> 199\u001b[1;33m         \u001b[0mmsgFromServer\u001b[0m \u001b[1;33m=\u001b[0m \u001b[0mself\u001b[0m\u001b[1;33m.\u001b[0m\u001b[0mslow_UDP_socket\u001b[0m\u001b[1;33m.\u001b[0m\u001b[0mrecvfrom\u001b[0m\u001b[1;33m(\u001b[0m\u001b[0mbufferSize\u001b[0m\u001b[1;33m)\u001b[0m\u001b[1;33m\u001b[0m\u001b[1;33m\u001b[0m\u001b[0m\n\u001b[0m\u001b[0;32m    200\u001b[0m         \u001b[0mmsgSlow\u001b[0m \u001b[1;33m=\u001b[0m \u001b[1;34m\"Message from Server {} \"\u001b[0m\u001b[1;33m.\u001b[0m\u001b[0mformat\u001b[0m\u001b[1;33m(\u001b[0m\u001b[0mmsgFromServer\u001b[0m\u001b[1;33m[\u001b[0m\u001b[1;36m0\u001b[0m\u001b[1;33m]\u001b[0m\u001b[1;33m)\u001b[0m\u001b[1;33m\u001b[0m\u001b[1;33m\u001b[0m\u001b[0m\n\u001b[0;32m    201\u001b[0m         \u001b[0mself\u001b[0m\u001b[1;33m.\u001b[0m\u001b[0mlast_slow_udp\u001b[0m\u001b[1;33m=\u001b[0m\u001b[0mmsgFromServer\u001b[0m\u001b[1;33m[\u001b[0m\u001b[1;36m0\u001b[0m\u001b[1;33m]\u001b[0m\u001b[1;33m\u001b[0m\u001b[1;33m\u001b[0m\u001b[0m\n",
      "\u001b[1;31mtimeout\u001b[0m: timed out"
     ]
    }
   ],
   "source": [
    "geecs_measurement(TestPoints_dict)"
   ]
  },
  {
   "cell_type": "code",
   "execution_count": null,
   "id": "04f85d47-fc21-4a97-a34f-ea1869f8fd26",
   "metadata": {},
   "outputs": [],
   "source": [
    "optimization_function_dict[\"Charge\"].xopt_get()"
   ]
  },
  {
   "cell_type": "code",
   "execution_count": null,
   "id": "f6f20d25-a36b-4ca5-affd-57b174f53372",
   "metadata": {},
   "outputs": [],
   "source": []
  }
 ],
 "metadata": {
  "kernelspec": {
   "display_name": "Python 3 (ipykernel)",
   "language": "python",
   "name": "python3"
  },
  "language_info": {
   "codemirror_mode": {
    "name": "ipython",
    "version": 3
   },
   "file_extension": ".py",
   "mimetype": "text/x-python",
   "name": "python",
   "nbconvert_exporter": "python",
   "pygments_lexer": "ipython3",
   "version": "3.7.9"
  }
 },
 "nbformat": 4,
 "nbformat_minor": 5
}
