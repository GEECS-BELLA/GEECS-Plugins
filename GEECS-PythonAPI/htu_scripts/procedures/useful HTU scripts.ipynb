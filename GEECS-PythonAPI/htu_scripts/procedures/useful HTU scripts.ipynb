{
 "cells": [
  {
   "cell_type": "code",
   "execution_count": 1,
   "id": "a1249075-54a5-40fd-9b2c-eb414cc8e00c",
   "metadata": {},
   "outputs": [
    {
     "name": "stdout",
     "output_type": "stream",
     "text": [
      "path config ../../../../user data/Configurations.INI\n",
      "database name  loasis\n"
     ]
    }
   ],
   "source": [
    "import re\n",
    "import numpy as np\n",
    "import time\n",
    "from pathlib import Path\n",
    "from typing import Optional, Union\n",
    "from geecs_python_api.controls.interface import GeecsDatabase\n",
    "from geecs_python_api.controls.devices.geecs_device import GeecsDevice\n",
    "\n",
    "GeecsDevice.exp_info = GeecsDatabase.collect_exp_info('Undulator')\n",
    "\n",
    "EMQTrip = GeecsDevice('U_EMQTripletBipolar')"
   ]
  },
  {
   "cell_type": "code",
   "execution_count": 11,
   "id": "306f9991-fd43-4b7b-8708-f2decc9307c1",
   "metadata": {},
   "outputs": [],
   "source": [
    "degaussAmp=5\n",
    "x=np.linspace(0,16,375)\n",
    "y=degaussAmp*np.sin(2*np.pi*x)*np.exp(-x/4)\n"
   ]
  },
  {
   "cell_type": "code",
   "execution_count": 12,
   "id": "39e1ceaa-b4c1-4e47-aa63-692c8813f4b4",
   "metadata": {},
   "outputs": [],
   "source": [
    "for i in y:\n",
    "    EMQTrip.set('Current_Limit.Ch1',i)\n",
    "    EMQTrip.set('Current_Limit.Ch2',i)\n",
    "    EMQTrip.set('Current_Limit.Ch3',i)\n",
    "\n"
   ]
  },
  {
   "cell_type": "code",
   "execution_count": 14,
   "id": "f3ea89af-bd2a-48ca-84b4-47a3022f0617",
   "metadata": {},
   "outputs": [],
   "source": [
    "chicane_inner = GeecsDevice('U_ChicaneInner')\n",
    "chicane_outer = GeecsDevice('U_ChicaneOuter')"
   ]
  },
  {
   "cell_type": "code",
   "execution_count": 16,
   "id": "02870192-f4ca-4cb0-a933-589081922ef1",
   "metadata": {},
   "outputs": [],
   "source": [
    "# degaussAmp=6\n",
    "# x=np.linspace(0,12,375)\n",
    "# y=degaussAmp*np.sin(2*np.pi*x)*np.exp(-x/4)\n",
    "# for i in y:\n",
    "#     chicane_inner.set('Current',i)\n",
    "#     chicane_outer.set('Current',i)\n"
   ]
  },
  {
   "cell_type": "code",
   "execution_count": 21,
   "id": "b2a48b96-48b4-4a33-95e6-715b6f144057",
   "metadata": {},
   "outputs": [],
   "source": [
    "visa_plungers = GeecsDevice('U_VisaPlungers')\n",
    "velmex = GeecsDevice('U_Velmex')\n",
    "\n",
    "plunger_var_names = np.flip([\"DigitalOutput.Channel 0\",\"DigitalOutput.Channel 1\",\"DigitalOutput.Channel 2\",\"DigitalOutput.Channel 3\",\"DigitalOutput.Channel 4\",\n",
    "\"DigitalOutput.Channel 5\", \"DigitalOutput.Channel 6\",\"DigitalOutput.Channel 7\"])\n",
    "\n",
    "plunger_var_alias = np.flip([\"visa8\",\"visa7\",\"visa6\",\"visa5\",\"visa4\",\"visa3\",\"visa2\",\"visa1\"])\n",
    "\n",
    "rad2_positions = [3954,3470,2987,2476.3,1991.2,1498.4,993.3,506.5]\n",
    "\n"
   ]
  },
  {
   "cell_type": "code",
   "execution_count": 17,
   "id": "078b4695-8ec5-4981-80d5-2e599b4d951e",
   "metadata": {},
   "outputs": [],
   "source": [
    "# def retract_all_plungers():\n",
    "#     visa_plungers.set(plunger_var_names[0],'off')\n",
    "#     time.sleep(0.5)\n",
    "#     visa_plungers.set(plunger_var_names[1],'off')\n",
    "#     time.sleep(0.5)\n",
    "#     visa_plungers.set(plunger_var_names[2],'off')\n",
    "#     time.sleep(0.5)\n",
    "#     visa_plungers.set(plunger_var_names[3],'off')\n",
    "#     time.sleep(0.5)\n",
    "#     visa_plungers.set(plunger_var_names[4],'off')\n",
    "#     time.sleep(0.5)\n",
    "#     visa_plungers.set(plunger_var_names[5],'off')\n",
    "#     time.sleep(0.5)\n",
    "#     visa_plungers.set(plunger_var_names[6],'off')\n",
    "#     time.sleep(0.5)\n",
    "#     visa_plungers.set(plunger_var_names[7],'off')\n",
    "#     time.sleep(0.5)\n",
    "\n",
    "def retract_all_plungers():\n",
    "    for plunger_name in plunger_var_names:\n",
    "        visa_plungers.set(plunger_name, 'off')\n",
    "        time.sleep(0.5)\n",
    "\n",
    "\n"
   ]
  },
  {
   "cell_type": "code",
   "execution_count": 24,
   "id": "f5e830e8-0f9a-46c7-a76d-d7ebabb23f9c",
   "metadata": {},
   "outputs": [
    {
     "name": "stdout",
     "output_type": "stream",
     "text": [
      "set plunger:  0\n",
      "moved velmex to :  3954\n",
      "Warning:\n",
      "\tMessage: Socket not ready to receive\n",
      "\tSource:  Class \"UdpHandler\", method \"ack_cmd\"\n"
     ]
    },
    {
     "ename": "KeyboardInterrupt",
     "evalue": "",
     "output_type": "error",
     "traceback": [
      "\u001b[0;31m---------------------------------------------------------------------------\u001b[0m",
      "\u001b[0;31mKeyboardInterrupt\u001b[0m                         Traceback (most recent call last)",
      "Cell \u001b[0;32mIn[24], line 10\u001b[0m\n\u001b[1;32m      8\u001b[0m \u001b[38;5;28mprint\u001b[39m(\u001b[38;5;124m'\u001b[39m\u001b[38;5;124mmoved velmex to : \u001b[39m\u001b[38;5;124m'\u001b[39m,rad2_positions[i])\n\u001b[1;32m      9\u001b[0m time\u001b[38;5;241m.\u001b[39msleep(\u001b[38;5;241m2\u001b[39m)\n\u001b[0;32m---> 10\u001b[0m \u001b[43mvelmex\u001b[49m\u001b[38;5;241;43m.\u001b[39;49m\u001b[43mno_scan\u001b[49m\u001b[43m(\u001b[49m\u001b[43mcomment\u001b[49m\u001b[38;5;241;43m=\u001b[39;49m\u001b[38;5;124;43m\"\u001b[39;49m\u001b[38;5;124;43mno scan on visa plunger: \u001b[39;49m\u001b[38;5;124;43m\"\u001b[39;49m\u001b[38;5;241;43m+\u001b[39;49m\u001b[43mplunger_var_alias\u001b[49m\u001b[43m[\u001b[49m\u001b[43mi\u001b[49m\u001b[43m]\u001b[49m\u001b[43m,\u001b[49m\u001b[43mshots\u001b[49m\u001b[43m \u001b[49m\u001b[38;5;241;43m=\u001b[39;49m\u001b[43m \u001b[49m\u001b[38;5;241;43m25\u001b[39;49m\u001b[43m)\u001b[49m\n",
      "File \u001b[0;32m~/Desktop/Github_repos/GEECS-Plugins/GEECS-PythonAPI/geecs_python_api/controls/devices/geecs_device.py:389\u001b[0m, in \u001b[0;36mGeecsDevice.no_scan\u001b[0;34m(monitoring_device, comment, shots, timeout)\u001b[0m\n\u001b[1;32m    385\u001b[0m \u001b[38;5;129m@staticmethod\u001b[39m\n\u001b[1;32m    386\u001b[0m \u001b[38;5;28;01mdef\u001b[39;00m \u001b[38;5;21mno_scan\u001b[39m(monitoring_device: Optional[GeecsDevice] \u001b[38;5;241m=\u001b[39m \u001b[38;5;28;01mNone\u001b[39;00m, comment: \u001b[38;5;28mstr\u001b[39m \u001b[38;5;241m=\u001b[39m \u001b[38;5;124m'\u001b[39m\u001b[38;5;124mno scan\u001b[39m\u001b[38;5;124m'\u001b[39m,\n\u001b[1;32m    387\u001b[0m             shots: \u001b[38;5;28mint\u001b[39m \u001b[38;5;241m=\u001b[39m \u001b[38;5;241m10\u001b[39m, timeout: \u001b[38;5;28mfloat\u001b[39m \u001b[38;5;241m=\u001b[39m \u001b[38;5;241m300.\u001b[39m) \u001b[38;5;241m-\u001b[39m\u001b[38;5;241m>\u001b[39m \u001b[38;5;28mtuple\u001b[39m[Path, \u001b[38;5;28mint\u001b[39m, \u001b[38;5;28mbool\u001b[39m, \u001b[38;5;28mbool\u001b[39m]:\n\u001b[1;32m    388\u001b[0m     cmd \u001b[38;5;241m=\u001b[39m \u001b[38;5;124mf\u001b[39m\u001b[38;5;124m'\u001b[39m\u001b[38;5;124mScanStart>>\u001b[39m\u001b[38;5;132;01m{\u001b[39;00mcomment\u001b[38;5;132;01m}\u001b[39;00m\u001b[38;5;124m>>\u001b[39m\u001b[38;5;132;01m{\u001b[39;00mshots\u001b[38;5;132;01m}\u001b[39;00m\u001b[38;5;124m'\u001b[39m\n\u001b[0;32m--> 389\u001b[0m     \u001b[38;5;28;01mreturn\u001b[39;00m \u001b[43mGeecsDevice\u001b[49m\u001b[38;5;241;43m.\u001b[39;49m\u001b[43m_process_scan\u001b[49m\u001b[43m(\u001b[49m\u001b[43mcmd\u001b[49m\u001b[43m,\u001b[49m\u001b[43m \u001b[49m\u001b[43mcomment\u001b[49m\u001b[43m,\u001b[49m\u001b[43m \u001b[49m\u001b[43mmonitoring_device\u001b[49m\u001b[43m,\u001b[49m\u001b[43m \u001b[49m\u001b[43mtimeout\u001b[49m\u001b[43m)\u001b[49m\n",
      "File \u001b[0;32m~/Desktop/Github_repos/GEECS-Plugins/GEECS-PythonAPI/geecs_python_api/controls/devices/geecs_device.py:482\u001b[0m, in \u001b[0;36mGeecsDevice._process_scan\u001b[0;34m(cmd, comment, monitoring_device, timeout)\u001b[0m\n\u001b[1;32m    479\u001b[0m             \u001b[38;5;28;01mexcept\u001b[39;00m \u001b[38;5;167;01mException\u001b[39;00m:\n\u001b[1;32m    480\u001b[0m                 \u001b[38;5;28;01mpass\u001b[39;00m\n\u001b[0;32m--> 482\u001b[0m timed_out \u001b[38;5;241m=\u001b[39m \u001b[43mGeecsDevice\u001b[49m\u001b[38;5;241;43m.\u001b[39;49m\u001b[43mwait_for_scan_start\u001b[49m\u001b[43m(\u001b[49m\u001b[43mnext_folder\u001b[49m\u001b[43m,\u001b[49m\u001b[43m \u001b[49m\u001b[43mnext_scan\u001b[49m\u001b[43m,\u001b[49m\u001b[43m \u001b[49m\u001b[43mtimeout\u001b[49m\u001b[38;5;241;43m=\u001b[39;49m\u001b[38;5;241;43m60.\u001b[39;49m\u001b[43m)\u001b[49m\n\u001b[1;32m    483\u001b[0m \u001b[38;5;28;01mif\u001b[39;00m \u001b[38;5;129;01mnot\u001b[39;00m timed_out:\n\u001b[1;32m    484\u001b[0m     \u001b[38;5;28;01mif\u001b[39;00m \u001b[38;5;129;01mnot\u001b[39;00m dev\u001b[38;5;241m.\u001b[39mis_valid():\n",
      "File \u001b[0;32m~/Desktop/Github_repos/GEECS-Plugins/GEECS-PythonAPI/geecs_python_api/controls/devices/geecs_device.py:810\u001b[0m, in \u001b[0;36mGeecsDevice.wait_for_scan_start\u001b[0;34m(next_folder, next_scan, timeout)\u001b[0m\n\u001b[1;32m    808\u001b[0m     \u001b[38;5;28;01mif\u001b[39;00m next_folder\u001b[38;5;241m.\u001b[39mis_dir() \u001b[38;5;129;01mand\u001b[39;00m tdms_filepath\u001b[38;5;241m.\u001b[39mis_file():\n\u001b[1;32m    809\u001b[0m         \u001b[38;5;28;01mbreak\u001b[39;00m\n\u001b[0;32m--> 810\u001b[0m     \u001b[43mtime\u001b[49m\u001b[38;5;241;43m.\u001b[39;49m\u001b[43msleep\u001b[49m\u001b[43m(\u001b[49m\u001b[38;5;241;43m0.1\u001b[39;49m\u001b[43m)\u001b[49m\n\u001b[1;32m    812\u001b[0m \u001b[38;5;28;01mreturn\u001b[39;00m timed_out\n",
      "\u001b[0;31mKeyboardInterrupt\u001b[0m: "
     ]
    }
   ],
   "source": [
    "for i in range(len(plunger_var_names)):\n",
    "    retract_all_plungers()\n",
    "    time.sleep(1)\n",
    "    visa_plungers.set(plunger_var_names[i],'on')  \n",
    "    time.sleep(1)\n",
    "    print('set plunger: ',i)\n",
    "    velmex.set(\"Position\",rad2_positions[i])\n",
    "    print('moved velmex to : ',rad2_positions[i])\n",
    "    time.sleep(2)\n",
    "    velmex.no_scan(comment=\"no scan on visa plunger: \"+plunger_var_alias[i],shots = 25)"
   ]
  },
  {
   "cell_type": "code",
   "execution_count": 23,
   "id": "1a716586-9927-4303-92ea-01d3a35cee48",
   "metadata": {},
   "outputs": [
    {
     "data": {
      "text/plain": [
       "'no scan on visa plunger: visa2'"
      ]
     },
     "execution_count": 23,
     "metadata": {},
     "output_type": "execute_result"
    }
   ],
   "source": [
    "comment=\"no scan on visa plunger: \"+plunger_var_alias[1]\n",
    "comment"
   ]
  },
  {
   "cell_type": "code",
   "execution_count": null,
   "id": "c7b0ab83-8f43-4040-898b-631f95ff5dd2",
   "metadata": {},
   "outputs": [],
   "source": []
  }
 ],
 "metadata": {
  "kernelspec": {
   "display_name": "Python 3 (ipykernel)",
   "language": "python",
   "name": "python3"
  },
  "language_info": {
   "codemirror_mode": {
    "name": "ipython",
    "version": 3
   },
   "file_extension": ".py",
   "mimetype": "text/x-python",
   "name": "python",
   "nbconvert_exporter": "python",
   "pygments_lexer": "ipython3",
   "version": "3.10.13"
  }
 },
 "nbformat": 4,
 "nbformat_minor": 5
}
