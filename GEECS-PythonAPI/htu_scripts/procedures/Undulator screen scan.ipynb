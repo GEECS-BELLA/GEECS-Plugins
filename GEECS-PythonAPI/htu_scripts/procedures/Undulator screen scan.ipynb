{
 "cells": [
  {
   "cell_type": "code",
   "execution_count": 18,
   "id": "a1249075-54a5-40fd-9b2c-eb414cc8e00c",
   "metadata": {},
   "outputs": [],
   "source": [
    "import re\n",
    "import numpy as np\n",
    "import time\n",
    "from pathlib import Path\n",
    "from typing import Optional, Union\n",
    "from geecs_python_api.controls.interface import GeecsDatabase\n",
    "from geecs_python_api.controls.devices.geecs_device import GeecsDevice\n",
    "from datetime import datetime\n",
    "\n",
    "import png\n",
    "import os\n",
    "import yaml\n",
    "import imageio\n",
    "\n",
    "import cv2\n",
    "import matplotlib.pyplot as plt\n",
    "from scipy.ndimage import median_filter\n",
    "from scipy.ndimage import gaussian_filter\n",
    "\n",
    "import subprocess\n",
    "import platform\n",
    "import threading\n",
    "from matplotlib.colors import LinearSegmentedColormap\n",
    "\n",
    "from image_analysis.utils import read_imaq_png_image\n",
    "\n",
    "GeecsDevice.exp_info = GeecsDatabase.collect_exp_info('Undulator')"
   ]
  },
  {
   "cell_type": "code",
   "execution_count": 169,
   "id": "306f9991-fd43-4b7b-8708-f2decc9307c1",
   "metadata": {},
   "outputs": [],
   "source": [
    "#Some functions below to establish paths to data, analysis directory. Automatically detects if the computre is on the domain, if it is\n",
    "#use the given path. Other wise, check hostname and decide path based off of that\n",
    "\n",
    "def get_domain_windows():\n",
    "    try:\n",
    "        # Simplifying command execution, focusing on parsing the domain directly\n",
    "        result = subprocess.check_output(['systeminfo'], stderr=subprocess.STDOUT, text=True)\n",
    "        domain_line = next((line for line in result.splitlines() if \"Domain\" in line), None)\n",
    "        if domain_line:\n",
    "            return domain_line.split(':')[1].strip()\n",
    "    except Exception as e:\n",
    "        # Logging or handling the exception can be done here if necessary\n",
    "        return None\n",
    "\n",
    "def get_base_path():\n",
    "    # Attempt to retrieve the domain, falling back to hostname if needed\n",
    "    domain = get_domain_windows()\n",
    "    hostname = platform.node()\n",
    "\n",
    "    # Directly mapping conditions to base paths, raising an error if none match\n",
    "    if domain == 'loasis.gov':\n",
    "        return 'Z:\\\\data\\\\Undulator'\n",
    "    elif hostname == 'Samuels-MacBook-Pro.local':\n",
    "        return '/Volumes/vol1/data/Undulator'\n",
    "    else:\n",
    "        raise ValueError('Attempting to use an unknown computer. Path to data is unknown.')\n",
    "\n",
    "\n",
    "def get_current_date():\n",
    "    month_dict2= {\n",
    "        \"01\": \"Jan\", \"02\": \"Feb\", \"03\": \"Mar\", \"04\": \"04-Apr\",\n",
    "        \"05\": \"May\", \"06\": \"Jun\", \"07\": \"07-Jul\", \"08\": \"08-Aug\",\n",
    "        \"09\": \"Sep\", \"10\": \"Oct\", \"11\": \"11-Nov\", \"12\": \"12-Dec\"\n",
    "    }\n",
    "\n",
    "    # Get the current date and time\n",
    "    current_date_time = datetime.now()\n",
    "\n",
    "    month = month_dict2[current_date_time.strftime(\"%m\")]\n",
    "    year = current_date_time.strftime(\"%Y\")\n",
    "    day = current_date_time.strftime(\"%d\")\n",
    "\n",
    "    return year, month, day\n",
    "\n",
    "def create_data_path(year, month, day, scan_number):\n",
    "    # Mapping of month names to their abbreviated forms with month numbers\n",
    "    month_dict = {\n",
    "        \"Jan\": \"01-Jan\", \"Feb\": \"02-Feb\", \"Mar\": \"03-Mar\", \"Apr\": \"04-Apr\",\n",
    "        \"May\": \"05-May\", \"Jun\": \"06-Jun\", \"Jul\": \"07-Jul\", \"Aug\": \"08-Aug\",\n",
    "        \"Sep\": \"09-Sep\", \"Oct\": \"10-Oct\", \"Nov\": \"11-Nov\", \"Dec\": \"12-Dec\"\n",
    "    }\n",
    "\n",
    "    # Extracting year's last two digits and month number from month_dict\n",
    "    year_short = str(year)[-2:]\n",
    "    month_num = month_dict[month][:2]\n",
    "\n",
    "    # Constructing paths for raw and analysis data\n",
    "    date_folder = f\"{year_short}_{month_num}{str(day).zfill(2)}\"  # Ensures day is zero-padded\n",
    "    base_folder = Path(base_path) / f\"Y{year}\" / month_dict[month] / date_folder\n",
    "    raw_data_path = base_folder / \"scans\" / f\"Scan{scan_number:03d}\"\n",
    "    analysis_data_path = base_folder / \"analysis\" / f\"Scan{scan_number:03d}\"\n",
    "\n",
    "    return str(raw_data_path), str(analysis_data_path)\n",
    "\n",
    "def count_files_in_scan_directory(scan_dir_base, device):\n",
    "    device_dir = Path(scan_dir_base) / device\n",
    "    # Count files in the device directory\n",
    "    if device_dir.exists():\n",
    "        count = len(list(device_dir.glob('*png')))  # Assuming you want to count all types of files\n",
    "        file_counts = count\n",
    "    return file_counts\n",
    "\n",
    "def create_average_image_file_name(device, station = None):\n",
    "    filename = f'{device}{\"\" if station is None else \"_\"+station}{\"_average\"}_16bit.png'\n",
    "    return filename\n",
    "\n",
    "# Function to load or initialize the YAML data structure\n",
    "def load_create_scan_aux_data(file_path):\n",
    "    if file_path.exists():\n",
    "        with file_path.open('r') as file:\n",
    "            return yaml.safe_load(file) or {\"image_count\": {}, \"raw_data_path\": {}, \"analyzed_data_path\": {}}\n",
    "    else:\n",
    "        return {\"image_count\": {}, \"raw_data_path\": {}, \"analyzed_data_path\": {}}\n",
    "\n",
    "# Function to update the YAML data with new device info\n",
    "def update_scan_aux_data(file_path, device, num_images, scan_dir, analysis_dir):\n",
    "    data = load_create_scan_aux_data(file_path)\n",
    "    \n",
    "    # Add or update the device data\n",
    "    data[\"image_count\"][device] = num_images\n",
    "    data[\"raw_data_path\"][device] = str(scan_dir)  # Ensure paths are strings\n",
    "    data[\"analyzed_data_path\"][device] = str(analysis_dir)\n",
    "    \n",
    "    # Write the updated data back to the YAML file\n",
    "    with file_path.open('w') as file:\n",
    "        yaml.safe_dump(data, file, sort_keys=False)\n",
    "\n",
    "\n",
    "\n",
    "def create_avg_image(scan_dir_base, analysis_dir_base, device, station=None, show_image=False):\n",
    "    # Set up directories and file paths\n",
    "    image_dir = Path(scan_dir_base) / device\n",
    "    analysis_dir = Path(analysis_dir_base)\n",
    "    yaml_file_path = analysis_dir / 'aux_data.yaml'\n",
    "    \n",
    "    # Load images\n",
    "    all_imgs = [read_imaq_png_image(path) for path in image_dir.glob('*.png')]\n",
    "    if not all_imgs:\n",
    "        print(f\"No images found in directory: {image_dir}\")\n",
    "        return\n",
    "\n",
    "    # Process and display average image\n",
    "    avg_img = np.mean(all_imgs, axis=0).astype(np.uint16)\n",
    "    if show_image:\n",
    "        plt.imshow(avg_img, cmap='gray', vmin=0, vmax=np.max(avg_img))\n",
    "        plt.colorbar(label=\"Scale\")\n",
    "        plt.title(\"2D Array Visualization\")\n",
    "        plt.show()\n",
    "\n",
    "    # Save average image\n",
    "    analysis_dir.mkdir(parents=True, exist_ok=True)\n",
    "    filename = create_average_image_file_name(device, station)  # Assumes existence of this function\n",
    "    imageio.imwrite(analysis_dir / filename, avg_img)\n",
    "    print(f\"Saved image to: {analysis_dir / filename}\")\n",
    "\n",
    "    # Update YAML file with image count\n",
    "    update_scan_aux_data(yaml_file_path, device, num_images, scan_dir_base, analysis_dir_base)\n",
    "    print(f\"Updated YAML file with image count for device: {device}\")\n",
    "\n",
    "\n",
    "\n",
    "# Helper function for CMYK to RGB conversion\n",
    "def cmyk_to_rgb(c, m, y, k):\n",
    "    \"\"\"Convert CMYK values to RGB.\"\"\"\n",
    "    r = 255 * (1.0 - c) * (1.0 - k)\n",
    "    g = 255 * (1.0 - m) * (1.0 - k)\n",
    "    b = 255 * (1.0 - y) * (1.0 - k)\n",
    "    return r / 255.0, g / 255.0, b / 255.0\n",
    "\n",
    "def create_cross_mask(image, cross_center, angle, cross_height=54, cross_width=54, thickness=8 ):\n",
    "    \"\"\"\n",
    "    Creates a mask with a cross centered at `cross_center` with the cross being zeros and the rest ones.\n",
    "    \n",
    "    Args:\n",
    "    - image (np.array): The image on which to base the mask size.\n",
    "    - cross_center (tuple): The (x, y) center coordinates of the cross.\n",
    "    - cross_height (int): The height of the cross extending vertically from the center.\n",
    "    - cross_width (int): The width of the cross extending horizontally from the center.\n",
    "    - thickness (int): The thickness of the lines of the cross.\n",
    "    \n",
    "    Returns:\n",
    "    - np.array: The mask with the cross.\n",
    "    \"\"\"\n",
    "    \n",
    "    # Create a mask filled with ones (white)\n",
    "    mask = np.ones_like(image, dtype=np.uint8)\n",
    "    \n",
    "    # Unpack the center coordinates\n",
    "    x_center, y_center = cross_center\n",
    "    \n",
    "    # Define the vertical and horizontal ranges for the cross\n",
    "    vertical_start = max(y_center - cross_height, 0)\n",
    "    vertical_end = min(y_center + cross_height, image.shape[0])\n",
    "    horizontal_start = max(x_center - cross_width, 0)\n",
    "    horizontal_end = min(x_center + cross_width, image.shape[1])\n",
    "    \n",
    "    # Set the cross area to zero (black)\n",
    "    mask[vertical_start:vertical_end, x_center - thickness // 2:x_center + thickness // 2] = 0\n",
    "    mask[y_center - thickness // 2:y_center + thickness // 2, horizontal_start:horizontal_end] = 0\n",
    "\n",
    "    # Get the rotation matrix for rotating the mask\n",
    "    M = cv2.getRotationMatrix2D(cross_center, angle, 1.0)\n",
    "    \n",
    "    # Rotate the mask using the rotation matrix, using the nearest neighbor interpolation\n",
    "    rotated_mask = cv2.warpAffine(mask, M, (image.shape[1], image.shape[0]), flags=cv2.INTER_NEAREST, borderMode=cv2.BORDER_CONSTANT, borderValue=1)\n",
    "    \n",
    "    return rotated_mask\n",
    "\n",
    "\n",
    "def get_analysis_settings(device, station=None):\n",
    "    \"\"\"\n",
    "    Determine and load the analysis settings based on the device and optional station.\n",
    "\n",
    "    Args:\n",
    "        device (str): The name of the device, which may include a numerical suffix.\n",
    "        station (str, optional): The name of the station, relevant for some devices.\n",
    "\n",
    "    Returns:\n",
    "        dict: The loaded analysis settings from the YAML configuration.\n",
    "    \"\"\"\n",
    "    # Define a strategy to select the configuration file based on device name patterns\n",
    "    if \"UC_UndulatorRad2\" in device:\n",
    "        config_path = \"Rad2_analysis_settings.yml\"\n",
    "    elif \"UC_VisaEBeam\" in device:\n",
    "        # Assuming all UC_VisaEBeamX devices share the same config structure\n",
    "        config_path = \"visa_analysis_settings.yml\"\n",
    "    else:\n",
    "        # Fallback to a default config if the device pattern is not recognized\n",
    "        config_path = \"default_config.yml\"\n",
    "    \n",
    "    # Attempt to load the configuration file\n",
    "    try:\n",
    "        with open(config_path, 'r') as file:\n",
    "            cam_settings = yaml.safe_load(file)\n",
    "    except FileNotFoundError:\n",
    "        print(f\"Error: The configuration file '{config_path}' was not found.\")\n",
    "        return {}\n",
    "    \n",
    "    # Extract the analysis settings for the specific device or station\n",
    "    if \"UC_UndulatorRad2\" in device and station:\n",
    "        # For UC_UndulatorRad2, settings may be under the station name\n",
    "        analysis_settings = cam_settings.get(station, {})\n",
    "    else:\n",
    "        # For other devices, settings are expected under the device name\n",
    "        analysis_settings = cam_settings.get(device, {})\n",
    "\n",
    "    return analysis_settings\n",
    "\n",
    "def load_and_preprocess_image(image_path, analysis_settings):\n",
    "    \"\"\"\n",
    "    Load an image and apply initial preprocessing steps.\n",
    "\n",
    "    Args:\n",
    "        image_path (str): Path to the image file.\n",
    "\n",
    "    Returns:\n",
    "        numpy.ndarray: Preprocessed image.\n",
    "    \"\"\"\n",
    "    image = cv2.imread(str(image_path), cv2.IMREAD_UNCHANGED)\n",
    "\n",
    "    cropped_image = image[analysis_settings['Top ROI']:analysis_settings['Top ROI'] + analysis_settings['Size_Y'],\n",
    "                          analysis_settings['Left ROI']:analysis_settings['Left ROI'] + analysis_settings['Size_X']]\n",
    "\n",
    "    return cropped_image\n",
    "\n",
    "\n",
    "def apply_masks_and_filters(image, analysis_settings):\n",
    "    \"\"\"\n",
    "    Apply cropping, masks, background subtraction, and filters to the image.\n",
    "\n",
    "    Args:\n",
    "        image (numpy.ndarray): The image to process.\n",
    "        analysis_settings (dict): Settings for processing, including cropping coordinates, mask settings, and filter settings.\n",
    "\n",
    "    Returns:\n",
    "        numpy.ndarray: The processed image.\n",
    "    \"\"\"\n",
    "    processed_image = image\n",
    "\n",
    "    # Apply masks (assuming `create_cross_mask` is a function you have defined)\n",
    "    if 'Cross1' in analysis_settings:\n",
    "        cross_location = analysis_settings['Cross1']\n",
    "        cross_location[0] = cross_location[0] + + analysis_settings['Cross Shift']\n",
    "        mask1 = create_cross_mask(processed_image, cross_location, analysis_settings['Rotate'])\n",
    "        processed_image *= mask1\n",
    "\n",
    "    if 'Cross2' in analysis_settings:\n",
    "        cross_location = analysis_settings['Cross2']\n",
    "        cross_location[0] = cross_location[0] + analysis_settings['Cross Shift']\n",
    "        mask2 = create_cross_mask(processed_image, cross_location, analysis_settings['Rotate'])\n",
    "        processed_image *= mask2\n",
    "\n",
    "    # # Subtract background level and apply filters\n",
    "    # cropped_image = np.maximum(cropped_image - analysis_settings['Background Level'], 0)\n",
    "\n",
    "    processed_image = processed_image.astype('float32')\n",
    "    processed_image = processed_image - analysis_settings['Background Level']*.4\n",
    "    processed_image[processed_image < 0] = 0\n",
    "    \n",
    "    for _ in range(analysis_settings.get('Median Filter Cycles', 0)):\n",
    "        processed_image = median_filter(processed_image, size=analysis_settings['Median Filter Size'])\n",
    "\n",
    "    for _ in range(analysis_settings.get('Gaussian Filter Cycles', 0)):\n",
    "        processed_image = gaussian_filter(processed_image, sigma=analysis_settings['Gaussian Filter Size'])\n",
    "\n",
    "    return processed_image\n",
    "\n",
    "\n",
    "def save_processed_image(image, image_path,):\n",
    "    \"\"\"\n",
    "    Save the processed image to disk.\n",
    "\n",
    "    Args:\n",
    "        image (numpy.ndarray): The image to save.\n",
    "        image_path (str): Original image path to derive the save location and filename.\n",
    "    \"\"\"\n",
    "    raw_image_filename = os.path.splitext(os.path.basename(image_path))[0] + \"_raw_processed.png\"\n",
    "    raw_image_save_path = os.path.join(os.path.dirname(image_path), raw_image_filename)\n",
    "    cv2.imwrite(raw_image_save_path, image.astype('uint16'))\n",
    "    # print(f\"Processed image saved to {raw_image_save_path}\")\n",
    "\n",
    "def display_and_save_customized_image(image, image_path, show_image=True, plot_label = None, normalize=True, scaling=8):\n",
    "    \"\"\"\n",
    "    Display the image using matplotlib and save the displayed image to disk.\n",
    "\n",
    "    Args:\n",
    "        image (numpy.ndarray): The image to display and save.\n",
    "        image_path (str): Original image path to derive the save location and filename.\n",
    "        show_image (bool): Whether to show the image in a matplotlib window.\n",
    "    \"\"\"\n",
    "\n",
    "    # Check if the maximum value in the image is greater than 0\n",
    "    if normalize:\n",
    "        if np.max(image) > 0:\n",
    "            display_image = image / np.max(image) * (2**8 - 1)\n",
    "        else:\n",
    "            # This creates a uniformly black image in the context of grayscale uint8 images\n",
    "            display_image = np.zeros_like(image)\n",
    "    else:\n",
    "        display_image = image /  (2**16 - 1) * (2**scaling-1)\n",
    "\n",
    "    display_image = display_image.astype('uint8')\n",
    "\n",
    "    fig, ax = plt.subplots(figsize=(4 , 4 ))\n",
    "\n",
    "    # Plot the image data on the respective subplot\n",
    "    ax.imshow(display_image, cmap=custom_cmap)\n",
    "    if plot_label is not None:\n",
    "        ax.set_title(plot_label)\n",
    "            \n",
    "    # Restore the axis grid and ticks\n",
    "    ax.grid(True)  # Turn on the grid\n",
    "    ax.set_xticks([])  # Set the x-ticks to an empty list if you don't want any ticks\n",
    "    ax.set_yticks([])  # Set the y-ticks to an empty list if you don't want any ticks\n",
    "    if \"UC_Visa\" in str(image_path):\n",
    "        # If you want to show the grid ticks, you can specify them explicitly, e.g.:\n",
    "        ax.set_xticks([0, 50, 100, 150,200,250,300])\n",
    "        ax.set_yticks([0, 50, 100, 150,200,250,300])\n",
    "\n",
    "    if \"UC_UndulatorRad2\" in str(image_path):\n",
    "        # If you want to show the grid ticks, you can specify them explicitly, e.g.:\n",
    "        ax.set_xticks([0,100,200,300,400,500])\n",
    "        ax.set_yticks([0,100,200,300,400])\n",
    "\n",
    "    # Save the customized image\n",
    "    fig.tight_layout()\n",
    "    save_path = os.path.splitext(image_path)[0] + \"_customized.png\"\n",
    "    fig.savefig(save_path, bbox_inches='tight', pad_inches=0.01)\n",
    "    if show_image:\n",
    "        None\n",
    "    else:\n",
    "        plt.close(fig)  # Close the figure to free memory\n",
    "\n",
    "    return save_path\n",
    "\n",
    "def plot_image_with_customizations(image_path, analysis_settings, show_image=True, plot_label = None, normalize=True,scaling=8):\n",
    "    \"\"\"\n",
    "    Main function to load, process, display, and save an image with customizations.\n",
    "\n",
    "    Args:\n",
    "        image_path (str): Path to the image file.\n",
    "        analysis_settings (dict): Settings for image processing and customization.\n",
    "        show_image (bool): Whether to display the processed image.\n",
    "    \"\"\"\n",
    "    image = load_and_preprocess_image(image_path, analysis_settings)\n",
    "    processed_image = apply_masks_and_filters(image, analysis_settings)\n",
    "    save_processed_image(processed_image, image_path)\n",
    "    \n",
    "    # if show_image:\n",
    "    save_path = display_and_save_customized_image(processed_image, image_path, show_image=show_image, plot_label = plot_label, normalize=normalize, scaling=scaling)\n",
    "\n",
    "    return processed_image, save_path\n",
    "\n",
    "def image_analysis(image):\n",
    "    \"\"\"\n",
    "    Analyze the image to calculate the center of mass, second moment, FWHM, \n",
    "    and position of max value of both horizontal and vertical projections.\n",
    "\n",
    "    Args:\n",
    "    - image (np.array): A grayscale image array.\n",
    "\n",
    "    Returns:\n",
    "    - dict: Analysis results containing centers of mass, second moments,\n",
    "            FWHMs, and positions of max values for both directions.\n",
    "    \"\"\"\n",
    "\n",
    "    # Check if the image is all zeros or the sum of the projections are zero\n",
    "    if np.all(image == 0) or np.sum(image) == 0:\n",
    "        # Return a dictionary with all values set to 0 if image is all zeros or sum of projections is zero\n",
    "        return {\n",
    "            'Center of Mass': [0, 0],\n",
    "            'Second Moment': [0, 0],\n",
    "            'FWHM': [0, 0],\n",
    "            'Max Value Position': [0, 0],\n",
    "            'Sum Counts': 0,\n",
    "            'Max Count': 0\n",
    "        }\n",
    "    \n",
    "    # Calculate the projections by summing the image array along the axes\n",
    "    horizontal_projection = np.sum(image, axis=0)  # Sum over rows for each column\n",
    "    vertical_projection = np.sum(image, axis=1)  # Sum over columns for each row\n",
    "    \n",
    "    # Calculate the center of mass (first moment) for the projections\n",
    "    def center_of_mass(projection):\n",
    "        positions = np.arange(len(projection))\n",
    "        return np.sum(positions * projection) / np.sum(projection)\n",
    "    \n",
    "    # Calculate the second moment (variance) for the projections\n",
    "    def second_moment(projection, com):\n",
    "        positions = np.arange(len(projection))\n",
    "        return np.sqrt(np.sum((positions - com)**2 * projection) / np.sum(projection))\n",
    "    \n",
    "    # Calculate the Full Width at Half Maximum (FWHM) for the projections\n",
    "    def fwhm(projection):\n",
    "        half_max = np.max(projection) / 2\n",
    "        indices_above_half_max = np.where(projection >= half_max)[0]\n",
    "        return np.abs(indices_above_half_max[-1] - indices_above_half_max[0])\n",
    "\n",
    "    # Calculate the position of the max value for the projections\n",
    "    def max_value_position(projection):\n",
    "        return np.argmax(projection)\n",
    "\n",
    "    # Perform calculations\n",
    "    com_horizontal = center_of_mass(horizontal_projection)\n",
    "    com_vertical = center_of_mass(vertical_projection)\n",
    "    moment2_horizontal = second_moment(horizontal_projection, com_horizontal)\n",
    "    moment2_vertical = second_moment(vertical_projection, com_vertical)\n",
    "    fwhm_horizontal = fwhm(horizontal_projection)\n",
    "    fwhm_vertical = fwhm(vertical_projection)\n",
    "    max_pos_horizontal = max_value_position(horizontal_projection)\n",
    "    max_pos_vertical = max_value_position(vertical_projection)\n",
    "    sum_counts = np.sum(horizontal_projection)\n",
    "    \n",
    "    # Compile results\n",
    "    results = {\n",
    "        'Center of Mass': [com_horizontal, com_vertical],\n",
    "        'Second Moment': [moment2_horizontal, moment2_vertical],\n",
    "        'FWHM': [fwhm_horizontal, fwhm_vertical],\n",
    "        'Max Value Position': [max_pos_horizontal, max_pos_vertical],\n",
    "        # 'Projections': [horizontal_projection, vertical_projection],\n",
    "        'Sum Counts': sum_counts,\n",
    "        'Max Count': np.max(image)\n",
    "    }\n",
    "\n",
    "    return results\n",
    "\n",
    "def full_process(year, month, day, scan_number, device, station, show_image=False, plot_label=None, normalize = True, scaling=8):\n",
    "    \n",
    "    scan_dir_base, analysis_dir_base = create_data_path(year, month, day, scan_number)\n",
    "    \n",
    "    analysis_settings = get_analysis_settings(device, station)\n",
    "    filename = create_average_image_file_name(device,station)\n",
    "    image_path = Path(analysis_dir_base) / filename\n",
    "    print(image_path)\n",
    "    yaml_file_path = Path(analysis_dir_base) / 'aux_data.yaml'\n",
    "    \n",
    "    test, save_path = plot_image_with_customizations(image_path , analysis_settings, show_image=show_image, plot_label=plot_label, normalize = normalize, scaling=scaling)\n",
    "\n",
    "    res = image_analysis(test)\n",
    "   \n",
    "    # Update YAML file with image count\n",
    "    if yaml_file_path.exists():\n",
    "        aux_data = yaml.safe_load(yaml_file_path.read_text())\n",
    "        res['image_count'] = aux_data[\"image_count\"][device]    \n",
    "\n",
    "    return save_path, res\n",
    "\n",
    "def create_next_special_scan_directory(working_dir, special_scan_base_name):\n",
    "    # Find existing directories with the base name\n",
    "    existing_dirs = [dir for dir in working_dir.iterdir() if dir.is_dir() and special_scan_base_name in dir.name]\n",
    "    \n",
    "    # Extract suffix numbers and find the next available number\n",
    "    suffixes = [int(dir.name.replace(special_scan_base_name, '')) for dir in existing_dirs if dir.name.replace(special_scan_base_name, '').isdigit()]\n",
    "    next_number = max(suffixes) + 1 if suffixes else 1\n",
    "    \n",
    "    # Create new directory with the next number\n",
    "    new_dir_name = f\"{special_scan_base_name}{next_number}\"\n",
    "    new_dir_path = working_dir / new_dir_name\n",
    "    new_dir_path.mkdir(exist_ok=True)  # Create the directory, ignore if it already exists\n",
    "    \n",
    "    return new_dir_path\n",
    "\n",
    "def undulator_screen_scan():\n",
    "    #undulator position scan with post analysis\n",
    "\n",
    "    use_threading = True\n",
    "    threads = []\n",
    "    year, month, day = get_current_date()\n",
    "    dummy_scan_number = 100\n",
    "    scan_dir_base, analysis_dir_base = create_data_path(year, month, day, dummy_scan_number)\n",
    "    special_scan_base_name = 'undulator_screen_scan'\n",
    "    working_dir = Path(analysis_dir_base).parent \n",
    "    undulator_scan_dir = create_next_special_scan_directory(working_dir, special_scan_base_name)\n",
    "\n",
    "    ebeam_scan_numbers = []\n",
    "    rad2_scan_numbers = []\n",
    "    for i in range(len(plunger_var_alias)):  # +1 to include the last scan for visa 9\n",
    "        retract_all_plungers()\n",
    "        time.sleep(1)\n",
    "        if plunger_var_alias[i] != 'visa9':\n",
    "            visa_plungers.set(plunger_var_names[i], 'on')  \n",
    "        elif plunger_var_alias[i] == 'visa9':\n",
    "            plc.set(\"DO.Ch19\", 'on')\n",
    "        time.sleep(1)\n",
    "        print(f'set plunger: visa{i+1}')\n",
    "        position = rad2_positions[i]\n",
    "        velmex.set(\"Position\", position)\n",
    "        print(f'moved velmex to: {position}')\n",
    "        time.sleep(1)\n",
    "        \n",
    "        scan_success = False\n",
    "        ebeam_scan_success = False\n",
    "        rad2_scan_success = False\n",
    "        requested_shots = 15\n",
    "        while not scan_success:\n",
    "            velmex.no_scan(comment=f\"no scan on visa plunger: {plunger_var_alias[i]}\", shots=requested_shots)\n",
    "            scan_number = velmex.last_scan_number()\n",
    "            scan_dir_base, analysis_dir_base = create_data_path(year, month, day, scan_number)\n",
    "            \n",
    "            urad_numfiles = count_files_in_scan_directory(scan_dir_base,'UC_UndulatorRad2')\n",
    "            if urad_numfiles >= 0.74 * requested_shots:\n",
    "                rad2_scan_success = True\n",
    "                \n",
    "            if plunger_var_alias[i] != 'visa9':\n",
    "                ebeam_numfiles = count_files_in_scan_directory(scan_dir_base, f'UC_VisaEBeam{i+1}')\n",
    "                if ebeam_numfiles >= 0.74 * requested_shots:\n",
    "                    ebeam_scan_success = True\n",
    "            else:\n",
    "                ebeam_scan_success = True\n",
    "\n",
    "            if ebeam_scan_success and rad2_scan_success:\n",
    "                print(\"successful scan\")\n",
    "                break\n",
    "        \n",
    "        if plunger_var_alias[i] != 'visa9':\n",
    "            ebeam_scan_numbers.append(scan_number)\n",
    "        rad2_scan_numbers.append(scan_number)\n",
    "        \n",
    "        if use_threading:\n",
    "            if plunger_var_alias[i] != 'visa9':\n",
    "                t1 = threading.Thread(target=create_avg_image, args=(scan_dir_base, analysis_dir_base, f'UC_VisaEBeam{i+1}', None),kwargs={'show_image': False})\n",
    "                t1.start()\n",
    "                threads.append(t1) \n",
    "            \n",
    "            t2 = threading.Thread(target=create_avg_image, args=(scan_dir_base, analysis_dir_base, 'UC_UndulatorRad2', f'Station{i+1}'),kwargs={'show_image': False})\n",
    "            t2.start()\n",
    "            threads.append(t2)            \n",
    "            \n",
    "        else:\n",
    "            if plunger_var_alias[i] != 'visa9':\n",
    "                create_avg_image(scan_dir_base, analysis_dir_base, f'UC_VisaEBeam{i+1}', show_image = False)\n",
    "            create_avg_image(scan_dir_base, analysis_dir_base, f'UC_UndulatorRad2',station = f'Station{i+1}', show_image = False)\n",
    "\n",
    "    if use_threading:\n",
    "        # Wait for all threads to finish\n",
    "        for thread in threads:\n",
    "            thread.join()\n",
    "\n",
    "    estats = create_image_grids(\"UC_VisaEBeam\", ebeam_scan_numbers, undulator_scan_dir,  year, month, day,figsize=(15, 7),grid_rows=2,grid_cols=4)\n",
    "    radstats = create_image_grids(\"UC_UndulatorRad2\", rad2_scan_numbers, undulator_scan_dir, year, month, day,figsize=(15, 15),grid_rows=3,grid_cols=3)\n",
    "    \n",
    "    return ebeam_scan_numbers, rad2_scan_numbers, undulator_scan_dir, year, month, day\n",
    "\n",
    "def convert_types(obj):\n",
    "    if isinstance(obj, np.floating):\n",
    "        return float(obj)\n",
    "    elif isinstance(obj, np.integer):\n",
    "        return int(obj)\n",
    "    elif isinstance(obj, np.ndarray):\n",
    "        return obj.tolist()\n",
    "    elif isinstance(obj, dict):\n",
    "        return {key: convert_types(value) for key, value in obj.items()}\n",
    "    elif isinstance(obj, list):\n",
    "        return [convert_types(value) for value in obj]\n",
    "    else:\n",
    "        return obj\n",
    "\n",
    "def create_image_grids(device,scan_numbers,undulator_scan_dir,year,month,day,figsize=(15,15),grid_rows=3,grid_cols=3,static_device=False, normalize=True,scaling=8):\n",
    "\n",
    "    fig_paths = []\n",
    "    all_stats = {}\n",
    "    \n",
    "    # Determine the base file name based on the device type\n",
    "    if device == \"UC_UndulatorRad2\":\n",
    "        file_save_name = 'urad2_image_grid.png'\n",
    "        stats_save_name = 'urad2_stats.yml'\n",
    "        # grid_rows = 3\n",
    "        # grid_cols = 3\n",
    "        # figsize = (15, 15)\n",
    "    elif \"UC_VisaEBeam\" in device:\n",
    "        file_save_name = 'visa_image_grid.png'\n",
    "        stats_save_name = 'visa_stats.yml'\n",
    "        # grid_rows = 2\n",
    "        # grid_cols = 4\n",
    "        # figsize = (15, 7)\n",
    "    else:\n",
    "        print(f\"Warning: Unrecognized device '{device}'.\")\n",
    "        return None  # or handle this case as appropriate\n",
    "\n",
    "    for i, scan_number in enumerate(scan_numbers):\n",
    "        # Adjust parameters based on device type\n",
    "        station_suffix = i + 1  # Assumes scan_numbers are sequentially increasing\n",
    "        if not static_device:\n",
    "            if device == \"UC_UndulatorRad2\":\n",
    "                device_name = device\n",
    "                station_name = f\"Station{station_suffix}\"\n",
    "            else:  # UC_VisaEBeamX\n",
    "                device_name = f\"{device}{station_suffix}\"\n",
    "                station_name = None  # Assuming this is how it's meant to be used for UC_Visa devices\n",
    "        if static_device:\n",
    "            device_name = f\"{device}\"\n",
    "            if device == \"UC_UndulatorRad2\":\n",
    "                station_name = 'Station9'  # Assuming this is how it's meant to be used for UC_Visa devices\n",
    "            else:\n",
    "                station_name = None  # Assuming this is how it's meant to be used for UC_Visa devices\n",
    "        \n",
    "        stats_key = f'{device_name}_{station_name}' if station_name else device_name\n",
    "        # Perform the full process with adjusted parameters\n",
    "        print(scan_number)\n",
    "        print(device_name)\n",
    "        fig_path, stats = full_process(year, month, day, scan_number, device_name, station_name, normalize=normalize, scaling=scaling)\n",
    "        fig_paths.append(fig_path)\n",
    "        all_stats[stats_key] = stats\n",
    "    \n",
    "\n",
    "    fig, axs = plt.subplots(grid_rows, grid_cols, figsize=figsize)\n",
    "    \n",
    "    for ax, plot_path in zip(axs.flat, fig_paths):\n",
    "        img = plt.imread(plot_path)\n",
    "        ax.imshow(img)\n",
    "        ax.axis('off')  # Optionally hide the axis\n",
    "    \n",
    "    # Adjust layout\n",
    "    plt.tight_layout()\n",
    "    # Save the figure\n",
    "    save_path = Path(undulator_scan_dir)/file_save_name  # Specify your save path here\n",
    "    fig.savefig(save_path, dpi=300, bbox_inches='tight')\n",
    "    plt.close()\n",
    "\n",
    "    all_stats_converted = convert_types(all_stats)\n",
    "\n",
    "    # # Save the stats dictionary to a file\n",
    "    with open(Path(undulator_scan_dir) / stats_save_name, 'w') as file:\n",
    "        yaml.safe_dump(all_stats_converted, file, default_flow_style=False)\n",
    "\n",
    "    return all_stats,all_stats_converted\n",
    "\n",
    "#Define the custom CMYK colors and convert them to RGB\n",
    "cmyk_colors = [(0, 0, 0, 0), (0.1, 0.1, 0.1, 0.1), (1, 0.84, 0, 0.15), (0, 0.84, 1, 0), (0, 0, 1, 0)]\n",
    "rgb_colors = [cmyk_to_rgb(*cmyk) for cmyk in cmyk_colors]\n",
    "custom_cmap = LinearSegmentedColormap.from_list(\"custom_cmap\", rgb_colors)\n",
    "\n",
    "# establish base path to data\n",
    "try:\n",
    "    base_path = get_base_path()\n",
    "except ValueError as e:\n",
    "    print(f'Error: {e}')"
   ]
  },
  {
   "cell_type": "code",
   "execution_count": 20,
   "id": "b2a48b96-48b4-4a33-95e6-715b6f144057",
   "metadata": {},
   "outputs": [],
   "source": [
    "visa_plungers = GeecsDevice('U_VisaPlungers')\n",
    "velmex = GeecsDevice('U_Velmex')\n",
    "plc = GeecsDevice('U_PLC')\n",
    "\n",
    "plunger_var_names = np.flip([\"DigitalOutput.Channel 0\",\"DigitalOutput.Channel 1\",\"DigitalOutput.Channel 2\",\"DigitalOutput.Channel 3\",\"DigitalOutput.Channel 4\",\n",
    "\"DigitalOutput.Channel 5\", \"DigitalOutput.Channel 6\",\"DigitalOutput.Channel 7\"])\n",
    "\n",
    "plunger_var_alias = np.flip([\"visa9\",\"visa8\",\"visa7\",\"visa6\",\"visa5\",\"visa4\",\"visa3\",\"visa2\",\"visa1\"])\n",
    "\n",
    "rad2_positions = [3954,3469.9,2986.9,2476.3,1991.2,1498.4,993.3,506.5,76.6]\n",
    "\n",
    "def retract_all_plungers():\n",
    "    for plunger_name in plunger_var_names:\n",
    "        visa_plungers.set(plunger_name, 'off')\n",
    "        plc.set(\"DO.Ch19\",'off') #remove visa9 plunger\n",
    "        time.sleep(0.25)"
   ]
  },
  {
   "cell_type": "code",
   "execution_count": 5,
   "id": "f5e830e8-0f9a-46c7-a76d-d7ebabb23f9c",
   "metadata": {},
   "outputs": [],
   "source": [
    "#execute an undulator screen scan\n",
    "# ebeam_scan_numbers, rad2_scan_numbers, undulator_scan_dir, year, month, day = undulator_screen_scan()"
   ]
  },
  {
   "cell_type": "code",
   "execution_count": 6,
   "id": "0f0112fe-af5c-416e-9940-94e5a83e00ec",
   "metadata": {},
   "outputs": [],
   "source": [
    "# year = '2024'\n",
    "# month = 'Mar'\n",
    "# day = '21'\n",
    "# scan_numbers = [38,39,40,41,42,43,44,45]\n",
    "\n",
    "# scan_dir_base, analysis_dir_base = create_data_path(year, month, day, scan_numbers[0])\n",
    "# special_scan_base_name = 'undulator_screen_scan'\n",
    "# working_dir = Path(analysis_dir_base).parent \n",
    "\n",
    "# undulator_scan_dir = create_next_special_scan_directory(working_dir,special_scan_base_name)\n",
    "\n",
    "# create_image_grids(\"UC_UndulatorRad2\",scan_numbers,undulator_scan_dir)\n",
    "# create_image_grids(\"UC_VisaEBeam\",scan_numbers,undulator_scan_dir)"
   ]
  },
  {
   "cell_type": "code",
   "execution_count": 21,
   "id": "76c16515-0b54-4a82-b7aa-5e60d0908fbf",
   "metadata": {
    "scrolled": true
   },
   "outputs": [
    {
     "name": "stdout",
     "output_type": "stream",
     "text": [
      "Custom action after step 0 current values: {'fresh': True, 'shot number': None, 'GEECS device error': False, 'Current': -2.19988}, {'fresh': True, 'shot number': None, 'GEECS device error': False, 'Current': 0.19998}\n",
      "set plunger: visa1\n",
      "moved velmex to: 3954\n",
      "successful scan\n"
     ]
    },
    {
     "name": "stderr",
     "output_type": "stream",
     "text": [
      "Exception in thread Thread-1677 (create_avg_image):\n",
      "Traceback (most recent call last):\n",
      "  File \"C:\\Users\\loasis.LOASIS\\AppData\\Local\\anaconda3\\envs\\Xopt-GEECS\\lib\\threading.py\", line 1016, in _bootstrap_inner\n",
      "    self.run()\n",
      "  File \"C:\\Users\\loasis.LOASIS\\AppData\\Local\\anaconda3\\envs\\Xopt-GEECS\\lib\\site-packages\\ipykernel\\ipkernel.py\", line 761, in run_closure\n",
      "    _threading_Thread_run(self)\n",
      "  File \"C:\\Users\\loasis.LOASIS\\AppData\\Local\\anaconda3\\envs\\Xopt-GEECS\\lib\\threading.py\", line 953, in run\n",
      "    self._target(*self._args, **self._kwargs)\n",
      "  File \"C:\\Users\\loasis.LOASIS\\AppData\\Local\\Temp\\ipykernel_1692\\1912629808.py\", line 138, in create_avg_image\n",
      "KeyError: 'raw_data_path'\n"
     ]
    },
    {
     "name": "stdout",
     "output_type": "stream",
     "text": [
      "Saved image to: Z:\\data\\Undulator\\Y2024\\03-Mar\\24_0328\\analysis\\Scan123\\UC_VisaEBeam1_average_16bit.png\n",
      "set plunger: visa2\n"
     ]
    },
    {
     "name": "stderr",
     "output_type": "stream",
     "text": [
      "Exception in thread Thread-1678 (create_avg_image):\n",
      "Traceback (most recent call last):\n",
      "  File \"C:\\Users\\loasis.LOASIS\\AppData\\Local\\anaconda3\\envs\\Xopt-GEECS\\lib\\threading.py\", line 1016, in _bootstrap_inner\n",
      "    self.run()\n",
      "  File \"C:\\Users\\loasis.LOASIS\\AppData\\Local\\anaconda3\\envs\\Xopt-GEECS\\lib\\site-packages\\ipykernel\\ipkernel.py\", line 761, in run_closure\n",
      "    _threading_Thread_run(self)\n",
      "  File \"C:\\Users\\loasis.LOASIS\\AppData\\Local\\anaconda3\\envs\\Xopt-GEECS\\lib\\threading.py\", line 953, in run\n",
      "    self._target(*self._args, **self._kwargs)\n",
      "  File \"C:\\Users\\loasis.LOASIS\\AppData\\Local\\Temp\\ipykernel_1692\\1912629808.py\", line 138, in create_avg_image\n",
      "KeyError: 'raw_data_path'\n"
     ]
    },
    {
     "name": "stdout",
     "output_type": "stream",
     "text": [
      "Saved image to: Z:\\data\\Undulator\\Y2024\\03-Mar\\24_0328\\analysis\\Scan123\\UC_UndulatorRad2_Station1_average_16bit.png\n",
      "moved velmex to: 3469.9\n",
      "successful scan\n"
     ]
    },
    {
     "name": "stderr",
     "output_type": "stream",
     "text": [
      "Exception in thread Thread-1697 (create_avg_image):\n",
      "Traceback (most recent call last):\n",
      "  File \"C:\\Users\\loasis.LOASIS\\AppData\\Local\\anaconda3\\envs\\Xopt-GEECS\\lib\\threading.py\", line 1016, in _bootstrap_inner\n",
      "    self.run()\n",
      "  File \"C:\\Users\\loasis.LOASIS\\AppData\\Local\\anaconda3\\envs\\Xopt-GEECS\\lib\\site-packages\\ipykernel\\ipkernel.py\", line 761, in run_closure\n",
      "    _threading_Thread_run(self)\n",
      "  File \"C:\\Users\\loasis.LOASIS\\AppData\\Local\\anaconda3\\envs\\Xopt-GEECS\\lib\\threading.py\", line 953, in run\n",
      "    self._target(*self._args, **self._kwargs)\n",
      "  File \"C:\\Users\\loasis.LOASIS\\AppData\\Local\\Temp\\ipykernel_1692\\1912629808.py\", line 138, in create_avg_image\n",
      "KeyError: 'raw_data_path'\n"
     ]
    },
    {
     "name": "stdout",
     "output_type": "stream",
     "text": [
      "Saved image to: Z:\\data\\Undulator\\Y2024\\03-Mar\\24_0328\\analysis\\Scan124\\UC_VisaEBeam2_average_16bit.png\n",
      "set plunger: visa3\n"
     ]
    },
    {
     "name": "stderr",
     "output_type": "stream",
     "text": [
      "Exception in thread Thread-1698 (create_avg_image):\n",
      "Traceback (most recent call last):\n",
      "  File \"C:\\Users\\loasis.LOASIS\\AppData\\Local\\anaconda3\\envs\\Xopt-GEECS\\lib\\threading.py\", line 1016, in _bootstrap_inner\n",
      "    self.run()\n",
      "  File \"C:\\Users\\loasis.LOASIS\\AppData\\Local\\anaconda3\\envs\\Xopt-GEECS\\lib\\site-packages\\ipykernel\\ipkernel.py\", line 761, in run_closure\n",
      "    _threading_Thread_run(self)\n",
      "  File \"C:\\Users\\loasis.LOASIS\\AppData\\Local\\anaconda3\\envs\\Xopt-GEECS\\lib\\threading.py\", line 953, in run\n",
      "    self._target(*self._args, **self._kwargs)\n",
      "  File \"C:\\Users\\loasis.LOASIS\\AppData\\Local\\Temp\\ipykernel_1692\\1912629808.py\", line 138, in create_avg_image\n",
      "KeyError: 'raw_data_path'\n"
     ]
    },
    {
     "name": "stdout",
     "output_type": "stream",
     "text": [
      "Saved image to: Z:\\data\\Undulator\\Y2024\\03-Mar\\24_0328\\analysis\\Scan124\\UC_UndulatorRad2_Station2_average_16bit.png\n",
      "moved velmex to: 2986.9\n",
      "successful scan\n"
     ]
    },
    {
     "name": "stderr",
     "output_type": "stream",
     "text": [
      "Exception in thread Thread-1717 (create_avg_image):\n",
      "Traceback (most recent call last):\n",
      "  File \"C:\\Users\\loasis.LOASIS\\AppData\\Local\\anaconda3\\envs\\Xopt-GEECS\\lib\\threading.py\", line 1016, in _bootstrap_inner\n",
      "    self.run()\n",
      "  File \"C:\\Users\\loasis.LOASIS\\AppData\\Local\\anaconda3\\envs\\Xopt-GEECS\\lib\\site-packages\\ipykernel\\ipkernel.py\", line 761, in run_closure\n",
      "    _threading_Thread_run(self)\n",
      "  File \"C:\\Users\\loasis.LOASIS\\AppData\\Local\\anaconda3\\envs\\Xopt-GEECS\\lib\\threading.py\", line 953, in run\n",
      "    self._target(*self._args, **self._kwargs)\n",
      "  File \"C:\\Users\\loasis.LOASIS\\AppData\\Local\\Temp\\ipykernel_1692\\1912629808.py\", line 138, in create_avg_image\n",
      "KeyError: 'raw_data_path'\n"
     ]
    },
    {
     "name": "stdout",
     "output_type": "stream",
     "text": [
      "Saved image to: Z:\\data\\Undulator\\Y2024\\03-Mar\\24_0328\\analysis\\Scan125\\UC_VisaEBeam3_average_16bit.png\n",
      "set plunger: visa4\n"
     ]
    },
    {
     "name": "stderr",
     "output_type": "stream",
     "text": [
      "Exception in thread Thread-1718 (create_avg_image):\n",
      "Traceback (most recent call last):\n",
      "  File \"C:\\Users\\loasis.LOASIS\\AppData\\Local\\anaconda3\\envs\\Xopt-GEECS\\lib\\threading.py\", line 1016, in _bootstrap_inner\n",
      "    self.run()\n",
      "  File \"C:\\Users\\loasis.LOASIS\\AppData\\Local\\anaconda3\\envs\\Xopt-GEECS\\lib\\site-packages\\ipykernel\\ipkernel.py\", line 761, in run_closure\n",
      "    _threading_Thread_run(self)\n",
      "  File \"C:\\Users\\loasis.LOASIS\\AppData\\Local\\anaconda3\\envs\\Xopt-GEECS\\lib\\threading.py\", line 953, in run\n",
      "    self._target(*self._args, **self._kwargs)\n",
      "  File \"C:\\Users\\loasis.LOASIS\\AppData\\Local\\Temp\\ipykernel_1692\\1912629808.py\", line 138, in create_avg_image\n",
      "KeyError: 'raw_data_path'\n"
     ]
    },
    {
     "name": "stdout",
     "output_type": "stream",
     "text": [
      "Saved image to: Z:\\data\\Undulator\\Y2024\\03-Mar\\24_0328\\analysis\\Scan125\\UC_UndulatorRad2_Station3_average_16bit.png\n",
      "moved velmex to: 2476.3\n",
      "successful scan\n"
     ]
    },
    {
     "name": "stderr",
     "output_type": "stream",
     "text": [
      "Exception in thread Thread-1737 (create_avg_image):\n",
      "Traceback (most recent call last):\n",
      "  File \"C:\\Users\\loasis.LOASIS\\AppData\\Local\\anaconda3\\envs\\Xopt-GEECS\\lib\\threading.py\", line 1016, in _bootstrap_inner\n",
      "    self.run()\n",
      "  File \"C:\\Users\\loasis.LOASIS\\AppData\\Local\\anaconda3\\envs\\Xopt-GEECS\\lib\\site-packages\\ipykernel\\ipkernel.py\", line 761, in run_closure\n",
      "    _threading_Thread_run(self)\n",
      "  File \"C:\\Users\\loasis.LOASIS\\AppData\\Local\\anaconda3\\envs\\Xopt-GEECS\\lib\\threading.py\", line 953, in run\n",
      "    self._target(*self._args, **self._kwargs)\n",
      "  File \"C:\\Users\\loasis.LOASIS\\AppData\\Local\\Temp\\ipykernel_1692\\1912629808.py\", line 138, in create_avg_image\n",
      "KeyError: 'raw_data_path'\n"
     ]
    },
    {
     "name": "stdout",
     "output_type": "stream",
     "text": [
      "Saved image to: Z:\\data\\Undulator\\Y2024\\03-Mar\\24_0328\\analysis\\Scan126\\UC_VisaEBeam4_average_16bit.png\n",
      "set plunger: visa5\n"
     ]
    },
    {
     "name": "stderr",
     "output_type": "stream",
     "text": [
      "Exception in thread Thread-1738 (create_avg_image):\n",
      "Traceback (most recent call last):\n",
      "  File \"C:\\Users\\loasis.LOASIS\\AppData\\Local\\anaconda3\\envs\\Xopt-GEECS\\lib\\threading.py\", line 1016, in _bootstrap_inner\n",
      "    self.run()\n",
      "  File \"C:\\Users\\loasis.LOASIS\\AppData\\Local\\anaconda3\\envs\\Xopt-GEECS\\lib\\site-packages\\ipykernel\\ipkernel.py\", line 761, in run_closure\n",
      "    _threading_Thread_run(self)\n",
      "  File \"C:\\Users\\loasis.LOASIS\\AppData\\Local\\anaconda3\\envs\\Xopt-GEECS\\lib\\threading.py\", line 953, in run\n",
      "    self._target(*self._args, **self._kwargs)\n",
      "  File \"C:\\Users\\loasis.LOASIS\\AppData\\Local\\Temp\\ipykernel_1692\\1912629808.py\", line 138, in create_avg_image\n",
      "KeyError: 'raw_data_path'\n"
     ]
    },
    {
     "name": "stdout",
     "output_type": "stream",
     "text": [
      "Saved image to: Z:\\data\\Undulator\\Y2024\\03-Mar\\24_0328\\analysis\\Scan126\\UC_UndulatorRad2_Station4_average_16bit.png\n",
      "moved velmex to: 1991.2\n",
      "successful scan\n"
     ]
    },
    {
     "name": "stderr",
     "output_type": "stream",
     "text": [
      "Exception in thread Thread-1757 (create_avg_image):\n",
      "Traceback (most recent call last):\n",
      "  File \"C:\\Users\\loasis.LOASIS\\AppData\\Local\\anaconda3\\envs\\Xopt-GEECS\\lib\\threading.py\", line 1016, in _bootstrap_inner\n",
      "    self.run()\n",
      "  File \"C:\\Users\\loasis.LOASIS\\AppData\\Local\\anaconda3\\envs\\Xopt-GEECS\\lib\\site-packages\\ipykernel\\ipkernel.py\", line 761, in run_closure\n",
      "    _threading_Thread_run(self)\n",
      "  File \"C:\\Users\\loasis.LOASIS\\AppData\\Local\\anaconda3\\envs\\Xopt-GEECS\\lib\\threading.py\", line 953, in run\n",
      "    self._target(*self._args, **self._kwargs)\n",
      "  File \"C:\\Users\\loasis.LOASIS\\AppData\\Local\\Temp\\ipykernel_1692\\1912629808.py\", line 138, in create_avg_image\n",
      "KeyError: 'raw_data_path'\n"
     ]
    },
    {
     "name": "stdout",
     "output_type": "stream",
     "text": [
      "Saved image to: Z:\\data\\Undulator\\Y2024\\03-Mar\\24_0328\\analysis\\Scan127\\UC_VisaEBeam5_average_16bit.png\n",
      "set plunger: visa6\n"
     ]
    },
    {
     "name": "stderr",
     "output_type": "stream",
     "text": [
      "Exception in thread Thread-1758 (create_avg_image):\n",
      "Traceback (most recent call last):\n",
      "  File \"C:\\Users\\loasis.LOASIS\\AppData\\Local\\anaconda3\\envs\\Xopt-GEECS\\lib\\threading.py\", line 1016, in _bootstrap_inner\n",
      "    self.run()\n",
      "  File \"C:\\Users\\loasis.LOASIS\\AppData\\Local\\anaconda3\\envs\\Xopt-GEECS\\lib\\site-packages\\ipykernel\\ipkernel.py\", line 761, in run_closure\n",
      "    _threading_Thread_run(self)\n",
      "  File \"C:\\Users\\loasis.LOASIS\\AppData\\Local\\anaconda3\\envs\\Xopt-GEECS\\lib\\threading.py\", line 953, in run\n",
      "    self._target(*self._args, **self._kwargs)\n",
      "  File \"C:\\Users\\loasis.LOASIS\\AppData\\Local\\Temp\\ipykernel_1692\\1912629808.py\", line 138, in create_avg_image\n",
      "KeyError: 'raw_data_path'\n"
     ]
    },
    {
     "name": "stdout",
     "output_type": "stream",
     "text": [
      "Saved image to: Z:\\data\\Undulator\\Y2024\\03-Mar\\24_0328\\analysis\\Scan127\\UC_UndulatorRad2_Station5_average_16bit.png\n",
      "moved velmex to: 1498.4\n",
      "successful scan\n"
     ]
    },
    {
     "name": "stderr",
     "output_type": "stream",
     "text": [
      "Exception in thread Thread-1777 (create_avg_image):\n",
      "Traceback (most recent call last):\n",
      "  File \"C:\\Users\\loasis.LOASIS\\AppData\\Local\\anaconda3\\envs\\Xopt-GEECS\\lib\\threading.py\", line 1016, in _bootstrap_inner\n",
      "    self.run()\n",
      "  File \"C:\\Users\\loasis.LOASIS\\AppData\\Local\\anaconda3\\envs\\Xopt-GEECS\\lib\\site-packages\\ipykernel\\ipkernel.py\", line 761, in run_closure\n",
      "    _threading_Thread_run(self)\n",
      "  File \"C:\\Users\\loasis.LOASIS\\AppData\\Local\\anaconda3\\envs\\Xopt-GEECS\\lib\\threading.py\", line 953, in run\n",
      "    self._target(*self._args, **self._kwargs)\n",
      "  File \"C:\\Users\\loasis.LOASIS\\AppData\\Local\\Temp\\ipykernel_1692\\1912629808.py\", line 138, in create_avg_image\n",
      "KeyError: 'raw_data_path'\n"
     ]
    },
    {
     "name": "stdout",
     "output_type": "stream",
     "text": [
      "Saved image to: Z:\\data\\Undulator\\Y2024\\03-Mar\\24_0328\\analysis\\Scan128\\UC_VisaEBeam6_average_16bit.png\n",
      "set plunger: visa7\n"
     ]
    },
    {
     "name": "stderr",
     "output_type": "stream",
     "text": [
      "Exception in thread Thread-1778 (create_avg_image):\n",
      "Traceback (most recent call last):\n",
      "  File \"C:\\Users\\loasis.LOASIS\\AppData\\Local\\anaconda3\\envs\\Xopt-GEECS\\lib\\threading.py\", line 1016, in _bootstrap_inner\n",
      "    self.run()\n",
      "  File \"C:\\Users\\loasis.LOASIS\\AppData\\Local\\anaconda3\\envs\\Xopt-GEECS\\lib\\site-packages\\ipykernel\\ipkernel.py\", line 761, in run_closure\n",
      "    _threading_Thread_run(self)\n",
      "  File \"C:\\Users\\loasis.LOASIS\\AppData\\Local\\anaconda3\\envs\\Xopt-GEECS\\lib\\threading.py\", line 953, in run\n",
      "    self._target(*self._args, **self._kwargs)\n",
      "  File \"C:\\Users\\loasis.LOASIS\\AppData\\Local\\Temp\\ipykernel_1692\\1912629808.py\", line 138, in create_avg_image\n",
      "KeyError: 'raw_data_path'\n"
     ]
    },
    {
     "name": "stdout",
     "output_type": "stream",
     "text": [
      "Saved image to: Z:\\data\\Undulator\\Y2024\\03-Mar\\24_0328\\analysis\\Scan128\\UC_UndulatorRad2_Station6_average_16bit.png\n",
      "moved velmex to: 993.3\n",
      "successful scan\n"
     ]
    },
    {
     "name": "stderr",
     "output_type": "stream",
     "text": [
      "Exception in thread Thread-1797 (create_avg_image):\n",
      "Traceback (most recent call last):\n",
      "  File \"C:\\Users\\loasis.LOASIS\\AppData\\Local\\anaconda3\\envs\\Xopt-GEECS\\lib\\threading.py\", line 1016, in _bootstrap_inner\n",
      "    self.run()\n",
      "  File \"C:\\Users\\loasis.LOASIS\\AppData\\Local\\anaconda3\\envs\\Xopt-GEECS\\lib\\site-packages\\ipykernel\\ipkernel.py\", line 761, in run_closure\n",
      "    _threading_Thread_run(self)\n",
      "  File \"C:\\Users\\loasis.LOASIS\\AppData\\Local\\anaconda3\\envs\\Xopt-GEECS\\lib\\threading.py\", line 953, in run\n",
      "    self._target(*self._args, **self._kwargs)\n",
      "  File \"C:\\Users\\loasis.LOASIS\\AppData\\Local\\Temp\\ipykernel_1692\\1912629808.py\", line 138, in create_avg_image\n",
      "KeyError: 'raw_data_path'\n"
     ]
    },
    {
     "name": "stdout",
     "output_type": "stream",
     "text": [
      "Saved image to: Z:\\data\\Undulator\\Y2024\\03-Mar\\24_0328\\analysis\\Scan129\\UC_VisaEBeam7_average_16bit.png\n",
      "set plunger: visa8\n"
     ]
    },
    {
     "name": "stderr",
     "output_type": "stream",
     "text": [
      "Exception in thread Thread-1798 (create_avg_image):\n",
      "Traceback (most recent call last):\n",
      "  File \"C:\\Users\\loasis.LOASIS\\AppData\\Local\\anaconda3\\envs\\Xopt-GEECS\\lib\\threading.py\", line 1016, in _bootstrap_inner\n",
      "    self.run()\n",
      "  File \"C:\\Users\\loasis.LOASIS\\AppData\\Local\\anaconda3\\envs\\Xopt-GEECS\\lib\\site-packages\\ipykernel\\ipkernel.py\", line 761, in run_closure\n",
      "    _threading_Thread_run(self)\n",
      "  File \"C:\\Users\\loasis.LOASIS\\AppData\\Local\\anaconda3\\envs\\Xopt-GEECS\\lib\\threading.py\", line 953, in run\n",
      "    self._target(*self._args, **self._kwargs)\n",
      "  File \"C:\\Users\\loasis.LOASIS\\AppData\\Local\\Temp\\ipykernel_1692\\1912629808.py\", line 138, in create_avg_image\n",
      "KeyError: 'raw_data_path'\n"
     ]
    },
    {
     "name": "stdout",
     "output_type": "stream",
     "text": [
      "Saved image to: Z:\\data\\Undulator\\Y2024\\03-Mar\\24_0328\\analysis\\Scan129\\UC_UndulatorRad2_Station7_average_16bit.png\n",
      "moved velmex to: 506.5\n",
      "successful scan\n"
     ]
    },
    {
     "name": "stderr",
     "output_type": "stream",
     "text": [
      "Exception in thread Thread-1817 (create_avg_image):\n",
      "Traceback (most recent call last):\n",
      "  File \"C:\\Users\\loasis.LOASIS\\AppData\\Local\\anaconda3\\envs\\Xopt-GEECS\\lib\\threading.py\", line 1016, in _bootstrap_inner\n",
      "    self.run()\n",
      "  File \"C:\\Users\\loasis.LOASIS\\AppData\\Local\\anaconda3\\envs\\Xopt-GEECS\\lib\\site-packages\\ipykernel\\ipkernel.py\", line 761, in run_closure\n",
      "    _threading_Thread_run(self)\n",
      "  File \"C:\\Users\\loasis.LOASIS\\AppData\\Local\\anaconda3\\envs\\Xopt-GEECS\\lib\\threading.py\", line 953, in run\n",
      "    self._target(*self._args, **self._kwargs)\n",
      "  File \"C:\\Users\\loasis.LOASIS\\AppData\\Local\\Temp\\ipykernel_1692\\1912629808.py\", line 138, in create_avg_image\n",
      "KeyError: 'raw_data_path'\n"
     ]
    },
    {
     "name": "stdout",
     "output_type": "stream",
     "text": [
      "Saved image to: Z:\\data\\Undulator\\Y2024\\03-Mar\\24_0328\\analysis\\Scan130\\UC_VisaEBeam8_average_16bit.png\n",
      "set plunger: visa9\n"
     ]
    },
    {
     "name": "stderr",
     "output_type": "stream",
     "text": [
      "Exception in thread Thread-1818 (create_avg_image):\n",
      "Traceback (most recent call last):\n",
      "  File \"C:\\Users\\loasis.LOASIS\\AppData\\Local\\anaconda3\\envs\\Xopt-GEECS\\lib\\threading.py\", line 1016, in _bootstrap_inner\n",
      "    self.run()\n",
      "  File \"C:\\Users\\loasis.LOASIS\\AppData\\Local\\anaconda3\\envs\\Xopt-GEECS\\lib\\site-packages\\ipykernel\\ipkernel.py\", line 761, in run_closure\n",
      "    _threading_Thread_run(self)\n",
      "  File \"C:\\Users\\loasis.LOASIS\\AppData\\Local\\anaconda3\\envs\\Xopt-GEECS\\lib\\threading.py\", line 953, in run\n",
      "    self._target(*self._args, **self._kwargs)\n",
      "  File \"C:\\Users\\loasis.LOASIS\\AppData\\Local\\Temp\\ipykernel_1692\\1912629808.py\", line 138, in create_avg_image\n",
      "KeyError: 'raw_data_path'\n"
     ]
    },
    {
     "name": "stdout",
     "output_type": "stream",
     "text": [
      "Saved image to: Z:\\data\\Undulator\\Y2024\\03-Mar\\24_0328\\analysis\\Scan130\\UC_UndulatorRad2_Station8_average_16bit.png\n",
      "moved velmex to: 76.6\n",
      "successful scan\n"
     ]
    },
    {
     "name": "stderr",
     "output_type": "stream",
     "text": [
      "Exception in thread Thread-1837 (create_avg_image):\n",
      "Traceback (most recent call last):\n",
      "  File \"C:\\Users\\loasis.LOASIS\\AppData\\Local\\anaconda3\\envs\\Xopt-GEECS\\lib\\threading.py\", line 1016, in _bootstrap_inner\n",
      "    self.run()\n",
      "  File \"C:\\Users\\loasis.LOASIS\\AppData\\Local\\anaconda3\\envs\\Xopt-GEECS\\lib\\site-packages\\ipykernel\\ipkernel.py\", line 761, in run_closure\n",
      "    _threading_Thread_run(self)\n",
      "  File \"C:\\Users\\loasis.LOASIS\\AppData\\Local\\anaconda3\\envs\\Xopt-GEECS\\lib\\threading.py\", line 953, in run\n",
      "    self._target(*self._args, **self._kwargs)\n",
      "  File \"C:\\Users\\loasis.LOASIS\\AppData\\Local\\Temp\\ipykernel_1692\\1912629808.py\", line 138, in create_avg_image\n",
      "KeyError: 'raw_data_path'\n"
     ]
    },
    {
     "name": "stdout",
     "output_type": "stream",
     "text": [
      "Saved image to: Z:\\data\\Undulator\\Y2024\\03-Mar\\24_0328\\analysis\\Scan131\\UC_UndulatorRad2_Station9_average_16bit.png\n",
      "Custom action after step 1 current values: {'fresh': True, 'shot number': None, 'GEECS device error': False, 'Current': -2.09988}, {'fresh': True, 'shot number': None, 'GEECS device error': False, 'Current': 0.09998}\n",
      "set plunger: visa1\n",
      "moved velmex to: 3954\n",
      "successful scan\n"
     ]
    },
    {
     "name": "stderr",
     "output_type": "stream",
     "text": [
      "Exception in thread Thread-1858 (create_avg_image):\n",
      "Traceback (most recent call last):\n",
      "  File \"C:\\Users\\loasis.LOASIS\\AppData\\Local\\anaconda3\\envs\\Xopt-GEECS\\lib\\threading.py\", line 1016, in _bootstrap_inner\n",
      "    self.run()\n",
      "  File \"C:\\Users\\loasis.LOASIS\\AppData\\Local\\anaconda3\\envs\\Xopt-GEECS\\lib\\site-packages\\ipykernel\\ipkernel.py\", line 761, in run_closure\n",
      "    _threading_Thread_run(self)\n",
      "  File \"C:\\Users\\loasis.LOASIS\\AppData\\Local\\anaconda3\\envs\\Xopt-GEECS\\lib\\threading.py\", line 953, in run\n",
      "    self._target(*self._args, **self._kwargs)\n",
      "  File \"C:\\Users\\loasis.LOASIS\\AppData\\Local\\Temp\\ipykernel_1692\\1912629808.py\", line 138, in create_avg_image\n",
      "KeyError: 'raw_data_path'\n"
     ]
    },
    {
     "name": "stdout",
     "output_type": "stream",
     "text": [
      "Saved image to: Z:\\data\\Undulator\\Y2024\\03-Mar\\24_0328\\analysis\\Scan132\\UC_VisaEBeam1_average_16bit.png\n",
      "set plunger: visa2\n"
     ]
    },
    {
     "name": "stderr",
     "output_type": "stream",
     "text": [
      "Exception in thread Thread-1859 (create_avg_image):\n",
      "Traceback (most recent call last):\n",
      "  File \"C:\\Users\\loasis.LOASIS\\AppData\\Local\\anaconda3\\envs\\Xopt-GEECS\\lib\\threading.py\", line 1016, in _bootstrap_inner\n",
      "    self.run()\n",
      "  File \"C:\\Users\\loasis.LOASIS\\AppData\\Local\\anaconda3\\envs\\Xopt-GEECS\\lib\\site-packages\\ipykernel\\ipkernel.py\", line 761, in run_closure\n",
      "    _threading_Thread_run(self)\n",
      "  File \"C:\\Users\\loasis.LOASIS\\AppData\\Local\\anaconda3\\envs\\Xopt-GEECS\\lib\\threading.py\", line 953, in run\n",
      "    self._target(*self._args, **self._kwargs)\n",
      "  File \"C:\\Users\\loasis.LOASIS\\AppData\\Local\\Temp\\ipykernel_1692\\1912629808.py\", line 138, in create_avg_image\n",
      "KeyError: 'raw_data_path'\n"
     ]
    },
    {
     "name": "stdout",
     "output_type": "stream",
     "text": [
      "Saved image to: Z:\\data\\Undulator\\Y2024\\03-Mar\\24_0328\\analysis\\Scan132\\UC_UndulatorRad2_Station1_average_16bit.png\n",
      "moved velmex to: 3469.9\n",
      "successful scan\n"
     ]
    },
    {
     "name": "stderr",
     "output_type": "stream",
     "text": [
      "Exception in thread Thread-1878 (create_avg_image):\n",
      "Traceback (most recent call last):\n",
      "  File \"C:\\Users\\loasis.LOASIS\\AppData\\Local\\anaconda3\\envs\\Xopt-GEECS\\lib\\threading.py\", line 1016, in _bootstrap_inner\n",
      "    self.run()\n",
      "  File \"C:\\Users\\loasis.LOASIS\\AppData\\Local\\anaconda3\\envs\\Xopt-GEECS\\lib\\site-packages\\ipykernel\\ipkernel.py\", line 761, in run_closure\n",
      "    _threading_Thread_run(self)\n",
      "  File \"C:\\Users\\loasis.LOASIS\\AppData\\Local\\anaconda3\\envs\\Xopt-GEECS\\lib\\threading.py\", line 953, in run\n",
      "    self._target(*self._args, **self._kwargs)\n",
      "  File \"C:\\Users\\loasis.LOASIS\\AppData\\Local\\Temp\\ipykernel_1692\\1912629808.py\", line 138, in create_avg_image\n",
      "KeyError: 'raw_data_path'\n"
     ]
    },
    {
     "name": "stdout",
     "output_type": "stream",
     "text": [
      "Saved image to: Z:\\data\\Undulator\\Y2024\\03-Mar\\24_0328\\analysis\\Scan133\\UC_VisaEBeam2_average_16bit.png\n",
      "set plunger: visa3\n"
     ]
    },
    {
     "name": "stderr",
     "output_type": "stream",
     "text": [
      "Exception in thread Thread-1879 (create_avg_image):\n",
      "Traceback (most recent call last):\n",
      "  File \"C:\\Users\\loasis.LOASIS\\AppData\\Local\\anaconda3\\envs\\Xopt-GEECS\\lib\\threading.py\", line 1016, in _bootstrap_inner\n",
      "    self.run()\n",
      "  File \"C:\\Users\\loasis.LOASIS\\AppData\\Local\\anaconda3\\envs\\Xopt-GEECS\\lib\\site-packages\\ipykernel\\ipkernel.py\", line 761, in run_closure\n",
      "    _threading_Thread_run(self)\n",
      "  File \"C:\\Users\\loasis.LOASIS\\AppData\\Local\\anaconda3\\envs\\Xopt-GEECS\\lib\\threading.py\", line 953, in run\n",
      "    self._target(*self._args, **self._kwargs)\n",
      "  File \"C:\\Users\\loasis.LOASIS\\AppData\\Local\\Temp\\ipykernel_1692\\1912629808.py\", line 138, in create_avg_image\n",
      "KeyError: 'raw_data_path'\n"
     ]
    },
    {
     "name": "stdout",
     "output_type": "stream",
     "text": [
      "Saved image to: Z:\\data\\Undulator\\Y2024\\03-Mar\\24_0328\\analysis\\Scan133\\UC_UndulatorRad2_Station2_average_16bit.png\n",
      "moved velmex to: 2986.9\n",
      "successful scan\n"
     ]
    },
    {
     "name": "stderr",
     "output_type": "stream",
     "text": [
      "Exception in thread Thread-1898 (create_avg_image):\n",
      "Traceback (most recent call last):\n",
      "  File \"C:\\Users\\loasis.LOASIS\\AppData\\Local\\anaconda3\\envs\\Xopt-GEECS\\lib\\threading.py\", line 1016, in _bootstrap_inner\n",
      "    self.run()\n",
      "  File \"C:\\Users\\loasis.LOASIS\\AppData\\Local\\anaconda3\\envs\\Xopt-GEECS\\lib\\site-packages\\ipykernel\\ipkernel.py\", line 761, in run_closure\n",
      "    _threading_Thread_run(self)\n",
      "  File \"C:\\Users\\loasis.LOASIS\\AppData\\Local\\anaconda3\\envs\\Xopt-GEECS\\lib\\threading.py\", line 953, in run\n",
      "    self._target(*self._args, **self._kwargs)\n",
      "  File \"C:\\Users\\loasis.LOASIS\\AppData\\Local\\Temp\\ipykernel_1692\\1912629808.py\", line 138, in create_avg_image\n",
      "KeyError: 'raw_data_path'\n"
     ]
    },
    {
     "name": "stdout",
     "output_type": "stream",
     "text": [
      "Saved image to: Z:\\data\\Undulator\\Y2024\\03-Mar\\24_0328\\analysis\\Scan134\\UC_VisaEBeam3_average_16bit.png\n",
      "set plunger: visa4\n"
     ]
    },
    {
     "name": "stderr",
     "output_type": "stream",
     "text": [
      "Exception in thread Thread-1899 (create_avg_image):\n",
      "Traceback (most recent call last):\n",
      "  File \"C:\\Users\\loasis.LOASIS\\AppData\\Local\\anaconda3\\envs\\Xopt-GEECS\\lib\\threading.py\", line 1016, in _bootstrap_inner\n",
      "    self.run()\n",
      "  File \"C:\\Users\\loasis.LOASIS\\AppData\\Local\\anaconda3\\envs\\Xopt-GEECS\\lib\\site-packages\\ipykernel\\ipkernel.py\", line 761, in run_closure\n",
      "    _threading_Thread_run(self)\n",
      "  File \"C:\\Users\\loasis.LOASIS\\AppData\\Local\\anaconda3\\envs\\Xopt-GEECS\\lib\\threading.py\", line 953, in run\n",
      "    self._target(*self._args, **self._kwargs)\n",
      "  File \"C:\\Users\\loasis.LOASIS\\AppData\\Local\\Temp\\ipykernel_1692\\1912629808.py\", line 138, in create_avg_image\n",
      "KeyError: 'raw_data_path'\n"
     ]
    },
    {
     "name": "stdout",
     "output_type": "stream",
     "text": [
      "Saved image to: Z:\\data\\Undulator\\Y2024\\03-Mar\\24_0328\\analysis\\Scan134\\UC_UndulatorRad2_Station3_average_16bit.png\n",
      "moved velmex to: 2476.3\n",
      "successful scan\n"
     ]
    },
    {
     "name": "stderr",
     "output_type": "stream",
     "text": [
      "Exception in thread Thread-1918 (create_avg_image):\n",
      "Traceback (most recent call last):\n",
      "  File \"C:\\Users\\loasis.LOASIS\\AppData\\Local\\anaconda3\\envs\\Xopt-GEECS\\lib\\threading.py\", line 1016, in _bootstrap_inner\n",
      "    self.run()\n",
      "  File \"C:\\Users\\loasis.LOASIS\\AppData\\Local\\anaconda3\\envs\\Xopt-GEECS\\lib\\site-packages\\ipykernel\\ipkernel.py\", line 761, in run_closure\n",
      "    _threading_Thread_run(self)\n",
      "  File \"C:\\Users\\loasis.LOASIS\\AppData\\Local\\anaconda3\\envs\\Xopt-GEECS\\lib\\threading.py\", line 953, in run\n",
      "    self._target(*self._args, **self._kwargs)\n",
      "  File \"C:\\Users\\loasis.LOASIS\\AppData\\Local\\Temp\\ipykernel_1692\\1912629808.py\", line 138, in create_avg_image\n",
      "KeyError: 'raw_data_path'\n"
     ]
    },
    {
     "name": "stdout",
     "output_type": "stream",
     "text": [
      "Saved image to: Z:\\data\\Undulator\\Y2024\\03-Mar\\24_0328\\analysis\\Scan135\\UC_VisaEBeam4_average_16bit.png\n",
      "set plunger: visa5\n"
     ]
    },
    {
     "name": "stderr",
     "output_type": "stream",
     "text": [
      "Exception in thread Thread-1919 (create_avg_image):\n",
      "Traceback (most recent call last):\n",
      "  File \"C:\\Users\\loasis.LOASIS\\AppData\\Local\\anaconda3\\envs\\Xopt-GEECS\\lib\\threading.py\", line 1016, in _bootstrap_inner\n",
      "    self.run()\n",
      "  File \"C:\\Users\\loasis.LOASIS\\AppData\\Local\\anaconda3\\envs\\Xopt-GEECS\\lib\\site-packages\\ipykernel\\ipkernel.py\", line 761, in run_closure\n",
      "    _threading_Thread_run(self)\n",
      "  File \"C:\\Users\\loasis.LOASIS\\AppData\\Local\\anaconda3\\envs\\Xopt-GEECS\\lib\\threading.py\", line 953, in run\n",
      "    self._target(*self._args, **self._kwargs)\n",
      "  File \"C:\\Users\\loasis.LOASIS\\AppData\\Local\\Temp\\ipykernel_1692\\1912629808.py\", line 138, in create_avg_image\n",
      "KeyError: 'raw_data_path'\n"
     ]
    },
    {
     "name": "stdout",
     "output_type": "stream",
     "text": [
      "Saved image to: Z:\\data\\Undulator\\Y2024\\03-Mar\\24_0328\\analysis\\Scan135\\UC_UndulatorRad2_Station4_average_16bit.png\n",
      "moved velmex to: 1991.2\n",
      "successful scan\n"
     ]
    },
    {
     "name": "stderr",
     "output_type": "stream",
     "text": [
      "Exception in thread Thread-1938 (create_avg_image):\n",
      "Traceback (most recent call last):\n",
      "  File \"C:\\Users\\loasis.LOASIS\\AppData\\Local\\anaconda3\\envs\\Xopt-GEECS\\lib\\threading.py\", line 1016, in _bootstrap_inner\n",
      "    self.run()\n",
      "  File \"C:\\Users\\loasis.LOASIS\\AppData\\Local\\anaconda3\\envs\\Xopt-GEECS\\lib\\site-packages\\ipykernel\\ipkernel.py\", line 761, in run_closure\n",
      "    _threading_Thread_run(self)\n",
      "  File \"C:\\Users\\loasis.LOASIS\\AppData\\Local\\anaconda3\\envs\\Xopt-GEECS\\lib\\threading.py\", line 953, in run\n",
      "    self._target(*self._args, **self._kwargs)\n",
      "  File \"C:\\Users\\loasis.LOASIS\\AppData\\Local\\Temp\\ipykernel_1692\\1912629808.py\", line 138, in create_avg_image\n",
      "KeyError: 'raw_data_path'\n"
     ]
    },
    {
     "name": "stdout",
     "output_type": "stream",
     "text": [
      "Saved image to: Z:\\data\\Undulator\\Y2024\\03-Mar\\24_0328\\analysis\\Scan136\\UC_VisaEBeam5_average_16bit.png\n",
      "set plunger: visa6\n"
     ]
    },
    {
     "name": "stderr",
     "output_type": "stream",
     "text": [
      "Exception in thread Thread-1939 (create_avg_image):\n",
      "Traceback (most recent call last):\n",
      "  File \"C:\\Users\\loasis.LOASIS\\AppData\\Local\\anaconda3\\envs\\Xopt-GEECS\\lib\\threading.py\", line 1016, in _bootstrap_inner\n",
      "    self.run()\n",
      "  File \"C:\\Users\\loasis.LOASIS\\AppData\\Local\\anaconda3\\envs\\Xopt-GEECS\\lib\\site-packages\\ipykernel\\ipkernel.py\", line 761, in run_closure\n",
      "    _threading_Thread_run(self)\n",
      "  File \"C:\\Users\\loasis.LOASIS\\AppData\\Local\\anaconda3\\envs\\Xopt-GEECS\\lib\\threading.py\", line 953, in run\n",
      "    self._target(*self._args, **self._kwargs)\n",
      "  File \"C:\\Users\\loasis.LOASIS\\AppData\\Local\\Temp\\ipykernel_1692\\1912629808.py\", line 138, in create_avg_image\n",
      "KeyError: 'raw_data_path'\n"
     ]
    },
    {
     "name": "stdout",
     "output_type": "stream",
     "text": [
      "Saved image to: Z:\\data\\Undulator\\Y2024\\03-Mar\\24_0328\\analysis\\Scan136\\UC_UndulatorRad2_Station5_average_16bit.png\n",
      "moved velmex to: 1498.4\n",
      "successful scan\n"
     ]
    },
    {
     "name": "stderr",
     "output_type": "stream",
     "text": [
      "Exception in thread Thread-1958 (create_avg_image):\n",
      "Traceback (most recent call last):\n",
      "  File \"C:\\Users\\loasis.LOASIS\\AppData\\Local\\anaconda3\\envs\\Xopt-GEECS\\lib\\threading.py\", line 1016, in _bootstrap_inner\n",
      "    self.run()\n",
      "  File \"C:\\Users\\loasis.LOASIS\\AppData\\Local\\anaconda3\\envs\\Xopt-GEECS\\lib\\site-packages\\ipykernel\\ipkernel.py\", line 761, in run_closure\n",
      "    _threading_Thread_run(self)\n",
      "  File \"C:\\Users\\loasis.LOASIS\\AppData\\Local\\anaconda3\\envs\\Xopt-GEECS\\lib\\threading.py\", line 953, in run\n",
      "    self._target(*self._args, **self._kwargs)\n",
      "  File \"C:\\Users\\loasis.LOASIS\\AppData\\Local\\Temp\\ipykernel_1692\\1912629808.py\", line 138, in create_avg_image\n",
      "KeyError: 'raw_data_path'\n"
     ]
    },
    {
     "name": "stdout",
     "output_type": "stream",
     "text": [
      "Saved image to: Z:\\data\\Undulator\\Y2024\\03-Mar\\24_0328\\analysis\\Scan137\\UC_VisaEBeam6_average_16bit.png\n",
      "set plunger: visa7\n"
     ]
    },
    {
     "name": "stderr",
     "output_type": "stream",
     "text": [
      "Exception in thread Thread-1959 (create_avg_image):\n",
      "Traceback (most recent call last):\n",
      "  File \"C:\\Users\\loasis.LOASIS\\AppData\\Local\\anaconda3\\envs\\Xopt-GEECS\\lib\\threading.py\", line 1016, in _bootstrap_inner\n",
      "    self.run()\n",
      "  File \"C:\\Users\\loasis.LOASIS\\AppData\\Local\\anaconda3\\envs\\Xopt-GEECS\\lib\\site-packages\\ipykernel\\ipkernel.py\", line 761, in run_closure\n",
      "    _threading_Thread_run(self)\n",
      "  File \"C:\\Users\\loasis.LOASIS\\AppData\\Local\\anaconda3\\envs\\Xopt-GEECS\\lib\\threading.py\", line 953, in run\n",
      "    self._target(*self._args, **self._kwargs)\n",
      "  File \"C:\\Users\\loasis.LOASIS\\AppData\\Local\\Temp\\ipykernel_1692\\1912629808.py\", line 138, in create_avg_image\n",
      "KeyError: 'raw_data_path'\n"
     ]
    },
    {
     "name": "stdout",
     "output_type": "stream",
     "text": [
      "Saved image to: Z:\\data\\Undulator\\Y2024\\03-Mar\\24_0328\\analysis\\Scan137\\UC_UndulatorRad2_Station6_average_16bit.png\n",
      "moved velmex to: 993.3\n",
      "successful scan\n"
     ]
    },
    {
     "name": "stderr",
     "output_type": "stream",
     "text": [
      "Exception in thread Thread-1978 (create_avg_image):\n",
      "Traceback (most recent call last):\n",
      "  File \"C:\\Users\\loasis.LOASIS\\AppData\\Local\\anaconda3\\envs\\Xopt-GEECS\\lib\\threading.py\", line 1016, in _bootstrap_inner\n",
      "    self.run()\n",
      "  File \"C:\\Users\\loasis.LOASIS\\AppData\\Local\\anaconda3\\envs\\Xopt-GEECS\\lib\\site-packages\\ipykernel\\ipkernel.py\", line 761, in run_closure\n",
      "    _threading_Thread_run(self)\n",
      "  File \"C:\\Users\\loasis.LOASIS\\AppData\\Local\\anaconda3\\envs\\Xopt-GEECS\\lib\\threading.py\", line 953, in run\n",
      "    self._target(*self._args, **self._kwargs)\n",
      "  File \"C:\\Users\\loasis.LOASIS\\AppData\\Local\\Temp\\ipykernel_1692\\1912629808.py\", line 138, in create_avg_image\n",
      "KeyError: 'raw_data_path'\n"
     ]
    },
    {
     "name": "stdout",
     "output_type": "stream",
     "text": [
      "Saved image to: Z:\\data\\Undulator\\Y2024\\03-Mar\\24_0328\\analysis\\Scan138\\UC_VisaEBeam7_average_16bit.png\n",
      "set plunger: visa8\n"
     ]
    },
    {
     "name": "stderr",
     "output_type": "stream",
     "text": [
      "Exception in thread Thread-1979 (create_avg_image):\n",
      "Traceback (most recent call last):\n",
      "  File \"C:\\Users\\loasis.LOASIS\\AppData\\Local\\anaconda3\\envs\\Xopt-GEECS\\lib\\threading.py\", line 1016, in _bootstrap_inner\n",
      "    self.run()\n",
      "  File \"C:\\Users\\loasis.LOASIS\\AppData\\Local\\anaconda3\\envs\\Xopt-GEECS\\lib\\site-packages\\ipykernel\\ipkernel.py\", line 761, in run_closure\n",
      "    _threading_Thread_run(self)\n",
      "  File \"C:\\Users\\loasis.LOASIS\\AppData\\Local\\anaconda3\\envs\\Xopt-GEECS\\lib\\threading.py\", line 953, in run\n",
      "    self._target(*self._args, **self._kwargs)\n",
      "  File \"C:\\Users\\loasis.LOASIS\\AppData\\Local\\Temp\\ipykernel_1692\\1912629808.py\", line 138, in create_avg_image\n",
      "KeyError: 'raw_data_path'\n"
     ]
    },
    {
     "name": "stdout",
     "output_type": "stream",
     "text": [
      "Saved image to: Z:\\data\\Undulator\\Y2024\\03-Mar\\24_0328\\analysis\\Scan138\\UC_UndulatorRad2_Station7_average_16bit.png\n",
      "moved velmex to: 506.5\n",
      "successful scan\n"
     ]
    },
    {
     "name": "stderr",
     "output_type": "stream",
     "text": [
      "Exception in thread Thread-1998 (create_avg_image):\n",
      "Traceback (most recent call last):\n",
      "  File \"C:\\Users\\loasis.LOASIS\\AppData\\Local\\anaconda3\\envs\\Xopt-GEECS\\lib\\threading.py\", line 1016, in _bootstrap_inner\n",
      "    self.run()\n",
      "  File \"C:\\Users\\loasis.LOASIS\\AppData\\Local\\anaconda3\\envs\\Xopt-GEECS\\lib\\site-packages\\ipykernel\\ipkernel.py\", line 761, in run_closure\n",
      "    _threading_Thread_run(self)\n",
      "  File \"C:\\Users\\loasis.LOASIS\\AppData\\Local\\anaconda3\\envs\\Xopt-GEECS\\lib\\threading.py\", line 953, in run\n",
      "    self._target(*self._args, **self._kwargs)\n",
      "  File \"C:\\Users\\loasis.LOASIS\\AppData\\Local\\Temp\\ipykernel_1692\\1912629808.py\", line 138, in create_avg_image\n",
      "KeyError: 'raw_data_path'\n"
     ]
    },
    {
     "name": "stdout",
     "output_type": "stream",
     "text": [
      "Saved image to: Z:\\data\\Undulator\\Y2024\\03-Mar\\24_0328\\analysis\\Scan139\\UC_VisaEBeam8_average_16bit.png\n",
      "set plunger: visa9\n"
     ]
    },
    {
     "name": "stderr",
     "output_type": "stream",
     "text": [
      "Exception in thread Thread-1999 (create_avg_image):\n",
      "Traceback (most recent call last):\n",
      "  File \"C:\\Users\\loasis.LOASIS\\AppData\\Local\\anaconda3\\envs\\Xopt-GEECS\\lib\\threading.py\", line 1016, in _bootstrap_inner\n",
      "    self.run()\n",
      "  File \"C:\\Users\\loasis.LOASIS\\AppData\\Local\\anaconda3\\envs\\Xopt-GEECS\\lib\\site-packages\\ipykernel\\ipkernel.py\", line 761, in run_closure\n",
      "    _threading_Thread_run(self)\n",
      "  File \"C:\\Users\\loasis.LOASIS\\AppData\\Local\\anaconda3\\envs\\Xopt-GEECS\\lib\\threading.py\", line 953, in run\n",
      "    self._target(*self._args, **self._kwargs)\n",
      "  File \"C:\\Users\\loasis.LOASIS\\AppData\\Local\\Temp\\ipykernel_1692\\1912629808.py\", line 138, in create_avg_image\n",
      "KeyError: 'raw_data_path'\n"
     ]
    },
    {
     "name": "stdout",
     "output_type": "stream",
     "text": [
      "Saved image to: Z:\\data\\Undulator\\Y2024\\03-Mar\\24_0328\\analysis\\Scan139\\UC_UndulatorRad2_Station8_average_16bit.png\n",
      "moved velmex to: 76.6\n",
      "successful scan\n"
     ]
    },
    {
     "name": "stderr",
     "output_type": "stream",
     "text": [
      "Exception in thread Thread-2018 (create_avg_image):\n",
      "Traceback (most recent call last):\n",
      "  File \"C:\\Users\\loasis.LOASIS\\AppData\\Local\\anaconda3\\envs\\Xopt-GEECS\\lib\\threading.py\", line 1016, in _bootstrap_inner\n",
      "    self.run()\n",
      "  File \"C:\\Users\\loasis.LOASIS\\AppData\\Local\\anaconda3\\envs\\Xopt-GEECS\\lib\\site-packages\\ipykernel\\ipkernel.py\", line 761, in run_closure\n",
      "    _threading_Thread_run(self)\n",
      "  File \"C:\\Users\\loasis.LOASIS\\AppData\\Local\\anaconda3\\envs\\Xopt-GEECS\\lib\\threading.py\", line 953, in run\n",
      "    self._target(*self._args, **self._kwargs)\n",
      "  File \"C:\\Users\\loasis.LOASIS\\AppData\\Local\\Temp\\ipykernel_1692\\1912629808.py\", line 138, in create_avg_image\n",
      "KeyError: 'raw_data_path'\n"
     ]
    },
    {
     "name": "stdout",
     "output_type": "stream",
     "text": [
      "Saved image to: Z:\\data\\Undulator\\Y2024\\03-Mar\\24_0328\\analysis\\Scan140\\UC_UndulatorRad2_Station9_average_16bit.png\n",
      "Custom action after step 2 current values: {'fresh': True, 'shot number': None, 'GEECS device error': False, 'Current': -1.99988}, {'fresh': True, 'shot number': None, 'GEECS device error': False, 'Current': -2e-05}\n",
      "set plunger: visa1\n",
      "moved velmex to: 3954\n",
      "successful scan\n"
     ]
    },
    {
     "name": "stderr",
     "output_type": "stream",
     "text": [
      "Exception in thread Thread-2039 (create_avg_image):\n",
      "Traceback (most recent call last):\n",
      "  File \"C:\\Users\\loasis.LOASIS\\AppData\\Local\\anaconda3\\envs\\Xopt-GEECS\\lib\\threading.py\", line 1016, in _bootstrap_inner\n",
      "    self.run()\n",
      "  File \"C:\\Users\\loasis.LOASIS\\AppData\\Local\\anaconda3\\envs\\Xopt-GEECS\\lib\\site-packages\\ipykernel\\ipkernel.py\", line 761, in run_closure\n",
      "    _threading_Thread_run(self)\n",
      "  File \"C:\\Users\\loasis.LOASIS\\AppData\\Local\\anaconda3\\envs\\Xopt-GEECS\\lib\\threading.py\", line 953, in run\n",
      "    self._target(*self._args, **self._kwargs)\n",
      "  File \"C:\\Users\\loasis.LOASIS\\AppData\\Local\\Temp\\ipykernel_1692\\1912629808.py\", line 138, in create_avg_image\n",
      "KeyError: 'raw_data_path'\n"
     ]
    },
    {
     "name": "stdout",
     "output_type": "stream",
     "text": [
      "Saved image to: Z:\\data\\Undulator\\Y2024\\03-Mar\\24_0328\\analysis\\Scan141\\UC_VisaEBeam1_average_16bit.png\n",
      "set plunger: visa2\n"
     ]
    },
    {
     "name": "stderr",
     "output_type": "stream",
     "text": [
      "Exception in thread Thread-2040 (create_avg_image):\n",
      "Traceback (most recent call last):\n",
      "  File \"C:\\Users\\loasis.LOASIS\\AppData\\Local\\anaconda3\\envs\\Xopt-GEECS\\lib\\threading.py\", line 1016, in _bootstrap_inner\n",
      "    self.run()\n",
      "  File \"C:\\Users\\loasis.LOASIS\\AppData\\Local\\anaconda3\\envs\\Xopt-GEECS\\lib\\site-packages\\ipykernel\\ipkernel.py\", line 761, in run_closure\n",
      "    _threading_Thread_run(self)\n",
      "  File \"C:\\Users\\loasis.LOASIS\\AppData\\Local\\anaconda3\\envs\\Xopt-GEECS\\lib\\threading.py\", line 953, in run\n",
      "    self._target(*self._args, **self._kwargs)\n",
      "  File \"C:\\Users\\loasis.LOASIS\\AppData\\Local\\Temp\\ipykernel_1692\\1912629808.py\", line 138, in create_avg_image\n",
      "KeyError: 'raw_data_path'\n"
     ]
    },
    {
     "name": "stdout",
     "output_type": "stream",
     "text": [
      "Saved image to: Z:\\data\\Undulator\\Y2024\\03-Mar\\24_0328\\analysis\\Scan141\\UC_UndulatorRad2_Station1_average_16bit.png\n",
      "moved velmex to: 3469.9\n",
      "successful scan\n"
     ]
    },
    {
     "name": "stderr",
     "output_type": "stream",
     "text": [
      "Exception in thread Thread-2059 (create_avg_image):\n",
      "Traceback (most recent call last):\n",
      "  File \"C:\\Users\\loasis.LOASIS\\AppData\\Local\\anaconda3\\envs\\Xopt-GEECS\\lib\\threading.py\", line 1016, in _bootstrap_inner\n",
      "    self.run()\n",
      "  File \"C:\\Users\\loasis.LOASIS\\AppData\\Local\\anaconda3\\envs\\Xopt-GEECS\\lib\\site-packages\\ipykernel\\ipkernel.py\", line 761, in run_closure\n",
      "    _threading_Thread_run(self)\n",
      "  File \"C:\\Users\\loasis.LOASIS\\AppData\\Local\\anaconda3\\envs\\Xopt-GEECS\\lib\\threading.py\", line 953, in run\n",
      "    self._target(*self._args, **self._kwargs)\n",
      "  File \"C:\\Users\\loasis.LOASIS\\AppData\\Local\\Temp\\ipykernel_1692\\1912629808.py\", line 138, in create_avg_image\n",
      "KeyError: 'raw_data_path'\n"
     ]
    },
    {
     "name": "stdout",
     "output_type": "stream",
     "text": [
      "Saved image to: Z:\\data\\Undulator\\Y2024\\03-Mar\\24_0328\\analysis\\Scan142\\UC_VisaEBeam2_average_16bit.png\n",
      "set plunger: visa3\n"
     ]
    },
    {
     "name": "stderr",
     "output_type": "stream",
     "text": [
      "Exception in thread Thread-2060 (create_avg_image):\n",
      "Traceback (most recent call last):\n",
      "  File \"C:\\Users\\loasis.LOASIS\\AppData\\Local\\anaconda3\\envs\\Xopt-GEECS\\lib\\threading.py\", line 1016, in _bootstrap_inner\n",
      "    self.run()\n",
      "  File \"C:\\Users\\loasis.LOASIS\\AppData\\Local\\anaconda3\\envs\\Xopt-GEECS\\lib\\site-packages\\ipykernel\\ipkernel.py\", line 761, in run_closure\n",
      "    _threading_Thread_run(self)\n",
      "  File \"C:\\Users\\loasis.LOASIS\\AppData\\Local\\anaconda3\\envs\\Xopt-GEECS\\lib\\threading.py\", line 953, in run\n",
      "    self._target(*self._args, **self._kwargs)\n",
      "  File \"C:\\Users\\loasis.LOASIS\\AppData\\Local\\Temp\\ipykernel_1692\\1912629808.py\", line 138, in create_avg_image\n",
      "KeyError: 'raw_data_path'\n"
     ]
    },
    {
     "name": "stdout",
     "output_type": "stream",
     "text": [
      "Saved image to: Z:\\data\\Undulator\\Y2024\\03-Mar\\24_0328\\analysis\\Scan142\\UC_UndulatorRad2_Station2_average_16bit.png\n",
      "moved velmex to: 2986.9\n",
      "successful scan\n"
     ]
    },
    {
     "name": "stderr",
     "output_type": "stream",
     "text": [
      "Exception in thread Thread-2079 (create_avg_image):\n",
      "Traceback (most recent call last):\n",
      "  File \"C:\\Users\\loasis.LOASIS\\AppData\\Local\\anaconda3\\envs\\Xopt-GEECS\\lib\\threading.py\", line 1016, in _bootstrap_inner\n",
      "    self.run()\n",
      "  File \"C:\\Users\\loasis.LOASIS\\AppData\\Local\\anaconda3\\envs\\Xopt-GEECS\\lib\\site-packages\\ipykernel\\ipkernel.py\", line 761, in run_closure\n",
      "    _threading_Thread_run(self)\n",
      "  File \"C:\\Users\\loasis.LOASIS\\AppData\\Local\\anaconda3\\envs\\Xopt-GEECS\\lib\\threading.py\", line 953, in run\n",
      "    self._target(*self._args, **self._kwargs)\n",
      "  File \"C:\\Users\\loasis.LOASIS\\AppData\\Local\\Temp\\ipykernel_1692\\1912629808.py\", line 138, in create_avg_image\n",
      "KeyError: 'raw_data_path'\n"
     ]
    },
    {
     "name": "stdout",
     "output_type": "stream",
     "text": [
      "Saved image to: Z:\\data\\Undulator\\Y2024\\03-Mar\\24_0328\\analysis\\Scan143\\UC_VisaEBeam3_average_16bit.png\n",
      "set plunger: visa4\n"
     ]
    },
    {
     "name": "stderr",
     "output_type": "stream",
     "text": [
      "Exception in thread Thread-2080 (create_avg_image):\n",
      "Traceback (most recent call last):\n",
      "  File \"C:\\Users\\loasis.LOASIS\\AppData\\Local\\anaconda3\\envs\\Xopt-GEECS\\lib\\threading.py\", line 1016, in _bootstrap_inner\n",
      "    self.run()\n",
      "  File \"C:\\Users\\loasis.LOASIS\\AppData\\Local\\anaconda3\\envs\\Xopt-GEECS\\lib\\site-packages\\ipykernel\\ipkernel.py\", line 761, in run_closure\n",
      "    _threading_Thread_run(self)\n",
      "  File \"C:\\Users\\loasis.LOASIS\\AppData\\Local\\anaconda3\\envs\\Xopt-GEECS\\lib\\threading.py\", line 953, in run\n",
      "    self._target(*self._args, **self._kwargs)\n",
      "  File \"C:\\Users\\loasis.LOASIS\\AppData\\Local\\Temp\\ipykernel_1692\\1912629808.py\", line 138, in create_avg_image\n",
      "KeyError: 'raw_data_path'\n"
     ]
    },
    {
     "name": "stdout",
     "output_type": "stream",
     "text": [
      "Saved image to: Z:\\data\\Undulator\\Y2024\\03-Mar\\24_0328\\analysis\\Scan143\\UC_UndulatorRad2_Station3_average_16bit.png\n",
      "moved velmex to: 2476.3\n",
      "successful scan\n"
     ]
    },
    {
     "name": "stderr",
     "output_type": "stream",
     "text": [
      "Exception in thread Thread-2099 (create_avg_image):\n",
      "Traceback (most recent call last):\n",
      "  File \"C:\\Users\\loasis.LOASIS\\AppData\\Local\\anaconda3\\envs\\Xopt-GEECS\\lib\\threading.py\", line 1016, in _bootstrap_inner\n",
      "    self.run()\n",
      "  File \"C:\\Users\\loasis.LOASIS\\AppData\\Local\\anaconda3\\envs\\Xopt-GEECS\\lib\\site-packages\\ipykernel\\ipkernel.py\", line 761, in run_closure\n",
      "    _threading_Thread_run(self)\n",
      "  File \"C:\\Users\\loasis.LOASIS\\AppData\\Local\\anaconda3\\envs\\Xopt-GEECS\\lib\\threading.py\", line 953, in run\n",
      "    self._target(*self._args, **self._kwargs)\n",
      "  File \"C:\\Users\\loasis.LOASIS\\AppData\\Local\\Temp\\ipykernel_1692\\1912629808.py\", line 138, in create_avg_image\n",
      "KeyError: 'raw_data_path'\n"
     ]
    },
    {
     "name": "stdout",
     "output_type": "stream",
     "text": [
      "Saved image to: Z:\\data\\Undulator\\Y2024\\03-Mar\\24_0328\\analysis\\Scan144\\UC_VisaEBeam4_average_16bit.png\n",
      "set plunger: visa5\n"
     ]
    },
    {
     "name": "stderr",
     "output_type": "stream",
     "text": [
      "Exception in thread Thread-2100 (create_avg_image):\n",
      "Traceback (most recent call last):\n",
      "  File \"C:\\Users\\loasis.LOASIS\\AppData\\Local\\anaconda3\\envs\\Xopt-GEECS\\lib\\threading.py\", line 1016, in _bootstrap_inner\n",
      "    self.run()\n",
      "  File \"C:\\Users\\loasis.LOASIS\\AppData\\Local\\anaconda3\\envs\\Xopt-GEECS\\lib\\site-packages\\ipykernel\\ipkernel.py\", line 761, in run_closure\n",
      "    _threading_Thread_run(self)\n",
      "  File \"C:\\Users\\loasis.LOASIS\\AppData\\Local\\anaconda3\\envs\\Xopt-GEECS\\lib\\threading.py\", line 953, in run\n",
      "    self._target(*self._args, **self._kwargs)\n",
      "  File \"C:\\Users\\loasis.LOASIS\\AppData\\Local\\Temp\\ipykernel_1692\\1912629808.py\", line 138, in create_avg_image\n",
      "KeyError: 'raw_data_path'\n"
     ]
    },
    {
     "name": "stdout",
     "output_type": "stream",
     "text": [
      "Saved image to: Z:\\data\\Undulator\\Y2024\\03-Mar\\24_0328\\analysis\\Scan144\\UC_UndulatorRad2_Station4_average_16bit.png\n",
      "moved velmex to: 1991.2\n",
      "successful scan\n"
     ]
    },
    {
     "name": "stderr",
     "output_type": "stream",
     "text": [
      "Exception in thread Thread-2119 (create_avg_image):\n",
      "Traceback (most recent call last):\n",
      "  File \"C:\\Users\\loasis.LOASIS\\AppData\\Local\\anaconda3\\envs\\Xopt-GEECS\\lib\\threading.py\", line 1016, in _bootstrap_inner\n",
      "    self.run()\n",
      "  File \"C:\\Users\\loasis.LOASIS\\AppData\\Local\\anaconda3\\envs\\Xopt-GEECS\\lib\\site-packages\\ipykernel\\ipkernel.py\", line 761, in run_closure\n",
      "    _threading_Thread_run(self)\n",
      "  File \"C:\\Users\\loasis.LOASIS\\AppData\\Local\\anaconda3\\envs\\Xopt-GEECS\\lib\\threading.py\", line 953, in run\n",
      "    self._target(*self._args, **self._kwargs)\n",
      "  File \"C:\\Users\\loasis.LOASIS\\AppData\\Local\\Temp\\ipykernel_1692\\1912629808.py\", line 138, in create_avg_image\n",
      "KeyError: 'raw_data_path'\n"
     ]
    },
    {
     "name": "stdout",
     "output_type": "stream",
     "text": [
      "Saved image to: Z:\\data\\Undulator\\Y2024\\03-Mar\\24_0328\\analysis\\Scan145\\UC_VisaEBeam5_average_16bit.png\n",
      "set plunger: visa6\n"
     ]
    },
    {
     "name": "stderr",
     "output_type": "stream",
     "text": [
      "Exception in thread Thread-2120 (create_avg_image):\n",
      "Traceback (most recent call last):\n",
      "  File \"C:\\Users\\loasis.LOASIS\\AppData\\Local\\anaconda3\\envs\\Xopt-GEECS\\lib\\threading.py\", line 1016, in _bootstrap_inner\n",
      "    self.run()\n",
      "  File \"C:\\Users\\loasis.LOASIS\\AppData\\Local\\anaconda3\\envs\\Xopt-GEECS\\lib\\site-packages\\ipykernel\\ipkernel.py\", line 761, in run_closure\n",
      "    _threading_Thread_run(self)\n",
      "  File \"C:\\Users\\loasis.LOASIS\\AppData\\Local\\anaconda3\\envs\\Xopt-GEECS\\lib\\threading.py\", line 953, in run\n",
      "    self._target(*self._args, **self._kwargs)\n",
      "  File \"C:\\Users\\loasis.LOASIS\\AppData\\Local\\Temp\\ipykernel_1692\\1912629808.py\", line 138, in create_avg_image\n",
      "KeyError: 'raw_data_path'\n"
     ]
    },
    {
     "name": "stdout",
     "output_type": "stream",
     "text": [
      "Saved image to: Z:\\data\\Undulator\\Y2024\\03-Mar\\24_0328\\analysis\\Scan145\\UC_UndulatorRad2_Station5_average_16bit.png\n",
      "moved velmex to: 1498.4\n",
      "successful scan\n"
     ]
    },
    {
     "name": "stderr",
     "output_type": "stream",
     "text": [
      "Exception in thread Thread-2139 (create_avg_image):\n",
      "Traceback (most recent call last):\n",
      "  File \"C:\\Users\\loasis.LOASIS\\AppData\\Local\\anaconda3\\envs\\Xopt-GEECS\\lib\\threading.py\", line 1016, in _bootstrap_inner\n",
      "    self.run()\n",
      "  File \"C:\\Users\\loasis.LOASIS\\AppData\\Local\\anaconda3\\envs\\Xopt-GEECS\\lib\\site-packages\\ipykernel\\ipkernel.py\", line 761, in run_closure\n",
      "    _threading_Thread_run(self)\n",
      "  File \"C:\\Users\\loasis.LOASIS\\AppData\\Local\\anaconda3\\envs\\Xopt-GEECS\\lib\\threading.py\", line 953, in run\n",
      "    self._target(*self._args, **self._kwargs)\n",
      "  File \"C:\\Users\\loasis.LOASIS\\AppData\\Local\\Temp\\ipykernel_1692\\1912629808.py\", line 138, in create_avg_image\n",
      "KeyError: 'raw_data_path'\n"
     ]
    },
    {
     "name": "stdout",
     "output_type": "stream",
     "text": [
      "Saved image to: Z:\\data\\Undulator\\Y2024\\03-Mar\\24_0328\\analysis\\Scan146\\UC_VisaEBeam6_average_16bit.png\n",
      "set plunger: visa7\n"
     ]
    },
    {
     "name": "stderr",
     "output_type": "stream",
     "text": [
      "Exception in thread Thread-2140 (create_avg_image):\n",
      "Traceback (most recent call last):\n",
      "  File \"C:\\Users\\loasis.LOASIS\\AppData\\Local\\anaconda3\\envs\\Xopt-GEECS\\lib\\threading.py\", line 1016, in _bootstrap_inner\n",
      "    self.run()\n",
      "  File \"C:\\Users\\loasis.LOASIS\\AppData\\Local\\anaconda3\\envs\\Xopt-GEECS\\lib\\site-packages\\ipykernel\\ipkernel.py\", line 761, in run_closure\n",
      "    _threading_Thread_run(self)\n",
      "  File \"C:\\Users\\loasis.LOASIS\\AppData\\Local\\anaconda3\\envs\\Xopt-GEECS\\lib\\threading.py\", line 953, in run\n",
      "    self._target(*self._args, **self._kwargs)\n",
      "  File \"C:\\Users\\loasis.LOASIS\\AppData\\Local\\Temp\\ipykernel_1692\\1912629808.py\", line 138, in create_avg_image\n",
      "KeyError: 'raw_data_path'\n"
     ]
    },
    {
     "name": "stdout",
     "output_type": "stream",
     "text": [
      "Saved image to: Z:\\data\\Undulator\\Y2024\\03-Mar\\24_0328\\analysis\\Scan146\\UC_UndulatorRad2_Station6_average_16bit.png\n",
      "moved velmex to: 993.3\n",
      "successful scan\n"
     ]
    },
    {
     "name": "stderr",
     "output_type": "stream",
     "text": [
      "Exception in thread Thread-2159 (create_avg_image):\n",
      "Traceback (most recent call last):\n",
      "  File \"C:\\Users\\loasis.LOASIS\\AppData\\Local\\anaconda3\\envs\\Xopt-GEECS\\lib\\threading.py\", line 1016, in _bootstrap_inner\n",
      "    self.run()\n",
      "  File \"C:\\Users\\loasis.LOASIS\\AppData\\Local\\anaconda3\\envs\\Xopt-GEECS\\lib\\site-packages\\ipykernel\\ipkernel.py\", line 761, in run_closure\n",
      "    _threading_Thread_run(self)\n",
      "  File \"C:\\Users\\loasis.LOASIS\\AppData\\Local\\anaconda3\\envs\\Xopt-GEECS\\lib\\threading.py\", line 953, in run\n",
      "    self._target(*self._args, **self._kwargs)\n",
      "  File \"C:\\Users\\loasis.LOASIS\\AppData\\Local\\Temp\\ipykernel_1692\\1912629808.py\", line 138, in create_avg_image\n",
      "KeyError: 'raw_data_path'\n"
     ]
    },
    {
     "name": "stdout",
     "output_type": "stream",
     "text": [
      "Saved image to: Z:\\data\\Undulator\\Y2024\\03-Mar\\24_0328\\analysis\\Scan147\\UC_VisaEBeam7_average_16bit.png\n",
      "set plunger: visa8\n"
     ]
    },
    {
     "name": "stderr",
     "output_type": "stream",
     "text": [
      "Exception in thread Thread-2160 (create_avg_image):\n",
      "Traceback (most recent call last):\n",
      "  File \"C:\\Users\\loasis.LOASIS\\AppData\\Local\\anaconda3\\envs\\Xopt-GEECS\\lib\\threading.py\", line 1016, in _bootstrap_inner\n",
      "    self.run()\n",
      "  File \"C:\\Users\\loasis.LOASIS\\AppData\\Local\\anaconda3\\envs\\Xopt-GEECS\\lib\\site-packages\\ipykernel\\ipkernel.py\", line 761, in run_closure\n",
      "    _threading_Thread_run(self)\n",
      "  File \"C:\\Users\\loasis.LOASIS\\AppData\\Local\\anaconda3\\envs\\Xopt-GEECS\\lib\\threading.py\", line 953, in run\n",
      "    self._target(*self._args, **self._kwargs)\n",
      "  File \"C:\\Users\\loasis.LOASIS\\AppData\\Local\\Temp\\ipykernel_1692\\1912629808.py\", line 138, in create_avg_image\n",
      "KeyError: 'raw_data_path'\n"
     ]
    },
    {
     "name": "stdout",
     "output_type": "stream",
     "text": [
      "Saved image to: Z:\\data\\Undulator\\Y2024\\03-Mar\\24_0328\\analysis\\Scan147\\UC_UndulatorRad2_Station7_average_16bit.png\n",
      "moved velmex to: 506.5\n",
      "successful scan\n"
     ]
    },
    {
     "name": "stderr",
     "output_type": "stream",
     "text": [
      "Exception in thread Thread-2179 (create_avg_image):\n",
      "Traceback (most recent call last):\n",
      "  File \"C:\\Users\\loasis.LOASIS\\AppData\\Local\\anaconda3\\envs\\Xopt-GEECS\\lib\\threading.py\", line 1016, in _bootstrap_inner\n",
      "    self.run()\n",
      "  File \"C:\\Users\\loasis.LOASIS\\AppData\\Local\\anaconda3\\envs\\Xopt-GEECS\\lib\\site-packages\\ipykernel\\ipkernel.py\", line 761, in run_closure\n",
      "    _threading_Thread_run(self)\n",
      "  File \"C:\\Users\\loasis.LOASIS\\AppData\\Local\\anaconda3\\envs\\Xopt-GEECS\\lib\\threading.py\", line 953, in run\n",
      "    self._target(*self._args, **self._kwargs)\n",
      "  File \"C:\\Users\\loasis.LOASIS\\AppData\\Local\\Temp\\ipykernel_1692\\1912629808.py\", line 138, in create_avg_image\n",
      "KeyError: 'raw_data_path'\n"
     ]
    },
    {
     "name": "stdout",
     "output_type": "stream",
     "text": [
      "Saved image to: Z:\\data\\Undulator\\Y2024\\03-Mar\\24_0328\\analysis\\Scan148\\UC_VisaEBeam8_average_16bit.png\n"
     ]
    },
    {
     "name": "stderr",
     "output_type": "stream",
     "text": [
      "Exception in thread Thread-2180 (create_avg_image):\n",
      "Traceback (most recent call last):\n",
      "  File \"C:\\Users\\loasis.LOASIS\\AppData\\Local\\anaconda3\\envs\\Xopt-GEECS\\lib\\threading.py\", line 1016, in _bootstrap_inner\n",
      "    self.run()\n",
      "  File \"C:\\Users\\loasis.LOASIS\\AppData\\Local\\anaconda3\\envs\\Xopt-GEECS\\lib\\site-packages\\ipykernel\\ipkernel.py\", line 761, in run_closure\n",
      "    _threading_Thread_run(self)\n",
      "  File \"C:\\Users\\loasis.LOASIS\\AppData\\Local\\anaconda3\\envs\\Xopt-GEECS\\lib\\threading.py\", line 953, in run\n",
      "    self._target(*self._args, **self._kwargs)\n",
      "  File \"C:\\Users\\loasis.LOASIS\\AppData\\Local\\Temp\\ipykernel_1692\\1912629808.py\", line 138, in create_avg_image\n",
      "KeyError: 'raw_data_path'\n"
     ]
    },
    {
     "name": "stdout",
     "output_type": "stream",
     "text": [
      "set plunger: visa9\n",
      "Saved image to: Z:\\data\\Undulator\\Y2024\\03-Mar\\24_0328\\analysis\\Scan148\\UC_UndulatorRad2_Station8_average_16bit.png\n",
      "moved velmex to: 76.6\n",
      "successful scan\n"
     ]
    },
    {
     "name": "stderr",
     "output_type": "stream",
     "text": [
      "Exception in thread Thread-2199 (create_avg_image):\n",
      "Traceback (most recent call last):\n",
      "  File \"C:\\Users\\loasis.LOASIS\\AppData\\Local\\anaconda3\\envs\\Xopt-GEECS\\lib\\threading.py\", line 1016, in _bootstrap_inner\n",
      "    self.run()\n",
      "  File \"C:\\Users\\loasis.LOASIS\\AppData\\Local\\anaconda3\\envs\\Xopt-GEECS\\lib\\site-packages\\ipykernel\\ipkernel.py\", line 761, in run_closure\n",
      "    _threading_Thread_run(self)\n",
      "  File \"C:\\Users\\loasis.LOASIS\\AppData\\Local\\anaconda3\\envs\\Xopt-GEECS\\lib\\threading.py\", line 953, in run\n",
      "    self._target(*self._args, **self._kwargs)\n",
      "  File \"C:\\Users\\loasis.LOASIS\\AppData\\Local\\Temp\\ipykernel_1692\\1912629808.py\", line 138, in create_avg_image\n",
      "KeyError: 'raw_data_path'\n"
     ]
    },
    {
     "name": "stdout",
     "output_type": "stream",
     "text": [
      "Saved image to: Z:\\data\\Undulator\\Y2024\\03-Mar\\24_0328\\analysis\\Scan149\\UC_UndulatorRad2_Station9_average_16bit.png\n",
      "Custom action after step 3 current values: {'fresh': True, 'shot number': None, 'GEECS device error': False, 'Current': -1.89988}, {'fresh': True, 'shot number': None, 'GEECS device error': False, 'Current': -0.10002}\n",
      "set plunger: visa1\n",
      "moved velmex to: 3954\n",
      "successful scan\n"
     ]
    },
    {
     "name": "stderr",
     "output_type": "stream",
     "text": [
      "Exception in thread Thread-2220 (create_avg_image):\n",
      "Traceback (most recent call last):\n",
      "  File \"C:\\Users\\loasis.LOASIS\\AppData\\Local\\anaconda3\\envs\\Xopt-GEECS\\lib\\threading.py\", line 1016, in _bootstrap_inner\n",
      "    self.run()\n",
      "  File \"C:\\Users\\loasis.LOASIS\\AppData\\Local\\anaconda3\\envs\\Xopt-GEECS\\lib\\site-packages\\ipykernel\\ipkernel.py\", line 761, in run_closure\n",
      "    _threading_Thread_run(self)\n",
      "  File \"C:\\Users\\loasis.LOASIS\\AppData\\Local\\anaconda3\\envs\\Xopt-GEECS\\lib\\threading.py\", line 953, in run\n",
      "    self._target(*self._args, **self._kwargs)\n",
      "  File \"C:\\Users\\loasis.LOASIS\\AppData\\Local\\Temp\\ipykernel_1692\\1912629808.py\", line 138, in create_avg_image\n",
      "KeyError: 'raw_data_path'\n"
     ]
    },
    {
     "name": "stdout",
     "output_type": "stream",
     "text": [
      "Saved image to: Z:\\data\\Undulator\\Y2024\\03-Mar\\24_0328\\analysis\\Scan150\\UC_VisaEBeam1_average_16bit.png\n",
      "set plunger: visa2\n"
     ]
    },
    {
     "name": "stderr",
     "output_type": "stream",
     "text": [
      "Exception in thread Thread-2221 (create_avg_image):\n",
      "Traceback (most recent call last):\n",
      "  File \"C:\\Users\\loasis.LOASIS\\AppData\\Local\\anaconda3\\envs\\Xopt-GEECS\\lib\\threading.py\", line 1016, in _bootstrap_inner\n",
      "    self.run()\n",
      "  File \"C:\\Users\\loasis.LOASIS\\AppData\\Local\\anaconda3\\envs\\Xopt-GEECS\\lib\\site-packages\\ipykernel\\ipkernel.py\", line 761, in run_closure\n",
      "    _threading_Thread_run(self)\n",
      "  File \"C:\\Users\\loasis.LOASIS\\AppData\\Local\\anaconda3\\envs\\Xopt-GEECS\\lib\\threading.py\", line 953, in run\n",
      "    self._target(*self._args, **self._kwargs)\n",
      "  File \"C:\\Users\\loasis.LOASIS\\AppData\\Local\\Temp\\ipykernel_1692\\1912629808.py\", line 138, in create_avg_image\n",
      "KeyError: 'raw_data_path'\n"
     ]
    },
    {
     "name": "stdout",
     "output_type": "stream",
     "text": [
      "Saved image to: Z:\\data\\Undulator\\Y2024\\03-Mar\\24_0328\\analysis\\Scan150\\UC_UndulatorRad2_Station1_average_16bit.png\n",
      "moved velmex to: 3469.9\n",
      "successful scan\n"
     ]
    },
    {
     "name": "stderr",
     "output_type": "stream",
     "text": [
      "Exception in thread Thread-2240 (create_avg_image):\n",
      "Traceback (most recent call last):\n",
      "  File \"C:\\Users\\loasis.LOASIS\\AppData\\Local\\anaconda3\\envs\\Xopt-GEECS\\lib\\threading.py\", line 1016, in _bootstrap_inner\n",
      "    self.run()\n",
      "  File \"C:\\Users\\loasis.LOASIS\\AppData\\Local\\anaconda3\\envs\\Xopt-GEECS\\lib\\site-packages\\ipykernel\\ipkernel.py\", line 761, in run_closure\n",
      "    _threading_Thread_run(self)\n",
      "  File \"C:\\Users\\loasis.LOASIS\\AppData\\Local\\anaconda3\\envs\\Xopt-GEECS\\lib\\threading.py\", line 953, in run\n",
      "    self._target(*self._args, **self._kwargs)\n",
      "  File \"C:\\Users\\loasis.LOASIS\\AppData\\Local\\Temp\\ipykernel_1692\\1912629808.py\", line 138, in create_avg_image\n",
      "KeyError: 'raw_data_path'\n"
     ]
    },
    {
     "name": "stdout",
     "output_type": "stream",
     "text": [
      "Saved image to: Z:\\data\\Undulator\\Y2024\\03-Mar\\24_0328\\analysis\\Scan151\\UC_VisaEBeam2_average_16bit.png\n",
      "set plunger: visa3\n"
     ]
    },
    {
     "name": "stderr",
     "output_type": "stream",
     "text": [
      "Exception in thread Thread-2241 (create_avg_image):\n",
      "Traceback (most recent call last):\n",
      "  File \"C:\\Users\\loasis.LOASIS\\AppData\\Local\\anaconda3\\envs\\Xopt-GEECS\\lib\\threading.py\", line 1016, in _bootstrap_inner\n",
      "    self.run()\n",
      "  File \"C:\\Users\\loasis.LOASIS\\AppData\\Local\\anaconda3\\envs\\Xopt-GEECS\\lib\\site-packages\\ipykernel\\ipkernel.py\", line 761, in run_closure\n",
      "    _threading_Thread_run(self)\n",
      "  File \"C:\\Users\\loasis.LOASIS\\AppData\\Local\\anaconda3\\envs\\Xopt-GEECS\\lib\\threading.py\", line 953, in run\n",
      "    self._target(*self._args, **self._kwargs)\n",
      "  File \"C:\\Users\\loasis.LOASIS\\AppData\\Local\\Temp\\ipykernel_1692\\1912629808.py\", line 138, in create_avg_image\n",
      "KeyError: 'raw_data_path'\n"
     ]
    },
    {
     "name": "stdout",
     "output_type": "stream",
     "text": [
      "Saved image to: Z:\\data\\Undulator\\Y2024\\03-Mar\\24_0328\\analysis\\Scan151\\UC_UndulatorRad2_Station2_average_16bit.png\n",
      "moved velmex to: 2986.9\n",
      "successful scan\n"
     ]
    },
    {
     "name": "stderr",
     "output_type": "stream",
     "text": [
      "Exception in thread Thread-2260 (create_avg_image):\n",
      "Traceback (most recent call last):\n",
      "  File \"C:\\Users\\loasis.LOASIS\\AppData\\Local\\anaconda3\\envs\\Xopt-GEECS\\lib\\threading.py\", line 1016, in _bootstrap_inner\n",
      "    self.run()\n",
      "  File \"C:\\Users\\loasis.LOASIS\\AppData\\Local\\anaconda3\\envs\\Xopt-GEECS\\lib\\site-packages\\ipykernel\\ipkernel.py\", line 761, in run_closure\n",
      "    _threading_Thread_run(self)\n",
      "  File \"C:\\Users\\loasis.LOASIS\\AppData\\Local\\anaconda3\\envs\\Xopt-GEECS\\lib\\threading.py\", line 953, in run\n",
      "    self._target(*self._args, **self._kwargs)\n",
      "  File \"C:\\Users\\loasis.LOASIS\\AppData\\Local\\Temp\\ipykernel_1692\\1912629808.py\", line 138, in create_avg_image\n",
      "KeyError: 'raw_data_path'\n"
     ]
    },
    {
     "name": "stdout",
     "output_type": "stream",
     "text": [
      "Saved image to: Z:\\data\\Undulator\\Y2024\\03-Mar\\24_0328\\analysis\\Scan152\\UC_VisaEBeam3_average_16bit.png\n",
      "set plunger: visa4\n"
     ]
    },
    {
     "name": "stderr",
     "output_type": "stream",
     "text": [
      "Exception in thread Thread-2261 (create_avg_image):\n",
      "Traceback (most recent call last):\n",
      "  File \"C:\\Users\\loasis.LOASIS\\AppData\\Local\\anaconda3\\envs\\Xopt-GEECS\\lib\\threading.py\", line 1016, in _bootstrap_inner\n",
      "    self.run()\n",
      "  File \"C:\\Users\\loasis.LOASIS\\AppData\\Local\\anaconda3\\envs\\Xopt-GEECS\\lib\\site-packages\\ipykernel\\ipkernel.py\", line 761, in run_closure\n",
      "    _threading_Thread_run(self)\n",
      "  File \"C:\\Users\\loasis.LOASIS\\AppData\\Local\\anaconda3\\envs\\Xopt-GEECS\\lib\\threading.py\", line 953, in run\n",
      "    self._target(*self._args, **self._kwargs)\n",
      "  File \"C:\\Users\\loasis.LOASIS\\AppData\\Local\\Temp\\ipykernel_1692\\1912629808.py\", line 138, in create_avg_image\n",
      "KeyError: 'raw_data_path'\n"
     ]
    },
    {
     "name": "stdout",
     "output_type": "stream",
     "text": [
      "Saved image to: Z:\\data\\Undulator\\Y2024\\03-Mar\\24_0328\\analysis\\Scan152\\UC_UndulatorRad2_Station3_average_16bit.png\n",
      "moved velmex to: 2476.3\n",
      "successful scan\n"
     ]
    },
    {
     "name": "stderr",
     "output_type": "stream",
     "text": [
      "Exception in thread Thread-2280 (create_avg_image):\n",
      "Traceback (most recent call last):\n",
      "  File \"C:\\Users\\loasis.LOASIS\\AppData\\Local\\anaconda3\\envs\\Xopt-GEECS\\lib\\threading.py\", line 1016, in _bootstrap_inner\n",
      "    self.run()\n",
      "  File \"C:\\Users\\loasis.LOASIS\\AppData\\Local\\anaconda3\\envs\\Xopt-GEECS\\lib\\site-packages\\ipykernel\\ipkernel.py\", line 761, in run_closure\n",
      "    _threading_Thread_run(self)\n",
      "  File \"C:\\Users\\loasis.LOASIS\\AppData\\Local\\anaconda3\\envs\\Xopt-GEECS\\lib\\threading.py\", line 953, in run\n",
      "    self._target(*self._args, **self._kwargs)\n",
      "  File \"C:\\Users\\loasis.LOASIS\\AppData\\Local\\Temp\\ipykernel_1692\\1912629808.py\", line 138, in create_avg_image\n",
      "KeyError: 'raw_data_path'\n"
     ]
    },
    {
     "name": "stdout",
     "output_type": "stream",
     "text": [
      "Saved image to: Z:\\data\\Undulator\\Y2024\\03-Mar\\24_0328\\analysis\\Scan153\\UC_VisaEBeam4_average_16bit.png\n",
      "set plunger: visa5\n"
     ]
    },
    {
     "name": "stderr",
     "output_type": "stream",
     "text": [
      "Exception in thread Thread-2281 (create_avg_image):\n",
      "Traceback (most recent call last):\n",
      "  File \"C:\\Users\\loasis.LOASIS\\AppData\\Local\\anaconda3\\envs\\Xopt-GEECS\\lib\\threading.py\", line 1016, in _bootstrap_inner\n",
      "    self.run()\n",
      "  File \"C:\\Users\\loasis.LOASIS\\AppData\\Local\\anaconda3\\envs\\Xopt-GEECS\\lib\\site-packages\\ipykernel\\ipkernel.py\", line 761, in run_closure\n",
      "    _threading_Thread_run(self)\n",
      "  File \"C:\\Users\\loasis.LOASIS\\AppData\\Local\\anaconda3\\envs\\Xopt-GEECS\\lib\\threading.py\", line 953, in run\n",
      "    self._target(*self._args, **self._kwargs)\n",
      "  File \"C:\\Users\\loasis.LOASIS\\AppData\\Local\\Temp\\ipykernel_1692\\1912629808.py\", line 138, in create_avg_image\n",
      "KeyError: 'raw_data_path'\n"
     ]
    },
    {
     "name": "stdout",
     "output_type": "stream",
     "text": [
      "Saved image to: Z:\\data\\Undulator\\Y2024\\03-Mar\\24_0328\\analysis\\Scan153\\UC_UndulatorRad2_Station4_average_16bit.png\n",
      "moved velmex to: 1991.2\n",
      "successful scan\n"
     ]
    },
    {
     "name": "stderr",
     "output_type": "stream",
     "text": [
      "Exception in thread Thread-2300 (create_avg_image):\n",
      "Traceback (most recent call last):\n",
      "  File \"C:\\Users\\loasis.LOASIS\\AppData\\Local\\anaconda3\\envs\\Xopt-GEECS\\lib\\threading.py\", line 1016, in _bootstrap_inner\n",
      "    self.run()\n",
      "  File \"C:\\Users\\loasis.LOASIS\\AppData\\Local\\anaconda3\\envs\\Xopt-GEECS\\lib\\site-packages\\ipykernel\\ipkernel.py\", line 761, in run_closure\n",
      "    _threading_Thread_run(self)\n",
      "  File \"C:\\Users\\loasis.LOASIS\\AppData\\Local\\anaconda3\\envs\\Xopt-GEECS\\lib\\threading.py\", line 953, in run\n",
      "    self._target(*self._args, **self._kwargs)\n",
      "  File \"C:\\Users\\loasis.LOASIS\\AppData\\Local\\Temp\\ipykernel_1692\\1912629808.py\", line 138, in create_avg_image\n",
      "KeyError: 'raw_data_path'\n"
     ]
    },
    {
     "name": "stdout",
     "output_type": "stream",
     "text": [
      "Saved image to: Z:\\data\\Undulator\\Y2024\\03-Mar\\24_0328\\analysis\\Scan154\\UC_VisaEBeam5_average_16bit.png\n",
      "set plunger: visa6\n"
     ]
    },
    {
     "name": "stderr",
     "output_type": "stream",
     "text": [
      "Exception in thread Thread-2301 (create_avg_image):\n",
      "Traceback (most recent call last):\n",
      "  File \"C:\\Users\\loasis.LOASIS\\AppData\\Local\\anaconda3\\envs\\Xopt-GEECS\\lib\\threading.py\", line 1016, in _bootstrap_inner\n",
      "    self.run()\n",
      "  File \"C:\\Users\\loasis.LOASIS\\AppData\\Local\\anaconda3\\envs\\Xopt-GEECS\\lib\\site-packages\\ipykernel\\ipkernel.py\", line 761, in run_closure\n",
      "    _threading_Thread_run(self)\n",
      "  File \"C:\\Users\\loasis.LOASIS\\AppData\\Local\\anaconda3\\envs\\Xopt-GEECS\\lib\\threading.py\", line 953, in run\n",
      "    self._target(*self._args, **self._kwargs)\n",
      "  File \"C:\\Users\\loasis.LOASIS\\AppData\\Local\\Temp\\ipykernel_1692\\1912629808.py\", line 138, in create_avg_image\n",
      "KeyError: 'raw_data_path'\n"
     ]
    },
    {
     "name": "stdout",
     "output_type": "stream",
     "text": [
      "Saved image to: Z:\\data\\Undulator\\Y2024\\03-Mar\\24_0328\\analysis\\Scan154\\UC_UndulatorRad2_Station5_average_16bit.png\n",
      "moved velmex to: 1498.4\n",
      "successful scan\n"
     ]
    },
    {
     "name": "stderr",
     "output_type": "stream",
     "text": [
      "Exception in thread Thread-2320 (create_avg_image):\n",
      "Traceback (most recent call last):\n",
      "  File \"C:\\Users\\loasis.LOASIS\\AppData\\Local\\anaconda3\\envs\\Xopt-GEECS\\lib\\threading.py\", line 1016, in _bootstrap_inner\n",
      "    self.run()\n",
      "  File \"C:\\Users\\loasis.LOASIS\\AppData\\Local\\anaconda3\\envs\\Xopt-GEECS\\lib\\site-packages\\ipykernel\\ipkernel.py\", line 761, in run_closure\n",
      "    _threading_Thread_run(self)\n",
      "  File \"C:\\Users\\loasis.LOASIS\\AppData\\Local\\anaconda3\\envs\\Xopt-GEECS\\lib\\threading.py\", line 953, in run\n",
      "    self._target(*self._args, **self._kwargs)\n",
      "  File \"C:\\Users\\loasis.LOASIS\\AppData\\Local\\Temp\\ipykernel_1692\\1912629808.py\", line 138, in create_avg_image\n",
      "KeyError: 'raw_data_path'\n"
     ]
    },
    {
     "name": "stdout",
     "output_type": "stream",
     "text": [
      "Saved image to: Z:\\data\\Undulator\\Y2024\\03-Mar\\24_0328\\analysis\\Scan155\\UC_VisaEBeam6_average_16bit.png\n",
      "set plunger: visa7\n"
     ]
    },
    {
     "name": "stderr",
     "output_type": "stream",
     "text": [
      "Exception in thread Thread-2321 (create_avg_image):\n",
      "Traceback (most recent call last):\n",
      "  File \"C:\\Users\\loasis.LOASIS\\AppData\\Local\\anaconda3\\envs\\Xopt-GEECS\\lib\\threading.py\", line 1016, in _bootstrap_inner\n",
      "    self.run()\n",
      "  File \"C:\\Users\\loasis.LOASIS\\AppData\\Local\\anaconda3\\envs\\Xopt-GEECS\\lib\\site-packages\\ipykernel\\ipkernel.py\", line 761, in run_closure\n",
      "    _threading_Thread_run(self)\n",
      "  File \"C:\\Users\\loasis.LOASIS\\AppData\\Local\\anaconda3\\envs\\Xopt-GEECS\\lib\\threading.py\", line 953, in run\n",
      "    self._target(*self._args, **self._kwargs)\n",
      "  File \"C:\\Users\\loasis.LOASIS\\AppData\\Local\\Temp\\ipykernel_1692\\1912629808.py\", line 138, in create_avg_image\n",
      "KeyError: 'raw_data_path'\n"
     ]
    },
    {
     "name": "stdout",
     "output_type": "stream",
     "text": [
      "Saved image to: Z:\\data\\Undulator\\Y2024\\03-Mar\\24_0328\\analysis\\Scan155\\UC_UndulatorRad2_Station6_average_16bit.png\n",
      "moved velmex to: 993.3\n",
      "successful scan\n"
     ]
    },
    {
     "name": "stderr",
     "output_type": "stream",
     "text": [
      "Exception in thread Thread-2340 (create_avg_image):\n",
      "Traceback (most recent call last):\n",
      "  File \"C:\\Users\\loasis.LOASIS\\AppData\\Local\\anaconda3\\envs\\Xopt-GEECS\\lib\\threading.py\", line 1016, in _bootstrap_inner\n",
      "    self.run()\n",
      "  File \"C:\\Users\\loasis.LOASIS\\AppData\\Local\\anaconda3\\envs\\Xopt-GEECS\\lib\\site-packages\\ipykernel\\ipkernel.py\", line 761, in run_closure\n",
      "    _threading_Thread_run(self)\n",
      "  File \"C:\\Users\\loasis.LOASIS\\AppData\\Local\\anaconda3\\envs\\Xopt-GEECS\\lib\\threading.py\", line 953, in run\n",
      "    self._target(*self._args, **self._kwargs)\n",
      "  File \"C:\\Users\\loasis.LOASIS\\AppData\\Local\\Temp\\ipykernel_1692\\1912629808.py\", line 138, in create_avg_image\n",
      "KeyError: 'raw_data_path'\n"
     ]
    },
    {
     "name": "stdout",
     "output_type": "stream",
     "text": [
      "Saved image to: Z:\\data\\Undulator\\Y2024\\03-Mar\\24_0328\\analysis\\Scan156\\UC_VisaEBeam7_average_16bit.png\n",
      "set plunger: visa8\n",
      "moved velmex to: 506.5\n"
     ]
    },
    {
     "name": "stderr",
     "output_type": "stream",
     "text": [
      "Exception in thread Thread-2341 (create_avg_image):\n",
      "Traceback (most recent call last):\n",
      "  File \"C:\\Users\\loasis.LOASIS\\AppData\\Local\\anaconda3\\envs\\Xopt-GEECS\\lib\\threading.py\", line 1016, in _bootstrap_inner\n",
      "    self.run()\n",
      "  File \"C:\\Users\\loasis.LOASIS\\AppData\\Local\\anaconda3\\envs\\Xopt-GEECS\\lib\\site-packages\\ipykernel\\ipkernel.py\", line 761, in run_closure\n",
      "    _threading_Thread_run(self)\n",
      "  File \"C:\\Users\\loasis.LOASIS\\AppData\\Local\\anaconda3\\envs\\Xopt-GEECS\\lib\\threading.py\", line 953, in run\n",
      "    self._target(*self._args, **self._kwargs)\n",
      "  File \"C:\\Users\\loasis.LOASIS\\AppData\\Local\\Temp\\ipykernel_1692\\1912629808.py\", line 138, in create_avg_image\n",
      "KeyError: 'raw_data_path'\n"
     ]
    },
    {
     "name": "stdout",
     "output_type": "stream",
     "text": [
      "Saved image to: Z:\\data\\Undulator\\Y2024\\03-Mar\\24_0328\\analysis\\Scan156\\UC_UndulatorRad2_Station7_average_16bit.png\n",
      "successful scan\n"
     ]
    },
    {
     "name": "stderr",
     "output_type": "stream",
     "text": [
      "Exception in thread Thread-2360 (create_avg_image):\n",
      "Traceback (most recent call last):\n",
      "  File \"C:\\Users\\loasis.LOASIS\\AppData\\Local\\anaconda3\\envs\\Xopt-GEECS\\lib\\threading.py\", line 1016, in _bootstrap_inner\n",
      "    self.run()\n",
      "  File \"C:\\Users\\loasis.LOASIS\\AppData\\Local\\anaconda3\\envs\\Xopt-GEECS\\lib\\site-packages\\ipykernel\\ipkernel.py\", line 761, in run_closure\n",
      "    _threading_Thread_run(self)\n",
      "  File \"C:\\Users\\loasis.LOASIS\\AppData\\Local\\anaconda3\\envs\\Xopt-GEECS\\lib\\threading.py\", line 953, in run\n",
      "    self._target(*self._args, **self._kwargs)\n",
      "  File \"C:\\Users\\loasis.LOASIS\\AppData\\Local\\Temp\\ipykernel_1692\\1912629808.py\", line 138, in create_avg_image\n",
      "KeyError: 'raw_data_path'\n"
     ]
    },
    {
     "name": "stdout",
     "output_type": "stream",
     "text": [
      "Saved image to: Z:\\data\\Undulator\\Y2024\\03-Mar\\24_0328\\analysis\\Scan157\\UC_VisaEBeam8_average_16bit.png\n",
      "set plunger: visa9\n"
     ]
    },
    {
     "name": "stderr",
     "output_type": "stream",
     "text": [
      "Exception in thread Thread-2361 (create_avg_image):\n",
      "Traceback (most recent call last):\n",
      "  File \"C:\\Users\\loasis.LOASIS\\AppData\\Local\\anaconda3\\envs\\Xopt-GEECS\\lib\\threading.py\", line 1016, in _bootstrap_inner\n",
      "    self.run()\n",
      "  File \"C:\\Users\\loasis.LOASIS\\AppData\\Local\\anaconda3\\envs\\Xopt-GEECS\\lib\\site-packages\\ipykernel\\ipkernel.py\", line 761, in run_closure\n",
      "    _threading_Thread_run(self)\n",
      "  File \"C:\\Users\\loasis.LOASIS\\AppData\\Local\\anaconda3\\envs\\Xopt-GEECS\\lib\\threading.py\", line 953, in run\n",
      "    self._target(*self._args, **self._kwargs)\n",
      "  File \"C:\\Users\\loasis.LOASIS\\AppData\\Local\\Temp\\ipykernel_1692\\1912629808.py\", line 138, in create_avg_image\n",
      "KeyError: 'raw_data_path'\n"
     ]
    },
    {
     "name": "stdout",
     "output_type": "stream",
     "text": [
      "Saved image to: Z:\\data\\Undulator\\Y2024\\03-Mar\\24_0328\\analysis\\Scan157\\UC_UndulatorRad2_Station8_average_16bit.png\n",
      "moved velmex to: 76.6\n",
      "successful scan\n"
     ]
    },
    {
     "name": "stderr",
     "output_type": "stream",
     "text": [
      "Exception in thread Thread-2380 (create_avg_image):\n",
      "Traceback (most recent call last):\n",
      "  File \"C:\\Users\\loasis.LOASIS\\AppData\\Local\\anaconda3\\envs\\Xopt-GEECS\\lib\\threading.py\", line 1016, in _bootstrap_inner\n",
      "    self.run()\n",
      "  File \"C:\\Users\\loasis.LOASIS\\AppData\\Local\\anaconda3\\envs\\Xopt-GEECS\\lib\\site-packages\\ipykernel\\ipkernel.py\", line 761, in run_closure\n",
      "    _threading_Thread_run(self)\n",
      "  File \"C:\\Users\\loasis.LOASIS\\AppData\\Local\\anaconda3\\envs\\Xopt-GEECS\\lib\\threading.py\", line 953, in run\n",
      "    self._target(*self._args, **self._kwargs)\n",
      "  File \"C:\\Users\\loasis.LOASIS\\AppData\\Local\\Temp\\ipykernel_1692\\1912629808.py\", line 138, in create_avg_image\n",
      "KeyError: 'raw_data_path'\n"
     ]
    },
    {
     "name": "stdout",
     "output_type": "stream",
     "text": [
      "Saved image to: Z:\\data\\Undulator\\Y2024\\03-Mar\\24_0328\\analysis\\Scan158\\UC_UndulatorRad2_Station9_average_16bit.png\n",
      "Custom action after step 4 current values: {'fresh': True, 'shot number': None, 'GEECS device error': False, 'Current': -1.79988}, {'fresh': True, 'shot number': None, 'GEECS device error': False, 'Current': -0.20002}\n",
      "set plunger: visa1\n",
      "moved velmex to: 3954\n",
      "successful scan\n"
     ]
    },
    {
     "name": "stderr",
     "output_type": "stream",
     "text": [
      "Exception in thread Thread-2401 (create_avg_image):\n",
      "Traceback (most recent call last):\n",
      "  File \"C:\\Users\\loasis.LOASIS\\AppData\\Local\\anaconda3\\envs\\Xopt-GEECS\\lib\\threading.py\", line 1016, in _bootstrap_inner\n",
      "    self.run()\n",
      "  File \"C:\\Users\\loasis.LOASIS\\AppData\\Local\\anaconda3\\envs\\Xopt-GEECS\\lib\\site-packages\\ipykernel\\ipkernel.py\", line 761, in run_closure\n",
      "    _threading_Thread_run(self)\n",
      "  File \"C:\\Users\\loasis.LOASIS\\AppData\\Local\\anaconda3\\envs\\Xopt-GEECS\\lib\\threading.py\", line 953, in run\n",
      "    self._target(*self._args, **self._kwargs)\n",
      "  File \"C:\\Users\\loasis.LOASIS\\AppData\\Local\\Temp\\ipykernel_1692\\1912629808.py\", line 138, in create_avg_image\n",
      "KeyError: 'raw_data_path'\n"
     ]
    },
    {
     "name": "stdout",
     "output_type": "stream",
     "text": [
      "Saved image to: Z:\\data\\Undulator\\Y2024\\03-Mar\\24_0328\\analysis\\Scan159\\UC_VisaEBeam1_average_16bit.png\n",
      "set plunger: visa2\n"
     ]
    },
    {
     "name": "stderr",
     "output_type": "stream",
     "text": [
      "Exception in thread Thread-2402 (create_avg_image):\n",
      "Traceback (most recent call last):\n",
      "  File \"C:\\Users\\loasis.LOASIS\\AppData\\Local\\anaconda3\\envs\\Xopt-GEECS\\lib\\threading.py\", line 1016, in _bootstrap_inner\n",
      "    self.run()\n",
      "  File \"C:\\Users\\loasis.LOASIS\\AppData\\Local\\anaconda3\\envs\\Xopt-GEECS\\lib\\site-packages\\ipykernel\\ipkernel.py\", line 761, in run_closure\n",
      "    _threading_Thread_run(self)\n",
      "  File \"C:\\Users\\loasis.LOASIS\\AppData\\Local\\anaconda3\\envs\\Xopt-GEECS\\lib\\threading.py\", line 953, in run\n",
      "    self._target(*self._args, **self._kwargs)\n",
      "  File \"C:\\Users\\loasis.LOASIS\\AppData\\Local\\Temp\\ipykernel_1692\\1912629808.py\", line 138, in create_avg_image\n",
      "KeyError: 'raw_data_path'\n"
     ]
    },
    {
     "name": "stdout",
     "output_type": "stream",
     "text": [
      "Saved image to: Z:\\data\\Undulator\\Y2024\\03-Mar\\24_0328\\analysis\\Scan159\\UC_UndulatorRad2_Station1_average_16bit.png\n",
      "moved velmex to: 3469.9\n",
      "successful scan\n"
     ]
    },
    {
     "name": "stderr",
     "output_type": "stream",
     "text": [
      "Exception in thread Thread-2421 (create_avg_image):\n",
      "Traceback (most recent call last):\n",
      "  File \"C:\\Users\\loasis.LOASIS\\AppData\\Local\\anaconda3\\envs\\Xopt-GEECS\\lib\\threading.py\", line 1016, in _bootstrap_inner\n",
      "    self.run()\n",
      "  File \"C:\\Users\\loasis.LOASIS\\AppData\\Local\\anaconda3\\envs\\Xopt-GEECS\\lib\\site-packages\\ipykernel\\ipkernel.py\", line 761, in run_closure\n",
      "    _threading_Thread_run(self)\n",
      "  File \"C:\\Users\\loasis.LOASIS\\AppData\\Local\\anaconda3\\envs\\Xopt-GEECS\\lib\\threading.py\", line 953, in run\n",
      "    self._target(*self._args, **self._kwargs)\n",
      "  File \"C:\\Users\\loasis.LOASIS\\AppData\\Local\\Temp\\ipykernel_1692\\1912629808.py\", line 138, in create_avg_image\n",
      "KeyError: 'raw_data_path'\n"
     ]
    },
    {
     "name": "stdout",
     "output_type": "stream",
     "text": [
      "Saved image to: Z:\\data\\Undulator\\Y2024\\03-Mar\\24_0328\\analysis\\Scan160\\UC_VisaEBeam2_average_16bit.png\n",
      "set plunger: visa3\n"
     ]
    },
    {
     "name": "stderr",
     "output_type": "stream",
     "text": [
      "Exception in thread Thread-2422 (create_avg_image):\n",
      "Traceback (most recent call last):\n",
      "  File \"C:\\Users\\loasis.LOASIS\\AppData\\Local\\anaconda3\\envs\\Xopt-GEECS\\lib\\threading.py\", line 1016, in _bootstrap_inner\n",
      "    self.run()\n",
      "  File \"C:\\Users\\loasis.LOASIS\\AppData\\Local\\anaconda3\\envs\\Xopt-GEECS\\lib\\site-packages\\ipykernel\\ipkernel.py\", line 761, in run_closure\n",
      "    _threading_Thread_run(self)\n",
      "  File \"C:\\Users\\loasis.LOASIS\\AppData\\Local\\anaconda3\\envs\\Xopt-GEECS\\lib\\threading.py\", line 953, in run\n",
      "    self._target(*self._args, **self._kwargs)\n",
      "  File \"C:\\Users\\loasis.LOASIS\\AppData\\Local\\Temp\\ipykernel_1692\\1912629808.py\", line 138, in create_avg_image\n",
      "KeyError: 'raw_data_path'\n"
     ]
    },
    {
     "name": "stdout",
     "output_type": "stream",
     "text": [
      "Saved image to: Z:\\data\\Undulator\\Y2024\\03-Mar\\24_0328\\analysis\\Scan160\\UC_UndulatorRad2_Station2_average_16bit.png\n",
      "moved velmex to: 2986.9\n",
      "successful scan\n"
     ]
    },
    {
     "name": "stderr",
     "output_type": "stream",
     "text": [
      "Exception in thread Thread-2441 (create_avg_image):\n",
      "Traceback (most recent call last):\n",
      "  File \"C:\\Users\\loasis.LOASIS\\AppData\\Local\\anaconda3\\envs\\Xopt-GEECS\\lib\\threading.py\", line 1016, in _bootstrap_inner\n",
      "    self.run()\n",
      "  File \"C:\\Users\\loasis.LOASIS\\AppData\\Local\\anaconda3\\envs\\Xopt-GEECS\\lib\\site-packages\\ipykernel\\ipkernel.py\", line 761, in run_closure\n",
      "    _threading_Thread_run(self)\n",
      "  File \"C:\\Users\\loasis.LOASIS\\AppData\\Local\\anaconda3\\envs\\Xopt-GEECS\\lib\\threading.py\", line 953, in run\n",
      "    self._target(*self._args, **self._kwargs)\n",
      "  File \"C:\\Users\\loasis.LOASIS\\AppData\\Local\\Temp\\ipykernel_1692\\1912629808.py\", line 138, in create_avg_image\n",
      "KeyError: 'raw_data_path'\n"
     ]
    },
    {
     "name": "stdout",
     "output_type": "stream",
     "text": [
      "Saved image to: Z:\\data\\Undulator\\Y2024\\03-Mar\\24_0328\\analysis\\Scan161\\UC_VisaEBeam3_average_16bit.png\n",
      "set plunger: visa4\n"
     ]
    },
    {
     "name": "stderr",
     "output_type": "stream",
     "text": [
      "Exception in thread Thread-2442 (create_avg_image):\n",
      "Traceback (most recent call last):\n",
      "  File \"C:\\Users\\loasis.LOASIS\\AppData\\Local\\anaconda3\\envs\\Xopt-GEECS\\lib\\threading.py\", line 1016, in _bootstrap_inner\n",
      "    self.run()\n",
      "  File \"C:\\Users\\loasis.LOASIS\\AppData\\Local\\anaconda3\\envs\\Xopt-GEECS\\lib\\site-packages\\ipykernel\\ipkernel.py\", line 761, in run_closure\n",
      "    _threading_Thread_run(self)\n",
      "  File \"C:\\Users\\loasis.LOASIS\\AppData\\Local\\anaconda3\\envs\\Xopt-GEECS\\lib\\threading.py\", line 953, in run\n",
      "    self._target(*self._args, **self._kwargs)\n",
      "  File \"C:\\Users\\loasis.LOASIS\\AppData\\Local\\Temp\\ipykernel_1692\\1912629808.py\", line 138, in create_avg_image\n",
      "KeyError: 'raw_data_path'\n"
     ]
    },
    {
     "name": "stdout",
     "output_type": "stream",
     "text": [
      "Saved image to: Z:\\data\\Undulator\\Y2024\\03-Mar\\24_0328\\analysis\\Scan161\\UC_UndulatorRad2_Station3_average_16bit.png\n",
      "moved velmex to: 2476.3\n",
      "successful scan\n"
     ]
    },
    {
     "name": "stderr",
     "output_type": "stream",
     "text": [
      "Exception in thread Thread-2461 (create_avg_image):\n",
      "Traceback (most recent call last):\n",
      "  File \"C:\\Users\\loasis.LOASIS\\AppData\\Local\\anaconda3\\envs\\Xopt-GEECS\\lib\\threading.py\", line 1016, in _bootstrap_inner\n",
      "    self.run()\n",
      "  File \"C:\\Users\\loasis.LOASIS\\AppData\\Local\\anaconda3\\envs\\Xopt-GEECS\\lib\\site-packages\\ipykernel\\ipkernel.py\", line 761, in run_closure\n",
      "    _threading_Thread_run(self)\n",
      "  File \"C:\\Users\\loasis.LOASIS\\AppData\\Local\\anaconda3\\envs\\Xopt-GEECS\\lib\\threading.py\", line 953, in run\n",
      "    self._target(*self._args, **self._kwargs)\n",
      "  File \"C:\\Users\\loasis.LOASIS\\AppData\\Local\\Temp\\ipykernel_1692\\1912629808.py\", line 138, in create_avg_image\n",
      "KeyError: 'raw_data_path'\n"
     ]
    },
    {
     "name": "stdout",
     "output_type": "stream",
     "text": [
      "Saved image to: Z:\\data\\Undulator\\Y2024\\03-Mar\\24_0328\\analysis\\Scan162\\UC_VisaEBeam4_average_16bit.png\n",
      "set plunger: visa5\n"
     ]
    },
    {
     "name": "stderr",
     "output_type": "stream",
     "text": [
      "Exception in thread Thread-2462 (create_avg_image):\n",
      "Traceback (most recent call last):\n",
      "  File \"C:\\Users\\loasis.LOASIS\\AppData\\Local\\anaconda3\\envs\\Xopt-GEECS\\lib\\threading.py\", line 1016, in _bootstrap_inner\n",
      "    self.run()\n",
      "  File \"C:\\Users\\loasis.LOASIS\\AppData\\Local\\anaconda3\\envs\\Xopt-GEECS\\lib\\site-packages\\ipykernel\\ipkernel.py\", line 761, in run_closure\n",
      "    _threading_Thread_run(self)\n",
      "  File \"C:\\Users\\loasis.LOASIS\\AppData\\Local\\anaconda3\\envs\\Xopt-GEECS\\lib\\threading.py\", line 953, in run\n",
      "    self._target(*self._args, **self._kwargs)\n",
      "  File \"C:\\Users\\loasis.LOASIS\\AppData\\Local\\Temp\\ipykernel_1692\\1912629808.py\", line 138, in create_avg_image\n",
      "KeyError: 'raw_data_path'\n"
     ]
    },
    {
     "name": "stdout",
     "output_type": "stream",
     "text": [
      "Saved image to: Z:\\data\\Undulator\\Y2024\\03-Mar\\24_0328\\analysis\\Scan162\\UC_UndulatorRad2_Station4_average_16bit.png\n",
      "moved velmex to: 1991.2\n",
      "successful scan\n"
     ]
    },
    {
     "name": "stderr",
     "output_type": "stream",
     "text": [
      "Exception in thread Thread-2481 (create_avg_image):\n",
      "Traceback (most recent call last):\n",
      "  File \"C:\\Users\\loasis.LOASIS\\AppData\\Local\\anaconda3\\envs\\Xopt-GEECS\\lib\\threading.py\", line 1016, in _bootstrap_inner\n",
      "    self.run()\n",
      "  File \"C:\\Users\\loasis.LOASIS\\AppData\\Local\\anaconda3\\envs\\Xopt-GEECS\\lib\\site-packages\\ipykernel\\ipkernel.py\", line 761, in run_closure\n",
      "    _threading_Thread_run(self)\n",
      "  File \"C:\\Users\\loasis.LOASIS\\AppData\\Local\\anaconda3\\envs\\Xopt-GEECS\\lib\\threading.py\", line 953, in run\n",
      "    self._target(*self._args, **self._kwargs)\n",
      "  File \"C:\\Users\\loasis.LOASIS\\AppData\\Local\\Temp\\ipykernel_1692\\1912629808.py\", line 138, in create_avg_image\n",
      "KeyError: 'raw_data_path'\n"
     ]
    },
    {
     "name": "stdout",
     "output_type": "stream",
     "text": [
      "Saved image to: Z:\\data\\Undulator\\Y2024\\03-Mar\\24_0328\\analysis\\Scan163\\UC_VisaEBeam5_average_16bit.png\n"
     ]
    },
    {
     "name": "stderr",
     "output_type": "stream",
     "text": [
      "Exception in thread Thread-2482 (create_avg_image):\n",
      "Traceback (most recent call last):\n",
      "  File \"C:\\Users\\loasis.LOASIS\\AppData\\Local\\anaconda3\\envs\\Xopt-GEECS\\lib\\threading.py\", line 1016, in _bootstrap_inner\n",
      "    self.run()\n",
      "  File \"C:\\Users\\loasis.LOASIS\\AppData\\Local\\anaconda3\\envs\\Xopt-GEECS\\lib\\site-packages\\ipykernel\\ipkernel.py\", line 761, in run_closure\n",
      "    _threading_Thread_run(self)\n",
      "  File \"C:\\Users\\loasis.LOASIS\\AppData\\Local\\anaconda3\\envs\\Xopt-GEECS\\lib\\threading.py\", line 953, in run\n",
      "    self._target(*self._args, **self._kwargs)\n",
      "  File \"C:\\Users\\loasis.LOASIS\\AppData\\Local\\Temp\\ipykernel_1692\\1912629808.py\", line 138, in create_avg_image\n",
      "KeyError: 'raw_data_path'\n"
     ]
    },
    {
     "name": "stdout",
     "output_type": "stream",
     "text": [
      "set plunger: visa6\n",
      "Saved image to: Z:\\data\\Undulator\\Y2024\\03-Mar\\24_0328\\analysis\\Scan163\\UC_UndulatorRad2_Station5_average_16bit.png\n",
      "moved velmex to: 1498.4\n",
      "successful scan\n"
     ]
    },
    {
     "name": "stderr",
     "output_type": "stream",
     "text": [
      "Exception in thread Thread-2501 (create_avg_image):\n",
      "Traceback (most recent call last):\n",
      "  File \"C:\\Users\\loasis.LOASIS\\AppData\\Local\\anaconda3\\envs\\Xopt-GEECS\\lib\\threading.py\", line 1016, in _bootstrap_inner\n",
      "    self.run()\n",
      "  File \"C:\\Users\\loasis.LOASIS\\AppData\\Local\\anaconda3\\envs\\Xopt-GEECS\\lib\\site-packages\\ipykernel\\ipkernel.py\", line 761, in run_closure\n",
      "    _threading_Thread_run(self)\n",
      "  File \"C:\\Users\\loasis.LOASIS\\AppData\\Local\\anaconda3\\envs\\Xopt-GEECS\\lib\\threading.py\", line 953, in run\n",
      "    self._target(*self._args, **self._kwargs)\n",
      "  File \"C:\\Users\\loasis.LOASIS\\AppData\\Local\\Temp\\ipykernel_1692\\1912629808.py\", line 138, in create_avg_image\n",
      "KeyError: 'raw_data_path'\n"
     ]
    },
    {
     "name": "stdout",
     "output_type": "stream",
     "text": [
      "Saved image to: Z:\\data\\Undulator\\Y2024\\03-Mar\\24_0328\\analysis\\Scan164\\UC_VisaEBeam6_average_16bit.png\n",
      "set plunger: visa7\n"
     ]
    },
    {
     "name": "stderr",
     "output_type": "stream",
     "text": [
      "Exception in thread Thread-2502 (create_avg_image):\n",
      "Traceback (most recent call last):\n",
      "  File \"C:\\Users\\loasis.LOASIS\\AppData\\Local\\anaconda3\\envs\\Xopt-GEECS\\lib\\threading.py\", line 1016, in _bootstrap_inner\n",
      "    self.run()\n",
      "  File \"C:\\Users\\loasis.LOASIS\\AppData\\Local\\anaconda3\\envs\\Xopt-GEECS\\lib\\site-packages\\ipykernel\\ipkernel.py\", line 761, in run_closure\n",
      "    _threading_Thread_run(self)\n",
      "  File \"C:\\Users\\loasis.LOASIS\\AppData\\Local\\anaconda3\\envs\\Xopt-GEECS\\lib\\threading.py\", line 953, in run\n",
      "    self._target(*self._args, **self._kwargs)\n",
      "  File \"C:\\Users\\loasis.LOASIS\\AppData\\Local\\Temp\\ipykernel_1692\\1912629808.py\", line 138, in create_avg_image\n",
      "KeyError: 'raw_data_path'\n"
     ]
    },
    {
     "name": "stdout",
     "output_type": "stream",
     "text": [
      "Saved image to: Z:\\data\\Undulator\\Y2024\\03-Mar\\24_0328\\analysis\\Scan164\\UC_UndulatorRad2_Station6_average_16bit.png\n",
      "moved velmex to: 993.3\n",
      "successful scan\n"
     ]
    },
    {
     "name": "stderr",
     "output_type": "stream",
     "text": [
      "Exception in thread Thread-2521 (create_avg_image):\n",
      "Traceback (most recent call last):\n",
      "  File \"C:\\Users\\loasis.LOASIS\\AppData\\Local\\anaconda3\\envs\\Xopt-GEECS\\lib\\threading.py\", line 1016, in _bootstrap_inner\n",
      "    self.run()\n",
      "  File \"C:\\Users\\loasis.LOASIS\\AppData\\Local\\anaconda3\\envs\\Xopt-GEECS\\lib\\site-packages\\ipykernel\\ipkernel.py\", line 761, in run_closure\n",
      "    _threading_Thread_run(self)\n",
      "  File \"C:\\Users\\loasis.LOASIS\\AppData\\Local\\anaconda3\\envs\\Xopt-GEECS\\lib\\threading.py\", line 953, in run\n",
      "    self._target(*self._args, **self._kwargs)\n",
      "  File \"C:\\Users\\loasis.LOASIS\\AppData\\Local\\Temp\\ipykernel_1692\\1912629808.py\", line 138, in create_avg_image\n",
      "KeyError: 'raw_data_path'\n"
     ]
    },
    {
     "name": "stdout",
     "output_type": "stream",
     "text": [
      "Saved image to: Z:\\data\\Undulator\\Y2024\\03-Mar\\24_0328\\analysis\\Scan165\\UC_VisaEBeam7_average_16bit.png\n",
      "set plunger: visa8\n"
     ]
    },
    {
     "name": "stderr",
     "output_type": "stream",
     "text": [
      "Exception in thread Thread-2522 (create_avg_image):\n",
      "Traceback (most recent call last):\n",
      "  File \"C:\\Users\\loasis.LOASIS\\AppData\\Local\\anaconda3\\envs\\Xopt-GEECS\\lib\\threading.py\", line 1016, in _bootstrap_inner\n",
      "    self.run()\n",
      "  File \"C:\\Users\\loasis.LOASIS\\AppData\\Local\\anaconda3\\envs\\Xopt-GEECS\\lib\\site-packages\\ipykernel\\ipkernel.py\", line 761, in run_closure\n",
      "    _threading_Thread_run(self)\n",
      "  File \"C:\\Users\\loasis.LOASIS\\AppData\\Local\\anaconda3\\envs\\Xopt-GEECS\\lib\\threading.py\", line 953, in run\n",
      "    self._target(*self._args, **self._kwargs)\n",
      "  File \"C:\\Users\\loasis.LOASIS\\AppData\\Local\\Temp\\ipykernel_1692\\1912629808.py\", line 138, in create_avg_image\n",
      "KeyError: 'raw_data_path'\n"
     ]
    },
    {
     "name": "stdout",
     "output_type": "stream",
     "text": [
      "Saved image to: Z:\\data\\Undulator\\Y2024\\03-Mar\\24_0328\\analysis\\Scan165\\UC_UndulatorRad2_Station7_average_16bit.png\n",
      "moved velmex to: 506.5\n",
      "successful scan\n"
     ]
    },
    {
     "name": "stderr",
     "output_type": "stream",
     "text": [
      "Exception in thread Thread-2541 (create_avg_image):\n",
      "Traceback (most recent call last):\n",
      "  File \"C:\\Users\\loasis.LOASIS\\AppData\\Local\\anaconda3\\envs\\Xopt-GEECS\\lib\\threading.py\", line 1016, in _bootstrap_inner\n",
      "    self.run()\n",
      "  File \"C:\\Users\\loasis.LOASIS\\AppData\\Local\\anaconda3\\envs\\Xopt-GEECS\\lib\\site-packages\\ipykernel\\ipkernel.py\", line 761, in run_closure\n",
      "    _threading_Thread_run(self)\n",
      "  File \"C:\\Users\\loasis.LOASIS\\AppData\\Local\\anaconda3\\envs\\Xopt-GEECS\\lib\\threading.py\", line 953, in run\n",
      "    self._target(*self._args, **self._kwargs)\n",
      "  File \"C:\\Users\\loasis.LOASIS\\AppData\\Local\\Temp\\ipykernel_1692\\1912629808.py\", line 138, in create_avg_image\n",
      "KeyError: 'raw_data_path'\n"
     ]
    },
    {
     "name": "stdout",
     "output_type": "stream",
     "text": [
      "Saved image to: Z:\\data\\Undulator\\Y2024\\03-Mar\\24_0328\\analysis\\Scan166\\UC_VisaEBeam8_average_16bit.png\n",
      "set plunger: visa9\n"
     ]
    },
    {
     "name": "stderr",
     "output_type": "stream",
     "text": [
      "Exception in thread Thread-2542 (create_avg_image):\n",
      "Traceback (most recent call last):\n",
      "  File \"C:\\Users\\loasis.LOASIS\\AppData\\Local\\anaconda3\\envs\\Xopt-GEECS\\lib\\threading.py\", line 1016, in _bootstrap_inner\n",
      "    self.run()\n",
      "  File \"C:\\Users\\loasis.LOASIS\\AppData\\Local\\anaconda3\\envs\\Xopt-GEECS\\lib\\site-packages\\ipykernel\\ipkernel.py\", line 761, in run_closure\n",
      "    _threading_Thread_run(self)\n",
      "  File \"C:\\Users\\loasis.LOASIS\\AppData\\Local\\anaconda3\\envs\\Xopt-GEECS\\lib\\threading.py\", line 953, in run\n",
      "    self._target(*self._args, **self._kwargs)\n",
      "  File \"C:\\Users\\loasis.LOASIS\\AppData\\Local\\Temp\\ipykernel_1692\\1912629808.py\", line 138, in create_avg_image\n",
      "KeyError: 'raw_data_path'\n"
     ]
    },
    {
     "name": "stdout",
     "output_type": "stream",
     "text": [
      "Saved image to: Z:\\data\\Undulator\\Y2024\\03-Mar\\24_0328\\analysis\\Scan166\\UC_UndulatorRad2_Station8_average_16bit.png\n",
      "moved velmex to: 76.6\n",
      "successful scan\n"
     ]
    },
    {
     "name": "stderr",
     "output_type": "stream",
     "text": [
      "Exception in thread Thread-2561 (create_avg_image):\n",
      "Traceback (most recent call last):\n",
      "  File \"C:\\Users\\loasis.LOASIS\\AppData\\Local\\anaconda3\\envs\\Xopt-GEECS\\lib\\threading.py\", line 1016, in _bootstrap_inner\n",
      "    self.run()\n",
      "  File \"C:\\Users\\loasis.LOASIS\\AppData\\Local\\anaconda3\\envs\\Xopt-GEECS\\lib\\site-packages\\ipykernel\\ipkernel.py\", line 761, in run_closure\n",
      "    _threading_Thread_run(self)\n",
      "  File \"C:\\Users\\loasis.LOASIS\\AppData\\Local\\anaconda3\\envs\\Xopt-GEECS\\lib\\threading.py\", line 953, in run\n",
      "    self._target(*self._args, **self._kwargs)\n",
      "  File \"C:\\Users\\loasis.LOASIS\\AppData\\Local\\Temp\\ipykernel_1692\\1912629808.py\", line 138, in create_avg_image\n",
      "KeyError: 'raw_data_path'\n"
     ]
    },
    {
     "name": "stdout",
     "output_type": "stream",
     "text": [
      "Saved image to: Z:\\data\\Undulator\\Y2024\\03-Mar\\24_0328\\analysis\\Scan167\\UC_UndulatorRad2_Station9_average_16bit.png\n"
     ]
    }
   ],
   "source": [
    "class TwoParameterAdjustment:\n",
    "    \"\"\"\n",
    "    Adjusts the settings of two devices, applying a scaling factor to the adjustments\n",
    "    of the second device based on the adjustments of the first. \n",
    "\n",
    "    Initial intent of the class is to allow systematic scans of steering magnets. For\n",
    "    example, you can do an e-beam offset scan at the entrance of the undulator by\n",
    "    using S3H and S4H with a scaling factor of -1. An angle scan can be achieved by\n",
    "    simply changing the scaling factor to -2. \n",
    "\n",
    "    Attributes:\n",
    "        primary_device (GeecsDevice): The first device to be adjusted.\n",
    "        secondary_device (GeecsDevice): The second device, whose adjustments are scaled relative to the first.\n",
    "        primary_variable (str): The variable to adjust on the primary device.\n",
    "        primary_step (float): The step size for adjustments on the primary device.\n",
    "        primary_range (float): The total range of adjustment for the primary device.\n",
    "        secondary_variable (str): The variable to adjust on the secondary device.\n",
    "        scaling_factor (float): The factor by which to scale the primary device's adjustments when applying them to the secondary device.\n",
    "    \"\"\"\n",
    "    \n",
    "    def __init__(self, primary_device_name, primary_variable, primary_step, primary_range, \n",
    "                 secondary_device_name, secondary_variable, scaling_factor):\n",
    "        self.primary_device = GeecsDevice(primary_device_name)\n",
    "        self.secondary_device = GeecsDevice(secondary_device_name)\n",
    "        self.primary_variable = primary_variable\n",
    "        self.primary_step = primary_step\n",
    "        self.primary_range = primary_range\n",
    "        self.secondary_variable = secondary_variable\n",
    "        self.scaling_factor = scaling_factor  # Adjustment scaling for the secondary device\n",
    "\n",
    "    def get_initial_values(self):\n",
    "        \"\"\"Retrieves and stores the initial values of the variables to be adjusted for both devices.\"\"\"\n",
    "\n",
    "        self.primary_current_value = self.primary_device.get(self.primary_variable)\n",
    "        self.secondary_current_value = self.secondary_device.get(self.secondary_variable)\n",
    "\n",
    "    def post_adjustment_action(self, primary_device, secondary_device, step_number):\n",
    "        \"\"\"\n",
    "        Placeholder for a custom action to be executed after each adjustment step.\n",
    "\n",
    "        Parameters:\n",
    "            primary_device (GeecsDevice): The primary device being adjusted.\n",
    "            secondary_device (GeecsDevice): The secondary device being adjusted.\n",
    "            step_number (int): The current step number in the adjustment process.\n",
    "        \"\"\"\n",
    "        pass\n",
    "\n",
    "    def adjust_devices(self):\n",
    "        \"\"\"\n",
    "        Performs the adjustment process on both devices, applying the scaling factor to the adjustments\n",
    "        of the secondary device based on those of the primary device.\n",
    "        \"\"\"\n",
    "        self.get_initial_values()\n",
    "        \n",
    "        start_primary = self.primary_current_value - self.primary_range\n",
    "        start_secondary = self.secondary_current_value - self.primary_range* self.scaling_factor\n",
    "        end_primary = self.primary_current_value + self.primary_range\n",
    "        num_steps = int(self.primary_range / self.primary_step) * 2\n",
    "        \n",
    "        for i in range(num_steps + 1):\n",
    "            new_primary_value = start_primary + self.primary_step * i\n",
    "            new_secondary_value = start_secondary + (self.primary_step * i * self.scaling_factor)\n",
    "            \n",
    "            if new_primary_value > end_primary:\n",
    "                new_primary_value = end_primary\n",
    "            \n",
    "            self.primary_device.set(self.primary_variable, new_primary_value)\n",
    "            self.secondary_device.set(self.secondary_variable, new_secondary_value)\n",
    "\n",
    "            self.post_adjustment_action(self.primary_device, self.secondary_device, i)\n",
    "\n",
    "        # Optionally, reset the initial values after the loop\n",
    "        self.primary_device.set(self.primary_variable, self.primary_current_value)\n",
    "        self.secondary_device.set(self.secondary_variable, self.secondary_current_value)\n",
    "\n",
    "    def close(self):\n",
    "        \"\"\"\n",
    "        Closes the connections or performs any necessary cleanup for both devices.\n",
    "        \"\"\"\n",
    "        self.primary_device.close()\n",
    "        self.secondary_device.close()\n",
    "\n",
    "class UndulatorScreenScan(TwoParameterAdjustment):\n",
    "    def post_adjustment_action(self, s1, s2, step_number):\n",
    "        # Custom behavior implementation\n",
    "        print(f\"Custom action after step {step_number} current values: {s1.state}, {s2.state}\")\n",
    "        ebeam_scan_numbers, rad2_scan_numbers, undulator_scan_dir, year, month, day = undulator_screen_scan()\n",
    "\n",
    "        # estats = create_image_grids(\"UC_VisaEBeam\",ebeam_scan_numbers,undulator_scan_dir, year, month, day)\n",
    "        # radstats = create_image_grids(\"UC_UndulatorRad2\",rad2_scan_numbers,undulator_scan_dir, year, month, day)\n",
    "\n",
    "class CustomTwoParameterTest(TwoParameterAdjustment):\n",
    "    def post_adjustment_action(self, s1, s2, step_number):\n",
    "        # Custom behavior implementation\n",
    "        print(f\"Custom action after step {step_number} current values: {s1.state}, {s2.state}\")\n",
    "\n",
    "# Example usage\n",
    "s3H_s4H_offset_scan = UndulatorScreenScan('U_S3H','Current', 0.1, 0.2, 'U_S4H',\"Current\",-1)\n",
    "s3H_s4H_angle_scan = UndulatorScreenScan('U_S3H','Current', 0.1, 0.2, 'U_S4H',\"Current\",-2)\n",
    "\n",
    "s3H_s4H_offset_scan.adjust_devices()  # No need to pass None\n",
    "s3H_s4H_offset_scan.close()"
   ]
  },
  {
   "cell_type": "code",
   "execution_count": 8,
   "id": "45dec97f-5c83-449a-a903-1a3c2c18e3d3",
   "metadata": {},
   "outputs": [
    {
     "data": {
      "text/plain": [
       "WindowsPath('Z:/data/Undulator/Y2024/03-Mar/24_0327/analysis')"
      ]
     },
     "execution_count": 8,
     "metadata": {},
     "output_type": "execute_result"
    }
   ],
   "source": [
    "scan_dir_base, analysis_dir_base = create_data_path(\"2024\", \"Mar\", 27, 100)\n",
    "special_scan_base_name = 'undulator_screen_scan'\n",
    "working_dir = Path(analysis_dir_base).parent \n",
    "working_dir"
   ]
  },
  {
   "cell_type": "code",
   "execution_count": 22,
   "id": "967142fd-34f8-4b73-9099-65a6ac399dde",
   "metadata": {},
   "outputs": [
    {
     "data": {
      "image/png": "[encoded data removed]",
      "text/plain": [
       "<Figure size 1000x600 with 1 Axes>"
      ]
     },
     "metadata": {},
     "output_type": "display_data"
    }
   ],
   "source": [
    "# Base directory where the scanXXX directories are located\n",
    "base_dir = Path('Z:/data/Undulator/Y2024/03-Mar/24_0328/scans')  # Replace with your actual path\n",
    "\n",
    "# Dictionary to hold the count of files for each device directory\n",
    "file_counts = {}\n",
    "\n",
    "# Iterate through each item in base directory\n",
    "for scan_dir in base_dir.iterdir():\n",
    "    if scan_dir.is_dir() and scan_dir.name.startswith('Scan'):\n",
    "        device_dir = scan_dir / 'UC_UndulatorRad2'\n",
    "        # Count files in the device directory\n",
    "        if device_dir.exists():\n",
    "            count = len(list(device_dir.glob('*png')))  # Assuming you want to count all types of files\n",
    "            file_counts[scan_dir.name] = count\n",
    "\n",
    "# Now, plot the file counts\n",
    "plt.figure(figsize=(10, 6))\n",
    "plt.bar(range(len(file_counts)), list(file_counts.values()), align='center')\n",
    "plt.xticks(range(len(file_counts)), list(file_counts.keys()), rotation='vertical')\n",
    "plt.xlabel('Scan Directory')\n",
    "plt.ylabel('File Count')\n",
    "plt.ylim(0,16)\n",
    "plt.title('File Counts in Device Directories')\n",
    "plt.tight_layout()  # Adjust layout to make room for the rotated x-axis labels\n",
    "plt.show()"
   ]
  },
  {
   "cell_type": "code",
   "execution_count": 165,
   "id": "bb1c06c3-2d59-4b3e-b9c4-d1c963d66c01",
   "metadata": {},
   "outputs": [],
   "source": []
  },
  {
   "cell_type": "code",
   "execution_count": 58,
   "id": "29129c9c-f196-4c22-aa69-7eec020ef501",
   "metadata": {},
   "outputs": [],
   "source": [
    "start_scan = 6+9*5\n",
    "ebeam_scan_numbers = list(range(start_scan, start_scan+8))\n",
    "raw_data_path, analysis_data_path = create_data_path(year, month, day, 100)\n",
    "undulator_scan_dir = Path(analysis_data_path).parent / 'temp'\n",
    "# year = '2024'\n",
    "# mone = 'Mar'\n",
    "# day = '28'\n",
    "\n",
    "\n",
    "# estats = create_image_grids(\"UC_VisaEBeam\", ebeam_scan_numbers, undulator_scan_dir,  year,  month, day)\n"
   ]
  },
  {
   "cell_type": "code",
   "execution_count": 171,
   "id": "012c7ecf-836e-4e06-b8ff-5bf8c9b1fe95",
   "metadata": {},
   "outputs": [
    {
     "name": "stdout",
     "output_type": "stream",
     "text": [
      "6\n",
      "UC_VisaEBeam1\n",
      "Z:\\data\\Undulator\\Y2024\\03-Mar\\24_0328\\analysis\\Scan006\\UC_VisaEBeam1_average_16bit.png\n",
      "15\n",
      "UC_VisaEBeam1\n",
      "Z:\\data\\Undulator\\Y2024\\03-Mar\\24_0328\\analysis\\Scan015\\UC_VisaEBeam1_average_16bit.png\n",
      "24\n",
      "UC_VisaEBeam1\n",
      "Z:\\data\\Undulator\\Y2024\\03-Mar\\24_0328\\analysis\\Scan024\\UC_VisaEBeam1_average_16bit.png\n",
      "33\n",
      "UC_VisaEBeam1\n",
      "Z:\\data\\Undulator\\Y2024\\03-Mar\\24_0328\\analysis\\Scan033\\UC_VisaEBeam1_average_16bit.png\n",
      "42\n",
      "UC_VisaEBeam1\n",
      "Z:\\data\\Undulator\\Y2024\\03-Mar\\24_0328\\analysis\\Scan042\\UC_VisaEBeam1_average_16bit.png\n",
      "51\n",
      "UC_VisaEBeam1\n",
      "Z:\\data\\Undulator\\Y2024\\03-Mar\\24_0328\\analysis\\Scan051\\UC_VisaEBeam1_average_16bit.png\n",
      "60\n",
      "UC_VisaEBeam1\n",
      "Z:\\data\\Undulator\\Y2024\\03-Mar\\24_0328\\analysis\\Scan060\\UC_VisaEBeam1_average_16bit.png\n",
      "69\n",
      "UC_VisaEBeam1\n",
      "Z:\\data\\Undulator\\Y2024\\03-Mar\\24_0328\\analysis\\Scan069\\UC_VisaEBeam1_average_16bit.png\n",
      "7\n",
      "UC_VisaEBeam2\n",
      "Z:\\data\\Undulator\\Y2024\\03-Mar\\24_0328\\analysis\\Scan007\\UC_VisaEBeam2_average_16bit.png\n",
      "16\n",
      "UC_VisaEBeam2\n",
      "Z:\\data\\Undulator\\Y2024\\03-Mar\\24_0328\\analysis\\Scan016\\UC_VisaEBeam2_average_16bit.png\n",
      "25\n",
      "UC_VisaEBeam2\n",
      "Z:\\data\\Undulator\\Y2024\\03-Mar\\24_0328\\analysis\\Scan025\\UC_VisaEBeam2_average_16bit.png\n",
      "34\n",
      "UC_VisaEBeam2\n",
      "Z:\\data\\Undulator\\Y2024\\03-Mar\\24_0328\\analysis\\Scan034\\UC_VisaEBeam2_average_16bit.png\n",
      "43\n",
      "UC_VisaEBeam2\n",
      "Z:\\data\\Undulator\\Y2024\\03-Mar\\24_0328\\analysis\\Scan043\\UC_VisaEBeam2_average_16bit.png\n",
      "52\n",
      "UC_VisaEBeam2\n",
      "Z:\\data\\Undulator\\Y2024\\03-Mar\\24_0328\\analysis\\Scan052\\UC_VisaEBeam2_average_16bit.png\n",
      "61\n",
      "UC_VisaEBeam2\n",
      "Z:\\data\\Undulator\\Y2024\\03-Mar\\24_0328\\analysis\\Scan061\\UC_VisaEBeam2_average_16bit.png\n",
      "70\n",
      "UC_VisaEBeam2\n",
      "Z:\\data\\Undulator\\Y2024\\03-Mar\\24_0328\\analysis\\Scan070\\UC_VisaEBeam2_average_16bit.png\n",
      "8\n",
      "UC_VisaEBeam3\n",
      "Z:\\data\\Undulator\\Y2024\\03-Mar\\24_0328\\analysis\\Scan008\\UC_VisaEBeam3_average_16bit.png\n",
      "17\n",
      "UC_VisaEBeam3\n",
      "Z:\\data\\Undulator\\Y2024\\03-Mar\\24_0328\\analysis\\Scan017\\UC_VisaEBeam3_average_16bit.png\n",
      "26\n",
      "UC_VisaEBeam3\n",
      "Z:\\data\\Undulator\\Y2024\\03-Mar\\24_0328\\analysis\\Scan026\\UC_VisaEBeam3_average_16bit.png\n",
      "35\n",
      "UC_VisaEBeam3\n",
      "Z:\\data\\Undulator\\Y2024\\03-Mar\\24_0328\\analysis\\Scan035\\UC_VisaEBeam3_average_16bit.png\n",
      "44\n",
      "UC_VisaEBeam3\n",
      "Z:\\data\\Undulator\\Y2024\\03-Mar\\24_0328\\analysis\\Scan044\\UC_VisaEBeam3_average_16bit.png\n",
      "53\n",
      "UC_VisaEBeam3\n",
      "Z:\\data\\Undulator\\Y2024\\03-Mar\\24_0328\\analysis\\Scan053\\UC_VisaEBeam3_average_16bit.png\n",
      "62\n",
      "UC_VisaEBeam3\n",
      "Z:\\data\\Undulator\\Y2024\\03-Mar\\24_0328\\analysis\\Scan062\\UC_VisaEBeam3_average_16bit.png\n",
      "71\n",
      "UC_VisaEBeam3\n",
      "Z:\\data\\Undulator\\Y2024\\03-Mar\\24_0328\\analysis\\Scan071\\UC_VisaEBeam3_average_16bit.png\n",
      "9\n",
      "UC_VisaEBeam4\n",
      "Z:\\data\\Undulator\\Y2024\\03-Mar\\24_0328\\analysis\\Scan009\\UC_VisaEBeam4_average_16bit.png\n",
      "18\n",
      "UC_VisaEBeam4\n",
      "Z:\\data\\Undulator\\Y2024\\03-Mar\\24_0328\\analysis\\Scan018\\UC_VisaEBeam4_average_16bit.png\n",
      "27\n",
      "UC_VisaEBeam4\n",
      "Z:\\data\\Undulator\\Y2024\\03-Mar\\24_0328\\analysis\\Scan027\\UC_VisaEBeam4_average_16bit.png\n",
      "36\n",
      "UC_VisaEBeam4\n",
      "Z:\\data\\Undulator\\Y2024\\03-Mar\\24_0328\\analysis\\Scan036\\UC_VisaEBeam4_average_16bit.png\n",
      "45\n",
      "UC_VisaEBeam4\n",
      "Z:\\data\\Undulator\\Y2024\\03-Mar\\24_0328\\analysis\\Scan045\\UC_VisaEBeam4_average_16bit.png\n",
      "54\n",
      "UC_VisaEBeam4\n",
      "Z:\\data\\Undulator\\Y2024\\03-Mar\\24_0328\\analysis\\Scan054\\UC_VisaEBeam4_average_16bit.png\n",
      "63\n",
      "UC_VisaEBeam4\n",
      "Z:\\data\\Undulator\\Y2024\\03-Mar\\24_0328\\analysis\\Scan063\\UC_VisaEBeam4_average_16bit.png\n",
      "72\n",
      "UC_VisaEBeam4\n",
      "Z:\\data\\Undulator\\Y2024\\03-Mar\\24_0328\\analysis\\Scan072\\UC_VisaEBeam4_average_16bit.png\n",
      "10\n",
      "UC_VisaEBeam5\n",
      "Z:\\data\\Undulator\\Y2024\\03-Mar\\24_0328\\analysis\\Scan010\\UC_VisaEBeam5_average_16bit.png\n",
      "19\n",
      "UC_VisaEBeam5\n",
      "Z:\\data\\Undulator\\Y2024\\03-Mar\\24_0328\\analysis\\Scan019\\UC_VisaEBeam5_average_16bit.png\n",
      "28\n",
      "UC_VisaEBeam5\n",
      "Z:\\data\\Undulator\\Y2024\\03-Mar\\24_0328\\analysis\\Scan028\\UC_VisaEBeam5_average_16bit.png\n",
      "37\n",
      "UC_VisaEBeam5\n",
      "Z:\\data\\Undulator\\Y2024\\03-Mar\\24_0328\\analysis\\Scan037\\UC_VisaEBeam5_average_16bit.png\n",
      "46\n",
      "UC_VisaEBeam5\n",
      "Z:\\data\\Undulator\\Y2024\\03-Mar\\24_0328\\analysis\\Scan046\\UC_VisaEBeam5_average_16bit.png\n",
      "55\n",
      "UC_VisaEBeam5\n",
      "Z:\\data\\Undulator\\Y2024\\03-Mar\\24_0328\\analysis\\Scan055\\UC_VisaEBeam5_average_16bit.png\n",
      "64\n",
      "UC_VisaEBeam5\n",
      "Z:\\data\\Undulator\\Y2024\\03-Mar\\24_0328\\analysis\\Scan064\\UC_VisaEBeam5_average_16bit.png\n",
      "73\n",
      "UC_VisaEBeam5\n",
      "Z:\\data\\Undulator\\Y2024\\03-Mar\\24_0328\\analysis\\Scan073\\UC_VisaEBeam5_average_16bit.png\n",
      "11\n",
      "UC_VisaEBeam6\n",
      "Z:\\data\\Undulator\\Y2024\\03-Mar\\24_0328\\analysis\\Scan011\\UC_VisaEBeam6_average_16bit.png\n",
      "20\n",
      "UC_VisaEBeam6\n",
      "Z:\\data\\Undulator\\Y2024\\03-Mar\\24_0328\\analysis\\Scan020\\UC_VisaEBeam6_average_16bit.png\n",
      "29\n",
      "UC_VisaEBeam6\n",
      "Z:\\data\\Undulator\\Y2024\\03-Mar\\24_0328\\analysis\\Scan029\\UC_VisaEBeam6_average_16bit.png\n",
      "38\n",
      "UC_VisaEBeam6\n",
      "Z:\\data\\Undulator\\Y2024\\03-Mar\\24_0328\\analysis\\Scan038\\UC_VisaEBeam6_average_16bit.png\n",
      "47\n",
      "UC_VisaEBeam6\n",
      "Z:\\data\\Undulator\\Y2024\\03-Mar\\24_0328\\analysis\\Scan047\\UC_VisaEBeam6_average_16bit.png\n",
      "56\n",
      "UC_VisaEBeam6\n",
      "Z:\\data\\Undulator\\Y2024\\03-Mar\\24_0328\\analysis\\Scan056\\UC_VisaEBeam6_average_16bit.png\n",
      "65\n",
      "UC_VisaEBeam6\n",
      "Z:\\data\\Undulator\\Y2024\\03-Mar\\24_0328\\analysis\\Scan065\\UC_VisaEBeam6_average_16bit.png\n",
      "74\n",
      "UC_VisaEBeam6\n",
      "Z:\\data\\Undulator\\Y2024\\03-Mar\\24_0328\\analysis\\Scan074\\UC_VisaEBeam6_average_16bit.png\n",
      "12\n",
      "UC_VisaEBeam7\n",
      "Z:\\data\\Undulator\\Y2024\\03-Mar\\24_0328\\analysis\\Scan012\\UC_VisaEBeam7_average_16bit.png\n",
      "21\n",
      "UC_VisaEBeam7\n",
      "Z:\\data\\Undulator\\Y2024\\03-Mar\\24_0328\\analysis\\Scan021\\UC_VisaEBeam7_average_16bit.png\n",
      "30\n",
      "UC_VisaEBeam7\n",
      "Z:\\data\\Undulator\\Y2024\\03-Mar\\24_0328\\analysis\\Scan030\\UC_VisaEBeam7_average_16bit.png\n",
      "39\n",
      "UC_VisaEBeam7\n",
      "Z:\\data\\Undulator\\Y2024\\03-Mar\\24_0328\\analysis\\Scan039\\UC_VisaEBeam7_average_16bit.png\n",
      "48\n",
      "UC_VisaEBeam7\n",
      "Z:\\data\\Undulator\\Y2024\\03-Mar\\24_0328\\analysis\\Scan048\\UC_VisaEBeam7_average_16bit.png\n",
      "57\n",
      "UC_VisaEBeam7\n",
      "Z:\\data\\Undulator\\Y2024\\03-Mar\\24_0328\\analysis\\Scan057\\UC_VisaEBeam7_average_16bit.png\n",
      "66\n",
      "UC_VisaEBeam7\n",
      "Z:\\data\\Undulator\\Y2024\\03-Mar\\24_0328\\analysis\\Scan066\\UC_VisaEBeam7_average_16bit.png\n",
      "75\n",
      "UC_VisaEBeam7\n",
      "Z:\\data\\Undulator\\Y2024\\03-Mar\\24_0328\\analysis\\Scan075\\UC_VisaEBeam7_average_16bit.png\n",
      "13\n",
      "UC_VisaEBeam8\n",
      "Z:\\data\\Undulator\\Y2024\\03-Mar\\24_0328\\analysis\\Scan013\\UC_VisaEBeam8_average_16bit.png\n",
      "22\n",
      "UC_VisaEBeam8\n",
      "Z:\\data\\Undulator\\Y2024\\03-Mar\\24_0328\\analysis\\Scan022\\UC_VisaEBeam8_average_16bit.png\n",
      "31\n",
      "UC_VisaEBeam8\n",
      "Z:\\data\\Undulator\\Y2024\\03-Mar\\24_0328\\analysis\\Scan031\\UC_VisaEBeam8_average_16bit.png\n",
      "40\n",
      "UC_VisaEBeam8\n",
      "Z:\\data\\Undulator\\Y2024\\03-Mar\\24_0328\\analysis\\Scan040\\UC_VisaEBeam8_average_16bit.png\n",
      "49\n",
      "UC_VisaEBeam8\n",
      "Z:\\data\\Undulator\\Y2024\\03-Mar\\24_0328\\analysis\\Scan049\\UC_VisaEBeam8_average_16bit.png\n",
      "58\n",
      "UC_VisaEBeam8\n",
      "Z:\\data\\Undulator\\Y2024\\03-Mar\\24_0328\\analysis\\Scan058\\UC_VisaEBeam8_average_16bit.png\n",
      "67\n",
      "UC_VisaEBeam8\n",
      "Z:\\data\\Undulator\\Y2024\\03-Mar\\24_0328\\analysis\\Scan067\\UC_VisaEBeam8_average_16bit.png\n",
      "76\n",
      "UC_VisaEBeam8\n",
      "Z:\\data\\Undulator\\Y2024\\03-Mar\\24_0328\\analysis\\Scan076\\UC_VisaEBeam8_average_16bit.png\n"
     ]
    }
   ],
   "source": [
    "scaling = [14,14,14,14,14,14,14,14]\n",
    "for j in range(8):\n",
    "    scan_numbers = []\n",
    "    year = '2024'\n",
    "    mone = 'Mar'\n",
    "    day = '28'\n",
    "    raw_data_path, analysis_data_path = create_data_path(year, month, day, 100)\n",
    "    device = f\"UC_VisaEBeam{j+1}\"\n",
    "    # device = f\"UC_UndulatorRad2\"\n",
    "\n",
    "    undulator_scan_dir = Path(analysis_data_path).parent / f'steering_scan1_test_{device}'\n",
    "    # Create the directory if it doesn't exist\n",
    "    undulator_scan_dir.mkdir(parents=True, exist_ok=True)    \n",
    "    \n",
    "    for i in range(8):\n",
    "        start_scan = 6+9*i\n",
    "        ebeam_scan_numbers = list(range(start_scan, start_scan+9))\n",
    "        s_num = ebeam_scan_numbers[j]\n",
    "\n",
    "        # raw_data_path, analysis_data_path = create_data_path(year, month, day, ebeam_scan_numbers[1])\n",
    "        # analysis_settings = get_analysis_settings(device, None)\n",
    "    \n",
    "        # full_process(year,month,day,s_num,device, None, show_image = True, plot_label = None)\n",
    "        scan_numbers.append(s_num)\n",
    "        \n",
    "    create_image_grids(device, scan_numbers,undulator_scan_dir,year,month,day,figsize=(5,20),grid_rows=8,grid_cols=1,static_device=True ,normalize=True, scaling=scaling[j])"
   ]
  },
  {
   "cell_type": "code",
   "execution_count": 7,
   "id": "f1f3e63d-0499-4df9-865f-aa954d0140de",
   "metadata": {},
   "outputs": [],
   "source": [
    "# # spot check a single scan, device combo\n",
    "\n",
    "# scan_number = 40\n",
    "# year = '2024'\n",
    "# month = 'Mar'\n",
    "# day = '21'\n",
    "# device = \"UC_UndulatorRad2\"\n",
    "# station = 'Station3'\n",
    "# # device = \"UC_VisaEBeam2\"\n",
    "# # station = None\n",
    "# full_process(year, month, day, scan_number, device, station)"
   ]
  },
  {
   "cell_type": "code",
   "execution_count": 352,
   "id": "bc18f928-278e-4eae-81d8-b7da7ce3b281",
   "metadata": {},
   "outputs": [],
   "source": [
    "# fig_paths = []\n",
    "# all_coords=[]\n",
    "# for i in [1,2,3,4,5,6,7,8]:\n",
    "#     device = \"UC_UndulatorRad2\"\n",
    "#     scan_number = 37+i\n",
    "#     fig_path, coords = full_process(year, month, day, scan_number, device, f\"Station{i}\")\n",
    "#     fig_paths.append(fig_path)\n",
    "#     all_coords.append(coords)\n",
    "\n",
    "# fig_paths = []\n",
    "# all_coords=[]\n",
    "# for i in [1,2,3,4,5,6,7,8]:\n",
    "#     device = \"UC_UndulatorRad2\"\n",
    "#     scan_number = 37+i\n",
    "#     fig_path, coords = full_process(year, month, day, scan_number, device, f\"Station{i}\")\n",
    "#     fig_paths.append(fig_path)\n",
    "#     all_coords.append(coords)\n"
   ]
  },
  {
   "cell_type": "code",
   "execution_count": 8,
   "id": "0de91c9a-26bc-47ee-9225-c67ea3e2b5ca",
   "metadata": {},
   "outputs": [],
   "source": [
    "# grid_rows = 2\n",
    "# grid_cols = 4\n",
    "# fig, axs = plt.subplots(grid_rows, grid_cols, figsize=(15, 7))\n",
    "\n",
    "# for ax, plot_path in zip(axs.flat, fig_paths):\n",
    "#     img = plt.imread(plot_path)\n",
    "#     ax.imshow(img)\n",
    "#     ax.axis('off')  # Optionally hide the axis\n",
    "\n",
    "# # Adjust layout\n",
    "# plt.tight_layout()\n",
    "# plt.show()"
   ]
  },
  {
   "cell_type": "code",
   "execution_count": 248,
   "id": "7e0b81b9-8474-4ee3-afaf-e959ffc38c01",
   "metadata": {},
   "outputs": [],
   "source": []
  },
  {
   "cell_type": "code",
   "execution_count": 369,
   "id": "dac8c104-76d7-4668-8200-3a756ccf08f3",
   "metadata": {},
   "outputs": [
    {
     "name": "stdout",
     "output_type": "stream",
     "text": [
      "Created or found existing directory: /Volumes/vol1/data/Undulator/Y2024/03-Mar/24_0321/analysis/undulator_screen_scan2\n"
     ]
    }
   ],
   "source": [
    "# scan_number = 46\n",
    "# year = '2024'\n",
    "# month = 'Mar'\n",
    "# day = '21'\n",
    "# st = 900\n",
    "# scan_dir_base, analysis_dir_base = create_data_path(year, month, day, scan_number)\n",
    "\n",
    "# create_avg_image(scan_dir_base, analysis_dir_base, f'UC_VisaEBeam{st}', show_image = True)\n",
    "# create_avg_image(scan_dir_base, analysis_dir_base, f'UC_UndulatorRad2',station = f'Station{st}', show_image = True)\n"
   ]
  }
 ],
 "metadata": {
  "kernelspec": {
   "display_name": "Python 3 (ipykernel)",
   "language": "python",
   "name": "python3"
  },
  "language_info": {
   "codemirror_mode": {
    "name": "ipython",
    "version": 3
   },
   "file_extension": ".py",
   "mimetype": "text/x-python",
   "name": "python",
   "nbconvert_exporter": "python",
   "pygments_lexer": "ipython3",
   "version": "3.10.13"
  }
 },
 "nbformat": 4,
 "nbformat_minor": 5
}
