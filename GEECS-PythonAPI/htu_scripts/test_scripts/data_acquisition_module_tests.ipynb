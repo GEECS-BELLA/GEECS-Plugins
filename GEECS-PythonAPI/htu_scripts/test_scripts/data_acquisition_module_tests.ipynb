{
 "cells": [
  {
   "cell_type": "code",
   "execution_count": 1,
   "id": "8ada9346-a841-4359-ba46-9a0f6d380206",
   "metadata": {},
   "outputs": [
    {
     "name": "stdout",
     "output_type": "stream",
     "text": [
      "path config ../../../../user data/Configurations.INI\n",
      "database name  loasis\n",
      "default experiment is: Undulator\n"
     ]
    }
   ],
   "source": [
    "from geecs_python_api.controls.interface import load_config\n",
    "from geecs_python_api.controls.interface import GeecsDatabase\n",
    "from geecs_python_api.controls.devices.geecs_device import GeecsDevice\n",
    "from geecs_python_api.controls.interface.geecs_errors import ErrorAPI\n",
    "from geecs_python_api.controls.data_acquisition import ScanManager, SoundPlayer, DataInterface\n",
    "from geecs_python_api.controls.data_acquisition import visa_config_generator\n",
    "from geecs_python_api.controls.data_acquisition.scan_analysis import CameraImageAnalysis\n",
    "\n",
    "import time"
   ]
  },
  {
   "cell_type": "code",
   "execution_count": null,
   "id": "bf722a55-2c68-4e9e-8209-23bb91312a70",
   "metadata": {},
   "outputs": [],
   "source": []
  },
  {
   "cell_type": "code",
   "execution_count": 2,
   "id": "d61d9496-99f5-4aaa-a791-92441dbe9671",
   "metadata": {},
   "outputs": [
    {
     "name": "stderr",
     "output_type": "stream",
     "text": [
      "2024-10-31 14:01:11,118 [INFO] Logging session started.\n"
     ]
    }
   ],
   "source": [
    "# Example usage for DataLogger\n",
    "experiment_dir = 'Undulator'\n",
    "shot_control_device = 'U_DG645_ShotControl'\n",
    "scan_manager = ScanManager(experiment_dir=experiment_dir, shot_control_device = shot_control_device)"
   ]
  },
  {
   "cell_type": "code",
   "execution_count": 4,
   "id": "dc32ab08-55ef-4d42-b430-39610088b3fa",
   "metadata": {},
   "outputs": [],
   "source": [
    "#test scan for a composite variable scan below, combined with using the reinitialize method\n",
    "for i in range(8):\n",
    "    file1 = f'visa{i+1}_spectrometer_setup.yaml'\n",
    "    print(file1)\n",
    "    \n",
    "    scan_config = {'device_var': 'ALine_e_beam_position_offset_x', 'start': -1, 'end': 1, 'step': 0.25, 'wait_time': 25.5, 'additional_description':'steering scan in undulator after better match'}\n",
    "    \n",
    "    # scan_config = {'device_var': 'noscan', 'start': -1, 'end': 1, 'step': 0.25, 'wait_time': 5.5, 'additional_description':'saving blue beam on visa cameras'}\n",
    "    scan_manager.reinitialize(file1)\n",
    "    scan_manager.start_scan_thread(scan_config=scan_config)\n",
    "\n",
    "    while scan_manager.is_scanning_active():\n",
    "        time.sleep(10)"
   ]
  },
  {
   "cell_type": "code",
   "execution_count": 3,
   "id": "13dbbfc3-d6e9-47c1-8ab1-8109ab54d9f4",
   "metadata": {},
   "outputs": [],
   "source": [
    "# log_df = scan_manager.scan_data_manager.convert_to_dataframe(scan_manager.results)\n",
    "# log_df"
   ]
  },
  {
   "cell_type": "code",
   "execution_count": 4,
   "id": "b575ab8c-b8ac-4396-9b37-0812a0f8fea9",
   "metadata": {},
   "outputs": [],
   "source": [
    "# scan_manager.pause_scan()"
   ]
  },
  {
   "cell_type": "code",
   "execution_count": null,
   "id": "d9b8f5d1-9bf6-4d14-9bb3-b37838ee17c2",
   "metadata": {},
   "outputs": [],
   "source": [
    "scan_manager.resume_scan()"
   ]
  },
  {
   "cell_type": "code",
   "execution_count": 4,
   "id": "74d3faf7-5798-4500-baa4-bb757e6e0723",
   "metadata": {},
   "outputs": [],
   "source": [
    "# def inspect_timestamp_columns(df):\n",
    "#     # Filter for columns that contain 'timestamp' in their name\n",
    "#     timestamp_columns = [col for col in df.columns if 'timestamp' in col]\n",
    "    \n",
    "#     # Display or return the filtered columns\n",
    "#     return df[timestamp_columns]\n",
    "\n",
    "# inspect_timestamp_columns(log_df)"
   ]
  },
  {
   "cell_type": "code",
   "execution_count": 5,
   "id": "58b377c4-2a7c-4d7b-b5cd-d9d2d2684ea4",
   "metadata": {},
   "outputs": [],
   "source": [
    "# scan_manager.resume_scan()"
   ]
  }
 ],
 "metadata": {
  "kernelspec": {
   "display_name": "Python 3 (ipykernel)",
   "language": "python",
   "name": "python3"
  },
  "language_info": {
   "codemirror_mode": {
    "name": "ipython",
    "version": 3
   },
   "file_extension": ".py",
   "mimetype": "text/x-python",
   "name": "python",
   "nbconvert_exporter": "python",
   "pygments_lexer": "ipython3",
   "version": "3.10.13"
  }
 },
 "nbformat": 4,
 "nbformat_minor": 5
}
