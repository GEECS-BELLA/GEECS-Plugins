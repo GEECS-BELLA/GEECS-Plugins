{
 "cells": [
  {
   "cell_type": "code",
   "execution_count": 1,
   "id": "8ada9346-a841-4359-ba46-9a0f6d380206",
   "metadata": {},
   "outputs": [
    {
     "name": "stdout",
     "output_type": "stream",
     "text": [
      "path config ../../../../user data/Configurations.INI\n",
      "database name  loasis\n",
      "default experiment is: Undulator\n"
     ]
    }
   ],
   "source": [
    "from geecs_python_api.controls.interface import load_config\n",
    "from geecs_python_api.controls.interface import GeecsDatabase\n",
    "from geecs_python_api.controls.devices.geecs_device import GeecsDevice\n",
    "from geecs_python_api.controls.interface.geecs_errors import ErrorAPI\n",
    "from geecs_python_api.controls.data_acquisition import ScanManager, SoundPlayer, DataInterface\n",
    "from geecs_python_api.controls.data_acquisition import visa_config_generator\n",
    "from geecs_python_api.controls.data_acquisition.scan_analysis import CameraImageAnalysis"
   ]
  },
  {
   "cell_type": "code",
   "execution_count": 9,
   "id": "d61d9496-99f5-4aaa-a791-92441dbe9671",
   "metadata": {},
   "outputs": [
    {
     "name": "stderr",
     "output_type": "stream",
     "text": [
      "2024-10-25 19:12:46,226 [INFO] Loaded composite variables from /Users/samuelbarber/Desktop/Github_repos/GEECS-Plugins/GEECS-PythonAPI/geecs_python_api/controls/data_acquisition/configs/experiments/Undulator/aux_configs/composite_variables.yaml\n",
      "2024-10-25 19:12:46,256 [INFO] Loaded master actions from /Users/samuelbarber/Desktop/Github_repos/GEECS-Plugins/GEECS-PythonAPI/geecs_python_api/controls/data_acquisition/configs/experiments/Undulator/aux_configs/actions.yaml\n",
      "2024-10-25 19:12:46,470 [INFO] Logging session started.\n"
     ]
    }
   ],
   "source": [
    "# Example usage for DataLogger\n",
    "experiment_dir = 'Undulator'\n",
    "scan_manager = ScanManager(experiment_dir=experiment_dir)\n",
    "\n",
    "# Create specialize configuration or just load pre defined config\n",
    "file1 = visa_config_generator('visa8','spectrometer')\n",
    "# file1 = 'BCaveMagSpec.yaml'\n",
    "\n",
    "# scan_manager.reinitialize(file1)"
   ]
  },
  {
   "cell_type": "code",
   "execution_count": 2,
   "id": "cbf66a30-771c-493b-8cff-0d2d61bc9549",
   "metadata": {},
   "outputs": [],
   "source": [
    "#test config for a noscan below\n",
    "scan_config = {'device_var': 'ALine_e_beam_position_offset_x', 'start': -1, 'end': 1, 'step': 2, 'wait_time': 5.5, 'additional_description':'Testing out new python data acquisition module'}\n",
    "\n",
    "scan_manager.start_scan_thread(scan_config=scan_config)"
   ]
  },
  {
   "cell_type": "code",
   "execution_count": null,
   "id": "dc32ab08-55ef-4d42-b430-39610088b3fa",
   "metadata": {},
   "outputs": [],
   "source": [
    "#test scan for a composite variable scan below, combined with using the reinitialize method\n",
    "scan_config = {'device_var': 'ALine_e_beam_position_offset_x', 'start': -1, 'end': 1, 'step': 2, 'wait_time': 5.5, 'additional_description':'Testing out new python data acquisition module'}\n",
    "scan_manager.reinitialize(file1)\n",
    "scan_manager.start_scan_thread(scan_config=scan_config)"
   ]
  },
  {
   "cell_type": "code",
   "execution_count": 3,
   "id": "13dbbfc3-d6e9-47c1-8ab1-8109ab54d9f4",
   "metadata": {},
   "outputs": [],
   "source": [
    "# log_df = scan_manager.scan_data_manager.convert_to_dataframe(scan_manager.results)\n",
    "# log_df"
   ]
  },
  {
   "cell_type": "code",
   "execution_count": 4,
   "id": "74d3faf7-5798-4500-baa4-bb757e6e0723",
   "metadata": {},
   "outputs": [],
   "source": [
    "# def inspect_timestamp_columns(df):\n",
    "#     # Filter for columns that contain 'timestamp' in their name\n",
    "#     timestamp_columns = [col for col in df.columns if 'timestamp' in col]\n",
    "    \n",
    "#     # Display or return the filtered columns\n",
    "#     return df[timestamp_columns]\n",
    "\n",
    "# inspect_timestamp_columns(log_df)"
   ]
  },
  {
   "cell_type": "code",
   "execution_count": 2,
   "id": "58b377c4-2a7c-4d7b-b5cd-d9d2d2684ea4",
   "metadata": {},
   "outputs": [],
   "source": [
    "d_interface = DataInterface()"
   ]
  },
  {
   "cell_type": "code",
   "execution_count": 10,
   "id": "7b9ff5dc-6375-432a-82ad-efe6381404af",
   "metadata": {},
   "outputs": [],
   "source": [
    "d_interface.local_scan_dir_base\n",
    "d_interface.reset_date('2024','Oct', '24')\n",
    "d_path = (d_interface.create_data_path(30))[0] / 'Scan038'\n",
    "\n",
    "scan_dir = d_path\n",
    "data_subdir = 'UC_VisaEBeam4'\n",
    "analysis = CameraImageAnalysis(scan_dir, data_subdir,use_gui=False)\n",
    "analysis.run_analysis()"
   ]
  }
 ],
 "metadata": {
  "kernelspec": {
   "display_name": "Python 3 (ipykernel)",
   "language": "python",
   "name": "python3"
  },
  "language_info": {
   "codemirror_mode": {
    "name": "ipython",
    "version": 3
   },
   "file_extension": ".py",
   "mimetype": "text/x-python",
   "name": "python",
   "nbconvert_exporter": "python",
   "pygments_lexer": "ipython3",
   "version": "3.10.13"
  }
 },
 "nbformat": 4,
 "nbformat_minor": 5
}
