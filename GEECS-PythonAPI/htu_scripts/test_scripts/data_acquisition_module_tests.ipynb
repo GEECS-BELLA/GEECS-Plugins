{
 "cells": [
  {
   "cell_type": "code",
   "execution_count": 1,
   "id": "8ada9346-a841-4359-ba46-9a0f6d380206",
   "metadata": {},
   "outputs": [
    {
     "name": "stdout",
     "output_type": "stream",
     "text": [
      "path config ../../../../user data/Configurations.INI\n",
      "database name  loasis\n",
      "default experiment is: Undulator\n"
     ]
    }
   ],
   "source": [
    "from geecs_python_api.controls.interface import load_config\n",
    "from geecs_python_api.controls.interface import GeecsDatabase\n",
    "from geecs_python_api.controls.devices.geecs_device import GeecsDevice\n",
    "from geecs_python_api.controls.interface.geecs_errors import ErrorAPI\n",
    "from geecs_python_api.controls.data_acquisition import ScanManager, SoundPlayer, DataInterface\n",
    "from geecs_python_api.controls.data_acquisition import visa_config_generator\n",
    "from geecs_python_api.controls.data_acquisition.scan_analysis import CameraImageAnalysis"
   ]
  },
  {
   "cell_type": "code",
   "execution_count": 2,
   "id": "d61d9496-99f5-4aaa-a791-92441dbe9671",
   "metadata": {},
   "outputs": [
    {
     "name": "stderr",
     "output_type": "stream",
     "text": [
      "2024-10-29 16:05:38,822 [INFO] Logging session started.\n",
      "2024-10-29 16:05:38,837 [INFO] DeviceManager instance has been reset and is ready for reinitialization.\n",
      "2024-10-29 16:05:38,842 [INFO] Loaded configuration from /Users/samuelbarber/Desktop/Github_repos/GEECS-Plugins/GEECS-PythonAPI/geecs_python_api/controls/data_acquisition/configs/experiments/Undulator/save_devices/visa1_spectrometer_setup.yaml\n",
      "2024-10-29 16:05:38,843 [INFO] UC_UndulatorRad2: Post Analysis = None\n",
      "2024-10-29 16:05:38,844 [INFO] UC_UndulatorRad2: Synchronous = True, Save_Non_Scalar = True\n",
      "2024-10-29 16:05:38,920 [INFO] Subscribing UC_UndulatorRad2 to variables: ['MeanCounts', 'timestamp']\n",
      "2024-10-29 16:05:38,928 [INFO] Added setup and closeout actions for UC_UndulatorRad2: Analysis (setup=on, closeout=off)\n",
      "2024-10-29 16:05:38,929 [INFO] UC_VisaEBeam1: Post Analysis = CameraImageAnalysis\n",
      "2024-10-29 16:05:38,930 [INFO] UC_VisaEBeam1: Synchronous = True, Save_Non_Scalar = True\n",
      "2024-10-29 16:05:39,024 [INFO] Subscribing UC_VisaEBeam1 to variables: ['timestamp']\n",
      "2024-10-29 16:05:39,029 [INFO] Devices loaded: dict_keys(['UC_UndulatorRad2', 'UC_VisaEBeam1'])\n",
      "2024-10-29 16:05:39,030 [INFO] Loaded scan info: collecting data on visa1EBeam and UC_UndulatorRad2\n",
      "2024-10-29 16:05:39,031 [INFO] DeviceManager instance has been reinitialized.\n",
      "2024-10-29 16:05:39,034 [INFO] Logging session started.\n"
     ]
    },
    {
     "name": "stdout",
     "output_type": "stream",
     "text": [
      "Logging has been stopped and handlers have been removed.\n"
     ]
    }
   ],
   "source": [
    "# Example usage for DataLogger\n",
    "experiment_dir = 'Undulator'\n",
    "scan_manager = ScanManager(experiment_dir=experiment_dir)\n",
    "\n",
    "# Create specialize configuration or just load pre defined config\n",
    "file1 = visa_config_generator('visa1','spectrometer')\n",
    "# file1 = 'BCaveMagSpec.yaml'\n",
    "\n",
    "scan_manager.reinitialize(file1)"
   ]
  },
  {
   "cell_type": "code",
   "execution_count": 3,
   "id": "cbf66a30-771c-493b-8cff-0d2d61bc9549",
   "metadata": {},
   "outputs": [
    {
     "name": "stderr",
     "output_type": "stream",
     "text": [
      "2024-10-29 16:06:51,776 [INFO] Evaluating relation: -1 * 1\n",
      "2024-10-29 16:06:51,779 [INFO] Evaluating relation: -1 * -1\n",
      "2024-10-29 16:06:51,781 [INFO] Evaluating relation: -0.75 * 1\n",
      "2024-10-29 16:06:51,782 [INFO] Evaluating relation: -0.75 * -1\n",
      "2024-10-29 16:06:51,783 [INFO] Evaluating relation: -0.5 * 1\n",
      "2024-10-29 16:06:51,785 [INFO] Evaluating relation: -0.5 * -1\n",
      "2024-10-29 16:06:51,787 [INFO] Evaluating relation: -0.25 * 1\n",
      "2024-10-29 16:06:51,788 [INFO] Evaluating relation: -0.25 * -1\n",
      "2024-10-29 16:06:51,789 [INFO] Evaluating relation: 0.0 * 1\n",
      "2024-10-29 16:06:51,790 [INFO] Evaluating relation: 0.0 * -1\n",
      "2024-10-29 16:06:51,791 [INFO] Evaluating relation: 0.25 * 1\n",
      "2024-10-29 16:06:51,791 [INFO] Evaluating relation: 0.25 * -1\n",
      "2024-10-29 16:06:51,792 [INFO] Evaluating relation: 0.5 * 1\n",
      "2024-10-29 16:06:51,793 [INFO] Evaluating relation: 0.5 * -1\n",
      "2024-10-29 16:06:51,794 [INFO] Evaluating relation: 0.75 * 1\n",
      "2024-10-29 16:06:51,794 [INFO] Evaluating relation: 0.75 * -1\n",
      "2024-10-29 16:06:51,795 [INFO] Evaluating relation: 1.0 * 1\n",
      "2024-10-29 16:06:51,795 [INFO] Evaluating relation: 1.0 * -1\n"
     ]
    },
    {
     "name": "stdout",
     "output_type": "stream",
     "text": [
      "self.virtual_variable_list:  [-1, -0.75, -0.5, -0.25, 0.0, 0.25, 0.5, 0.75, 1.0]\n"
     ]
    },
    {
     "ename": "TypeError",
     "evalue": "argument of type 'NoneType' is not iterable",
     "output_type": "error",
     "traceback": [
      "\u001b[0;31m---------------------------------------------------------------------------\u001b[0m",
      "\u001b[0;31mTypeError\u001b[0m                                 Traceback (most recent call last)",
      "\u001b[0;32m/var/folders/ps/y3s1qk3s7fvfdx7gbd9r7v380000gn/T/ipykernel_28082/3334918955.py\u001b[0m in \u001b[0;36m<cell line: 4>\u001b[0;34m()\u001b[0m\n\u001b[1;32m      2\u001b[0m \u001b[0mscan_config\u001b[0m \u001b[0;34m=\u001b[0m \u001b[0;34m{\u001b[0m\u001b[0;34m'device_var'\u001b[0m\u001b[0;34m:\u001b[0m \u001b[0;34m'ALine_e_beam_position_offset_x'\u001b[0m\u001b[0;34m,\u001b[0m \u001b[0;34m'start'\u001b[0m\u001b[0;34m:\u001b[0m \u001b[0;34m-\u001b[0m\u001b[0;36m1\u001b[0m\u001b[0;34m,\u001b[0m \u001b[0;34m'end'\u001b[0m\u001b[0;34m:\u001b[0m \u001b[0;36m1\u001b[0m\u001b[0;34m,\u001b[0m \u001b[0;34m'step'\u001b[0m\u001b[0;34m:\u001b[0m \u001b[0;36m0.25\u001b[0m\u001b[0;34m,\u001b[0m \u001b[0;34m'wait_time'\u001b[0m\u001b[0;34m:\u001b[0m \u001b[0;36m5.5\u001b[0m\u001b[0;34m,\u001b[0m \u001b[0;34m'additional_description'\u001b[0m\u001b[0;34m:\u001b[0m\u001b[0;34m'Testing out new python data acquisition module'\u001b[0m\u001b[0;34m}\u001b[0m\u001b[0;34m\u001b[0m\u001b[0;34m\u001b[0m\u001b[0m\n\u001b[1;32m      3\u001b[0m \u001b[0;34m\u001b[0m\u001b[0m\n\u001b[0;32m----> 4\u001b[0;31m \u001b[0mscan_manager\u001b[0m\u001b[0;34m.\u001b[0m\u001b[0m_generate_scan_steps\u001b[0m\u001b[0;34m(\u001b[0m\u001b[0mscan_config\u001b[0m\u001b[0;34m=\u001b[0m\u001b[0mscan_config\u001b[0m\u001b[0;34m)\u001b[0m\u001b[0;34m\u001b[0m\u001b[0;34m\u001b[0m\u001b[0m\n\u001b[0m",
      "\u001b[0;32m~/Desktop/Github_repos/GEECS-Plugins/GEECS-PythonAPI/geecs_python_api/controls/data_acquisition/scan_manager.py\u001b[0m in \u001b[0;36m_generate_scan_steps\u001b[0;34m(self, scan_config)\u001b[0m\n\u001b[1;32m    703\u001b[0m \u001b[0;34m\u001b[0m\u001b[0m\n\u001b[1;32m    704\u001b[0m         \u001b[0;32mif\u001b[0m \u001b[0mrelative_flag\u001b[0m \u001b[0;32mand\u001b[0m \u001b[0;32mnot\u001b[0m \u001b[0mself\u001b[0m\u001b[0;34m.\u001b[0m\u001b[0mdevice_manager\u001b[0m\u001b[0;34m.\u001b[0m\u001b[0mis_statistic_noscan\u001b[0m\u001b[0;34m(\u001b[0m\u001b[0mdevice_var\u001b[0m\u001b[0;34m)\u001b[0m\u001b[0;34m:\u001b[0m\u001b[0;34m\u001b[0m\u001b[0;34m\u001b[0m\u001b[0m\n\u001b[0;32m--> 705\u001b[0;31m             \u001b[0mself\u001b[0m\u001b[0;34m.\u001b[0m\u001b[0m_apply_relative_adjustment\u001b[0m\u001b[0;34m(\u001b[0m\u001b[0msteps\u001b[0m\u001b[0;34m)\u001b[0m\u001b[0;34m\u001b[0m\u001b[0;34m\u001b[0m\u001b[0m\n\u001b[0m\u001b[1;32m    706\u001b[0m \u001b[0;34m\u001b[0m\u001b[0m\n\u001b[1;32m    707\u001b[0m         \u001b[0;32mreturn\u001b[0m \u001b[0msteps\u001b[0m\u001b[0;34m\u001b[0m\u001b[0;34m\u001b[0m\u001b[0m\n",
      "\u001b[0;32m~/Desktop/Github_repos/GEECS-Plugins/GEECS-PythonAPI/geecs_python_api/controls/data_acquisition/scan_manager.py\u001b[0m in \u001b[0;36m_apply_relative_adjustment\u001b[0;34m(self, scan_steps)\u001b[0m\n\u001b[1;32m    720\u001b[0m             \u001b[0;32mfor\u001b[0m \u001b[0mdevice_var\u001b[0m\u001b[0;34m,\u001b[0m \u001b[0mvalue\u001b[0m \u001b[0;32min\u001b[0m \u001b[0mstep\u001b[0m\u001b[0;34m[\u001b[0m\u001b[0;34m'variables'\u001b[0m\u001b[0;34m]\u001b[0m\u001b[0;34m.\u001b[0m\u001b[0mitems\u001b[0m\u001b[0;34m(\u001b[0m\u001b[0;34m)\u001b[0m\u001b[0;34m:\u001b[0m\u001b[0;34m\u001b[0m\u001b[0;34m\u001b[0m\u001b[0m\n\u001b[1;32m    721\u001b[0m                 \u001b[0;31m# Add the initial state value to the step value for each device\u001b[0m\u001b[0;34m\u001b[0m\u001b[0;34m\u001b[0m\u001b[0m\n\u001b[0;32m--> 722\u001b[0;31m                 \u001b[0;32mif\u001b[0m \u001b[0mdevice_var\u001b[0m \u001b[0;32min\u001b[0m \u001b[0mself\u001b[0m\u001b[0;34m.\u001b[0m\u001b[0minitial_state\u001b[0m\u001b[0;34m:\u001b[0m\u001b[0;34m\u001b[0m\u001b[0;34m\u001b[0m\u001b[0m\n\u001b[0m\u001b[1;32m    723\u001b[0m                     \u001b[0minitial_value\u001b[0m \u001b[0;34m=\u001b[0m \u001b[0mself\u001b[0m\u001b[0;34m.\u001b[0m\u001b[0minitial_state\u001b[0m\u001b[0;34m[\u001b[0m\u001b[0mdevice_var\u001b[0m\u001b[0;34m]\u001b[0m\u001b[0;34m[\u001b[0m\u001b[0;34m'value'\u001b[0m\u001b[0;34m]\u001b[0m\u001b[0;34m\u001b[0m\u001b[0;34m\u001b[0m\u001b[0m\n\u001b[1;32m    724\u001b[0m                     \u001b[0mstep\u001b[0m\u001b[0;34m[\u001b[0m\u001b[0;34m'variables'\u001b[0m\u001b[0;34m]\u001b[0m\u001b[0;34m[\u001b[0m\u001b[0mdevice_var\u001b[0m\u001b[0;34m]\u001b[0m \u001b[0;34m+=\u001b[0m \u001b[0minitial_value\u001b[0m\u001b[0;34m\u001b[0m\u001b[0;34m\u001b[0m\u001b[0m\n",
      "\u001b[0;31mTypeError\u001b[0m: argument of type 'NoneType' is not iterable"
     ]
    }
   ],
   "source": [
    "#test config for a noscan below\n",
    "scan_config = {'device_var': 'ALine_e_beam_position_offset_x', 'start': -1, 'end': 1, 'step': 0.25, 'wait_time': 5.5, 'additional_description':'Testing out new python data acquisition module'}\n",
    "\n",
    "scan_manager._generate_scan_steps(scan_config=scan_config)"
   ]
  },
  {
   "cell_type": "code",
   "execution_count": null,
   "id": "dc32ab08-55ef-4d42-b430-39610088b3fa",
   "metadata": {},
   "outputs": [],
   "source": [
    "#test scan for a composite variable scan below, combined with using the reinitialize method\n",
    "scan_config = {'device_var': 'ALine_e_beam_position_offset_x', 'start': -1, 'end': 1, 'step': 2, 'wait_time': 5.5, 'additional_description':'Testing out new python data acquisition module'}\n",
    "scan_manager.reinitialize(file1)\n",
    "scan_manager.start_scan_thread(scan_config=scan_config)"
   ]
  },
  {
   "cell_type": "code",
   "execution_count": 3,
   "id": "13dbbfc3-d6e9-47c1-8ab1-8109ab54d9f4",
   "metadata": {},
   "outputs": [],
   "source": [
    "# log_df = scan_manager.scan_data_manager.convert_to_dataframe(scan_manager.results)\n",
    "# log_df"
   ]
  },
  {
   "cell_type": "code",
   "execution_count": 4,
   "id": "74d3faf7-5798-4500-baa4-bb757e6e0723",
   "metadata": {},
   "outputs": [],
   "source": [
    "# def inspect_timestamp_columns(df):\n",
    "#     # Filter for columns that contain 'timestamp' in their name\n",
    "#     timestamp_columns = [col for col in df.columns if 'timestamp' in col]\n",
    "    \n",
    "#     # Display or return the filtered columns\n",
    "#     return df[timestamp_columns]\n",
    "\n",
    "# inspect_timestamp_columns(log_df)"
   ]
  },
  {
   "cell_type": "code",
   "execution_count": 2,
   "id": "58b377c4-2a7c-4d7b-b5cd-d9d2d2684ea4",
   "metadata": {},
   "outputs": [],
   "source": [
    "d_interface = DataInterface()"
   ]
  },
  {
   "cell_type": "code",
   "execution_count": null,
   "id": "7b9ff5dc-6375-432a-82ad-efe6381404af",
   "metadata": {},
   "outputs": [
    {
     "name": "stderr",
     "output_type": "stream",
     "text": [
      "WARNING:root:unique_bins: [1 2 3 4 5 6 7 8 9]\n"
     ]
    },
    {
     "name": "stdout",
     "output_type": "stream",
     "text": [
      "binned_param_values: [-1.   -0.5   0.    0.5   1.   -1.   -0.75 -0.5  -0.25]\n"
     ]
    }
   ],
   "source": [
    "d_interface.local_scan_dir_base\n",
    "d_interface.reset_date('2024','Oct', '29')\n",
    "d_path = (d_interface.create_data_path(30))[0] / 'Scan017'\n",
    "\n",
    "scan_dir = d_path\n",
    "data_subdir = 'UC_VisaEBeam1'\n",
    "# data_subdir = 'UC_UndulatorRad2'\n",
    "\n",
    "analysis = CameraImageAnalysis(scan_dir, data_subdir,use_gui=False)\n",
    "analysis.run_analysis()"
   ]
  },
  {
   "cell_type": "code",
   "execution_count": null,
   "id": "7055bed7-2e42-48a8-8206-fdb9c216d9f9",
   "metadata": {},
   "outputs": [],
   "source": []
  },
  {
   "cell_type": "code",
   "execution_count": null,
   "id": "608f8425-ecff-40a4-9abd-70f6b8459cdc",
   "metadata": {},
   "outputs": [],
   "source": []
  }
 ],
 "metadata": {
  "kernelspec": {
   "display_name": "Python 3 (ipykernel)",
   "language": "python",
   "name": "python3"
  },
  "language_info": {
   "codemirror_mode": {
    "name": "ipython",
    "version": 3
   },
   "file_extension": ".py",
   "mimetype": "text/x-python",
   "name": "python",
   "nbconvert_exporter": "python",
   "pygments_lexer": "ipython3",
   "version": "3.10.13"
  }
 },
 "nbformat": 4,
 "nbformat_minor": 5
}
