{
 "cells": [
  {
   "cell_type": "code",
   "execution_count": 1,
   "id": "8ada9346-a841-4359-ba46-9a0f6d380206",
   "metadata": {},
   "outputs": [
    {
     "name": "stdout",
     "output_type": "stream",
     "text": [
      "path config ..\\..\\..\\..\\..\\..\\user data\\Configurations.INI\n",
      "database name  loasis\n"
     ]
    },
    {
     "name": "stderr",
     "output_type": "stream",
     "text": [
      "2024-12-05 19:36:04,918 - root - INFO - default experiment is: Undulator\n"
     ]
    }
   ],
   "source": [
    "from geecs_python_api.controls.interface import load_config\n",
    "from geecs_python_api.controls.interface import GeecsDatabase\n",
    "from geecs_python_api.controls.devices.geecs_device import GeecsDevice\n",
    "from geecs_python_api.controls.interface.geecs_errors import ErrorAPI\n",
    "from geecs_python_api.controls.data_acquisition import ScanManager, SoundPlayer\n",
    "from geecs_python_api.controls.data_acquisition.scan_manager import ScanDataManager\n",
    "from geecs_python_api.controls.data_acquisition.scan_manager import ScanDataManager\n",
    "\n",
    "from geecs_python_api.analysis.scans.scan_data import ScanData \n",
    "from geecs_python_api.controls.api_defs import SysPath, ScanTag, month_to_int\n",
    "\n",
    "from geecs_python_api.controls.data_acquisition import visa_config_generator\n",
    "# from geecs_python_api.controls.data_acquisition.scan_analysis import CameraImageAnalysis\n",
    "\n",
    "import time"
   ]
  },
  {
   "cell_type": "code",
   "execution_count": 4,
   "id": "69bebaf2-5046-4d95-8dcf-858a55170996",
   "metadata": {},
   "outputs": [],
   "source": [
    "# for i in range(9,35):\n",
    "#     print(i)\n",
    "#     st = ScanTag(2024,12,5,i)\n",
    "#     sd = ScanData(tag = st)\n",
    "#     sdm = ScanDataManager(None,sd)\n",
    "    \n",
    "#     sdm.scan_number_int = st.number\n",
    "#     sdm.parsed_scan_string = f\"Scan{sdm.scan_number_int:03}\"\n",
    "    \n",
    "#     sdm.process_and_rename()"
   ]
  },
  {
   "cell_type": "code",
   "execution_count": 10,
   "id": "d82efd7f-c251-4bcd-980e-858a6ec7f002",
   "metadata": {},
   "outputs": [
    {
     "data": {
      "text/plain": [
       "PosixPath('/Users/samuelbarber/Desktop/Github_repos/GEECS-Plugins/GEECS-PythonAPI/geecs_python_api/controls/data_acquisition/configs/experiments/Undulator/save_devices/visa9_spectrometer_setup.yaml')"
      ]
     },
     "execution_count": 10,
     "metadata": {},
     "output_type": "execute_result"
    }
   ],
   "source": [
    "visa_config_generator('visa9', \"spectrometer\")\n"
   ]
  },
  {
   "cell_type": "code",
   "execution_count": 7,
   "id": "3272b3ea-8a4c-4855-a99b-0eb79802dd50",
   "metadata": {},
   "outputs": [
    {
     "data": {
      "text/plain": [
       "19"
      ]
     },
     "execution_count": 7,
     "metadata": {},
     "output_type": "execute_result"
    }
   ],
   "source": []
  },
  {
   "cell_type": "code",
   "execution_count": 2,
   "id": "d61d9496-99f5-4aaa-a791-92441dbe9671",
   "metadata": {},
   "outputs": [
    {
     "name": "stderr",
     "output_type": "stream",
     "text": [
      "2024-11-27 16:25:28,328 - root - INFO - Loaded composite variables from /Users/samuelbarber/Desktop/Github_repos/GEECS-Plugins/GEECS-PythonAPI/geecs_python_api/controls/data_acquisition/configs/experiments/Undulator/aux_configs/composite_variables.yaml\n",
      "2024-11-27 16:25:28,342 - root - INFO - Loaded master actions from /Users/samuelbarber/Desktop/Github_repos/GEECS-Plugins/GEECS-PythonAPI/geecs_python_api/controls/data_acquisition/configs/experiments/Undulator/aux_configs/actions.yaml\n",
      "2024-11-27 16:25:28,600 [INFO] Logging session started.\n"
     ]
    }
   ],
   "source": [
    "# Example usage for DataLogger\n",
    "experiment_dir = 'Undulator'\n",
    "shot_control_device = 'U_DG645_ShotControl'\n",
    "scan_manager = ScanManager(experiment_dir=experiment_dir, shot_control_device = shot_control_device, MC_ip = '192.168.7.203')"
   ]
  },
  {
   "cell_type": "code",
   "execution_count": 9,
   "id": "1b817f96-21c0-4b40-835a-4dc64642db26",
   "metadata": {},
   "outputs": [],
   "source": [
    "# file1 = f'visa{0+1}_spectrometer_setup.yaml'\n",
    "# scan_config = {'device_var': 'ALine_e_beam_position_offset_x', 'start': -1, 'end': 1, 'step': 0.25, 'wait_time': 25.5, 'additional_description':'steering scan in undulator after better match'}\n",
    "    \n",
    "# scan_manager.reinitialize(file1)\n"
   ]
  },
  {
   "cell_type": "code",
   "execution_count": 10,
   "id": "79389a1f-e1f4-45d1-a949-e3717360817a",
   "metadata": {},
   "outputs": [],
   "source": [
    "# scan_config = {'device_var': 'ALine_e_beam_position_offset_x', 'start': -1, 'end': 1, 'step': 1, 'wait_time': 5.5, 'additional_description':'steering scan in undulator after better match'}\n",
    "\n",
    "# # scan_manager.pre_logging_setup(scan_config=scan_config)\n",
    "\n",
    "# scan_manager.start_scan_thread(scan_config=scan_config)"
   ]
  },
  {
   "cell_type": "code",
   "execution_count": 6,
   "id": "8952f5ad-6f69-4ee4-9d01-cd9b2ab09e48",
   "metadata": {},
   "outputs": [
    {
     "data": {
      "text/plain": [
       "PosixPath('/Volumes/hdna2/data/Undulator/Y2024/11-Nov/24_1127/analysis')"
      ]
     },
     "execution_count": 6,
     "metadata": {},
     "output_type": "execute_result"
    }
   ],
   "source": [
    "scan_manager.scan_data_manager.scan_data.get_analysis_folder().parent"
   ]
  },
  {
   "cell_type": "code",
   "execution_count": 6,
   "id": "8d0b5b31-7495-4cec-920b-f671e9932912",
   "metadata": {},
   "outputs": [
    {
     "name": "stderr",
     "output_type": "stream",
     "text": [
      "2024-11-27 15:35:08,731 [INFO] Created folder: /Volumes/hdna2/data/Undulator/Y2024/11-Nov/24_1127/scans/Scan013\n",
      "2024-11-27 15:35:08,782 [INFO] Setting save data path for UC_UndulatorRad2 to Z:\\data\\Undulator\\Y2024\\11-Nov\\24_1127\\scans\\Scan013\\UC_UndulatorRad2\n",
      "2024-11-27 15:35:09,174 [INFO] Setting save data path for UC_VisaEBeam1 to Z:\\data\\Undulator\\Y2024\\11-Nov\\24_1127\\scans\\Scan013\\UC_VisaEBeam1\n",
      "2024-11-27 15:35:09,538 [INFO] Setting save data path for U_BCaveICT to Z:\\data\\Undulator\\Y2024\\11-Nov\\24_1127\\scans\\Scan013\\U_BCaveICT\n",
      "2024-11-27 15:35:10,074 [INFO] TDMS writer initialized with path: /Volumes/hdna2/data/Undulator/Y2024/11-Nov/24_1127/scans/Scan013/Scan013.tdms\n"
     ]
    },
    {
     "data": {
      "text/plain": [
       "PosixPath('/Volumes/hdna2/data/Undulator/Y2024/11-Nov/24_1127/scans/Scan013')"
      ]
     },
     "execution_count": 6,
     "metadata": {},
     "output_type": "execute_result"
    }
   ],
   "source": [
    "scan_manager.scan_data_manager.create_and_set_data_paths()\n",
    "scan_manager.scan_data_manager.scan_data.get_folder()\n",
    "\n",
    "\n",
    "\n"
   ]
  },
  {
   "cell_type": "code",
   "execution_count": 9,
   "id": "b4f3667c-2bb9-4905-9ea8-30d704171519",
   "metadata": {},
   "outputs": [
    {
     "data": {
      "text/plain": [
       "PosixPath('/Volumes/hdna2/data/Undulator/Y2024/11-Nov/24_1127/analysis')"
      ]
     },
     "execution_count": 9,
     "metadata": {},
     "output_type": "execute_result"
    }
   ],
   "source": [
    "scan_manager.scan_data_manager.scan_data.get_analysis_folder().parent"
   ]
  },
  {
   "cell_type": "code",
   "execution_count": 4,
   "id": "dc32ab08-55ef-4d42-b430-39610088b3fa",
   "metadata": {},
   "outputs": [],
   "source": [
    "# #test scan for a composite variable scan below, combined with using the reinitialize method\n",
    "# for i in range(8):\n",
    "#     file1 = f'visa{i+1}_spectrometer_setup.yaml'\n",
    "#     print(file1)\n",
    "    \n",
    "#     scan_config = {'device_var': 'ALine_e_beam_position_offset_x', 'start': -1, 'end': 1, 'step': 0.25, 'wait_time': 25.5, 'additional_description':'steering scan in undulator after better match'}\n",
    "    \n",
    "#     # scan_config = {'device_var': 'noscan', 'start': -1, 'end': 1, 'step': 0.25, 'wait_time': 5.5, 'additional_description':'saving blue beam on visa cameras'}\n",
    "#     scan_manager.reinitialize(file1)\n",
    "#     scan_manager.start_scan_thread(scan_config=scan_config)\n",
    "\n",
    "#     while scan_manager.is_scanning_active():\n",
    "#         time.sleep(10)"
   ]
  },
  {
   "cell_type": "code",
   "execution_count": 3,
   "id": "13dbbfc3-d6e9-47c1-8ab1-8109ab54d9f4",
   "metadata": {},
   "outputs": [],
   "source": [
    "# log_df = scan_manager.scan_data_manager.convert_to_dataframe(scan_manager.results)\n",
    "# log_df"
   ]
  },
  {
   "cell_type": "code",
   "execution_count": 4,
   "id": "b575ab8c-b8ac-4396-9b37-0812a0f8fea9",
   "metadata": {},
   "outputs": [],
   "source": [
    "# scan_manager.pause_scan()"
   ]
  },
  {
   "cell_type": "code",
   "execution_count": null,
   "id": "d9b8f5d1-9bf6-4d14-9bb3-b37838ee17c2",
   "metadata": {},
   "outputs": [],
   "source": [
    "scan_manager.resume_scan()"
   ]
  },
  {
   "cell_type": "code",
   "execution_count": 4,
   "id": "74d3faf7-5798-4500-baa4-bb757e6e0723",
   "metadata": {},
   "outputs": [],
   "source": [
    "# def inspect_timestamp_columns(df):\n",
    "#     # Filter for columns that contain 'timestamp' in their name\n",
    "#     timestamp_columns = [col for col in df.columns if 'timestamp' in col]\n",
    "    \n",
    "#     # Display or return the filtered columns\n",
    "#     return df[timestamp_columns]\n",
    "\n",
    "# inspect_timestamp_columns(log_df)"
   ]
  },
  {
   "cell_type": "code",
   "execution_count": 5,
   "id": "58b377c4-2a7c-4d7b-b5cd-d9d2d2684ea4",
   "metadata": {},
   "outputs": [],
   "source": [
    "# scan_manager.resume_scan()"
   ]
  },
  {
   "cell_type": "code",
   "execution_count": 6,
   "id": "4f370963-a6e1-4ae4-8d53-fbba1b9b0894",
   "metadata": {},
   "outputs": [
    {
     "data": {
      "text/plain": [
       "10"
      ]
     },
     "execution_count": 6,
     "metadata": {},
     "output_type": "execute_result"
    }
   ],
   "source": [
    "import os\n",
    "\n",
    "cpu_count = os.cpu_count()\n",
    "cpu_count"
   ]
  },
  {
   "cell_type": "code",
   "execution_count": null,
   "id": "08b2cf61-c4fd-4a17-8726-e22fedfe702b",
   "metadata": {},
   "outputs": [],
   "source": []
  }
 ],
 "metadata": {
  "kernelspec": {
   "display_name": "Python 3 (ipykernel)",
   "language": "python",
   "name": "python3"
  },
  "language_info": {
   "codemirror_mode": {
    "name": "ipython",
    "version": 3
   },
   "file_extension": ".py",
   "mimetype": "text/x-python",
   "name": "python",
   "nbconvert_exporter": "python",
   "pygments_lexer": "ipython3",
   "version": "3.10.14"
  }
 },
 "nbformat": 4,
 "nbformat_minor": 5
}
