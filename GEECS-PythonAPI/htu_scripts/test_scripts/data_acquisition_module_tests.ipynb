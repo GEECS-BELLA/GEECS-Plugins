{
 "cells": [
  {
   "cell_type": "code",
   "execution_count": 5,
   "id": "250bb6a9-ed31-4df7-8d8f-4d9b146763f4",
   "metadata": {},
   "outputs": [],
   "source": []
  },
  {
   "cell_type": "code",
   "execution_count": 1,
   "id": "8ada9346-a841-4359-ba46-9a0f6d380206",
   "metadata": {},
   "outputs": [
    {
     "name": "stdout",
     "output_type": "stream",
     "text": [
      "path config ../../../../user data/Configurations.INI\n",
      "database name  loasis\n",
      "default experiment is: Undulator\n",
      "default experiment is: Undulator\n"
     ]
    }
   ],
   "source": [
    "from geecs_python_api.controls.interface import load_config\n",
    "from geecs_python_api.controls.interface import GeecsDatabase\n",
    "from geecs_python_api.controls.devices.geecs_device import GeecsDevice\n",
    "from geecs_python_api.controls.interface.geecs_errors import ErrorAPI\n",
    "# from geecs_python_api.controls.data_acquisition import DeviceManager, DataLogger, DataInterface, ActionManager, ConfigManager\n",
    "from geecs_python_api.controls.data_acquisition import ScanManager\n",
    "\n",
    "config = load_config()\n",
    "if config and 'Experiment' in config and 'expt' in config['Experiment']:\n",
    "    default_experiment = config['Experiment']['expt']\n",
    "    print(f\"default experiment is: {default_experiment}\")\n",
    "else:\n",
    "    print(\"Configuration file not found or default experiment not defined. While use Undulator as experiment. Could be a problem for you.\")\n",
    "    default_experiment = 'Undulator'\n",
    "\n",
    "GeecsDevice.exp_info = GeecsDatabase.collect_exp_info(default_experiment)"
   ]
  },
  {
   "cell_type": "code",
   "execution_count": 4,
   "id": "d61d9496-99f5-4aaa-a791-92441dbe9671",
   "metadata": {},
   "outputs": [],
   "source": [
    "# Example usage for DataLogger\n",
    "experiment_dir = 'HTU'\n",
    "scan_manager = ScanManager(experiment_dir=experiment_dir)\n",
    "\n",
    "# Create specialize configuration or just load pre defined config\n",
    "file1 = scan_manager.device_manager.config_manager.visa_config_generator('visa5','spectrometer')\n",
    "scan_manager.device_manager.reinitialize(file1)"
   ]
  },
  {
   "cell_type": "code",
   "execution_count": 5,
   "id": "cbf66a30-771c-493b-8cff-0d2d61bc9549",
   "metadata": {},
   "outputs": [],
   "source": [
    "scan_config = [\n",
    "    {'device_var': 'R56_at_100MeV', 'start': 0, 'end': 100, 'step': 100, 'wait_time': 5.5, 'additional_description':'Testing out new python data acquisition module'}\n",
    "]\n",
    "scan_manager.start_scan_thread(scan_config=scan_config)"
   ]
  },
  {
   "cell_type": "code",
   "execution_count": 6,
   "id": "1a99061e-9dc6-4c21-a31c-4880ab14fc3b",
   "metadata": {},
   "outputs": [],
   "source": [
    "device_name = 'UC_UndulatorRad2'\n",
    "path = f'/Volumes/hdna2/data/Undulator/Y2024/10-Oct/24_1014/scans/Scan023/{device_name}/Scan023_{device_name}_003.png'\n",
    "# path = f'/Volumes/hdna2/data/Undulator/Y2024/10-Oct/24_1014/scans/Scan023/{device_name}/{device_name}_025.png'\n",
    "get_imaq_timestamp_from_png(path)\n"
   ]
  },
  {
   "cell_type": "code",
   "execution_count": null,
   "id": "928feb90-6c8e-462f-8707-5c5d7dc7fab5",
   "metadata": {},
   "outputs": [],
   "source": [
    "# def get_var_tolerance(device_name, variable_name):\n",
    "#     return float(GeecsDevice.exp_info['devices'][device_name][variable_name]['tolerance'])\n",
    "\n",
    "# get_var_tolerance('U_Hexapod','vangle')"
   ]
  }
 ],
 "metadata": {
  "kernelspec": {
   "display_name": "Python 3 (ipykernel)",
   "language": "python",
   "name": "python3"
  },
  "language_info": {
   "codemirror_mode": {
    "name": "ipython",
    "version": 3
   },
   "file_extension": ".py",
   "mimetype": "text/x-python",
   "name": "python",
   "nbconvert_exporter": "python",
   "pygments_lexer": "ipython3",
   "version": "3.10.13"
  }
 },
 "nbformat": 4,
 "nbformat_minor": 5
}
