{
 "cells": [
  {
   "cell_type": "code",
   "execution_count": 1,
   "id": "67a11d5f-ebb5-4b57-b38e-0e27cacee8e1",
   "metadata": {},
   "outputs": [
    {
     "name": "stdout",
     "output_type": "stream",
     "text": [
      "GEECS data path is: /Users/samuelbarber/Desktop/Github_repos/user data\n",
      "path config /Users/samuelbarber/Desktop/Github_repos/user data/Configurations.INI\n",
      "database name  loasis\n",
      "default experiment is: Undulator\n",
      "default experiment is: Undulator\n"
     ]
    }
   ],
   "source": [
    "from geecs_python_api.controls.interface import load_config\n",
    "from geecs_python_api.controls.interface import GeecsDatabase\n",
    "from geecs_python_api.controls.devices.geecs_device import GeecsDevice\n",
    "from geecs_python_api.controls.interface.geecs_errors import ErrorAPI\n",
    "from geecs_python_api.controls.data_acquisition import DeviceManager, DataLogger, DataInterface, ActionManager, ConfigManager\n",
    "\n",
    "config = load_config()\n",
    "if config and 'Experiment' in config and 'expt' in config['Experiment']:\n",
    "    default_experiment = config['Experiment']['expt']\n",
    "    print(f\"default experiment is: {default_experiment}\")\n",
    "else:\n",
    "    print(\"Configuration file not found or default experiment not defined. While use Undulator as experiment. Could be a problem for you.\")\n",
    "    default_experiment = 'Undulator'\n",
    "\n",
    "GeecsDevice.exp_info = GeecsDatabase.collect_exp_info(default_experiment)"
   ]
  },
  {
   "cell_type": "code",
   "execution_count": 2,
   "id": "984a60e4-987a-4c39-a740-9285633b0547",
   "metadata": {},
   "outputs": [],
   "source": [
    "# Example usage for DeviceManager and DataLogger\n",
    "# Initialize DeviceManager\n",
    "# device_manager = DeviceManager()\n",
    "device_manager = DeviceManager(experiment_dir='HTU')\n",
    "data_interface = DataInterface()\n",
    "data_logger = DataLogger(device_manager, data_interface)"
   ]
  },
  {
   "cell_type": "code",
   "execution_count": 4,
   "id": "581191a0-f384-4b43-a106-805e642ec0da",
   "metadata": {},
   "outputs": [],
   "source": [
    "scan_config = [\n",
    "    {'device_var': 'R56_at_100MeV', 'start': 0, 'end': 100, 'step': 100, 'wait_time': 5.5, 'additional_description':'Testing out new python data acquisition module'}\n",
    "]\n",
    "# device_manager.load_from_config('config.yaml')\n",
    "data_logger.device_manager.reinitialize('TC_Phosphor.yaml')\n",
    "data_logger.start_logging_thread(scan_config=scan_config)"
   ]
  },
  {
   "cell_type": "code",
   "execution_count": 3,
   "id": "69f7a137-657b-4d2a-92c4-c53533e8800c",
   "metadata": {},
   "outputs": [],
   "source": [
    "action_manager = ActionManager(experiment_dir='HTU')\n",
    "# actions_file_path = config_manager.get_config_path('actions.yaml')  # Get the full path to actions.yaml\n",
    "action_manager.load_actions('actions.yaml')  # Load actions from the file\n",
    "\n",
    "action_manager.execute_action('remove_pmqs')"
   ]
  },
  {
   "cell_type": "code",
   "execution_count": 8,
   "id": "250bb6a9-ed31-4df7-8d8f-4d9b146763f4",
   "metadata": {},
   "outputs": [],
   "source": [
    "# def get_var_tolerance(device_name, variable_name):\n",
    "#     return float(GeecsDevice.exp_info['devices'][device_name][variable_name]['tolerance'])\n",
    "\n",
    "# get_var_tolerance('U_Hexapod','vangle')"
   ]
  },
  {
   "cell_type": "code",
   "execution_count": null,
   "id": "36b2ef80-8093-48e0-9a6a-11afefdaf04a",
   "metadata": {},
   "outputs": [],
   "source": []
  }
 ],
 "metadata": {
  "kernelspec": {
   "display_name": "Python 3 (ipykernel)",
   "language": "python",
   "name": "python3"
  },
  "language_info": {
   "codemirror_mode": {
    "name": "ipython",
    "version": 3
   },
   "file_extension": ".py",
   "mimetype": "text/x-python",
   "name": "python",
   "nbconvert_exporter": "python",
   "pygments_lexer": "ipython3",
   "version": "3.10.13"
  }
 },
 "nbformat": 4,
 "nbformat_minor": 5
}
