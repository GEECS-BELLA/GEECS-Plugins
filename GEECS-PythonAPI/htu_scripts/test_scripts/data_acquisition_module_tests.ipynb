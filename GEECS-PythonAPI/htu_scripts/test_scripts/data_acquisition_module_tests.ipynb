{
 "cells": [
  {
   "cell_type": "code",
   "execution_count": 1,
   "id": "8ada9346-a841-4359-ba46-9a0f6d380206",
   "metadata": {},
   "outputs": [
    {
     "name": "stdout",
     "output_type": "stream",
     "text": [
      "path config ../../../../user data/Configurations.INI\n",
      "database name  loasis\n",
      "default experiment is: Undulator\n"
     ]
    }
   ],
   "source": [
    "from geecs_python_api.controls.interface import load_config\n",
    "from geecs_python_api.controls.interface import GeecsDatabase\n",
    "from geecs_python_api.controls.devices.geecs_device import GeecsDevice\n",
    "from geecs_python_api.controls.interface.geecs_errors import ErrorAPI\n",
    "from geecs_python_api.controls.data_acquisition import ScanManager, SoundPlayer\n",
    "from geecs_python_api.controls.data_acquisition import visa_config_generator"
   ]
  },
  {
   "cell_type": "code",
   "execution_count": 5,
   "id": "d61d9496-99f5-4aaa-a791-92441dbe9671",
   "metadata": {},
   "outputs": [],
   "source": [
    "# Example usage for DataLogger\n",
    "experiment_dir = 'Undulator'\n",
    "scan_manager = ScanManager(experiment_dir=experiment_dir)\n",
    "\n",
    "# Create specialize configuration or just load pre defined config\n",
    "file1 = visa_config_generator('visa5','spectrometer')\n",
    "scan_manager.reinitialize(file1)"
   ]
  },
  {
   "cell_type": "code",
   "execution_count": 6,
   "id": "cbf66a30-771c-493b-8cff-0d2d61bc9549",
   "metadata": {},
   "outputs": [],
   "source": [
    "#test config for a noscan below\n",
    "scan_config = {'device_var': 'noscan', 'start': -1, 'end': 1, 'step': 2, 'wait_time': 5.5, 'additional_description':'Testing out new python data acquisition module'}\n",
    "\n",
    "scan_manager.start_scan_thread(scan_config=scan_config)"
   ]
  },
  {
   "cell_type": "code",
   "execution_count": 7,
   "id": "dc32ab08-55ef-4d42-b430-39610088b3fa",
   "metadata": {},
   "outputs": [],
   "source": [
    "#test scan for a composite variable scan below, combined with using the reinitialize method\n",
    "scan_config = {'device_var': 'ALine_e_beam_position_offset_x', 'start': -1, 'end': 1, 'step': 2, 'wait_time': 5.5, 'additional_description':'Testing out new python data acquisition module'}\n",
    "scan_manager.reinitialize(file1)\n",
    "scan_manager.start_scan_thread(scan_config=scan_config)"
   ]
  },
  {
   "cell_type": "code",
   "execution_count": 9,
   "id": "13dbbfc3-d6e9-47c1-8ab1-8109ab54d9f4",
   "metadata": {},
   "outputs": [],
   "source": [
    "log_df = scan_manager.scan_data_manager.convert_to_dataframe(scan_manager.results)\n",
    "log_df"
   ]
  },
  {
   "cell_type": "code",
   "execution_count": 10,
   "id": "74d3faf7-5798-4500-baa4-bb757e6e0723",
   "metadata": {},
   "outputs": [],
   "source": [
    "def inspect_timestamp_columns(df):\n",
    "    # Filter for columns that contain 'timestamp' in their name\n",
    "    timestamp_columns = [col for col in df.columns if 'timestamp' in col]\n",
    "    \n",
    "    # Display or return the filtered columns\n",
    "    return df[timestamp_columns]\n",
    "\n",
    "inspect_timestamp_columns(log_df)"
   ]
  },
  {
   "cell_type": "code",
   "execution_count": 12,
   "id": "1a99061e-9dc6-4c21-a31c-4880ab14fc3b",
   "metadata": {},
   "outputs": [],
   "source": [
    "# from image_analysis.utils import get_imaq_timestamp_from_png\n",
    "\n",
    "# device_name = 'UC_Amp4_IR_input'\n",
    "# device_name = 'UC_UndulatorRad2'\n",
    "# path = f'/Volumes/hdna2/data/Undulator/Y2024/10-Oct/24_1016/scans/Scan024/{device_name}/Scan024_{device_name}_003.png'\n",
    "# path = f'/Volumes/hdna2/data/Undulator/Y2024/10-Oct/24_1014/scans/Scan024/{device_name}/{device_name}_352.png'\n",
    "# print(get_imaq_timestamp_from_png(path))\n",
    "# log_df[f'{device_name} timestamp']\n"
   ]
  },
  {
   "cell_type": "code",
   "execution_count": null,
   "id": "928feb90-6c8e-462f-8707-5c5d7dc7fab5",
   "metadata": {},
   "outputs": [],
   "source": [
    "# def get_var_tolerance(device_name, variable_name):\n",
    "#     return float(GeecsDevice.exp_info['devices'][device_name][variable_name]['tolerance'])\n",
    "\n",
    "# get_var_tolerance('U_Hexapod','vangle')"
   ]
  }
 ],
 "metadata": {
  "kernelspec": {
   "display_name": "Python 3 (ipykernel)",
   "language": "python",
   "name": "python3"
  },
  "language_info": {
   "codemirror_mode": {
    "name": "ipython",
    "version": 3
   },
   "file_extension": ".py",
   "mimetype": "text/x-python",
   "name": "python",
   "nbconvert_exporter": "python",
   "pygments_lexer": "ipython3",
   "version": "3.10.13"
  }
 },
 "nbformat": 4,
 "nbformat_minor": 5
}
