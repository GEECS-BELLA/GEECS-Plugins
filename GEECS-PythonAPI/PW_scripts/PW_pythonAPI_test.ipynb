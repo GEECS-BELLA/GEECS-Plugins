{
 "cells": [
  {
   "cell_type": "code",
   "execution_count": 32,
   "id": "1bb44897-1a59-4cda-a841-4fd88a419bcb",
   "metadata": {
    "tags": []
   },
   "outputs": [],
   "source": [
    "import os\n",
    "import yaml\n",
    "import time\n",
    "import numpy as np\n",
    "import pandas as pd\n",
    "import shelve\n",
    "import sys\n",
    "sys.path.append('../')\n",
    "from geecs_python_api.controls.interface import GeecsDatabase\n",
    "from geecs_python_api.controls.devices.geecs_device import GeecsDevice\n",
    "# from geecs_python_api.controls.experiment.experiment import Experiment\n",
    "\n",
    "GeecsDevice.exp_info = GeecsDatabase.collect_exp_info(\"Test\")\n",
    "# Experiment.get_info('Bella')\n",
    "\n",
    "# set up the python objects for the geecs devices to be used in optimization\n",
    "split = GeecsDevice('ZTEST-ND-SimCam')\n",
    "#\n",
    "#split.subscribe_var_values(['exposure'])\n",
    "#\n",
    "#statusvalue=split.get_status()\n",
    "#print(statusvalue,'is the status')\n",
    "#\n",
    "#print(split.state)\n",
    "#\n",
    "# split.set('exposure',0.003)\n",
    "# split.get('exposure')\n",
    "#split.close()"
   ]
  },
  {
   "cell_type": "code",
   "execution_count": 33,
   "id": "8abf2a2b-3426-414e-932f-54606c391558",
   "metadata": {
    "tags": []
   },
   "outputs": [],
   "source": [
    "#split.close()"
   ]
  },
  {
   "cell_type": "code",
   "execution_count": 34,
   "id": "7ef052ea-35a6-48c7-97da-a26f65746c0e",
   "metadata": {
    "tags": []
   },
   "outputs": [],
   "source": [
    "# split.scan('exposure', start_value=0.003, end_value=0.003, step_size=0.1, shots_per_step=10)"
   ]
  },
  {
   "cell_type": "code",
   "execution_count": 35,
   "id": "80619889-e8f4-4e9d-a752-a2621b5d6d38",
   "metadata": {
    "tags": []
   },
   "outputs": [],
   "source": [
    "# split.find_var_by_alias('exposure')"
   ]
  },
  {
   "cell_type": "code",
   "execution_count": 36,
   "id": "17fcc841-17b6-480e-b9fc-913413cdd75b",
   "metadata": {
    "tags": []
   },
   "outputs": [],
   "source": [
    "#GeecsDevice.run_no_scan(monitoring_device= split, comment='no scan', shots=10, timeout=300.)"
   ]
  },
  {
   "cell_type": "code",
   "execution_count": 40,
   "id": "56649d94-8558-45be-988c-d0cda2b74174",
   "metadata": {
    "tags": []
   },
   "outputs": [
    {
     "data": {
      "text/plain": [
       "0.15"
      ]
     },
     "execution_count": 40,
     "metadata": {},
     "output_type": "execute_result"
    }
   ],
   "source": [
    "split.set('exposure',0.15)\n",
    "# split.get('exposure')"
   ]
  },
  {
   "cell_type": "code",
   "execution_count": 41,
   "id": "5bb42133-8467-4ff5-9928-ecd1fea0abd9",
   "metadata": {
    "tags": []
   },
   "outputs": [
    {
     "name": "stdout",
     "output_type": "stream",
     "text": [
      "0.15 sokdfhksd\n",
      "Error:\n",
      "\tMessage: Failed to read TCP header bytes\n",
      "\tSource:  TcpSubscriber class, method \"async_listener\"\n"
     ]
    }
   ],
   "source": [
    "#split.close()\n",
    "#split = GeecsDevice('CAM-LT-SPLIT')\n",
    "value=split.get('exposure')\n",
    "print(value,'sokdfhksd')\n",
    "#split.close()"
   ]
  },
  {
   "cell_type": "code",
   "execution_count": 30,
   "id": "6931ee45-2603-4f37-bb32-48020ed3f960",
   "metadata": {
    "tags": []
   },
   "outputs": [],
   "source": [
    "split.close()"
   ]
  },
  {
   "cell_type": "code",
   "execution_count": null,
   "id": "5d75a5c7-ab86-456b-8922-703b206d5b1a",
   "metadata": {},
   "outputs": [],
   "source": []
  }
 ],
 "metadata": {
  "kernelspec": {
   "display_name": "Python 3 (ipykernel)",
   "language": "python",
   "name": "python3"
  },
  "language_info": {
   "codemirror_mode": {
    "name": "ipython",
    "version": 3
   },
   "file_extension": ".py",
   "mimetype": "text/x-python",
   "name": "python",
   "nbconvert_exporter": "python",
   "pygments_lexer": "ipython3",
   "version": "3.11.5"
  }
 },
 "nbformat": 4,
 "nbformat_minor": 5
}
