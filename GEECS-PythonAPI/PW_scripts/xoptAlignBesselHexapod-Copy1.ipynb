{
 "cells": [
  {
   "cell_type": "code",
   "execution_count": 2,
   "id": "20fec5f6",
   "metadata": {
    "tags": []
   },
   "outputs": [],
   "source": [
    "import os\n",
    "import yaml\n",
    "import time\n",
    "import numpy as np\n",
    "import pandas as pd\n",
    "import shelve\n",
    "import sys\n",
    "sys.path.append('../')\n",
    "from geecs_python_api.controls.interface import GeecsDatabase\n",
    "from geecs_python_api.controls.devices.geecs_device import GeecsDevice\n",
    "\n",
    "GeecsDevice.exp_info = GeecsDatabase.collect_exp_info(\"Bella\")"
   ]
  },
  {
   "cell_type": "code",
   "execution_count": 3,
   "id": "07203ebb-dba8-44ec-aea0-be50c88aadb7",
   "metadata": {},
   "outputs": [
    {
     "name": "stdout",
     "output_type": "stream",
     "text": [
      "-0.648 Check zhigh makes sense\n"
     ]
    }
   ],
   "source": [
    "# set up the python objects for the geecs devices to be used in optimization\n",
    "hexapod = GeecsDevice('HEX-PL1-2')\n",
    "# camera = GeecsDevice('CAM-HPD-CCD')\n",
    "# get value of hex\n",
    "yposition = hexapod.get('ypos')\n",
    "ylow = yposition - 0.1\n",
    "yhigh = yposition + 0.1\n",
    "zposition = hexapod.get('zpos')\n",
    "zlow = zposition - 0.1\n",
    "zhigh = zposition + 0.1\n",
    "print(zhigh,'Check zhigh makes sense')"
   ]
  },
  {
   "cell_type": "code",
   "execution_count": 4,
   "id": "513a07bb",
   "metadata": {
    "tags": []
   },
   "outputs": [],
   "source": [
    "\n",
    "\n",
    "# define a dict containing the specific variables and bounds to be used in optimization\n",
    "objs={'var1':{\"GEECS_Object\":hexapod,'variable':\"ypos\",\"bounds\":[ylow,yhigh]},\n",
    "    'var2':{\"GEECS_Object\":hexapod,'variable':\"zpos\",\"bounds\":[zlow,zhigh]}}\n",
    "\n",
    "#define whether or not to use normalized values and ranges for optimization controls. \n",
    "#Normalization seems like a good idea\n",
    "normalize=True\n",
    "\n",
    "#for opt method, choose nelder or bayes for now\n",
    "opt_method='bayes'"
   ]
  },
  {
   "cell_type": "code",
   "execution_count": 5,
   "id": "5de9c7f5-5088-4486-889f-b6087b642f77",
   "metadata": {
    "tags": []
   },
   "outputs": [],
   "source": [
    "# stage.set('exposure',0.0015)"
   ]
  },
  {
   "cell_type": "code",
   "execution_count": 6,
   "id": "a80d1d1f-1555-4f36-9e56-9a72f8b9a879",
   "metadata": {
    "tags": []
   },
   "outputs": [],
   "source": [
    "# value=dev1.get('exposure')\n",
    "# print(value,'sokdfhksd')"
   ]
  },
  {
   "cell_type": "code",
   "execution_count": 7,
   "id": "a67bb9ac",
   "metadata": {
    "tags": []
   },
   "outputs": [
    {
     "name": "stdout",
     "output_type": "stream",
     "text": [
      "{'xopt': {'dump_file': 'bayes.yaml'}, 'generator': {'name': 'upper_confidence_bound', 'n_initial': 2, 'acq': {'beta': 0.1}}, 'evaluator': {'function': '__main__.geecs_measurement'}, 'vocs': {'variables': {'var1': [-1.0, 1.0], 'var2': [-1.0, 1.0]}, 'objectives': {'f': 'MAXIMIZE'}}}\n"
     ]
    }
   ],
   "source": [
    "#define the xopt configuration\n",
    "YAML = \"\"\"\n",
    "xopt:\n",
    "    dump_file: dump.yaml\n",
    "generator:\n",
    "    name:\n",
    "evaluator:\n",
    "    function: __main__.geecs_measurement\n",
    "\n",
    "vocs:\n",
    "    variables:\n",
    "        {}\n",
    "    objectives: {f: \"MAXIMIZE\"}\n",
    "\n",
    "\"\"\"\n",
    "\n",
    "yaml_output = yaml.safe_load(YAML)\n",
    "\n",
    "if opt_method == 'bayes':\n",
    "    yaml_output['generator']['name'] = 'upper_confidence_bound'\n",
    "    yaml_output['generator']['n_initial'] = 2\n",
    "    yaml_output['generator']['acq'] = {'beta':0.1}\n",
    "    yaml_output['xopt']['dump_file'] = 'bayes.yaml'\n",
    "elif opt_method == 'nelder':\n",
    "    yaml_output['generator']['name'] = 'neldermead'\n",
    "    yaml_output['generator']['adaptive'] = True\n",
    "    yaml_output['generator']['xatol'] = 0.01\n",
    "    yaml_output['generator']['fatol'] = 0.005\n",
    "    yaml_output['generator']['initial_point'] = { \"var1\": 0.006}\n",
    "    yaml_output['xopt']['dump_file'] = 'nelder.yaml'\n",
    "\n",
    "#define some functions to normalize/unnormalize real variables to [-1,1]\n",
    "def unnormalize_var(obj,val):\n",
    "    range=objs[obj]['bounds'][1]-objs[obj]['bounds'][0]\n",
    "    offset=objs[obj]['bounds'][0]\n",
    "    new_val=(val/2+0.5)*range+offset\n",
    "    return new_val\n",
    "\n",
    "def normalize_var(obj,val):\n",
    "    range=objs[obj]['bounds'][1]-objs[obj]['bounds'][0]\n",
    "    offset=objs[obj]['bounds'][0]\n",
    "    new_val=((val - offset)/range - 0.5)*2\n",
    "    return new_val\n",
    "    \n",
    "\n",
    "for tag in objs.keys():\n",
    "    yaml_output['vocs']['variables'][tag]=objs[tag]['bounds']\n",
    "    \n",
    "if normalize:\n",
    "    for tag in objs.keys():\n",
    "        yaml_output['vocs']['variables'][tag]=[-1.0,1.0]\n",
    "    keys = yaml_output['vocs']['variables'].keys()\n",
    "    \n",
    "\n",
    "if yaml_output['generator']['name']=='neldermead':\n",
    "    if normalize:\n",
    "        initial_point = yaml_output['generator']['initial_point']\n",
    "\n",
    "        normalized_initial_point = {}\n",
    "        for key in keys:\n",
    "            normalized_initial_point[key] = normalize_var(key, initial_point[key])\n",
    "\n",
    "        yaml_output['generator']['initial_point'] = normalized_initial_point\n",
    "\n",
    "print(yaml_output)"
   ]
  },
  {
   "cell_type": "code",
   "execution_count": 8,
   "id": "062a7d0e-4138-4e32-9cf6-019ad3bd9486",
   "metadata": {
    "tags": []
   },
   "outputs": [],
   "source": [
    "# dev1.set('exposure',0.15)"
   ]
  },
  {
   "cell_type": "code",
   "execution_count": 9,
   "id": "940079ca",
   "metadata": {
    "tags": []
   },
   "outputs": [],
   "source": [
    "# #simulate transmission of blue diode through PMQ triplet\n",
    "# import numpy as np\n",
    "\n",
    "# optPosition = np.array([18.45, 0.6])\n",
    "# numParts = 200000\n",
    "\n",
    "# startDist = np.transpose([\n",
    "#     np.random.normal(optPosition[0], 0.4, numParts),\n",
    "#     np.random.normal(optPosition[1], 0.4, numParts)\n",
    "# ])\n",
    "\n",
    "# def calcTransmission(input_dict):\n",
    "#     center1 = [input_dict['HexY'], input_dict['HexZ']]\n",
    "#     separation = 15\n",
    "\n",
    "#     center2 = [input_dict['HexY'], input_dict['HexZ']]\n",
    "#     rotw = np.pi / 180 * (input_dict['HexW'] + 0.15) * 4\n",
    "#     rotv = np.pi / 180 * (input_dict['HexV'] + 0.25) * 4\n",
    "\n",
    "#     yOffset = separation * np.tan(rotw)\n",
    "#     zOffset = separation * np.tan(rotv)\n",
    "\n",
    "#     center2[0] = center2[0] + yOffset\n",
    "#     center2[1] = center2[1] + zOffset\n",
    "\n",
    "#     dist = startDist[\n",
    "#         (np.sqrt((startDist[:, 0] - center1[0])**2 + (startDist[:, 1] - center1[1])**2) < 0.2) &\n",
    "#         (np.sqrt((startDist[:, 0] - center2[0])**2 + (startDist[:, 1] - center2[1])**2) < 0.2)\n",
    "#     ]\n",
    "\n",
    "#     return len(dist) / numParts"
   ]
  },
  {
   "cell_type": "code",
   "execution_count": 22,
   "id": "39190ce2",
   "metadata": {
    "tags": []
   },
   "outputs": [],
   "source": [
    "ObjFunc=GeecsDevice('CAM-HPD-CCD')\n",
    "#ObjFunc.get(\"maxcounts\")\n",
    "def geecs_measurement(input_dict):\n",
    "    for i in list(input_dict.keys()):\n",
    "        set_val=np.round(float(input_dict[i]), 3)\n",
    "        if normalize:\n",
    "            set_val=unnormalize_var(i,set_val)\n",
    "        \n",
    "        print('set '+str(i)+' to '+str(set_val))\n",
    "        \n",
    "        # line below executes the set commands.\n",
    "        objs[i][\"GEECS_Object\"].set(objs[i][\"variable\"],set_val)\n",
    "        time.sleep(2)\n",
    "        \n",
    "    if normalize:\n",
    "        setpoint = {}\n",
    "        for key in input_dict:\n",
    "            setpoint[key] = unnormalize_var(key, input_dict[key])\n",
    "    else:\n",
    "        setpoint=input_dict\n",
    "        \n",
    "    print(setpoint)\n",
    "    \n",
    "    outs=[]\n",
    "#     targetx = camera.get(\"target.X\")\n",
    "#     targety = camera.get(\"target.Y\")\n",
    "    for i in range(5):\n",
    "        \n",
    "        #val=simulate_objective(input_dict)\n",
    "        \n",
    "#         val0 = np.abs(ObjFunc.get(\"centroidx\") - targetx)\n",
    "#         val1 = np.abs(ObjFunc.get(\"centroidy\") - targety)\n",
    "#         val = (val0**2 + val1**2)**0.5\n",
    "        \n",
    "        val = ObjFunc.get(\"MaxCounts\")\n",
    "        outs.append(val)\n",
    "        \n",
    "    print(outs)\n",
    "\n",
    "# this one is good for aligning to a crosshair\n",
    "    return {'f': abs(np.median(outs))}\n"
   ]
  },
  {
   "cell_type": "code",
   "execution_count": 23,
   "id": "23dd5258",
   "metadata": {
    "tags": []
   },
   "outputs": [],
   "source": [
    "if opt_method == 'nelder':\n",
    "    geecs_measurement(yaml_output['generator']['initial_point'])"
   ]
  },
  {
   "cell_type": "code",
   "execution_count": 25,
   "id": "43b8d4c1",
   "metadata": {
    "tags": []
   },
   "outputs": [
    {
     "data": {
      "text/plain": [
       "\n",
       "            Xopt\n",
       "________________________________\n",
       "Version: 1.4.1\n",
       "Data size: 0\n",
       "Config as YAML:\n",
       "xopt: {asynch: false, strict: false, dump_file: bayes.yaml, max_evaluations: null}\n",
       "generator:\n",
       "  name: upper_confidence_bound\n",
       "  optim: {num_restarts: 20, raw_samples: 20, sequential: true, max_travel_distances: null,\n",
       "    use_turbo: false}\n",
       "  acq: {proximal_lengthscales: null, use_transformed_proximal_weights: true, monte_carlo_samples: 128,\n",
       "    beta: 0.1}\n",
       "  model:\n",
       "    name: standard\n",
       "    custom_constructor: null\n",
       "    use_low_noise_prior: true\n",
       "    covar_modules: {}\n",
       "    mean_modules: {}\n",
       "  n_initial: 2\n",
       "  use_cuda: false\n",
       "evaluator:\n",
       "  function: __main__.geecs_measurement\n",
       "  max_workers: 1\n",
       "  function_kwargs: {}\n",
       "  vectorized: false\n",
       "vocs:\n",
       "  variables:\n",
       "    var1: [-1.0, 1.0]\n",
       "    var2: [-1.0, 1.0]\n",
       "  constraints: {}\n",
       "  objectives: {f: MAXIMIZE}\n",
       "  constants: {}\n",
       "  linked_variables: {}\n"
      ]
     },
     "execution_count": 25,
     "metadata": {},
     "output_type": "execute_result"
    }
   ],
   "source": [
    "from xopt.evaluator import Evaluator\n",
    "from xopt.generators.bayesian import ExpectedImprovementGenerator\n",
    "from xopt import Xopt\n",
    "\n",
    "X = Xopt(config=yaml_output)\n",
    "X"
   ]
  },
  {
   "cell_type": "code",
   "execution_count": 26,
   "id": "a87dcbf5",
   "metadata": {
    "tags": []
   },
   "outputs": [
    {
     "name": "stdout",
     "output_type": "stream",
     "text": [
      "2\n",
      "set var1 to 4.2254000000000005\n",
      "set var2 to -0.8019\n",
      "{'var1': 4.225427675110775, 'var2': -0.8018830395322012}\n",
      "[1336.0, 1336.0, 1336.0, 1336.0, 1336.0]\n",
      "set var1 to 4.1857\n",
      "set var2 to -0.8003\n",
      "{'var1': 4.1856547161517526, 'var2': -0.8003320725686172}\n",
      "[1434.0, 1434.0, 1434.0, 1434.0, 1434.0]\n",
      "step0\n"
     ]
    },
    {
     "name": "stderr",
     "output_type": "stream",
     "text": [
      "C:\\Users\\loasis\\AppData\\Local\\anaconda3\\envs\\geecs\\Lib\\site-packages\\xopt\\generators\\bayesian\\models\\standard.py:86: FutureWarning: use_inf_as_na option is deprecated and will be removed in a future version. Convert inf values to NaN before operating instead.\n",
      "  pd.options.mode.use_inf_as_na = True\n"
     ]
    },
    {
     "name": "stdout",
     "output_type": "stream",
     "text": [
      "set var1 to 4.1456\n",
      "set var2 to -0.7988\n",
      "{'var1': 4.14557437412924, 'var2': -0.7987684733188628}\n",
      "[523.0, 523.0, 523.0, 523.0, 523.0]\n",
      "step1\n"
     ]
    },
    {
     "name": "stderr",
     "output_type": "stream",
     "text": [
      "C:\\Users\\loasis\\AppData\\Local\\anaconda3\\envs\\geecs\\Lib\\site-packages\\xopt\\generators\\bayesian\\models\\standard.py:86: FutureWarning: use_inf_as_na option is deprecated and will be removed in a future version. Convert inf values to NaN before operating instead.\n",
      "  pd.options.mode.use_inf_as_na = True\n"
     ]
    },
    {
     "name": "stdout",
     "output_type": "stream",
     "text": [
      "set var1 to 4.2002\n",
      "set var2 to -0.8144\n",
      "{'var1': 4.200184649764198, 'var2': -0.8143509414070297}\n",
      "[1347.0, 1347.0, 1347.0, 1347.0, 1347.0]\n",
      "step2\n"
     ]
    },
    {
     "name": "stderr",
     "output_type": "stream",
     "text": [
      "C:\\Users\\loasis\\AppData\\Local\\anaconda3\\envs\\geecs\\Lib\\site-packages\\xopt\\generators\\bayesian\\models\\standard.py:86: FutureWarning: use_inf_as_na option is deprecated and will be removed in a future version. Convert inf values to NaN before operating instead.\n",
      "  pd.options.mode.use_inf_as_na = True\n"
     ]
    },
    {
     "name": "stdout",
     "output_type": "stream",
     "text": [
      "set var1 to 4.2008\n",
      "set var2 to -0.7711\n",
      "{'var1': 4.200763168531318, 'var2': -0.7710649096994606}\n",
      "[1479.0, 1479.0, 1479.0, 1479.0, 1479.0]\n",
      "step3\n"
     ]
    },
    {
     "name": "stderr",
     "output_type": "stream",
     "text": [
      "C:\\Users\\loasis\\AppData\\Local\\anaconda3\\envs\\geecs\\Lib\\site-packages\\xopt\\generators\\bayesian\\models\\standard.py:86: FutureWarning: use_inf_as_na option is deprecated and will be removed in a future version. Convert inf values to NaN before operating instead.\n",
      "  pd.options.mode.use_inf_as_na = True\n"
     ]
    },
    {
     "name": "stdout",
     "output_type": "stream",
     "text": [
      "set var1 to 4.194\n",
      "set var2 to -0.7837999999999999\n",
      "{'var1': 4.1939504576334805, 'var2': -0.7837599237578805}\n",
      "[1200.0, 1200.0, 1200.0, 1200.0, 1200.0]\n",
      "step4\n"
     ]
    },
    {
     "name": "stderr",
     "output_type": "stream",
     "text": [
      "C:\\Users\\loasis\\AppData\\Local\\anaconda3\\envs\\geecs\\Lib\\site-packages\\xopt\\generators\\bayesian\\models\\standard.py:86: FutureWarning: use_inf_as_na option is deprecated and will be removed in a future version. Convert inf values to NaN before operating instead.\n",
      "  pd.options.mode.use_inf_as_na = True\n"
     ]
    },
    {
     "name": "stdout",
     "output_type": "stream",
     "text": [
      "set var1 to 4.2161\n",
      "set var2 to -0.7565999999999999\n",
      "{'var1': 4.216056342406274, 'var2': -0.7566164493343552}\n",
      "[451.0, 451.0, 451.0, 451.0, 451.0]\n",
      "step5\n"
     ]
    },
    {
     "name": "stderr",
     "output_type": "stream",
     "text": [
      "C:\\Users\\loasis\\AppData\\Local\\anaconda3\\envs\\geecs\\Lib\\site-packages\\xopt\\generators\\bayesian\\models\\standard.py:86: FutureWarning: use_inf_as_na option is deprecated and will be removed in a future version. Convert inf values to NaN before operating instead.\n",
      "  pd.options.mode.use_inf_as_na = True\n"
     ]
    },
    {
     "name": "stdout",
     "output_type": "stream",
     "text": [
      "set var1 to 4.063000000000001\n",
      "set var2 to -0.648\n",
      "{'var1': 4.063000000000001, 'var2': -0.648}\n",
      "[154.0, 154.0, 154.0, 154.0, 154.0]\n",
      "step6\n"
     ]
    },
    {
     "name": "stderr",
     "output_type": "stream",
     "text": [
      "C:\\Users\\loasis\\AppData\\Local\\anaconda3\\envs\\geecs\\Lib\\site-packages\\xopt\\generators\\bayesian\\models\\standard.py:86: FutureWarning: use_inf_as_na option is deprecated and will be removed in a future version. Convert inf values to NaN before operating instead.\n",
      "  pd.options.mode.use_inf_as_na = True\n"
     ]
    },
    {
     "name": "stdout",
     "output_type": "stream",
     "text": [
      "set var1 to 4.1996\n",
      "set var2 to -0.804\n",
      "{'var1': 4.19963378513378, 'var2': -0.8039969591029044}\n",
      "[1594.0, 1594.0, 1594.0, 1594.0, 1594.0]\n",
      "step7\n"
     ]
    },
    {
     "name": "stderr",
     "output_type": "stream",
     "text": [
      "C:\\Users\\loasis\\AppData\\Local\\anaconda3\\envs\\geecs\\Lib\\site-packages\\xopt\\generators\\bayesian\\models\\standard.py:86: FutureWarning: use_inf_as_na option is deprecated and will be removed in a future version. Convert inf values to NaN before operating instead.\n",
      "  pd.options.mode.use_inf_as_na = True\n"
     ]
    },
    {
     "ename": "KeyboardInterrupt",
     "evalue": "",
     "output_type": "error",
     "traceback": [
      "\u001b[1;31m---------------------------------------------------------------------------\u001b[0m",
      "\u001b[1;31mKeyboardInterrupt\u001b[0m                         Traceback (most recent call last)",
      "Cell \u001b[1;32mIn[26], line 17\u001b[0m\n\u001b[0;32m     15\u001b[0m \u001b[38;5;28;01mfor\u001b[39;00m i \u001b[38;5;129;01min\u001b[39;00m \u001b[38;5;28mrange\u001b[39m(n_steps):\n\u001b[0;32m     16\u001b[0m     \u001b[38;5;28mprint\u001b[39m(\u001b[38;5;124m'\u001b[39m\u001b[38;5;124mstep\u001b[39m\u001b[38;5;124m'\u001b[39m\u001b[38;5;241m+\u001b[39m\u001b[38;5;28mstr\u001b[39m(i))\n\u001b[1;32m---> 17\u001b[0m     X\u001b[38;5;241m.\u001b[39mstep()\n",
      "File \u001b[1;32m~\\AppData\\Local\\anaconda3\\envs\\geecs\\Lib\\site-packages\\xopt\\base.py:217\u001b[0m, in \u001b[0;36mXopt.step\u001b[1;34m(self)\u001b[0m\n\u001b[0;32m    215\u001b[0m \u001b[38;5;66;03m# generate samples and submit to evaluator\u001b[39;00m\n\u001b[0;32m    216\u001b[0m logger\u001b[38;5;241m.\u001b[39mdebug(\u001b[38;5;124mf\u001b[39m\u001b[38;5;124m\"\u001b[39m\u001b[38;5;124mGenerating \u001b[39m\u001b[38;5;132;01m{\u001b[39;00mn_generate\u001b[38;5;132;01m}\u001b[39;00m\u001b[38;5;124m candidates\u001b[39m\u001b[38;5;124m\"\u001b[39m)\n\u001b[1;32m--> 217\u001b[0m new_samples \u001b[38;5;241m=\u001b[39m pd\u001b[38;5;241m.\u001b[39mDataFrame(\u001b[38;5;28mself\u001b[39m\u001b[38;5;241m.\u001b[39mgenerator\u001b[38;5;241m.\u001b[39mgenerate(n_generate))\n\u001b[0;32m    219\u001b[0m \u001b[38;5;66;03m# generator is done when it returns no new samples\u001b[39;00m\n\u001b[0;32m    220\u001b[0m \u001b[38;5;28;01mif\u001b[39;00m \u001b[38;5;28mlen\u001b[39m(new_samples) \u001b[38;5;241m==\u001b[39m \u001b[38;5;241m0\u001b[39m:\n",
      "File \u001b[1;32m~\\AppData\\Local\\anaconda3\\envs\\geecs\\Lib\\site-packages\\xopt\\generators\\bayesian\\bayesian_generator.py:89\u001b[0m, in \u001b[0;36mBayesianGenerator.generate\u001b[1;34m(self, n_candidates)\u001b[0m\n\u001b[0;32m     86\u001b[0m acq_funct \u001b[38;5;241m=\u001b[39m \u001b[38;5;28mself\u001b[39m\u001b[38;5;241m.\u001b[39mget_acquisition(model)\n\u001b[0;32m     88\u001b[0m \u001b[38;5;66;03m# get candidates\u001b[39;00m\n\u001b[1;32m---> 89\u001b[0m candidates \u001b[38;5;241m=\u001b[39m \u001b[38;5;28mself\u001b[39m\u001b[38;5;241m.\u001b[39moptimize_acqf(acq_funct, bounds, n_candidates)\n\u001b[0;32m     91\u001b[0m \u001b[38;5;66;03m# post process candidates\u001b[39;00m\n\u001b[0;32m     92\u001b[0m result \u001b[38;5;241m=\u001b[39m \u001b[38;5;28mself\u001b[39m\u001b[38;5;241m.\u001b[39m_process_candidates(candidates)\n",
      "File \u001b[1;32m~\\AppData\\Local\\anaconda3\\envs\\geecs\\Lib\\site-packages\\xopt\\generators\\bayesian\\bayesian_generator.py:149\u001b[0m, in \u001b[0;36mBayesianGenerator.optimize_acqf\u001b[1;34m(self, acq_funct, bounds, n_candidates)\u001b[0m\n\u001b[0;32m    147\u001b[0m \u001b[38;5;28;01mdef\u001b[39;00m \u001b[38;5;21moptimize_acqf\u001b[39m(\u001b[38;5;28mself\u001b[39m, acq_funct, bounds, n_candidates):\n\u001b[0;32m    148\u001b[0m     \u001b[38;5;66;03m# get candidates in real domain\u001b[39;00m\n\u001b[1;32m--> 149\u001b[0m     candidates, out \u001b[38;5;241m=\u001b[39m optimize_acqf(\n\u001b[0;32m    150\u001b[0m         acq_function\u001b[38;5;241m=\u001b[39macq_funct,\n\u001b[0;32m    151\u001b[0m         bounds\u001b[38;5;241m=\u001b[39mbounds,\n\u001b[0;32m    152\u001b[0m         q\u001b[38;5;241m=\u001b[39mn_candidates,\n\u001b[0;32m    153\u001b[0m         raw_samples\u001b[38;5;241m=\u001b[39m\u001b[38;5;28mself\u001b[39m\u001b[38;5;241m.\u001b[39moptions\u001b[38;5;241m.\u001b[39moptim\u001b[38;5;241m.\u001b[39mraw_samples,\n\u001b[0;32m    154\u001b[0m         num_restarts\u001b[38;5;241m=\u001b[39m\u001b[38;5;28mself\u001b[39m\u001b[38;5;241m.\u001b[39moptions\u001b[38;5;241m.\u001b[39moptim\u001b[38;5;241m.\u001b[39mnum_restarts,\n\u001b[0;32m    155\u001b[0m     )\n\u001b[0;32m    156\u001b[0m     \u001b[38;5;28;01mreturn\u001b[39;00m candidates\n",
      "File \u001b[1;32m~\\AppData\\Local\\anaconda3\\envs\\geecs\\Lib\\site-packages\\botorch\\optim\\optimize.py:544\u001b[0m, in \u001b[0;36moptimize_acqf\u001b[1;34m(acq_function, bounds, q, num_restarts, raw_samples, options, inequality_constraints, equality_constraints, nonlinear_inequality_constraints, fixed_features, post_processing_func, batch_initial_conditions, return_best_only, gen_candidates, sequential, ic_generator, timeout_sec, return_full_tree, retry_on_optimization_warning, **ic_gen_kwargs)\u001b[0m\n\u001b[0;32m    521\u001b[0m     gen_candidates \u001b[38;5;241m=\u001b[39m gen_candidates_scipy\n\u001b[0;32m    522\u001b[0m opt_acqf_inputs \u001b[38;5;241m=\u001b[39m OptimizeAcqfInputs(\n\u001b[0;32m    523\u001b[0m     acq_function\u001b[38;5;241m=\u001b[39macq_function,\n\u001b[0;32m    524\u001b[0m     bounds\u001b[38;5;241m=\u001b[39mbounds,\n\u001b[1;32m   (...)\u001b[0m\n\u001b[0;32m    542\u001b[0m     ic_gen_kwargs\u001b[38;5;241m=\u001b[39mic_gen_kwargs,\n\u001b[0;32m    543\u001b[0m )\n\u001b[1;32m--> 544\u001b[0m \u001b[38;5;28;01mreturn\u001b[39;00m _optimize_acqf(opt_acqf_inputs)\n",
      "File \u001b[1;32m~\\AppData\\Local\\anaconda3\\envs\\geecs\\Lib\\site-packages\\botorch\\optim\\optimize.py:573\u001b[0m, in \u001b[0;36m_optimize_acqf\u001b[1;34m(opt_inputs)\u001b[0m\n\u001b[0;32m    566\u001b[0m     \u001b[38;5;28;01mreturn\u001b[39;00m _optimize_acqf_sequential_q(\n\u001b[0;32m    567\u001b[0m         opt_inputs\u001b[38;5;241m=\u001b[39mopt_inputs,\n\u001b[0;32m    568\u001b[0m         timeout_sec\u001b[38;5;241m=\u001b[39mtimeout_sec,\n\u001b[0;32m    569\u001b[0m         start_time\u001b[38;5;241m=\u001b[39mstart_time,\n\u001b[0;32m    570\u001b[0m     )\n\u001b[0;32m    572\u001b[0m \u001b[38;5;66;03m# Batch optimization (including the case q=1)\u001b[39;00m\n\u001b[1;32m--> 573\u001b[0m \u001b[38;5;28;01mreturn\u001b[39;00m _optimize_acqf_batch(\n\u001b[0;32m    574\u001b[0m     opt_inputs\u001b[38;5;241m=\u001b[39mopt_inputs, start_time\u001b[38;5;241m=\u001b[39mstart_time, timeout_sec\u001b[38;5;241m=\u001b[39mtimeout_sec\n\u001b[0;32m    575\u001b[0m )\n",
      "File \u001b[1;32m~\\AppData\\Local\\anaconda3\\envs\\geecs\\Lib\\site-packages\\botorch\\optim\\optimize.py:351\u001b[0m, in \u001b[0;36m_optimize_acqf_batch\u001b[1;34m(opt_inputs, start_time, timeout_sec)\u001b[0m\n\u001b[0;32m    348\u001b[0m         batch_acq_values \u001b[38;5;241m=\u001b[39m torch\u001b[38;5;241m.\u001b[39mcat(batch_acq_values_list)\u001b[38;5;241m.\u001b[39mflatten()\n\u001b[0;32m    349\u001b[0m     \u001b[38;5;28;01mreturn\u001b[39;00m batch_candidates, batch_acq_values, opt_warnings\n\u001b[1;32m--> 351\u001b[0m batch_candidates, batch_acq_values, ws \u001b[38;5;241m=\u001b[39m _optimize_batch_candidates(timeout_sec)\n\u001b[0;32m    353\u001b[0m optimization_warning_raised \u001b[38;5;241m=\u001b[39m \u001b[38;5;28many\u001b[39m(\n\u001b[0;32m    354\u001b[0m     (\u001b[38;5;28missubclass\u001b[39m(w\u001b[38;5;241m.\u001b[39mcategory, OptimizationWarning) \u001b[38;5;28;01mfor\u001b[39;00m w \u001b[38;5;129;01min\u001b[39;00m ws)\n\u001b[0;32m    355\u001b[0m )\n\u001b[0;32m    356\u001b[0m \u001b[38;5;28;01mif\u001b[39;00m optimization_warning_raised \u001b[38;5;129;01mand\u001b[39;00m opt_inputs\u001b[38;5;241m.\u001b[39mretry_on_optimization_warning:\n",
      "File \u001b[1;32m~\\AppData\\Local\\anaconda3\\envs\\geecs\\Lib\\site-packages\\botorch\\optim\\optimize.py:335\u001b[0m, in \u001b[0;36m_optimize_acqf_batch.<locals>._optimize_batch_candidates\u001b[1;34m(timeout_sec)\u001b[0m\n\u001b[0;32m    330\u001b[0m \u001b[38;5;28;01mwith\u001b[39;00m warnings\u001b[38;5;241m.\u001b[39mcatch_warnings(record\u001b[38;5;241m=\u001b[39m\u001b[38;5;28;01mTrue\u001b[39;00m) \u001b[38;5;28;01mas\u001b[39;00m ws:\n\u001b[0;32m    331\u001b[0m     warnings\u001b[38;5;241m.\u001b[39msimplefilter(\u001b[38;5;124m\"\u001b[39m\u001b[38;5;124malways\u001b[39m\u001b[38;5;124m\"\u001b[39m, category\u001b[38;5;241m=\u001b[39mOptimizationWarning)\n\u001b[0;32m    332\u001b[0m     (\n\u001b[0;32m    333\u001b[0m         batch_candidates_curr,\n\u001b[0;32m    334\u001b[0m         batch_acq_values_curr,\n\u001b[1;32m--> 335\u001b[0m     ) \u001b[38;5;241m=\u001b[39m opt_inputs\u001b[38;5;241m.\u001b[39mgen_candidates(\n\u001b[0;32m    336\u001b[0m         batched_ics_, opt_inputs\u001b[38;5;241m.\u001b[39macq_function, \u001b[38;5;241m*\u001b[39m\u001b[38;5;241m*\u001b[39mfiltered_gen_kwargs\n\u001b[0;32m    337\u001b[0m     )\n\u001b[0;32m    338\u001b[0m opt_warnings \u001b[38;5;241m+\u001b[39m\u001b[38;5;241m=\u001b[39m ws\n\u001b[0;32m    339\u001b[0m batch_candidates_list\u001b[38;5;241m.\u001b[39mappend(batch_candidates_curr)\n",
      "File \u001b[1;32m~\\AppData\\Local\\anaconda3\\envs\\geecs\\Lib\\site-packages\\botorch\\generation\\gen.py:232\u001b[0m, in \u001b[0;36mgen_candidates_scipy\u001b[1;34m(initial_conditions, acquisition_function, lower_bounds, upper_bounds, inequality_constraints, equality_constraints, nonlinear_inequality_constraints, options, fixed_features, timeout_sec)\u001b[0m\n\u001b[0;32m    229\u001b[0m \u001b[38;5;28;01mdef\u001b[39;00m \u001b[38;5;21mf\u001b[39m(x):\n\u001b[0;32m    230\u001b[0m     \u001b[38;5;28;01mreturn\u001b[39;00m \u001b[38;5;241m-\u001b[39macquisition_function(x)\n\u001b[1;32m--> 232\u001b[0m res \u001b[38;5;241m=\u001b[39m minimize_with_timeout(\n\u001b[0;32m    233\u001b[0m     fun\u001b[38;5;241m=\u001b[39mf_np_wrapper,\n\u001b[0;32m    234\u001b[0m     args\u001b[38;5;241m=\u001b[39m(f,),\n\u001b[0;32m    235\u001b[0m     x0\u001b[38;5;241m=\u001b[39mx0,\n\u001b[0;32m    236\u001b[0m     method\u001b[38;5;241m=\u001b[39moptions\u001b[38;5;241m.\u001b[39mget(\u001b[38;5;124m\"\u001b[39m\u001b[38;5;124mmethod\u001b[39m\u001b[38;5;124m\"\u001b[39m, \u001b[38;5;124m\"\u001b[39m\u001b[38;5;124mSLSQP\u001b[39m\u001b[38;5;124m\"\u001b[39m \u001b[38;5;28;01mif\u001b[39;00m constraints \u001b[38;5;28;01melse\u001b[39;00m \u001b[38;5;124m\"\u001b[39m\u001b[38;5;124mL-BFGS-B\u001b[39m\u001b[38;5;124m\"\u001b[39m),\n\u001b[0;32m    237\u001b[0m     jac\u001b[38;5;241m=\u001b[39mwith_grad,\n\u001b[0;32m    238\u001b[0m     bounds\u001b[38;5;241m=\u001b[39mbounds,\n\u001b[0;32m    239\u001b[0m     constraints\u001b[38;5;241m=\u001b[39mconstraints,\n\u001b[0;32m    240\u001b[0m     callback\u001b[38;5;241m=\u001b[39moptions\u001b[38;5;241m.\u001b[39mget(\u001b[38;5;124m\"\u001b[39m\u001b[38;5;124mcallback\u001b[39m\u001b[38;5;124m\"\u001b[39m, \u001b[38;5;28;01mNone\u001b[39;00m),\n\u001b[0;32m    241\u001b[0m     options\u001b[38;5;241m=\u001b[39m{\n\u001b[0;32m    242\u001b[0m         k: v\n\u001b[0;32m    243\u001b[0m         \u001b[38;5;28;01mfor\u001b[39;00m k, v \u001b[38;5;129;01min\u001b[39;00m options\u001b[38;5;241m.\u001b[39mitems()\n\u001b[0;32m    244\u001b[0m         \u001b[38;5;28;01mif\u001b[39;00m k \u001b[38;5;129;01mnot\u001b[39;00m \u001b[38;5;129;01min\u001b[39;00m [\u001b[38;5;124m\"\u001b[39m\u001b[38;5;124mmethod\u001b[39m\u001b[38;5;124m\"\u001b[39m, \u001b[38;5;124m\"\u001b[39m\u001b[38;5;124mcallback\u001b[39m\u001b[38;5;124m\"\u001b[39m, \u001b[38;5;124m\"\u001b[39m\u001b[38;5;124mwith_grad\u001b[39m\u001b[38;5;124m\"\u001b[39m]\n\u001b[0;32m    245\u001b[0m     },\n\u001b[0;32m    246\u001b[0m     timeout_sec\u001b[38;5;241m=\u001b[39mtimeout_sec,\n\u001b[0;32m    247\u001b[0m )\n\u001b[0;32m    248\u001b[0m _process_scipy_result(res\u001b[38;5;241m=\u001b[39mres, options\u001b[38;5;241m=\u001b[39moptions)\n\u001b[0;32m    250\u001b[0m candidates \u001b[38;5;241m=\u001b[39m fix_features(\n\u001b[0;32m    251\u001b[0m     X\u001b[38;5;241m=\u001b[39mtorch\u001b[38;5;241m.\u001b[39mfrom_numpy(res\u001b[38;5;241m.\u001b[39mx)\u001b[38;5;241m.\u001b[39mto(initial_conditions)\u001b[38;5;241m.\u001b[39mreshape(shapeX),\n\u001b[0;32m    252\u001b[0m     fixed_features\u001b[38;5;241m=\u001b[39mfixed_features,\n\u001b[0;32m    253\u001b[0m )\n",
      "File \u001b[1;32m~\\AppData\\Local\\anaconda3\\envs\\geecs\\Lib\\site-packages\\botorch\\optim\\utils\\timeout.py:80\u001b[0m, in \u001b[0;36mminimize_with_timeout\u001b[1;34m(fun, x0, args, method, jac, hess, hessp, bounds, constraints, tol, callback, options, timeout_sec)\u001b[0m\n\u001b[0;32m     77\u001b[0m     wrapped_callback \u001b[38;5;241m=\u001b[39m callback\n\u001b[0;32m     79\u001b[0m \u001b[38;5;28;01mtry\u001b[39;00m:\n\u001b[1;32m---> 80\u001b[0m     \u001b[38;5;28;01mreturn\u001b[39;00m optimize\u001b[38;5;241m.\u001b[39mminimize(\n\u001b[0;32m     81\u001b[0m         fun\u001b[38;5;241m=\u001b[39mfun,\n\u001b[0;32m     82\u001b[0m         x0\u001b[38;5;241m=\u001b[39mx0,\n\u001b[0;32m     83\u001b[0m         args\u001b[38;5;241m=\u001b[39margs,\n\u001b[0;32m     84\u001b[0m         method\u001b[38;5;241m=\u001b[39mmethod,\n\u001b[0;32m     85\u001b[0m         jac\u001b[38;5;241m=\u001b[39mjac,\n\u001b[0;32m     86\u001b[0m         hess\u001b[38;5;241m=\u001b[39mhess,\n\u001b[0;32m     87\u001b[0m         hessp\u001b[38;5;241m=\u001b[39mhessp,\n\u001b[0;32m     88\u001b[0m         bounds\u001b[38;5;241m=\u001b[39mbounds,\n\u001b[0;32m     89\u001b[0m         constraints\u001b[38;5;241m=\u001b[39mconstraints,\n\u001b[0;32m     90\u001b[0m         tol\u001b[38;5;241m=\u001b[39mtol,\n\u001b[0;32m     91\u001b[0m         callback\u001b[38;5;241m=\u001b[39mwrapped_callback,\n\u001b[0;32m     92\u001b[0m         options\u001b[38;5;241m=\u001b[39moptions,\n\u001b[0;32m     93\u001b[0m     )\n\u001b[0;32m     94\u001b[0m \u001b[38;5;28;01mexcept\u001b[39;00m OptimizationTimeoutError \u001b[38;5;28;01mas\u001b[39;00m e:\n\u001b[0;32m     95\u001b[0m     msg \u001b[38;5;241m=\u001b[39m \u001b[38;5;124mf\u001b[39m\u001b[38;5;124m\"\u001b[39m\u001b[38;5;124mOptimization timed out after \u001b[39m\u001b[38;5;132;01m{\u001b[39;00me\u001b[38;5;241m.\u001b[39mruntime\u001b[38;5;132;01m}\u001b[39;00m\u001b[38;5;124m seconds.\u001b[39m\u001b[38;5;124m\"\u001b[39m\n",
      "File \u001b[1;32m~\\AppData\\Local\\anaconda3\\envs\\geecs\\Lib\\site-packages\\scipy\\optimize\\_minimize.py:710\u001b[0m, in \u001b[0;36mminimize\u001b[1;34m(fun, x0, args, method, jac, hess, hessp, bounds, constraints, tol, callback, options)\u001b[0m\n\u001b[0;32m    707\u001b[0m     res \u001b[38;5;241m=\u001b[39m _minimize_newtoncg(fun, x0, args, jac, hess, hessp, callback,\n\u001b[0;32m    708\u001b[0m                              \u001b[38;5;241m*\u001b[39m\u001b[38;5;241m*\u001b[39moptions)\n\u001b[0;32m    709\u001b[0m \u001b[38;5;28;01melif\u001b[39;00m meth \u001b[38;5;241m==\u001b[39m \u001b[38;5;124m'\u001b[39m\u001b[38;5;124ml-bfgs-b\u001b[39m\u001b[38;5;124m'\u001b[39m:\n\u001b[1;32m--> 710\u001b[0m     res \u001b[38;5;241m=\u001b[39m _minimize_lbfgsb(fun, x0, args, jac, bounds,\n\u001b[0;32m    711\u001b[0m                            callback\u001b[38;5;241m=\u001b[39mcallback, \u001b[38;5;241m*\u001b[39m\u001b[38;5;241m*\u001b[39moptions)\n\u001b[0;32m    712\u001b[0m \u001b[38;5;28;01melif\u001b[39;00m meth \u001b[38;5;241m==\u001b[39m \u001b[38;5;124m'\u001b[39m\u001b[38;5;124mtnc\u001b[39m\u001b[38;5;124m'\u001b[39m:\n\u001b[0;32m    713\u001b[0m     res \u001b[38;5;241m=\u001b[39m _minimize_tnc(fun, x0, args, jac, bounds, callback\u001b[38;5;241m=\u001b[39mcallback,\n\u001b[0;32m    714\u001b[0m                         \u001b[38;5;241m*\u001b[39m\u001b[38;5;241m*\u001b[39moptions)\n",
      "File \u001b[1;32m~\\AppData\\Local\\anaconda3\\envs\\geecs\\Lib\\site-packages\\scipy\\optimize\\_lbfgsb_py.py:365\u001b[0m, in \u001b[0;36m_minimize_lbfgsb\u001b[1;34m(fun, x0, args, jac, bounds, disp, maxcor, ftol, gtol, eps, maxfun, maxiter, iprint, callback, maxls, finite_diff_rel_step, **unknown_options)\u001b[0m\n\u001b[0;32m    359\u001b[0m task_str \u001b[38;5;241m=\u001b[39m task\u001b[38;5;241m.\u001b[39mtobytes()\n\u001b[0;32m    360\u001b[0m \u001b[38;5;28;01mif\u001b[39;00m task_str\u001b[38;5;241m.\u001b[39mstartswith(\u001b[38;5;124mb\u001b[39m\u001b[38;5;124m'\u001b[39m\u001b[38;5;124mFG\u001b[39m\u001b[38;5;124m'\u001b[39m):\n\u001b[0;32m    361\u001b[0m     \u001b[38;5;66;03m# The minimization routine wants f and g at the current x.\u001b[39;00m\n\u001b[0;32m    362\u001b[0m     \u001b[38;5;66;03m# Note that interruptions due to maxfun are postponed\u001b[39;00m\n\u001b[0;32m    363\u001b[0m     \u001b[38;5;66;03m# until the completion of the current minimization iteration.\u001b[39;00m\n\u001b[0;32m    364\u001b[0m     \u001b[38;5;66;03m# Overwrite f and g:\u001b[39;00m\n\u001b[1;32m--> 365\u001b[0m     f, g \u001b[38;5;241m=\u001b[39m func_and_grad(x)\n\u001b[0;32m    366\u001b[0m \u001b[38;5;28;01melif\u001b[39;00m task_str\u001b[38;5;241m.\u001b[39mstartswith(\u001b[38;5;124mb\u001b[39m\u001b[38;5;124m'\u001b[39m\u001b[38;5;124mNEW_X\u001b[39m\u001b[38;5;124m'\u001b[39m):\n\u001b[0;32m    367\u001b[0m     \u001b[38;5;66;03m# new iteration\u001b[39;00m\n\u001b[0;32m    368\u001b[0m     n_iterations \u001b[38;5;241m+\u001b[39m\u001b[38;5;241m=\u001b[39m \u001b[38;5;241m1\u001b[39m\n",
      "File \u001b[1;32m~\\AppData\\Local\\anaconda3\\envs\\geecs\\Lib\\site-packages\\scipy\\optimize\\_differentiable_functions.py:285\u001b[0m, in \u001b[0;36mScalarFunction.fun_and_grad\u001b[1;34m(self, x)\u001b[0m\n\u001b[0;32m    283\u001b[0m \u001b[38;5;28;01mif\u001b[39;00m \u001b[38;5;129;01mnot\u001b[39;00m np\u001b[38;5;241m.\u001b[39marray_equal(x, \u001b[38;5;28mself\u001b[39m\u001b[38;5;241m.\u001b[39mx):\n\u001b[0;32m    284\u001b[0m     \u001b[38;5;28mself\u001b[39m\u001b[38;5;241m.\u001b[39m_update_x_impl(x)\n\u001b[1;32m--> 285\u001b[0m \u001b[38;5;28mself\u001b[39m\u001b[38;5;241m.\u001b[39m_update_fun()\n\u001b[0;32m    286\u001b[0m \u001b[38;5;28mself\u001b[39m\u001b[38;5;241m.\u001b[39m_update_grad()\n\u001b[0;32m    287\u001b[0m \u001b[38;5;28;01mreturn\u001b[39;00m \u001b[38;5;28mself\u001b[39m\u001b[38;5;241m.\u001b[39mf, \u001b[38;5;28mself\u001b[39m\u001b[38;5;241m.\u001b[39mg\n",
      "File \u001b[1;32m~\\AppData\\Local\\anaconda3\\envs\\geecs\\Lib\\site-packages\\scipy\\optimize\\_differentiable_functions.py:251\u001b[0m, in \u001b[0;36mScalarFunction._update_fun\u001b[1;34m(self)\u001b[0m\n\u001b[0;32m    249\u001b[0m \u001b[38;5;28;01mdef\u001b[39;00m \u001b[38;5;21m_update_fun\u001b[39m(\u001b[38;5;28mself\u001b[39m):\n\u001b[0;32m    250\u001b[0m     \u001b[38;5;28;01mif\u001b[39;00m \u001b[38;5;129;01mnot\u001b[39;00m \u001b[38;5;28mself\u001b[39m\u001b[38;5;241m.\u001b[39mf_updated:\n\u001b[1;32m--> 251\u001b[0m         \u001b[38;5;28mself\u001b[39m\u001b[38;5;241m.\u001b[39m_update_fun_impl()\n\u001b[0;32m    252\u001b[0m         \u001b[38;5;28mself\u001b[39m\u001b[38;5;241m.\u001b[39mf_updated \u001b[38;5;241m=\u001b[39m \u001b[38;5;28;01mTrue\u001b[39;00m\n",
      "File \u001b[1;32m~\\AppData\\Local\\anaconda3\\envs\\geecs\\Lib\\site-packages\\scipy\\optimize\\_differentiable_functions.py:155\u001b[0m, in \u001b[0;36mScalarFunction.__init__.<locals>.update_fun\u001b[1;34m()\u001b[0m\n\u001b[0;32m    154\u001b[0m \u001b[38;5;28;01mdef\u001b[39;00m \u001b[38;5;21mupdate_fun\u001b[39m():\n\u001b[1;32m--> 155\u001b[0m     \u001b[38;5;28mself\u001b[39m\u001b[38;5;241m.\u001b[39mf \u001b[38;5;241m=\u001b[39m fun_wrapped(\u001b[38;5;28mself\u001b[39m\u001b[38;5;241m.\u001b[39mx)\n",
      "File \u001b[1;32m~\\AppData\\Local\\anaconda3\\envs\\geecs\\Lib\\site-packages\\scipy\\optimize\\_differentiable_functions.py:137\u001b[0m, in \u001b[0;36mScalarFunction.__init__.<locals>.fun_wrapped\u001b[1;34m(x)\u001b[0m\n\u001b[0;32m    133\u001b[0m \u001b[38;5;28mself\u001b[39m\u001b[38;5;241m.\u001b[39mnfev \u001b[38;5;241m+\u001b[39m\u001b[38;5;241m=\u001b[39m \u001b[38;5;241m1\u001b[39m\n\u001b[0;32m    134\u001b[0m \u001b[38;5;66;03m# Send a copy because the user may overwrite it.\u001b[39;00m\n\u001b[0;32m    135\u001b[0m \u001b[38;5;66;03m# Overwriting results in undefined behaviour because\u001b[39;00m\n\u001b[0;32m    136\u001b[0m \u001b[38;5;66;03m# fun(self.x) will change self.x, with the two no longer linked.\u001b[39;00m\n\u001b[1;32m--> 137\u001b[0m fx \u001b[38;5;241m=\u001b[39m fun(np\u001b[38;5;241m.\u001b[39mcopy(x), \u001b[38;5;241m*\u001b[39margs)\n\u001b[0;32m    138\u001b[0m \u001b[38;5;66;03m# Make sure the function returns a true scalar\u001b[39;00m\n\u001b[0;32m    139\u001b[0m \u001b[38;5;28;01mif\u001b[39;00m \u001b[38;5;129;01mnot\u001b[39;00m np\u001b[38;5;241m.\u001b[39misscalar(fx):\n",
      "File \u001b[1;32m~\\AppData\\Local\\anaconda3\\envs\\geecs\\Lib\\site-packages\\scipy\\optimize\\_optimize.py:77\u001b[0m, in \u001b[0;36mMemoizeJac.__call__\u001b[1;34m(self, x, *args)\u001b[0m\n\u001b[0;32m     75\u001b[0m \u001b[38;5;28;01mdef\u001b[39;00m \u001b[38;5;21m__call__\u001b[39m(\u001b[38;5;28mself\u001b[39m, x, \u001b[38;5;241m*\u001b[39margs):\n\u001b[0;32m     76\u001b[0m \u001b[38;5;250m    \u001b[39m\u001b[38;5;124;03m\"\"\" returns the function value \"\"\"\u001b[39;00m\n\u001b[1;32m---> 77\u001b[0m     \u001b[38;5;28mself\u001b[39m\u001b[38;5;241m.\u001b[39m_compute_if_needed(x, \u001b[38;5;241m*\u001b[39margs)\n\u001b[0;32m     78\u001b[0m     \u001b[38;5;28;01mreturn\u001b[39;00m \u001b[38;5;28mself\u001b[39m\u001b[38;5;241m.\u001b[39m_value\n",
      "File \u001b[1;32m~\\AppData\\Local\\anaconda3\\envs\\geecs\\Lib\\site-packages\\scipy\\optimize\\_optimize.py:71\u001b[0m, in \u001b[0;36mMemoizeJac._compute_if_needed\u001b[1;34m(self, x, *args)\u001b[0m\n\u001b[0;32m     69\u001b[0m \u001b[38;5;28;01mif\u001b[39;00m \u001b[38;5;129;01mnot\u001b[39;00m np\u001b[38;5;241m.\u001b[39mall(x \u001b[38;5;241m==\u001b[39m \u001b[38;5;28mself\u001b[39m\u001b[38;5;241m.\u001b[39mx) \u001b[38;5;129;01mor\u001b[39;00m \u001b[38;5;28mself\u001b[39m\u001b[38;5;241m.\u001b[39m_value \u001b[38;5;129;01mis\u001b[39;00m \u001b[38;5;28;01mNone\u001b[39;00m \u001b[38;5;129;01mor\u001b[39;00m \u001b[38;5;28mself\u001b[39m\u001b[38;5;241m.\u001b[39mjac \u001b[38;5;129;01mis\u001b[39;00m \u001b[38;5;28;01mNone\u001b[39;00m:\n\u001b[0;32m     70\u001b[0m     \u001b[38;5;28mself\u001b[39m\u001b[38;5;241m.\u001b[39mx \u001b[38;5;241m=\u001b[39m np\u001b[38;5;241m.\u001b[39masarray(x)\u001b[38;5;241m.\u001b[39mcopy()\n\u001b[1;32m---> 71\u001b[0m     fg \u001b[38;5;241m=\u001b[39m \u001b[38;5;28mself\u001b[39m\u001b[38;5;241m.\u001b[39mfun(x, \u001b[38;5;241m*\u001b[39margs)\n\u001b[0;32m     72\u001b[0m     \u001b[38;5;28mself\u001b[39m\u001b[38;5;241m.\u001b[39mjac \u001b[38;5;241m=\u001b[39m fg[\u001b[38;5;241m1\u001b[39m]\n\u001b[0;32m     73\u001b[0m     \u001b[38;5;28mself\u001b[39m\u001b[38;5;241m.\u001b[39m_value \u001b[38;5;241m=\u001b[39m fg[\u001b[38;5;241m0\u001b[39m]\n",
      "File \u001b[1;32m~\\AppData\\Local\\anaconda3\\envs\\geecs\\Lib\\site-packages\\botorch\\generation\\gen.py:190\u001b[0m, in \u001b[0;36mgen_candidates_scipy.<locals>.f_np_wrapper\u001b[1;34m(x, f)\u001b[0m\n\u001b[0;32m    182\u001b[0m X \u001b[38;5;241m=\u001b[39m (\n\u001b[0;32m    183\u001b[0m     torch\u001b[38;5;241m.\u001b[39mfrom_numpy(x)\n\u001b[0;32m    184\u001b[0m     \u001b[38;5;241m.\u001b[39mto(initial_conditions)\n\u001b[1;32m   (...)\u001b[0m\n\u001b[0;32m    187\u001b[0m     \u001b[38;5;241m.\u001b[39mrequires_grad_(\u001b[38;5;28;01mTrue\u001b[39;00m)\n\u001b[0;32m    188\u001b[0m )\n\u001b[0;32m    189\u001b[0m X_fix \u001b[38;5;241m=\u001b[39m fix_features(X, fixed_features\u001b[38;5;241m=\u001b[39mfixed_features)\n\u001b[1;32m--> 190\u001b[0m loss \u001b[38;5;241m=\u001b[39m f(X_fix)\u001b[38;5;241m.\u001b[39msum()\n\u001b[0;32m    191\u001b[0m \u001b[38;5;66;03m# compute gradient w.r.t. the inputs (does not accumulate in leaves)\u001b[39;00m\n\u001b[0;32m    192\u001b[0m gradf \u001b[38;5;241m=\u001b[39m _arrayify(torch\u001b[38;5;241m.\u001b[39mautograd\u001b[38;5;241m.\u001b[39mgrad(loss, X)[\u001b[38;5;241m0\u001b[39m]\u001b[38;5;241m.\u001b[39mcontiguous()\u001b[38;5;241m.\u001b[39mview(\u001b[38;5;241m-\u001b[39m\u001b[38;5;241m1\u001b[39m))\n",
      "File \u001b[1;32m~\\AppData\\Local\\anaconda3\\envs\\geecs\\Lib\\site-packages\\botorch\\generation\\gen.py:230\u001b[0m, in \u001b[0;36mgen_candidates_scipy.<locals>.f\u001b[1;34m(x)\u001b[0m\n\u001b[0;32m    229\u001b[0m \u001b[38;5;28;01mdef\u001b[39;00m \u001b[38;5;21mf\u001b[39m(x):\n\u001b[1;32m--> 230\u001b[0m     \u001b[38;5;28;01mreturn\u001b[39;00m \u001b[38;5;241m-\u001b[39macquisition_function(x)\n",
      "File \u001b[1;32m~\\AppData\\Local\\anaconda3\\envs\\geecs\\Lib\\site-packages\\torch\\nn\\modules\\module.py:1518\u001b[0m, in \u001b[0;36mModule._wrapped_call_impl\u001b[1;34m(self, *args, **kwargs)\u001b[0m\n\u001b[0;32m   1516\u001b[0m     \u001b[38;5;28;01mreturn\u001b[39;00m \u001b[38;5;28mself\u001b[39m\u001b[38;5;241m.\u001b[39m_compiled_call_impl(\u001b[38;5;241m*\u001b[39margs, \u001b[38;5;241m*\u001b[39m\u001b[38;5;241m*\u001b[39mkwargs)  \u001b[38;5;66;03m# type: ignore[misc]\u001b[39;00m\n\u001b[0;32m   1517\u001b[0m \u001b[38;5;28;01melse\u001b[39;00m:\n\u001b[1;32m-> 1518\u001b[0m     \u001b[38;5;28;01mreturn\u001b[39;00m \u001b[38;5;28mself\u001b[39m\u001b[38;5;241m.\u001b[39m_call_impl(\u001b[38;5;241m*\u001b[39margs, \u001b[38;5;241m*\u001b[39m\u001b[38;5;241m*\u001b[39mkwargs)\n",
      "File \u001b[1;32m~\\AppData\\Local\\anaconda3\\envs\\geecs\\Lib\\site-packages\\torch\\nn\\modules\\module.py:1527\u001b[0m, in \u001b[0;36mModule._call_impl\u001b[1;34m(self, *args, **kwargs)\u001b[0m\n\u001b[0;32m   1522\u001b[0m \u001b[38;5;66;03m# If we don't have any hooks, we want to skip the rest of the logic in\u001b[39;00m\n\u001b[0;32m   1523\u001b[0m \u001b[38;5;66;03m# this function, and just call forward.\u001b[39;00m\n\u001b[0;32m   1524\u001b[0m \u001b[38;5;28;01mif\u001b[39;00m \u001b[38;5;129;01mnot\u001b[39;00m (\u001b[38;5;28mself\u001b[39m\u001b[38;5;241m.\u001b[39m_backward_hooks \u001b[38;5;129;01mor\u001b[39;00m \u001b[38;5;28mself\u001b[39m\u001b[38;5;241m.\u001b[39m_backward_pre_hooks \u001b[38;5;129;01mor\u001b[39;00m \u001b[38;5;28mself\u001b[39m\u001b[38;5;241m.\u001b[39m_forward_hooks \u001b[38;5;129;01mor\u001b[39;00m \u001b[38;5;28mself\u001b[39m\u001b[38;5;241m.\u001b[39m_forward_pre_hooks\n\u001b[0;32m   1525\u001b[0m         \u001b[38;5;129;01mor\u001b[39;00m _global_backward_pre_hooks \u001b[38;5;129;01mor\u001b[39;00m _global_backward_hooks\n\u001b[0;32m   1526\u001b[0m         \u001b[38;5;129;01mor\u001b[39;00m _global_forward_hooks \u001b[38;5;129;01mor\u001b[39;00m _global_forward_pre_hooks):\n\u001b[1;32m-> 1527\u001b[0m     \u001b[38;5;28;01mreturn\u001b[39;00m forward_call(\u001b[38;5;241m*\u001b[39margs, \u001b[38;5;241m*\u001b[39m\u001b[38;5;241m*\u001b[39mkwargs)\n\u001b[0;32m   1529\u001b[0m \u001b[38;5;28;01mtry\u001b[39;00m:\n\u001b[0;32m   1530\u001b[0m     result \u001b[38;5;241m=\u001b[39m \u001b[38;5;28;01mNone\u001b[39;00m\n",
      "File \u001b[1;32m~\\AppData\\Local\\anaconda3\\envs\\geecs\\Lib\\site-packages\\botorch\\utils\\transforms.py:330\u001b[0m, in \u001b[0;36mconcatenate_pending_points.<locals>.decorated\u001b[1;34m(cls, X, **kwargs)\u001b[0m\n\u001b[0;32m    328\u001b[0m \u001b[38;5;28;01mif\u001b[39;00m \u001b[38;5;28mcls\u001b[39m\u001b[38;5;241m.\u001b[39mX_pending \u001b[38;5;129;01mis\u001b[39;00m \u001b[38;5;129;01mnot\u001b[39;00m \u001b[38;5;28;01mNone\u001b[39;00m:\n\u001b[0;32m    329\u001b[0m     X \u001b[38;5;241m=\u001b[39m torch\u001b[38;5;241m.\u001b[39mcat([X, match_batch_shape(\u001b[38;5;28mcls\u001b[39m\u001b[38;5;241m.\u001b[39mX_pending, X)], dim\u001b[38;5;241m=\u001b[39m\u001b[38;5;241m-\u001b[39m\u001b[38;5;241m2\u001b[39m)\n\u001b[1;32m--> 330\u001b[0m \u001b[38;5;28;01mreturn\u001b[39;00m method(\u001b[38;5;28mcls\u001b[39m, X, \u001b[38;5;241m*\u001b[39m\u001b[38;5;241m*\u001b[39mkwargs)\n",
      "File \u001b[1;32m~\\AppData\\Local\\anaconda3\\envs\\geecs\\Lib\\site-packages\\botorch\\utils\\transforms.py:287\u001b[0m, in \u001b[0;36mt_batch_mode_transform.<locals>.decorator.<locals>.decorated\u001b[1;34m(acqf, X, *args, **kwargs)\u001b[0m\n\u001b[0;32m    285\u001b[0m \u001b[38;5;66;03m# add t-batch dim\u001b[39;00m\n\u001b[0;32m    286\u001b[0m X \u001b[38;5;241m=\u001b[39m X \u001b[38;5;28;01mif\u001b[39;00m X\u001b[38;5;241m.\u001b[39mdim() \u001b[38;5;241m>\u001b[39m \u001b[38;5;241m2\u001b[39m \u001b[38;5;28;01melse\u001b[39;00m X\u001b[38;5;241m.\u001b[39munsqueeze(\u001b[38;5;241m0\u001b[39m)\n\u001b[1;32m--> 287\u001b[0m output \u001b[38;5;241m=\u001b[39m method(acqf, X, \u001b[38;5;241m*\u001b[39margs, \u001b[38;5;241m*\u001b[39m\u001b[38;5;241m*\u001b[39mkwargs)\n\u001b[0;32m    288\u001b[0m \u001b[38;5;28;01mif\u001b[39;00m \u001b[38;5;28mhasattr\u001b[39m(acqf, \u001b[38;5;124m\"\u001b[39m\u001b[38;5;124mmodel\u001b[39m\u001b[38;5;124m\"\u001b[39m) \u001b[38;5;129;01mand\u001b[39;00m is_fully_bayesian(acqf\u001b[38;5;241m.\u001b[39mmodel):\n\u001b[0;32m    289\u001b[0m     output \u001b[38;5;241m=\u001b[39m output\u001b[38;5;241m.\u001b[39mmean(dim\u001b[38;5;241m=\u001b[39m\u001b[38;5;241m-\u001b[39m\u001b[38;5;241m1\u001b[39m)\n",
      "File \u001b[1;32m~\\AppData\\Local\\anaconda3\\envs\\geecs\\Lib\\site-packages\\xopt\\generators\\bayesian\\custom_botorch\\constrained_acqusition.py:88\u001b[0m, in \u001b[0;36mConstrainedMCAcquisitionFunction.forward\u001b[1;34m(self, X)\u001b[0m\n\u001b[0;32m     86\u001b[0m     \u001b[38;5;28;01mreturn\u001b[39;00m base_val \u001b[38;5;241m*\u001b[39m obj\u001b[38;5;241m.\u001b[39mmax(dim\u001b[38;5;241m=\u001b[39m\u001b[38;5;241m-\u001b[39m\u001b[38;5;241m1\u001b[39m)[\u001b[38;5;241m0\u001b[39m]\u001b[38;5;241m.\u001b[39mmean(dim\u001b[38;5;241m=\u001b[39m\u001b[38;5;241m0\u001b[39m)\n\u001b[0;32m     87\u001b[0m \u001b[38;5;28;01melse\u001b[39;00m:\n\u001b[1;32m---> 88\u001b[0m     \u001b[38;5;28;01mreturn\u001b[39;00m \u001b[38;5;28mself\u001b[39m\u001b[38;5;241m.\u001b[39mbase_acqusition(X)\n",
      "File \u001b[1;32m~\\AppData\\Local\\anaconda3\\envs\\geecs\\Lib\\site-packages\\torch\\nn\\modules\\module.py:1518\u001b[0m, in \u001b[0;36mModule._wrapped_call_impl\u001b[1;34m(self, *args, **kwargs)\u001b[0m\n\u001b[0;32m   1516\u001b[0m     \u001b[38;5;28;01mreturn\u001b[39;00m \u001b[38;5;28mself\u001b[39m\u001b[38;5;241m.\u001b[39m_compiled_call_impl(\u001b[38;5;241m*\u001b[39margs, \u001b[38;5;241m*\u001b[39m\u001b[38;5;241m*\u001b[39mkwargs)  \u001b[38;5;66;03m# type: ignore[misc]\u001b[39;00m\n\u001b[0;32m   1517\u001b[0m \u001b[38;5;28;01melse\u001b[39;00m:\n\u001b[1;32m-> 1518\u001b[0m     \u001b[38;5;28;01mreturn\u001b[39;00m \u001b[38;5;28mself\u001b[39m\u001b[38;5;241m.\u001b[39m_call_impl(\u001b[38;5;241m*\u001b[39margs, \u001b[38;5;241m*\u001b[39m\u001b[38;5;241m*\u001b[39mkwargs)\n",
      "File \u001b[1;32m~\\AppData\\Local\\anaconda3\\envs\\geecs\\Lib\\site-packages\\torch\\nn\\modules\\module.py:1527\u001b[0m, in \u001b[0;36mModule._call_impl\u001b[1;34m(self, *args, **kwargs)\u001b[0m\n\u001b[0;32m   1522\u001b[0m \u001b[38;5;66;03m# If we don't have any hooks, we want to skip the rest of the logic in\u001b[39;00m\n\u001b[0;32m   1523\u001b[0m \u001b[38;5;66;03m# this function, and just call forward.\u001b[39;00m\n\u001b[0;32m   1524\u001b[0m \u001b[38;5;28;01mif\u001b[39;00m \u001b[38;5;129;01mnot\u001b[39;00m (\u001b[38;5;28mself\u001b[39m\u001b[38;5;241m.\u001b[39m_backward_hooks \u001b[38;5;129;01mor\u001b[39;00m \u001b[38;5;28mself\u001b[39m\u001b[38;5;241m.\u001b[39m_backward_pre_hooks \u001b[38;5;129;01mor\u001b[39;00m \u001b[38;5;28mself\u001b[39m\u001b[38;5;241m.\u001b[39m_forward_hooks \u001b[38;5;129;01mor\u001b[39;00m \u001b[38;5;28mself\u001b[39m\u001b[38;5;241m.\u001b[39m_forward_pre_hooks\n\u001b[0;32m   1525\u001b[0m         \u001b[38;5;129;01mor\u001b[39;00m _global_backward_pre_hooks \u001b[38;5;129;01mor\u001b[39;00m _global_backward_hooks\n\u001b[0;32m   1526\u001b[0m         \u001b[38;5;129;01mor\u001b[39;00m _global_forward_hooks \u001b[38;5;129;01mor\u001b[39;00m _global_forward_pre_hooks):\n\u001b[1;32m-> 1527\u001b[0m     \u001b[38;5;28;01mreturn\u001b[39;00m forward_call(\u001b[38;5;241m*\u001b[39margs, \u001b[38;5;241m*\u001b[39m\u001b[38;5;241m*\u001b[39mkwargs)\n\u001b[0;32m   1529\u001b[0m \u001b[38;5;28;01mtry\u001b[39;00m:\n\u001b[0;32m   1530\u001b[0m     result \u001b[38;5;241m=\u001b[39m \u001b[38;5;28;01mNone\u001b[39;00m\n",
      "File \u001b[1;32m~\\AppData\\Local\\anaconda3\\envs\\geecs\\Lib\\site-packages\\botorch\\utils\\transforms.py:330\u001b[0m, in \u001b[0;36mconcatenate_pending_points.<locals>.decorated\u001b[1;34m(cls, X, **kwargs)\u001b[0m\n\u001b[0;32m    328\u001b[0m \u001b[38;5;28;01mif\u001b[39;00m \u001b[38;5;28mcls\u001b[39m\u001b[38;5;241m.\u001b[39mX_pending \u001b[38;5;129;01mis\u001b[39;00m \u001b[38;5;129;01mnot\u001b[39;00m \u001b[38;5;28;01mNone\u001b[39;00m:\n\u001b[0;32m    329\u001b[0m     X \u001b[38;5;241m=\u001b[39m torch\u001b[38;5;241m.\u001b[39mcat([X, match_batch_shape(\u001b[38;5;28mcls\u001b[39m\u001b[38;5;241m.\u001b[39mX_pending, X)], dim\u001b[38;5;241m=\u001b[39m\u001b[38;5;241m-\u001b[39m\u001b[38;5;241m2\u001b[39m)\n\u001b[1;32m--> 330\u001b[0m \u001b[38;5;28;01mreturn\u001b[39;00m method(\u001b[38;5;28mcls\u001b[39m, X, \u001b[38;5;241m*\u001b[39m\u001b[38;5;241m*\u001b[39mkwargs)\n",
      "File \u001b[1;32m~\\AppData\\Local\\anaconda3\\envs\\geecs\\Lib\\site-packages\\botorch\\utils\\transforms.py:287\u001b[0m, in \u001b[0;36mt_batch_mode_transform.<locals>.decorator.<locals>.decorated\u001b[1;34m(acqf, X, *args, **kwargs)\u001b[0m\n\u001b[0;32m    285\u001b[0m \u001b[38;5;66;03m# add t-batch dim\u001b[39;00m\n\u001b[0;32m    286\u001b[0m X \u001b[38;5;241m=\u001b[39m X \u001b[38;5;28;01mif\u001b[39;00m X\u001b[38;5;241m.\u001b[39mdim() \u001b[38;5;241m>\u001b[39m \u001b[38;5;241m2\u001b[39m \u001b[38;5;28;01melse\u001b[39;00m X\u001b[38;5;241m.\u001b[39munsqueeze(\u001b[38;5;241m0\u001b[39m)\n\u001b[1;32m--> 287\u001b[0m output \u001b[38;5;241m=\u001b[39m method(acqf, X, \u001b[38;5;241m*\u001b[39margs, \u001b[38;5;241m*\u001b[39m\u001b[38;5;241m*\u001b[39mkwargs)\n\u001b[0;32m    288\u001b[0m \u001b[38;5;28;01mif\u001b[39;00m \u001b[38;5;28mhasattr\u001b[39m(acqf, \u001b[38;5;124m\"\u001b[39m\u001b[38;5;124mmodel\u001b[39m\u001b[38;5;124m\"\u001b[39m) \u001b[38;5;129;01mand\u001b[39;00m is_fully_bayesian(acqf\u001b[38;5;241m.\u001b[39mmodel):\n\u001b[0;32m    289\u001b[0m     output \u001b[38;5;241m=\u001b[39m output\u001b[38;5;241m.\u001b[39mmean(dim\u001b[38;5;241m=\u001b[39m\u001b[38;5;241m-\u001b[39m\u001b[38;5;241m1\u001b[39m)\n",
      "File \u001b[1;32m~\\AppData\\Local\\anaconda3\\envs\\geecs\\Lib\\site-packages\\botorch\\acquisition\\monte_carlo.py:541\u001b[0m, in \u001b[0;36mqUpperConfidenceBound.forward\u001b[1;34m(self, X)\u001b[0m\n\u001b[0;32m    527\u001b[0m \u001b[38;5;129m@concatenate_pending_points\u001b[39m\n\u001b[0;32m    528\u001b[0m \u001b[38;5;129m@t_batch_mode_transform\u001b[39m()\n\u001b[0;32m    529\u001b[0m \u001b[38;5;28;01mdef\u001b[39;00m \u001b[38;5;21mforward\u001b[39m(\u001b[38;5;28mself\u001b[39m, X: Tensor) \u001b[38;5;241m-\u001b[39m\u001b[38;5;241m>\u001b[39m Tensor:\n\u001b[0;32m    530\u001b[0m \u001b[38;5;250m    \u001b[39m\u001b[38;5;124mr\u001b[39m\u001b[38;5;124;03m\"\"\"Evaluate qUpperConfidenceBound on the candidate set `X`.\u001b[39;00m\n\u001b[0;32m    531\u001b[0m \n\u001b[0;32m    532\u001b[0m \u001b[38;5;124;03m    Args:\u001b[39;00m\n\u001b[1;32m   (...)\u001b[0m\n\u001b[0;32m    539\u001b[0m \u001b[38;5;124;03m        model and input `X`.\u001b[39;00m\n\u001b[0;32m    540\u001b[0m \u001b[38;5;124;03m    \"\"\"\u001b[39;00m\n\u001b[1;32m--> 541\u001b[0m     posterior \u001b[38;5;241m=\u001b[39m \u001b[38;5;28mself\u001b[39m\u001b[38;5;241m.\u001b[39mmodel\u001b[38;5;241m.\u001b[39mposterior(\n\u001b[0;32m    542\u001b[0m         X\u001b[38;5;241m=\u001b[39mX, posterior_transform\u001b[38;5;241m=\u001b[39m\u001b[38;5;28mself\u001b[39m\u001b[38;5;241m.\u001b[39mposterior_transform\n\u001b[0;32m    543\u001b[0m     )\n\u001b[0;32m    544\u001b[0m     samples \u001b[38;5;241m=\u001b[39m \u001b[38;5;28mself\u001b[39m\u001b[38;5;241m.\u001b[39mget_posterior_samples(posterior)\n\u001b[0;32m    545\u001b[0m     obj \u001b[38;5;241m=\u001b[39m \u001b[38;5;28mself\u001b[39m\u001b[38;5;241m.\u001b[39mobjective(samples, X\u001b[38;5;241m=\u001b[39mX)\n",
      "File \u001b[1;32m~\\AppData\\Local\\anaconda3\\envs\\geecs\\Lib\\site-packages\\botorch\\models\\gpytorch.py:653\u001b[0m, in \u001b[0;36mModelListGPyTorchModel.posterior\u001b[1;34m(self, X, output_indices, observation_noise, posterior_transform, **kwargs)\u001b[0m\n\u001b[0;32m    651\u001b[0m     mvn_gen \u001b[38;5;241m=\u001b[39m \u001b[38;5;28mzip\u001b[39m(output_indices, mvns)\n\u001b[0;32m    652\u001b[0m \u001b[38;5;28;01melse\u001b[39;00m:\n\u001b[1;32m--> 653\u001b[0m     mvns \u001b[38;5;241m=\u001b[39m \u001b[38;5;28mself\u001b[39m(\u001b[38;5;241m*\u001b[39mtransformed_X)\n\u001b[0;32m    654\u001b[0m     \u001b[38;5;28;01mif\u001b[39;00m observation_noise \u001b[38;5;129;01mis\u001b[39;00m \u001b[38;5;129;01mnot\u001b[39;00m \u001b[38;5;28;01mFalse\u001b[39;00m:\n\u001b[0;32m    655\u001b[0m         mvnX \u001b[38;5;241m=\u001b[39m [(mvn, transformed_X[i]) \u001b[38;5;28;01mfor\u001b[39;00m i, mvn \u001b[38;5;129;01min\u001b[39;00m \u001b[38;5;28menumerate\u001b[39m(mvns)]\n",
      "File \u001b[1;32m~\\AppData\\Local\\anaconda3\\envs\\geecs\\Lib\\site-packages\\gpytorch\\models\\model_list.py:79\u001b[0m, in \u001b[0;36mIndependentModelList.__call__\u001b[1;34m(self, *args, **kwargs)\u001b[0m\n\u001b[0;32m     78\u001b[0m \u001b[38;5;28;01mdef\u001b[39;00m \u001b[38;5;21m__call__\u001b[39m(\u001b[38;5;28mself\u001b[39m, \u001b[38;5;241m*\u001b[39margs, \u001b[38;5;241m*\u001b[39m\u001b[38;5;241m*\u001b[39mkwargs):\n\u001b[1;32m---> 79\u001b[0m     \u001b[38;5;28;01mreturn\u001b[39;00m [\n\u001b[0;32m     80\u001b[0m         model\u001b[38;5;241m.\u001b[39m\u001b[38;5;21m__call__\u001b[39m(\u001b[38;5;241m*\u001b[39margs_, \u001b[38;5;241m*\u001b[39m\u001b[38;5;241m*\u001b[39mkwargs) \u001b[38;5;28;01mfor\u001b[39;00m model, args_ \u001b[38;5;129;01min\u001b[39;00m length_safe_zip(\u001b[38;5;28mself\u001b[39m\u001b[38;5;241m.\u001b[39mmodels, _get_tensor_args(\u001b[38;5;241m*\u001b[39margs))\n\u001b[0;32m     81\u001b[0m     ]\n",
      "File \u001b[1;32m~\\AppData\\Local\\anaconda3\\envs\\geecs\\Lib\\site-packages\\gpytorch\\models\\model_list.py:80\u001b[0m, in \u001b[0;36m<listcomp>\u001b[1;34m(.0)\u001b[0m\n\u001b[0;32m     78\u001b[0m \u001b[38;5;28;01mdef\u001b[39;00m \u001b[38;5;21m__call__\u001b[39m(\u001b[38;5;28mself\u001b[39m, \u001b[38;5;241m*\u001b[39margs, \u001b[38;5;241m*\u001b[39m\u001b[38;5;241m*\u001b[39mkwargs):\n\u001b[0;32m     79\u001b[0m     \u001b[38;5;28;01mreturn\u001b[39;00m [\n\u001b[1;32m---> 80\u001b[0m         model\u001b[38;5;241m.\u001b[39m\u001b[38;5;21m__call__\u001b[39m(\u001b[38;5;241m*\u001b[39margs_, \u001b[38;5;241m*\u001b[39m\u001b[38;5;241m*\u001b[39mkwargs) \u001b[38;5;28;01mfor\u001b[39;00m model, args_ \u001b[38;5;129;01min\u001b[39;00m length_safe_zip(\u001b[38;5;28mself\u001b[39m\u001b[38;5;241m.\u001b[39mmodels, _get_tensor_args(\u001b[38;5;241m*\u001b[39margs))\n\u001b[0;32m     81\u001b[0m     ]\n",
      "File \u001b[1;32m~\\AppData\\Local\\anaconda3\\envs\\geecs\\Lib\\site-packages\\gpytorch\\models\\exact_gp.py:333\u001b[0m, in \u001b[0;36mExactGP.__call__\u001b[1;34m(self, *args, **kwargs)\u001b[0m\n\u001b[0;32m    328\u001b[0m \u001b[38;5;66;03m# Make the prediction\u001b[39;00m\n\u001b[0;32m    329\u001b[0m \u001b[38;5;28;01mwith\u001b[39;00m settings\u001b[38;5;241m.\u001b[39mcg_tolerance(settings\u001b[38;5;241m.\u001b[39meval_cg_tolerance\u001b[38;5;241m.\u001b[39mvalue()):\n\u001b[0;32m    330\u001b[0m     (\n\u001b[0;32m    331\u001b[0m         predictive_mean,\n\u001b[0;32m    332\u001b[0m         predictive_covar,\n\u001b[1;32m--> 333\u001b[0m     ) \u001b[38;5;241m=\u001b[39m \u001b[38;5;28mself\u001b[39m\u001b[38;5;241m.\u001b[39mprediction_strategy\u001b[38;5;241m.\u001b[39mexact_prediction(full_mean, full_covar)\n\u001b[0;32m    335\u001b[0m \u001b[38;5;66;03m# Reshape predictive mean to match the appropriate event shape\u001b[39;00m\n\u001b[0;32m    336\u001b[0m predictive_mean \u001b[38;5;241m=\u001b[39m predictive_mean\u001b[38;5;241m.\u001b[39mview(\u001b[38;5;241m*\u001b[39mbatch_shape, \u001b[38;5;241m*\u001b[39mtest_shape)\u001b[38;5;241m.\u001b[39mcontiguous()\n",
      "File \u001b[1;32m~\\AppData\\Local\\anaconda3\\envs\\geecs\\Lib\\site-packages\\gpytorch\\models\\exact_prediction_strategies.py:290\u001b[0m, in \u001b[0;36mDefaultPredictionStrategy.exact_prediction\u001b[1;34m(self, joint_mean, joint_covar)\u001b[0m\n\u001b[0;32m    285\u001b[0m     test_test_covar \u001b[38;5;241m=\u001b[39m joint_covar[\u001b[38;5;241m.\u001b[39m\u001b[38;5;241m.\u001b[39m\u001b[38;5;241m.\u001b[39m, \u001b[38;5;28mself\u001b[39m\u001b[38;5;241m.\u001b[39mnum_train :, \u001b[38;5;28mself\u001b[39m\u001b[38;5;241m.\u001b[39mnum_train :]\n\u001b[0;32m    286\u001b[0m     test_train_covar \u001b[38;5;241m=\u001b[39m joint_covar[\u001b[38;5;241m.\u001b[39m\u001b[38;5;241m.\u001b[39m\u001b[38;5;241m.\u001b[39m, \u001b[38;5;28mself\u001b[39m\u001b[38;5;241m.\u001b[39mnum_train :, : \u001b[38;5;28mself\u001b[39m\u001b[38;5;241m.\u001b[39mnum_train]\n\u001b[0;32m    288\u001b[0m \u001b[38;5;28;01mreturn\u001b[39;00m (\n\u001b[0;32m    289\u001b[0m     \u001b[38;5;28mself\u001b[39m\u001b[38;5;241m.\u001b[39mexact_predictive_mean(test_mean, test_train_covar),\n\u001b[1;32m--> 290\u001b[0m     \u001b[38;5;28mself\u001b[39m\u001b[38;5;241m.\u001b[39mexact_predictive_covar(test_test_covar, test_train_covar),\n\u001b[0;32m    291\u001b[0m )\n",
      "File \u001b[1;32m~\\AppData\\Local\\anaconda3\\envs\\geecs\\Lib\\site-packages\\gpytorch\\models\\exact_prediction_strategies.py:356\u001b[0m, in \u001b[0;36mDefaultPredictionStrategy.exact_predictive_covar\u001b[1;34m(self, test_test_covar, test_train_covar)\u001b[0m\n\u001b[0;32m    352\u001b[0m     \u001b[38;5;66;03m# In other cases - we'll use the standard infrastructure\u001b[39;00m\n\u001b[0;32m    353\u001b[0m     \u001b[38;5;28;01melse\u001b[39;00m:\n\u001b[0;32m    354\u001b[0m         \u001b[38;5;28;01mreturn\u001b[39;00m test_test_covar \u001b[38;5;241m+\u001b[39m MatmulLinearOperator(test_train_covar, covar_correction_rhs\u001b[38;5;241m.\u001b[39mmul(\u001b[38;5;241m-\u001b[39m\u001b[38;5;241m1\u001b[39m))\n\u001b[1;32m--> 356\u001b[0m precomputed_cache \u001b[38;5;241m=\u001b[39m \u001b[38;5;28mself\u001b[39m\u001b[38;5;241m.\u001b[39mcovar_cache\n\u001b[0;32m    357\u001b[0m covar_inv_quad_form_root \u001b[38;5;241m=\u001b[39m \u001b[38;5;28mself\u001b[39m\u001b[38;5;241m.\u001b[39m_exact_predictive_covar_inv_quad_form_root(precomputed_cache, test_train_covar)\n\u001b[0;32m    358\u001b[0m \u001b[38;5;28;01mif\u001b[39;00m torch\u001b[38;5;241m.\u001b[39mis_tensor(test_test_covar):\n",
      "File \u001b[1;32m~\\AppData\\Local\\anaconda3\\envs\\geecs\\Lib\\site-packages\\gpytorch\\utils\\memoize.py:58\u001b[0m, in \u001b[0;36m_cached.<locals>.g\u001b[1;34m(self, *args, **kwargs)\u001b[0m\n\u001b[0;32m     56\u001b[0m cache_name \u001b[38;5;241m=\u001b[39m name \u001b[38;5;28;01mif\u001b[39;00m name \u001b[38;5;129;01mis\u001b[39;00m \u001b[38;5;129;01mnot\u001b[39;00m \u001b[38;5;28;01mNone\u001b[39;00m \u001b[38;5;28;01melse\u001b[39;00m method\n\u001b[0;32m     57\u001b[0m kwargs_pkl \u001b[38;5;241m=\u001b[39m pickle\u001b[38;5;241m.\u001b[39mdumps(kwargs)\n\u001b[1;32m---> 58\u001b[0m \u001b[38;5;28;01mif\u001b[39;00m \u001b[38;5;129;01mnot\u001b[39;00m _is_in_cache(\u001b[38;5;28mself\u001b[39m, cache_name, \u001b[38;5;241m*\u001b[39margs, kwargs_pkl\u001b[38;5;241m=\u001b[39mkwargs_pkl):\n\u001b[0;32m     59\u001b[0m     \u001b[38;5;28;01mreturn\u001b[39;00m _add_to_cache(\u001b[38;5;28mself\u001b[39m, cache_name, method(\u001b[38;5;28mself\u001b[39m, \u001b[38;5;241m*\u001b[39margs, \u001b[38;5;241m*\u001b[39m\u001b[38;5;241m*\u001b[39mkwargs), \u001b[38;5;241m*\u001b[39margs, kwargs_pkl\u001b[38;5;241m=\u001b[39mkwargs_pkl)\n\u001b[0;32m     60\u001b[0m \u001b[38;5;28;01mreturn\u001b[39;00m _get_from_cache(\u001b[38;5;28mself\u001b[39m, cache_name, \u001b[38;5;241m*\u001b[39margs, kwargs_pkl\u001b[38;5;241m=\u001b[39mkwargs_pkl)\n",
      "File \u001b[1;32m~\\AppData\\Local\\anaconda3\\envs\\geecs\\Lib\\site-packages\\gpytorch\\utils\\memoize.py:99\u001b[0m, in \u001b[0;36m_is_in_cache\u001b[1;34m(obj, name, kwargs_pkl, *args)\u001b[0m\n\u001b[0;32m     98\u001b[0m \u001b[38;5;28;01mdef\u001b[39;00m \u001b[38;5;21m_is_in_cache\u001b[39m(obj, name, \u001b[38;5;241m*\u001b[39margs, kwargs_pkl):\n\u001b[1;32m---> 99\u001b[0m     \u001b[38;5;28;01mreturn\u001b[39;00m \u001b[38;5;28mhasattr\u001b[39m(obj, \u001b[38;5;124m\"\u001b[39m\u001b[38;5;124m_memoize_cache\u001b[39m\u001b[38;5;124m\"\u001b[39m) \u001b[38;5;129;01mand\u001b[39;00m (name, args, kwargs_pkl) \u001b[38;5;129;01min\u001b[39;00m obj\u001b[38;5;241m.\u001b[39m_memoize_cache\n",
      "\u001b[1;31mKeyboardInterrupt\u001b[0m: "
     ]
    }
   ],
   "source": [
    "if opt_method == 'bayes':\n",
    "    # print initial number of points to be generated\n",
    "    print(X.generator.options.n_initial)\n",
    "\n",
    "    # call X.step() to generate + evaluate initial points\n",
    "    X.step()\n",
    "\n",
    "    # inspect the gathered data\n",
    "    X.data\n",
    "\n",
    "import torch\n",
    "import matplotlib.pyplot as plt\n",
    "n_steps = 50\n",
    "\n",
    "fig = plt.figure()\n",
    "ax = fig.add_subplot(111)\n",
    "plt.ion()\n",
    "\n",
    "fig.show()\n",
    "fig.canvas.draw()\n",
    "plt.yscale('log')\n",
    "plt.xlabel('iteration')\n",
    "plt.ylabel('Rosenbrock value')\n",
    "\n",
    "for i in range(n_steps):\n",
    "    ax.clear()\n",
    "    print('step'+str(i))\n",
    "    X.step()\n",
    "    X.data['f'].plot(marker='.')\n"
   ]
  },
  {
   "cell_type": "code",
   "execution_count": 27,
   "id": "01052702",
   "metadata": {
    "scrolled": true
   },
   "outputs": [
    {
     "data": {
      "text/html": [
       "<div>\n",
       "<style scoped>\n",
       "    .dataframe tbody tr th:only-of-type {\n",
       "        vertical-align: middle;\n",
       "    }\n",
       "\n",
       "    .dataframe tbody tr th {\n",
       "        vertical-align: top;\n",
       "    }\n",
       "\n",
       "    .dataframe thead th {\n",
       "        text-align: right;\n",
       "    }\n",
       "</style>\n",
       "<table border=\"1\" class=\"dataframe\">\n",
       "  <thead>\n",
       "    <tr style=\"text-align: right;\">\n",
       "      <th></th>\n",
       "      <th>var1</th>\n",
       "      <th>var2</th>\n",
       "      <th>f</th>\n",
       "      <th>xopt_runtime</th>\n",
       "      <th>xopt_error</th>\n",
       "    </tr>\n",
       "  </thead>\n",
       "  <tbody>\n",
       "    <tr>\n",
       "      <th>1</th>\n",
       "      <td>0.624277</td>\n",
       "      <td>-0.538830</td>\n",
       "      <td>1336.0</td>\n",
       "      <td>6.110554</td>\n",
       "      <td>False</td>\n",
       "    </tr>\n",
       "    <tr>\n",
       "      <th>2</th>\n",
       "      <td>0.226547</td>\n",
       "      <td>-0.523321</td>\n",
       "      <td>1434.0</td>\n",
       "      <td>4.941727</td>\n",
       "      <td>False</td>\n",
       "    </tr>\n",
       "    <tr>\n",
       "      <th>3</th>\n",
       "      <td>-0.174256</td>\n",
       "      <td>-0.507685</td>\n",
       "      <td>523.0</td>\n",
       "      <td>5.189948</td>\n",
       "      <td>False</td>\n",
       "    </tr>\n",
       "    <tr>\n",
       "      <th>4</th>\n",
       "      <td>0.371846</td>\n",
       "      <td>-0.663509</td>\n",
       "      <td>1347.0</td>\n",
       "      <td>5.370918</td>\n",
       "      <td>False</td>\n",
       "    </tr>\n",
       "    <tr>\n",
       "      <th>5</th>\n",
       "      <td>0.377632</td>\n",
       "      <td>-0.230649</td>\n",
       "      <td>1479.0</td>\n",
       "      <td>5.405990</td>\n",
       "      <td>False</td>\n",
       "    </tr>\n",
       "    <tr>\n",
       "      <th>6</th>\n",
       "      <td>0.309505</td>\n",
       "      <td>-0.357599</td>\n",
       "      <td>1200.0</td>\n",
       "      <td>5.452733</td>\n",
       "      <td>False</td>\n",
       "    </tr>\n",
       "    <tr>\n",
       "      <th>7</th>\n",
       "      <td>0.530563</td>\n",
       "      <td>-0.086164</td>\n",
       "      <td>451.0</td>\n",
       "      <td>5.242817</td>\n",
       "      <td>False</td>\n",
       "    </tr>\n",
       "    <tr>\n",
       "      <th>8</th>\n",
       "      <td>-1.000000</td>\n",
       "      <td>1.000000</td>\n",
       "      <td>154.0</td>\n",
       "      <td>5.496573</td>\n",
       "      <td>False</td>\n",
       "    </tr>\n",
       "    <tr>\n",
       "      <th>9</th>\n",
       "      <td>0.366338</td>\n",
       "      <td>-0.559970</td>\n",
       "      <td>1594.0</td>\n",
       "      <td>6.290662</td>\n",
       "      <td>False</td>\n",
       "    </tr>\n",
       "  </tbody>\n",
       "</table>\n",
       "</div>"
      ],
      "text/plain": [
       "       var1      var2       f  xopt_runtime  xopt_error\n",
       "1  0.624277 -0.538830  1336.0      6.110554       False\n",
       "2  0.226547 -0.523321  1434.0      4.941727       False\n",
       "3 -0.174256 -0.507685   523.0      5.189948       False\n",
       "4  0.371846 -0.663509  1347.0      5.370918       False\n",
       "5  0.377632 -0.230649  1479.0      5.405990       False\n",
       "6  0.309505 -0.357599  1200.0      5.452733       False\n",
       "7  0.530563 -0.086164   451.0      5.242817       False\n",
       "8 -1.000000  1.000000   154.0      5.496573       False\n",
       "9  0.366338 -0.559970  1594.0      6.290662       False"
      ]
     },
     "execution_count": 27,
     "metadata": {},
     "output_type": "execute_result"
    }
   ],
   "source": [
    "X.data"
   ]
  },
  {
   "cell_type": "code",
   "execution_count": 28,
   "id": "4e70478c",
   "metadata": {},
   "outputs": [
    {
     "data": {
      "text/plain": [
       "{'var1': 4.19963378513378,\n",
       " 'var2': -0.8039969591029044,\n",
       " 'f': 1594.0,\n",
       " 'xopt_runtime': 6.290661999955773,\n",
       " 'xopt_error': False}"
      ]
     },
     "execution_count": 28,
     "metadata": {},
     "output_type": "execute_result"
    },
    {
     "data": {
      "image/png": "[encoded data removed]",
      "text/plain": [
       "<Figure size 640x480 with 1 Axes>"
      ]
     },
     "metadata": {},
     "output_type": "display_data"
    }
   ],
   "source": [
    "import matplotlib.pyplot as plt\n",
    "X.data['f'].plot(marker='.')\n",
    "plt.yscale('log')\n",
    "plt.xlabel('iteration')\n",
    "plt.ylabel('Rosenbrock value')\n",
    "best=dict(X.data.iloc[X.data[\"f\"].argmax()]);\n",
    "\n",
    "if normalize:\n",
    "    for key in yaml_output['vocs']['variables'].keys():\n",
    "        best[key] = unnormalize_var(key, best[key])\n",
    "\n",
    "best\n",
    "#var1 = hexapod ypos\n",
    "#var2 = hexapod zpos\n",
    "hexapod.set('ypos', best['var1'])\n",
    "hexapod.set('zpos', best['var2'])"
   ]
  },
  {
   "cell_type": "code",
   "execution_count": null,
   "id": "cd7da062",
   "metadata": {},
   "outputs": [],
   "source": []
  },
  {
   "cell_type": "code",
   "execution_count": null,
   "id": "3b7661ab",
   "metadata": {},
   "outputs": [],
   "source": []
  }
 ],
 "metadata": {
  "kernelspec": {
   "display_name": "Python 3 (ipykernel)",
   "language": "python",
   "name": "python3"
  },
  "language_info": {
   "codemirror_mode": {
    "name": "ipython",
    "version": 3
   },
   "file_extension": ".py",
   "mimetype": "text/x-python",
   "name": "python",
   "nbconvert_exporter": "python",
   "pygments_lexer": "ipython3",
   "version": "3.11.5"
  }
 },
 "nbformat": 4,
 "nbformat_minor": 5
}
