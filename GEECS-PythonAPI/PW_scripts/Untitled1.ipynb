{
 "cells": [
  {
   "cell_type": "code",
   "execution_count": 1,
   "id": "d7e7a639-575b-4fbe-8d89-2058e5f2a3d2",
   "metadata": {
    "tags": []
   },
   "outputs": [],
   "source": [
    "from xopt.evaluator import Evaluator"
   ]
  },
  {
   "cell_type": "code",
   "execution_count": 7,
   "id": "937bb7a9-fb4b-4878-a4ff-dcea4c2c9b37",
   "metadata": {
    "tags": []
   },
   "outputs": [
    {
     "name": "stdout",
     "output_type": "stream",
     "text": [
      "C:\\Program Files\\Python311\\PyEnv311\\Scripts\\python.exe\n",
      "C:\\Program Files\\Python311\\python.exe\n",
      "C:\\Program Files\\Python37\\python.exe\n",
      "C:\\Program Files\\Python36\\python.exe\n",
      "C:\\Users\\loasis\\AppData\\Local\\Programs\\Python\\Python311\\python.exe\n"
     ]
    },
    {
     "name": "stderr",
     "output_type": "stream",
     "text": [
      "'pwd' is not recognized as an internal or external command,\n",
      "operable program or batch file.\n"
     ]
    }
   ],
   "source": [
    "!where python\n",
    "!pwd"
   ]
  },
  {
   "cell_type": "code",
   "execution_count": null,
   "id": "e99d5a4f-e714-4a48-b18f-854e36d64bfc",
   "metadata": {
    "tags": []
   },
   "outputs": [],
   "source": [
    "!conda install mysql-connector-python"
   ]
  },
  {
   "cell_type": "code",
   "execution_count": null,
   "id": "1cd5ae7d-16c2-4fc4-aa7f-5bb6a90d145d",
   "metadata": {},
   "outputs": [],
   "source": []
  }
 ],
 "metadata": {
  "kernelspec": {
   "display_name": "Python 3 (ipykernel)",
   "language": "python",
   "name": "python3"
  },
  "language_info": {
   "codemirror_mode": {
    "name": "ipython",
    "version": 3
   },
   "file_extension": ".py",
   "mimetype": "text/x-python",
   "name": "python",
   "nbconvert_exporter": "python",
   "pygments_lexer": "ipython3",
   "version": "3.11.5"
  }
 },
 "nbformat": 4,
 "nbformat_minor": 5
}
