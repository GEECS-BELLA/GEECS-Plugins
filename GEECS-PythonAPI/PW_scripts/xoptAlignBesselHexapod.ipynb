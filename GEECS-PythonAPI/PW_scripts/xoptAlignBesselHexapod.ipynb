{
 "cells": [
  {
   "cell_type": "code",
   "execution_count": 3,
   "id": "20fec5f6",
   "metadata": {
    "tags": []
   },
   "outputs": [],
   "source": [
    "import os\n",
    "import yaml\n",
    "import time\n",
    "import numpy as np\n",
    "import pandas as pd\n",
    "import shelve\n",
    "import sys\n",
    "sys.path.append('../')\n",
    "from geecs_python_api.controls.interface import GeecsDatabase\n",
    "from geecs_python_api.controls.devices.geecs_device import GeecsDevice\n",
    "\n",
    "GeecsDevice.exp_info = GeecsDatabase.collect_exp_info(\"Bella\")"
   ]
  },
  {
   "cell_type": "code",
   "execution_count": null,
   "id": "07203ebb-dba8-44ec-aea0-be50c88aadb7",
   "metadata": {},
   "outputs": [],
   "source": [
    "# set up the python objects for the geecs devices to be used in optimization\n",
    "hexapod = GeecsDevice('HEX-PL1-2')\n",
    "camera = GeecsDevice('CAM-PL1-LPMode')\n",
    "# get value of hex\n",
    "yposition = hexapod.get('ypos')\n",
    "ylow = yposition - 0.1\n",
    "yhigh = yposition + 0.1\n",
    "zposition = hexapod.get('zpos')\n",
    "zlow = zposition - 0.1\n",
    "zhigh = zposition + 0.1\n",
    "print(zhigh,'Check zhigh makes sense')"
   ]
  },
  {
   "cell_type": "code",
   "execution_count": 4,
   "id": "513a07bb",
   "metadata": {
    "tags": []
   },
   "outputs": [],
   "source": [
    "\n",
    "\n",
    "# define a dict containing the specific variables and bounds to be used in optimization\n",
    "objs={'var1':{\"GEECS_Object\":hexapod,'variable':\"ypos\",\"bounds\":[ylow,yhigh]},\n",
    "    'var2':{\"GEECS_Object\":hexapod,'variable':\"zpos\",\"bounds\":[zlow,zhigh]}}\n",
    "\n",
    "#define whether or not to use normalized values and ranges for optimization controls. \n",
    "#Normalization seems like a good idea\n",
    "normalize=True\n",
    "\n",
    "#for opt method, choose nelder or bayes for now\n",
    "opt_method='bayes'"
   ]
  },
  {
   "cell_type": "code",
   "execution_count": 5,
   "id": "5de9c7f5-5088-4486-889f-b6087b642f77",
   "metadata": {
    "tags": []
   },
   "outputs": [],
   "source": [
    "# stage.set('exposure',0.0015)"
   ]
  },
  {
   "cell_type": "code",
   "execution_count": 6,
   "id": "a80d1d1f-1555-4f36-9e56-9a72f8b9a879",
   "metadata": {
    "tags": []
   },
   "outputs": [],
   "source": [
    "# value=dev1.get('exposure')\n",
    "# print(value,'sokdfhksd')"
   ]
  },
  {
   "cell_type": "code",
   "execution_count": 15,
   "id": "a67bb9ac",
   "metadata": {
    "tags": []
   },
   "outputs": [
    {
     "name": "stdout",
     "output_type": "stream",
     "text": [
      "{'xopt': {'dump_file': 'bayes.yaml'}, 'generator': {'name': 'upper_confidence_bound', 'n_initial': 2, 'acq': {'beta': 0.1}}, 'evaluator': {'function': '__main__.geecs_measurement'}, 'vocs': {'variables': {'var1': [-1.0, 1.0]}, 'objectives': {'f': 'MAXIMIZE'}}}\n"
     ]
    }
   ],
   "source": [
    "#define the xopt configuration\n",
    "YAML = \"\"\"\n",
    "xopt:\n",
    "    dump_file: dump.yaml\n",
    "generator:\n",
    "    name:\n",
    "evaluator:\n",
    "    function: __main__.geecs_measurement\n",
    "\n",
    "vocs:\n",
    "    variables:\n",
    "        {}\n",
    "    objectives: {f: \"MAXIMIZE\"}\n",
    "\n",
    "\"\"\"\n",
    "\n",
    "yaml_output = yaml.safe_load(YAML)\n",
    "\n",
    "if opt_method == 'bayes':\n",
    "    yaml_output['generator']['name'] = 'upper_confidence_bound'\n",
    "    yaml_output['generator']['n_initial'] = 2\n",
    "    yaml_output['generator']['acq'] = {'beta':0.1}\n",
    "    yaml_output['xopt']['dump_file'] = 'bayes.yaml'\n",
    "elif opt_method == 'nelder':\n",
    "    yaml_output['generator']['name'] = 'neldermead'\n",
    "    yaml_output['generator']['adaptive'] = True\n",
    "    yaml_output['generator']['xatol'] = 0.01\n",
    "    yaml_output['generator']['fatol'] = 0.005\n",
    "    yaml_output['generator']['initial_point'] = { \"var1\": 0.006}\n",
    "    yaml_output['xopt']['dump_file'] = 'nelder.yaml'\n",
    "\n",
    "#define some functions to normalize/unnormalize real variables to [-1,1]\n",
    "def unnormalize_var(obj,val):\n",
    "    range=objs[obj]['bounds'][1]-objs[obj]['bounds'][0]\n",
    "    offset=objs[obj]['bounds'][0]\n",
    "    new_val=(val/2+0.5)*range+offset\n",
    "    return new_val\n",
    "\n",
    "def normalize_var(obj,val):\n",
    "    range=objs[obj]['bounds'][1]-objs[obj]['bounds'][0]\n",
    "    offset=objs[obj]['bounds'][0]\n",
    "    new_val=((val - offset)/range - 0.5)*2\n",
    "    return new_val\n",
    "    \n",
    "\n",
    "for tag in objs.keys():\n",
    "    yaml_output['vocs']['variables'][tag]=objs[tag]['bounds']\n",
    "    \n",
    "if normalize:\n",
    "    for tag in objs.keys():\n",
    "        yaml_output['vocs']['variables'][tag]=[-1.0,1.0]\n",
    "    keys = yaml_output['vocs']['variables'].keys()\n",
    "    \n",
    "\n",
    "if yaml_output['generator']['name']=='neldermead':\n",
    "    if normalize:\n",
    "        initial_point = yaml_output['generator']['initial_point']\n",
    "\n",
    "        normalized_initial_point = {}\n",
    "        for key in keys:\n",
    "            normalized_initial_point[key] = normalize_var(key, initial_point[key])\n",
    "\n",
    "        yaml_output['generator']['initial_point'] = normalized_initial_point\n",
    "\n",
    "print(yaml_output)"
   ]
  },
  {
   "cell_type": "code",
   "execution_count": 16,
   "id": "062a7d0e-4138-4e32-9cf6-019ad3bd9486",
   "metadata": {
    "tags": []
   },
   "outputs": [],
   "source": [
    "# dev1.set('exposure',0.15)"
   ]
  },
  {
   "cell_type": "code",
   "execution_count": 17,
   "id": "940079ca",
   "metadata": {
    "tags": []
   },
   "outputs": [],
   "source": [
    "# #simulate transmission of blue diode through PMQ triplet\n",
    "# import numpy as np\n",
    "\n",
    "# optPosition = np.array([18.45, 0.6])\n",
    "# numParts = 200000\n",
    "\n",
    "# startDist = np.transpose([\n",
    "#     np.random.normal(optPosition[0], 0.4, numParts),\n",
    "#     np.random.normal(optPosition[1], 0.4, numParts)\n",
    "# ])\n",
    "\n",
    "# def calcTransmission(input_dict):\n",
    "#     center1 = [input_dict['HexY'], input_dict['HexZ']]\n",
    "#     separation = 15\n",
    "\n",
    "#     center2 = [input_dict['HexY'], input_dict['HexZ']]\n",
    "#     rotw = np.pi / 180 * (input_dict['HexW'] + 0.15) * 4\n",
    "#     rotv = np.pi / 180 * (input_dict['HexV'] + 0.25) * 4\n",
    "\n",
    "#     yOffset = separation * np.tan(rotw)\n",
    "#     zOffset = separation * np.tan(rotv)\n",
    "\n",
    "#     center2[0] = center2[0] + yOffset\n",
    "#     center2[1] = center2[1] + zOffset\n",
    "\n",
    "#     dist = startDist[\n",
    "#         (np.sqrt((startDist[:, 0] - center1[0])**2 + (startDist[:, 1] - center1[1])**2) < 0.2) &\n",
    "#         (np.sqrt((startDist[:, 0] - center2[0])**2 + (startDist[:, 1] - center2[1])**2) < 0.2)\n",
    "#     ]\n",
    "\n",
    "#     return len(dist) / numParts"
   ]
  },
  {
   "cell_type": "code",
   "execution_count": 18,
   "id": "39190ce2",
   "metadata": {
    "tags": []
   },
   "outputs": [],
   "source": [
    "ObjFunc=GeecsDevice('CAM-HPD-CCD')\n",
    "#ObjFunc.get(\"maxcounts\")\n",
    "def geecs_measurement(input_dict):\n",
    "    for i in list(input_dict.keys()):\n",
    "        set_val=float(input_dict[i])\n",
    "        if normalize:\n",
    "            set_val=unnormalize_var(i,set_val)\n",
    "        \n",
    "        print('set '+str(i)+' to '+str(set_val))\n",
    "        \n",
    "        # line below executes the set commands.\n",
    "        objs[i][\"GEECS_Object\"].set(objs[i][\"variable\"],set_val)\n",
    "        time.sleep(1)\n",
    "        \n",
    "    if normalize:\n",
    "        setpoint = {}\n",
    "        for key in input_dict:\n",
    "            setpoint[key] = unnormalize_var(key, input_dict[key])\n",
    "    else:\n",
    "        setpoint=input_dict\n",
    "        \n",
    "    print(setpoint)\n",
    "    \n",
    "    outs=[]\n",
    "    counter=0\n",
    "    while counter<5:\n",
    "        #val=simulate_objective(input_dict)\n",
    "        targetx = camera.get(\"target.X\")\n",
    "        val0=np.abs(ObjFunc.get(\"centroidx\")-targetx\n",
    "        outs.append(val)\n",
    "        counter=counter+1\n",
    "        \n",
    "    print(outs)\n",
    "\n",
    "# this one is good for aligning to a crosshair\n",
    "    return {'f': abs(np.median(outs))}\n"
   ]
  },
  {
   "cell_type": "code",
   "execution_count": 19,
   "id": "23dd5258",
   "metadata": {
    "tags": []
   },
   "outputs": [],
   "source": [
    "if opt_method == 'nelder':\n",
    "    geecs_measurement(yaml_output['generator']['initial_point'])"
   ]
  },
  {
   "cell_type": "code",
   "execution_count": 20,
   "id": "43b8d4c1",
   "metadata": {
    "tags": []
   },
   "outputs": [
    {
     "data": {
      "text/plain": [
       "\n",
       "            Xopt\n",
       "________________________________\n",
       "Version: 1.4.1\n",
       "Data size: 0\n",
       "Config as YAML:\n",
       "xopt: {asynch: false, strict: false, dump_file: bayes.yaml, max_evaluations: null}\n",
       "generator:\n",
       "  name: upper_confidence_bound\n",
       "  optim: {num_restarts: 20, raw_samples: 20, sequential: true, max_travel_distances: null,\n",
       "    use_turbo: false}\n",
       "  acq: {proximal_lengthscales: null, use_transformed_proximal_weights: true, monte_carlo_samples: 128,\n",
       "    beta: 0.1}\n",
       "  model:\n",
       "    name: standard\n",
       "    custom_constructor: null\n",
       "    use_low_noise_prior: true\n",
       "    covar_modules: {}\n",
       "    mean_modules: {}\n",
       "  n_initial: 2\n",
       "  use_cuda: false\n",
       "evaluator:\n",
       "  function: __main__.geecs_measurement\n",
       "  max_workers: 1\n",
       "  function_kwargs: {}\n",
       "  vectorized: false\n",
       "vocs:\n",
       "  variables:\n",
       "    var1: [-1.0, 1.0]\n",
       "  constraints: {}\n",
       "  objectives: {f: MAXIMIZE}\n",
       "  constants: {}\n",
       "  linked_variables: {}\n"
      ]
     },
     "execution_count": 20,
     "metadata": {},
     "output_type": "execute_result"
    }
   ],
   "source": [
    "from xopt.evaluator import Evaluator\n",
    "from xopt.generators.bayesian import ExpectedImprovementGenerator\n",
    "from xopt import Xopt\n",
    "\n",
    "X = Xopt(config=yaml_output)\n",
    "X"
   ]
  },
  {
   "cell_type": "code",
   "execution_count": 21,
   "id": "a87dcbf5",
   "metadata": {
    "tags": []
   },
   "outputs": [
    {
     "name": "stdout",
     "output_type": "stream",
     "text": [
      "2\n",
      "set var1 to 269.5094979459392\n",
      "{'var1': 269.5094979459392}\n",
      "[1222.0, 1213.0, 1184.0, 1271.0, 1209.0]\n",
      "set var1 to 267.06387093278113\n",
      "{'var1': 267.06387093278113}\n",
      "[1384.0, 1397.0, 1336.0, 1323.0, 1256.0]\n",
      "step0\n",
      "set var1 to 261.6834585698922\n",
      "{'var1': 261.6834585698922}\n",
      "[1596.0, 1608.0, 1628.0, 1695.0, 1705.0]\n",
      "step1\n",
      "set var1 to 251.1600806598046\n",
      "{'var1': 251.1600806598046}\n",
      "[1294.0, 1328.0, 1377.0, 1441.0, 1467.0]\n",
      "step2\n",
      "set var1 to 259.351002636982\n",
      "{'var1': 259.351002636982}\n",
      "[1669.0, 1738.0, 1660.0, 1798.0, 1707.0]\n",
      "step3\n",
      "set var1 to 258.2490819096567\n",
      "{'var1': 258.2490819096567}\n",
      "[1685.0, 1750.0, 1693.0, 1681.0, 1697.0]\n",
      "step4\n",
      "set var1 to 259.23928434786376\n",
      "{'var1': 259.23928434786376}\n",
      "[1742.0, 1745.0, 1710.0, 1681.0, 1761.0]\n",
      "step5\n",
      "set var1 to 235.0\n",
      "{'var1': 235.0}\n",
      "[235.0, 306.0, 272.0, 360.0, 246.0]\n",
      "step6\n",
      "set var1 to 258.4453825039543\n",
      "{'var1': 258.4453825039543}\n",
      "[1726.0, 1811.0, 1765.0, 1819.0, 1735.0]\n",
      "step7\n",
      "set var1 to 258.11315291968145\n"
     ]
    },
    {
     "ename": "UnboundLocalError",
     "evalue": "cannot access local variable 'result' where it is not associated with a value",
     "output_type": "error",
     "traceback": [
      "\u001b[1;31m---------------------------------------------------------------------------\u001b[0m",
      "\u001b[1;31mKeyboardInterrupt\u001b[0m                         Traceback (most recent call last)",
      "File \u001b[1;32mC:\\ProgramData\\anaconda3\\Lib\\site-packages\\xopt\\utils.py:132\u001b[0m, in \u001b[0;36msafe_call\u001b[1;34m(func, *args, **kwargs)\u001b[0m\n\u001b[0;32m    131\u001b[0m \u001b[38;5;28;01mtry\u001b[39;00m:\n\u001b[1;32m--> 132\u001b[0m     result \u001b[38;5;241m=\u001b[39m func(\u001b[38;5;241m*\u001b[39margs, \u001b[38;5;241m*\u001b[39m\u001b[38;5;241m*\u001b[39mkwargs)\n\u001b[0;32m    133\u001b[0m     outputs[\u001b[38;5;124m\"\u001b[39m\u001b[38;5;124mexception\u001b[39m\u001b[38;5;124m\"\u001b[39m] \u001b[38;5;241m=\u001b[39m \u001b[38;5;28;01mNone\u001b[39;00m\n",
      "Cell \u001b[1;32mIn[18], line 13\u001b[0m, in \u001b[0;36mgeecs_measurement\u001b[1;34m(input_dict)\u001b[0m\n\u001b[0;32m     12\u001b[0m     objs[i][\u001b[38;5;124m\"\u001b[39m\u001b[38;5;124mGEECS_Object\u001b[39m\u001b[38;5;124m\"\u001b[39m]\u001b[38;5;241m.\u001b[39mset(objs[i][\u001b[38;5;124m\"\u001b[39m\u001b[38;5;124mvariable\u001b[39m\u001b[38;5;124m\"\u001b[39m],set_val)\n\u001b[1;32m---> 13\u001b[0m     time\u001b[38;5;241m.\u001b[39msleep(\u001b[38;5;241m1\u001b[39m)\n\u001b[0;32m     15\u001b[0m \u001b[38;5;28;01mif\u001b[39;00m normalize:\n",
      "\u001b[1;31mKeyboardInterrupt\u001b[0m: ",
      "\nDuring handling of the above exception, another exception occurred:\n",
      "\u001b[1;31mUnboundLocalError\u001b[0m                         Traceback (most recent call last)",
      "Cell \u001b[1;32mIn[21], line 17\u001b[0m\n\u001b[0;32m     15\u001b[0m \u001b[38;5;28;01mfor\u001b[39;00m i \u001b[38;5;129;01min\u001b[39;00m \u001b[38;5;28mrange\u001b[39m(n_steps):\n\u001b[0;32m     16\u001b[0m     \u001b[38;5;28mprint\u001b[39m(\u001b[38;5;124m'\u001b[39m\u001b[38;5;124mstep\u001b[39m\u001b[38;5;124m'\u001b[39m\u001b[38;5;241m+\u001b[39m\u001b[38;5;28mstr\u001b[39m(i))\n\u001b[1;32m---> 17\u001b[0m     X\u001b[38;5;241m.\u001b[39mstep()\n",
      "File \u001b[1;32mC:\\ProgramData\\anaconda3\\Lib\\site-packages\\xopt\\base.py:233\u001b[0m, in \u001b[0;36mXopt.step\u001b[1;34m(self)\u001b[0m\n\u001b[0;32m    230\u001b[0m     \u001b[38;5;28mself\u001b[39m\u001b[38;5;241m.\u001b[39mn_unfinished_futures \u001b[38;5;241m=\u001b[39m \u001b[38;5;28mself\u001b[39m\u001b[38;5;241m.\u001b[39mprocess_futures()\n\u001b[0;32m    231\u001b[0m \u001b[38;5;28;01melse\u001b[39;00m:\n\u001b[0;32m    232\u001b[0m     \u001b[38;5;66;03m# Evaluate data\u001b[39;00m\n\u001b[1;32m--> 233\u001b[0m     \u001b[38;5;28mself\u001b[39m\u001b[38;5;241m.\u001b[39mevaluate_data(new_samples)\n\u001b[0;32m    235\u001b[0m \u001b[38;5;66;03m# dump data to file if specified\u001b[39;00m\n\u001b[0;32m    236\u001b[0m \u001b[38;5;28mself\u001b[39m\u001b[38;5;241m.\u001b[39mdump_state()\n",
      "File \u001b[1;32mC:\\ProgramData\\anaconda3\\Lib\\site-packages\\xopt\\base.py:133\u001b[0m, in \u001b[0;36mXopt.evaluate_data\u001b[1;34m(self, input_data)\u001b[0m\n\u001b[0;32m    131\u001b[0m logger\u001b[38;5;241m.\u001b[39mdebug(\u001b[38;5;124mf\u001b[39m\u001b[38;5;124m\"\u001b[39m\u001b[38;5;124mEvaluating \u001b[39m\u001b[38;5;132;01m{\u001b[39;00m\u001b[38;5;28mlen\u001b[39m(input_data)\u001b[38;5;132;01m}\u001b[39;00m\u001b[38;5;124m inputs\u001b[39m\u001b[38;5;124m\"\u001b[39m)\n\u001b[0;32m    132\u001b[0m input_data \u001b[38;5;241m=\u001b[39m \u001b[38;5;28mself\u001b[39m\u001b[38;5;241m.\u001b[39mprepare_input_data(input_data)\n\u001b[1;32m--> 133\u001b[0m output_data \u001b[38;5;241m=\u001b[39m \u001b[38;5;28mself\u001b[39m\u001b[38;5;241m.\u001b[39mevaluator\u001b[38;5;241m.\u001b[39mevaluate_data(input_data)\n\u001b[0;32m    135\u001b[0m \u001b[38;5;28;01mif\u001b[39;00m \u001b[38;5;28mself\u001b[39m\u001b[38;5;241m.\u001b[39moptions\u001b[38;5;241m.\u001b[39mstrict:\n\u001b[0;32m    136\u001b[0m     validate_outputs(output_data)\n",
      "File \u001b[1;32mC:\\ProgramData\\anaconda3\\Lib\\site-packages\\xopt\\evaluator.py:119\u001b[0m, in \u001b[0;36mEvaluator.evaluate_data\u001b[1;34m(self, input_data)\u001b[0m\n\u001b[0;32m    110\u001b[0m     kwargs \u001b[38;5;241m=\u001b[39m [\u001b[38;5;28mself\u001b[39m\u001b[38;5;241m.\u001b[39mfunction_kwargs] \u001b[38;5;241m*\u001b[39m \u001b[38;5;28mlen\u001b[39m(inputs)\n\u001b[0;32m    112\u001b[0m     output_data \u001b[38;5;241m=\u001b[39m \u001b[38;5;28mself\u001b[39m\u001b[38;5;241m.\u001b[39mexecutor\u001b[38;5;241m.\u001b[39mmap(\n\u001b[0;32m    113\u001b[0m         safe_function1_for_map,\n\u001b[0;32m    114\u001b[0m         funcs,\n\u001b[0;32m    115\u001b[0m         inputs,\n\u001b[0;32m    116\u001b[0m         kwargs,\n\u001b[0;32m    117\u001b[0m     )\n\u001b[1;32m--> 119\u001b[0m \u001b[38;5;28;01mreturn\u001b[39;00m pd\u001b[38;5;241m.\u001b[39mDataFrame(output_data, index\u001b[38;5;241m=\u001b[39minput_data\u001b[38;5;241m.\u001b[39mindex)\n",
      "File \u001b[1;32mC:\\ProgramData\\anaconda3\\Lib\\site-packages\\pandas\\core\\frame.py:774\u001b[0m, in \u001b[0;36mDataFrame.__init__\u001b[1;34m(self, data, index, columns, dtype, copy)\u001b[0m\n\u001b[0;32m    772\u001b[0m         data \u001b[38;5;241m=\u001b[39m np\u001b[38;5;241m.\u001b[39masarray(data)\n\u001b[0;32m    773\u001b[0m     \u001b[38;5;28;01melse\u001b[39;00m:\n\u001b[1;32m--> 774\u001b[0m         data \u001b[38;5;241m=\u001b[39m \u001b[38;5;28mlist\u001b[39m(data)\n\u001b[0;32m    775\u001b[0m \u001b[38;5;28;01mif\u001b[39;00m \u001b[38;5;28mlen\u001b[39m(data) \u001b[38;5;241m>\u001b[39m \u001b[38;5;241m0\u001b[39m:\n\u001b[0;32m    776\u001b[0m     \u001b[38;5;28;01mif\u001b[39;00m is_dataclass(data[\u001b[38;5;241m0\u001b[39m]):\n",
      "File \u001b[1;32mC:\\ProgramData\\anaconda3\\Lib\\site-packages\\xopt\\evaluator.py:170\u001b[0m, in \u001b[0;36msafe_function1_for_map\u001b[1;34m(function, inputs, kwargs)\u001b[0m\n\u001b[0;32m    166\u001b[0m \u001b[38;5;28;01mdef\u001b[39;00m \u001b[38;5;21msafe_function1_for_map\u001b[39m(function, inputs, kwargs):\n\u001b[0;32m    167\u001b[0m \u001b[38;5;250m    \u001b[39m\u001b[38;5;124;03m\"\"\"\u001b[39;00m\n\u001b[0;32m    168\u001b[0m \u001b[38;5;124;03m    Safely call the function, handling exceptions.\u001b[39;00m\n\u001b[0;32m    169\u001b[0m \u001b[38;5;124;03m    \"\"\"\u001b[39;00m\n\u001b[1;32m--> 170\u001b[0m     \u001b[38;5;28;01mreturn\u001b[39;00m safe_function(function, inputs, \u001b[38;5;241m*\u001b[39m\u001b[38;5;241m*\u001b[39mkwargs)\n",
      "File \u001b[1;32mC:\\ProgramData\\anaconda3\\Lib\\site-packages\\xopt\\evaluator.py:174\u001b[0m, in \u001b[0;36msafe_function\u001b[1;34m(function, *args, **kwargs)\u001b[0m\n\u001b[0;32m    173\u001b[0m \u001b[38;5;28;01mdef\u001b[39;00m \u001b[38;5;21msafe_function\u001b[39m(function, \u001b[38;5;241m*\u001b[39margs, \u001b[38;5;241m*\u001b[39m\u001b[38;5;241m*\u001b[39mkwargs):\n\u001b[1;32m--> 174\u001b[0m     safe_outputs \u001b[38;5;241m=\u001b[39m safe_call(function, \u001b[38;5;241m*\u001b[39margs, \u001b[38;5;241m*\u001b[39m\u001b[38;5;241m*\u001b[39mkwargs)\n\u001b[0;32m    175\u001b[0m     \u001b[38;5;28;01mreturn\u001b[39;00m process_safe_outputs(safe_outputs)\n",
      "File \u001b[1;32mC:\\ProgramData\\anaconda3\\Lib\\site-packages\\xopt\\utils.py:143\u001b[0m, in \u001b[0;36msafe_call\u001b[1;34m(func, *args, **kwargs)\u001b[0m\n\u001b[0;32m    141\u001b[0m     outputs[\u001b[38;5;124m\"\u001b[39m\u001b[38;5;124mtraceback\u001b[39m\u001b[38;5;124m\"\u001b[39m] \u001b[38;5;241m=\u001b[39m error_str\n\u001b[0;32m    142\u001b[0m \u001b[38;5;28;01mfinally\u001b[39;00m:\n\u001b[1;32m--> 143\u001b[0m     outputs[\u001b[38;5;124m\"\u001b[39m\u001b[38;5;124mresult\u001b[39m\u001b[38;5;124m\"\u001b[39m] \u001b[38;5;241m=\u001b[39m result\n\u001b[0;32m    144\u001b[0m     outputs[\u001b[38;5;124m\"\u001b[39m\u001b[38;5;124mruntime\u001b[39m\u001b[38;5;124m\"\u001b[39m] \u001b[38;5;241m=\u001b[39m time\u001b[38;5;241m.\u001b[39mperf_counter() \u001b[38;5;241m-\u001b[39m t\n\u001b[0;32m    145\u001b[0m \u001b[38;5;28;01mreturn\u001b[39;00m outputs\n",
      "\u001b[1;31mUnboundLocalError\u001b[0m: cannot access local variable 'result' where it is not associated with a value"
     ]
    }
   ],
   "source": [
    "if opt_method == 'bayes':\n",
    "    # print initial number of points to be generated\n",
    "    print(X.generator.options.n_initial)\n",
    "\n",
    "    # call X.step() to generate + evaluate initial points\n",
    "    X.step()\n",
    "\n",
    "    # inspect the gathered data\n",
    "    X.data\n",
    "\n",
    "import torch\n",
    "import matplotlib.pyplot as plt\n",
    "n_steps = 50\n",
    "\n",
    "for i in range(n_steps):\n",
    "    print('step'+str(i))\n",
    "    X.step()\n"
   ]
  },
  {
   "cell_type": "code",
   "execution_count": null,
   "id": "01052702",
   "metadata": {
    "scrolled": true
   },
   "outputs": [],
   "source": [
    "X.data"
   ]
  },
  {
   "cell_type": "code",
   "execution_count": 22,
   "id": "4e70478c",
   "metadata": {},
   "outputs": [
    {
     "data": {
      "text/plain": [
       "{'var1': 258.4453825039543,\n",
       " 'f': 1765.0,\n",
       " 'xopt_runtime': 6.632361600059085,\n",
       " 'xopt_error': False}"
      ]
     },
     "execution_count": 22,
     "metadata": {},
     "output_type": "execute_result"
    },
    {
     "data": {
      "image/png": "[encoded data removed]",
      "text/plain": [
       "<Figure size 640x480 with 1 Axes>"
      ]
     },
     "metadata": {},
     "output_type": "display_data"
    }
   ],
   "source": [
    "import matplotlib.pyplot as plt\n",
    "X.data['f'].plot(marker='.')\n",
    "plt.yscale('log')\n",
    "plt.xlabel('iteration')\n",
    "plt.ylabel('Rosenbrock value')\n",
    "best=dict(X.data.iloc[X.data[\"f\"].argmax()]);\n",
    "\n",
    "if normalize:\n",
    "    for key in yaml_output['vocs']['variables'].keys():\n",
    "        best[key] = unnormalize_var(key, best[key])\n",
    "\n",
    "best"
   ]
  },
  {
   "cell_type": "code",
   "execution_count": null,
   "id": "cd7da062",
   "metadata": {},
   "outputs": [],
   "source": []
  },
  {
   "cell_type": "code",
   "execution_count": null,
   "id": "3b7661ab",
   "metadata": {},
   "outputs": [],
   "source": []
  }
 ],
 "metadata": {
  "kernelspec": {
   "display_name": "Python 3 (ipykernel)",
   "language": "python",
   "name": "python3"
  },
  "language_info": {
   "codemirror_mode": {
    "name": "ipython",
    "version": 3
   },
   "file_extension": ".py",
   "mimetype": "text/x-python",
   "name": "python",
   "nbconvert_exporter": "python",
   "pygments_lexer": "ipython3",
   "version": "3.11.5"
  }
 },
 "nbformat": 4,
 "nbformat_minor": 5
}
