{
 "cells": [
  {
   "cell_type": "code",
   "execution_count": 15,
   "id": "5b08808e",
   "metadata": {},
   "outputs": [],
   "source": [
    "import os\n",
    "import yaml\n",
    "import time\n",
    "import numpy as np\n",
    "import pandas as pd\n",
    "import shelve\n",
    "import sys\n",
    "sys.path.append('../')\n",
    "from geecs_python_api.controls.interface import GeecsDatabase\n",
    "from geecs_python_api.controls.devices.geecs_device import GeecsDevice\n",
    "# from geecs_python_api.controls.experiment.experiment import Experiment\n",
    "\n",
    "GeecsDevice.exp_info = GeecsDatabase.collect_exp_info(\"kHzLPA\")"
   ]
  },
  {
   "cell_type": "code",
   "execution_count": 16,
   "id": "b88557f4",
   "metadata": {},
   "outputs": [],
   "source": [
    "GeecsDevice.exp_info = GeecsDatabase.collect_exp_info(\"Undulator\")\n",
    "camera = GeecsDevice('UC_TC_Phosphor')"
   ]
  },
  {
   "cell_type": "code",
   "execution_count": 18,
   "id": "b05730df",
   "metadata": {},
   "outputs": [
    {
     "name": "stdout",
     "output_type": "stream",
     "text": [
      "{'fresh': True, 'shot number': 0, 'GEECS device error': False, 'Device alive on instantiation': True, 'last_message': 'UC_TC_Phosphor>>0>>Device Status nval,Initialized nvar,\\r\\ndevice error nval, nvar,\\r\\ndevice preset nval, nvar,\\r\\n', 'Device Status': 'Initialized', '': '', 'device error': '', 'device preset': ''}\n",
      "{'fresh': True, 'shot number': 0, 'GEECS device error': False, 'Device alive on instantiation': True, 'last_message': 'UC_TC_Phosphor>>0>>Device Status nval,Initialized nvar,\\r\\ndevice error nval, nvar,\\r\\ndevice preset nval, nvar,\\r\\nsystimestamp nval,3827754360.714 nvar,\\r\\n', 'Device Status': 'Initialized', '': 3827754360.714, 'device error': '', 'device preset': ''}\n",
      "{'fresh': True, 'shot number': 0, 'GEECS device error': False, 'Device alive on instantiation': True, 'last_message': 'UC_TC_Phosphor>>0>>Device Status nval,Initialized nvar,\\r\\ndevice error nval, nvar,\\r\\ndevice preset nval, nvar,\\r\\nsystimestamp nval,3827754361.714 nvar,\\r\\n', 'Device Status': 'Initialized', '': 3827754361.714, 'device error': '', 'device preset': ''}\n",
      "{'fresh': True, 'shot number': 0, 'GEECS device error': False, 'Device alive on instantiation': True, 'last_message': 'UC_TC_Phosphor>>0>>Device Status nval,Initialized nvar,\\r\\ndevice error nval, nvar,\\r\\ndevice preset nval, nvar,\\r\\nsystimestamp nval,3827754362.715 nvar,\\r\\n', 'Device Status': 'Initialized', '': 3827754362.715, 'device error': '', 'device preset': ''}\n",
      "{'fresh': True, 'shot number': 0, 'GEECS device error': False, 'Device alive on instantiation': True, 'last_message': 'UC_TC_Phosphor>>0>>Device Status nval,Initialized nvar,\\r\\ndevice error nval, nvar,\\r\\ndevice preset nval, nvar,\\r\\nsystimestamp nval,3827754363.715 nvar,\\r\\n', 'Device Status': 'Initialized', '': 3827754363.715, 'device error': '', 'device preset': ''}\n",
      "{'fresh': True, 'shot number': 0, 'GEECS device error': False, 'Device alive on instantiation': True, 'last_message': 'UC_TC_Phosphor>>0>>Device Status nval,Initialized nvar,\\r\\ndevice error nval, nvar,\\r\\ndevice preset nval, nvar,\\r\\nsystimestamp nval,3827754364.715 nvar,\\r\\n', 'Device Status': 'Initialized', '': 3827754364.715, 'device error': '', 'device preset': ''}\n",
      "{'fresh': True, 'shot number': 0, 'GEECS device error': False, 'Device alive on instantiation': True, 'last_message': 'UC_TC_Phosphor>>0>>Device Status nval,Initialized nvar,\\r\\ndevice error nval, nvar,\\r\\ndevice preset nval, nvar,\\r\\nsystimestamp nval,3827754364.715 nvar,\\r\\n', 'Device Status': 'Initialized', '': 3827754364.715, 'device error': '', 'device preset': ''}\n",
      "{'fresh': True, 'shot number': 0, 'GEECS device error': False, 'Device alive on instantiation': True, 'last_message': 'UC_TC_Phosphor>>0>>Device Status nval,Initialized nvar,\\r\\ndevice error nval, nvar,\\r\\ndevice preset nval, nvar,\\r\\nsystimestamp nval,3827754366.216 nvar,\\r\\n', 'Device Status': 'Initialized', '': 3827754366.216, 'device error': '', 'device preset': ''}\n",
      "{'fresh': True, 'shot number': 0, 'GEECS device error': False, 'Device alive on instantiation': True, 'last_message': 'UC_TC_Phosphor>>0>>Device Status nval,Initialized nvar,\\r\\ndevice error nval, nvar,\\r\\ndevice preset nval, nvar,\\r\\nsystimestamp nval,3827754367.718 nvar,\\r\\n', 'Device Status': 'Initialized', '': 3827754367.718, 'device error': '', 'device preset': ''}\n",
      "{'fresh': True, 'shot number': 0, 'GEECS device error': False, 'Device alive on instantiation': True, 'last_message': 'UC_TC_Phosphor>>0>>Device Status nval,Initialized nvar,\\r\\ndevice error nval, nvar,\\r\\ndevice preset nval, nvar,\\r\\nsystimestamp nval,3827754367.718 nvar,\\r\\n', 'Device Status': 'Initialized', '': 3827754367.718, 'device error': '', 'device preset': ''}\n",
      "{'fresh': True, 'shot number': 0, 'GEECS device error': False, 'Device alive on instantiation': True, 'last_message': 'UC_TC_Phosphor>>0>>Device Status nval,Initialized nvar,\\r\\ndevice error nval, nvar,\\r\\ndevice preset nval, nvar,\\r\\nsystimestamp nval,3827754369.243 nvar,\\r\\n', 'Device Status': 'Initialized', '': 3827754369.243, 'device error': '', 'device preset': ''}\n",
      "{'fresh': True, 'shot number': 0, 'GEECS device error': False, 'Device alive on instantiation': True, 'last_message': 'UC_TC_Phosphor>>0>>Device Status nval,Initialized nvar,\\r\\ndevice error nval, nvar,\\r\\ndevice preset nval, nvar,\\r\\nsystimestamp nval,3827754370.772 nvar,\\r\\n', 'Device Status': 'Initialized', '': 3827754370.772, 'device error': '', 'device preset': ''}\n",
      "{'fresh': True, 'shot number': 0, 'GEECS device error': False, 'Device alive on instantiation': True, 'last_message': 'UC_TC_Phosphor>>0>>Device Status nval,Initialized nvar,\\r\\ndevice error nval, nvar,\\r\\ndevice preset nval, nvar,\\r\\nsystimestamp nval,3827754370.772 nvar,\\r\\n', 'Device Status': 'Initialized', '': 3827754370.772, 'device error': '', 'device preset': ''}\n",
      "{'fresh': True, 'shot number': 0, 'GEECS device error': False, 'Device alive on instantiation': True, 'last_message': 'UC_TC_Phosphor>>0>>Device Status nval,Initialized nvar,\\r\\ndevice error nval, nvar,\\r\\ndevice preset nval, nvar,\\r\\nsystimestamp nval,3827754372.274 nvar,\\r\\n', 'Device Status': 'Initialized', '': 3827754372.274, 'device error': '', 'device preset': ''}\n",
      "{'fresh': True, 'shot number': 0, 'GEECS device error': False, 'Device alive on instantiation': True, 'last_message': 'UC_TC_Phosphor>>0>>Device Status nval,Initialized nvar,\\r\\ndevice error nval, nvar,\\r\\ndevice preset nval, nvar,\\r\\nsystimestamp nval,3827754373.776 nvar,\\r\\n', 'Device Status': 'Initialized', '': 3827754373.776, 'device error': '', 'device preset': ''}\n",
      "{'fresh': True, 'shot number': 0, 'GEECS device error': False, 'Device alive on instantiation': True, 'last_message': 'UC_TC_Phosphor>>0>>Device Status nval,Initialized nvar,\\r\\ndevice error nval, nvar,\\r\\ndevice preset nval, nvar,\\r\\nsystimestamp nval,3827754373.776 nvar,\\r\\n', 'Device Status': 'Initialized', '': 3827754373.776, 'device error': '', 'device preset': ''}\n",
      "{'fresh': True, 'shot number': 0, 'GEECS device error': False, 'Device alive on instantiation': True, 'last_message': 'UC_TC_Phosphor>>0>>Device Status nval,Initialized nvar,\\r\\ndevice error nval, nvar,\\r\\ndevice preset nval, nvar,\\r\\nsystimestamp nval,3827754375.277 nvar,\\r\\n', 'Device Status': 'Initialized', '': 3827754375.277, 'device error': '', 'device preset': ''}\n",
      "{'fresh': True, 'shot number': 0, 'GEECS device error': False, 'Device alive on instantiation': True, 'last_message': 'UC_TC_Phosphor>>0>>Device Status nval,Initialized nvar,\\r\\ndevice error nval, nvar,\\r\\ndevice preset nval, nvar,\\r\\nsystimestamp nval,3827754376.778 nvar,\\r\\n', 'Device Status': 'Initialized', '': 3827754376.778, 'device error': '', 'device preset': ''}\n",
      "{'fresh': True, 'shot number': 0, 'GEECS device error': False, 'Device alive on instantiation': True, 'last_message': 'UC_TC_Phosphor>>0>>Device Status nval,Initialized nvar,\\r\\ndevice error nval, nvar,\\r\\ndevice preset nval, nvar,\\r\\nsystimestamp nval,3827754376.778 nvar,\\r\\n', 'Device Status': 'Initialized', '': 3827754376.778, 'device error': '', 'device preset': ''}\n",
      "{'fresh': True, 'shot number': 0, 'GEECS device error': False, 'Device alive on instantiation': True, 'last_message': 'UC_TC_Phosphor>>0>>Device Status nval,Initialized nvar,\\r\\ndevice error nval, nvar,\\r\\ndevice preset nval, nvar,\\r\\nsystimestamp nval,3827754378.279 nvar,\\r\\n', 'Device Status': 'Initialized', '': 3827754378.279, 'device error': '', 'device preset': ''}\n",
      "{'fresh': True, 'shot number': 0, 'GEECS device error': False, 'Device alive on instantiation': True, 'last_message': 'UC_TC_Phosphor>>0>>Device Status nval,Initialized nvar,\\r\\ndevice error nval, nvar,\\r\\ndevice preset nval, nvar,\\r\\nsystimestamp nval,3827754379.780 nvar,\\r\\n', 'Device Status': 'Initialized', '': 3827754379.78, 'device error': '', 'device preset': ''}\n",
      "{'fresh': True, 'shot number': 0, 'GEECS device error': False, 'Device alive on instantiation': True, 'last_message': 'UC_TC_Phosphor>>0>>Device Status nval,Initialized nvar,\\r\\ndevice error nval, nvar,\\r\\ndevice preset nval, nvar,\\r\\nsystimestamp nval,3827754379.780 nvar,\\r\\n', 'Device Status': 'Initialized', '': 3827754379.78, 'device error': '', 'device preset': ''}\n",
      "{'fresh': True, 'shot number': 0, 'GEECS device error': False, 'Device alive on instantiation': True, 'last_message': 'UC_TC_Phosphor>>0>>Device Status nval,Initialized nvar,\\r\\ndevice error nval, nvar,\\r\\ndevice preset nval, nvar,\\r\\nsystimestamp nval,3827754381.315 nvar,\\r\\n', 'Device Status': 'Initialized', '': 3827754381.315, 'device error': '', 'device preset': ''}\n"
     ]
    },
    {
     "name": "stdout",
     "output_type": "stream",
     "text": [
      "{'fresh': True, 'shot number': 0, 'GEECS device error': False, 'Device alive on instantiation': True, 'last_message': 'UC_TC_Phosphor>>0>>Device Status nval,Initialized nvar,\\r\\ndevice error nval, nvar,\\r\\ndevice preset nval, nvar,\\r\\nsystimestamp nval,3827754382.716 nvar,\\r\\n', 'Device Status': 'Initialized', '': 3827754382.716, 'device error': '', 'device preset': ''}\n",
      "{'fresh': True, 'shot number': 0, 'GEECS device error': False, 'Device alive on instantiation': True, 'last_message': 'UC_TC_Phosphor>>0>>Device Status nval,Initialized nvar,\\r\\ndevice error nval, nvar,\\r\\ndevice preset nval, nvar,\\r\\nsystimestamp nval,3827754383.716 nvar,\\r\\n', 'Device Status': 'Initialized', '': 3827754383.716, 'device error': '', 'device preset': ''}\n",
      "{'fresh': True, 'shot number': 0, 'GEECS device error': False, 'Device alive on instantiation': True, 'last_message': 'UC_TC_Phosphor>>0>>Device Status nval,Initialized nvar,\\r\\ndevice error nval, nvar,\\r\\ndevice preset nval, nvar,\\r\\nsystimestamp nval,3827754384.717 nvar,\\r\\n', 'Device Status': 'Initialized', '': 3827754384.717, 'device error': '', 'device preset': ''}\n",
      "{'fresh': True, 'shot number': 0, 'GEECS device error': False, 'Device alive on instantiation': True, 'last_message': 'UC_TC_Phosphor>>0>>Device Status nval,Initialized nvar,\\r\\ndevice error nval, nvar,\\r\\ndevice preset nval, nvar,\\r\\nsystimestamp nval,3827754385.717 nvar,\\r\\n', 'Device Status': 'Initialized', '': 3827754385.717, 'device error': '', 'device preset': ''}\n",
      "{'fresh': True, 'shot number': 0, 'GEECS device error': False, 'Device alive on instantiation': True, 'last_message': 'UC_TC_Phosphor>>0>>Device Status nval,Initialized nvar,\\r\\ndevice error nval, nvar,\\r\\ndevice preset nval, nvar,\\r\\nsystimestamp nval,3827754386.717 nvar,\\r\\n', 'Device Status': 'Initialized', '': 3827754386.717, 'device error': '', 'device preset': ''}\n",
      "{'fresh': True, 'shot number': 0, 'GEECS device error': False, 'Device alive on instantiation': True, 'last_message': 'UC_TC_Phosphor>>0>>Device Status nval,Initialized nvar,\\r\\ndevice error nval, nvar,\\r\\ndevice preset nval, nvar,\\r\\nsystimestamp nval,3827754387.717 nvar,\\r\\n', 'Device Status': 'Initialized', '': 3827754387.717, 'device error': '', 'device preset': ''}\n",
      "{'fresh': True, 'shot number': 0, 'GEECS device error': False, 'Device alive on instantiation': True, 'last_message': 'UC_TC_Phosphor>>0>>Device Status nval,Initialized nvar,\\r\\ndevice error nval, nvar,\\r\\ndevice preset nval, nvar,\\r\\nsystimestamp nval,3827754388.718 nvar,\\r\\n', 'Device Status': 'Initialized', '': 3827754388.718, 'device error': '', 'device preset': ''}\n",
      "{'fresh': True, 'shot number': 0, 'GEECS device error': False, 'Device alive on instantiation': True, 'last_message': 'UC_TC_Phosphor>>0>>Device Status nval,Initialized nvar,\\r\\ndevice error nval, nvar,\\r\\ndevice preset nval, nvar,\\r\\nsystimestamp nval,3827754389.717 nvar,\\r\\n', 'Device Status': 'Initialized', '': 3827754389.717, 'device error': '', 'device preset': ''}\n",
      "{'fresh': True, 'shot number': 0, 'GEECS device error': False, 'Device alive on instantiation': True, 'last_message': 'UC_TC_Phosphor>>0>>Device Status nval,Initialized nvar,\\r\\ndevice error nval, nvar,\\r\\ndevice preset nval, nvar,\\r\\nsystimestamp nval,3827754390.717 nvar,\\r\\n', 'Device Status': 'Initialized', '': 3827754390.717, 'device error': '', 'device preset': ''}\n",
      "{'fresh': True, 'shot number': 0, 'GEECS device error': False, 'Device alive on instantiation': True, 'last_message': 'UC_TC_Phosphor>>0>>Device Status nval,Initialized nvar,\\r\\ndevice error nval, nvar,\\r\\ndevice preset nval, nvar,\\r\\nsystimestamp nval,3827754391.717 nvar,\\r\\n', 'Device Status': 'Initialized', '': 3827754391.717, 'device error': '', 'device preset': ''}\n",
      "{'fresh': True, 'shot number': 0, 'GEECS device error': False, 'Device alive on instantiation': True, 'last_message': 'UC_TC_Phosphor>>0>>Device Status nval,Initialized nvar,\\r\\ndevice error nval, nvar,\\r\\ndevice preset nval, nvar,\\r\\nsystimestamp nval,3827754392.717 nvar,\\r\\n', 'Device Status': 'Initialized', '': 3827754392.717, 'device error': '', 'device preset': ''}\n",
      "{'fresh': True, 'shot number': 0, 'GEECS device error': False, 'Device alive on instantiation': True, 'last_message': 'UC_TC_Phosphor>>0>>Device Status nval,Initialized nvar,\\r\\ndevice error nval, nvar,\\r\\ndevice preset nval, nvar,\\r\\nsystimestamp nval,3827754393.718 nvar,\\r\\n', 'Device Status': 'Initialized', '': 3827754393.718, 'device error': '', 'device preset': ''}\n",
      "{'fresh': True, 'shot number': 0, 'GEECS device error': False, 'Device alive on instantiation': True, 'last_message': 'UC_TC_Phosphor>>0>>Device Status nval,Initialized nvar,\\r\\ndevice error nval, nvar,\\r\\ndevice preset nval, nvar,\\r\\nsystimestamp nval,3827754394.718 nvar,\\r\\n', 'Device Status': 'Initialized', '': 3827754394.718, 'device error': '', 'device preset': ''}\n",
      "{'fresh': True, 'shot number': 0, 'GEECS device error': False, 'Device alive on instantiation': True, 'last_message': 'UC_TC_Phosphor>>0>>Device Status nval,Initialized nvar,\\r\\ndevice error nval, nvar,\\r\\ndevice preset nval, nvar,\\r\\nsystimestamp nval,3827754395.718 nvar,\\r\\n', 'Device Status': 'Initialized', '': 3827754395.718, 'device error': '', 'device preset': ''}\n",
      "{'fresh': True, 'shot number': 0, 'GEECS device error': False, 'Device alive on instantiation': True, 'last_message': 'UC_TC_Phosphor>>0>>Device Status nval,Initialized nvar,\\r\\ndevice error nval, nvar,\\r\\ndevice preset nval, nvar,\\r\\nsystimestamp nval,3827754396.718 nvar,\\r\\n', 'Device Status': 'Initialized', '': 3827754396.718, 'device error': '', 'device preset': ''}\n",
      "{'fresh': True, 'shot number': 0, 'GEECS device error': False, 'Device alive on instantiation': True, 'last_message': 'UC_TC_Phosphor>>0>>Device Status nval,Initialized nvar,\\r\\ndevice error nval, nvar,\\r\\ndevice preset nval, nvar,\\r\\nsystimestamp nval,3827754397.719 nvar,\\r\\n', 'Device Status': 'Initialized', '': 3827754397.719, 'device error': '', 'device preset': ''}\n",
      "{'fresh': True, 'shot number': 0, 'GEECS device error': False, 'Device alive on instantiation': True, 'last_message': 'UC_TC_Phosphor>>0>>Device Status nval,Initialized nvar,\\r\\ndevice error nval, nvar,\\r\\ndevice preset nval, nvar,\\r\\nsystimestamp nval,3827754398.719 nvar,\\r\\n', 'Device Status': 'Initialized', '': 3827754398.719, 'device error': '', 'device preset': ''}\n",
      "{'fresh': True, 'shot number': 0, 'GEECS device error': False, 'Device alive on instantiation': True, 'last_message': 'UC_TC_Phosphor>>0>>Device Status nval,Initialized nvar,\\r\\ndevice error nval, nvar,\\r\\ndevice preset nval, nvar,\\r\\nsystimestamp nval,3827754399.718 nvar,\\r\\n', 'Device Status': 'Initialized', '': 3827754399.718, 'device error': '', 'device preset': ''}\n",
      "{'fresh': True, 'shot number': 0, 'GEECS device error': False, 'Device alive on instantiation': True, 'last_message': 'UC_TC_Phosphor>>0>>Device Status nval,Initialized nvar,\\r\\ndevice error nval, nvar,\\r\\ndevice preset nval, nvar,\\r\\nsystimestamp nval,3827754400.718 nvar,\\r\\n', 'Device Status': 'Initialized', '': 3827754400.718, 'device error': '', 'device preset': ''}\n",
      "{'fresh': True, 'shot number': 0, 'GEECS device error': False, 'Device alive on instantiation': True, 'last_message': 'UC_TC_Phosphor>>0>>Device Status nval,Initialized nvar,\\r\\ndevice error nval, nvar,\\r\\ndevice preset nval, nvar,\\r\\nsystimestamp nval,3827754401.718 nvar,\\r\\n', 'Device Status': 'Initialized', '': 3827754401.718, 'device error': '', 'device preset': ''}\n",
      "{'fresh': True, 'shot number': 0, 'GEECS device error': False, 'Device alive on instantiation': True, 'last_message': 'UC_TC_Phosphor>>0>>Device Status nval,Initialized nvar,\\r\\ndevice error nval, nvar,\\r\\ndevice preset nval, nvar,\\r\\nsystimestamp nval,3827754402.719 nvar,\\r\\n', 'Device Status': 'Initialized', '': 3827754402.719, 'device error': '', 'device preset': ''}\n",
      "{'fresh': True, 'shot number': 0, 'GEECS device error': False, 'Device alive on instantiation': True, 'last_message': 'UC_TC_Phosphor>>0>>Device Status nval,Initialized nvar,\\r\\ndevice error nval, nvar,\\r\\ndevice preset nval, nvar,\\r\\nsystimestamp nval,3827754403.718 nvar,\\r\\n', 'Device Status': 'Initialized', '': 3827754403.718, 'device error': '', 'device preset': ''}\n"
     ]
    },
    {
     "name": "stdout",
     "output_type": "stream",
     "text": [
      "{'fresh': True, 'shot number': 0, 'GEECS device error': False, 'Device alive on instantiation': True, 'last_message': 'UC_TC_Phosphor>>0>>Device Status nval,Initialized nvar,\\r\\ndevice error nval, nvar,\\r\\ndevice preset nval, nvar,\\r\\nsystimestamp nval,3827754404.719 nvar,\\r\\n', 'Device Status': 'Initialized', '': 3827754404.719, 'device error': '', 'device preset': ''}\n",
      "{'fresh': True, 'shot number': 0, 'GEECS device error': False, 'Device alive on instantiation': True, 'last_message': 'UC_TC_Phosphor>>0>>Device Status nval,Initialized nvar,\\r\\ndevice error nval, nvar,\\r\\ndevice preset nval, nvar,\\r\\nsystimestamp nval,3827754405.720 nvar,\\r\\n', 'Device Status': 'Initialized', '': 3827754405.72, 'device error': '', 'device preset': ''}\n",
      "{'fresh': True, 'shot number': 0, 'GEECS device error': False, 'Device alive on instantiation': True, 'last_message': 'UC_TC_Phosphor>>0>>Device Status nval,Initialized nvar,\\r\\ndevice error nval, nvar,\\r\\ndevice preset nval, nvar,\\r\\nsystimestamp nval,3827754406.719 nvar,\\r\\n', 'Device Status': 'Initialized', '': 3827754406.719, 'device error': '', 'device preset': ''}\n",
      "{'fresh': True, 'shot number': 0, 'GEECS device error': False, 'Device alive on instantiation': True, 'last_message': 'UC_TC_Phosphor>>0>>Device Status nval,Initialized nvar,\\r\\ndevice error nval, nvar,\\r\\ndevice preset nval, nvar,\\r\\nsystimestamp nval,3827754407.719 nvar,\\r\\n', 'Device Status': 'Initialized', '': 3827754407.719, 'device error': '', 'device preset': ''}\n",
      "{'fresh': True, 'shot number': 0, 'GEECS device error': False, 'Device alive on instantiation': True, 'last_message': 'UC_TC_Phosphor>>0>>Device Status nval,Initialized nvar,\\r\\ndevice error nval, nvar,\\r\\ndevice preset nval, nvar,\\r\\nsystimestamp nval,3827754408.718 nvar,\\r\\n', 'Device Status': 'Initialized', '': 3827754408.718, 'device error': '', 'device preset': ''}\n",
      "{'fresh': True, 'shot number': 0, 'GEECS device error': False, 'Device alive on instantiation': True, 'last_message': 'UC_TC_Phosphor>>0>>Device Status nval,Initialized nvar,\\r\\ndevice error nval, nvar,\\r\\ndevice preset nval, nvar,\\r\\nsystimestamp nval,3827754409.719 nvar,\\r\\n', 'Device Status': 'Initialized', '': 3827754409.719, 'device error': '', 'device preset': ''}\n",
      "{'fresh': True, 'shot number': 0, 'GEECS device error': False, 'Device alive on instantiation': True, 'last_message': 'UC_TC_Phosphor>>0>>Device Status nval,Initialized nvar,\\r\\ndevice error nval, nvar,\\r\\ndevice preset nval, nvar,\\r\\nsystimestamp nval,3827754410.719 nvar,\\r\\n', 'Device Status': 'Initialized', '': 3827754410.719, 'device error': '', 'device preset': ''}\n",
      "{'fresh': True, 'shot number': 0, 'GEECS device error': False, 'Device alive on instantiation': True, 'last_message': 'UC_TC_Phosphor>>0>>Device Status nval,Initialized nvar,\\r\\ndevice error nval, nvar,\\r\\ndevice preset nval, nvar,\\r\\nsystimestamp nval,3827754411.719 nvar,\\r\\n', 'Device Status': 'Initialized', '': 3827754411.719, 'device error': '', 'device preset': ''}\n",
      "{'fresh': True, 'shot number': 0, 'GEECS device error': False, 'Device alive on instantiation': True, 'last_message': 'UC_TC_Phosphor>>0>>Device Status nval,Initialized nvar,\\r\\ndevice error nval, nvar,\\r\\ndevice preset nval, nvar,\\r\\nsystimestamp nval,3827754412.719 nvar,\\r\\n', 'Device Status': 'Initialized', '': 3827754412.719, 'device error': '', 'device preset': ''}\n",
      "{'fresh': True, 'shot number': 0, 'GEECS device error': False, 'Device alive on instantiation': True, 'last_message': 'UC_TC_Phosphor>>0>>Device Status nval,Initialized nvar,\\r\\ndevice error nval, nvar,\\r\\ndevice preset nval, nvar,\\r\\nsystimestamp nval,3827754413.719 nvar,\\r\\n', 'Device Status': 'Initialized', '': 3827754413.719, 'device error': '', 'device preset': ''}\n",
      "{'fresh': True, 'shot number': 0, 'GEECS device error': False, 'Device alive on instantiation': True, 'last_message': 'UC_TC_Phosphor>>0>>Device Status nval,Initialized nvar,\\r\\ndevice error nval, nvar,\\r\\ndevice preset nval, nvar,\\r\\nsystimestamp nval,3827754414.719 nvar,\\r\\n', 'Device Status': 'Initialized', '': 3827754414.719, 'device error': '', 'device preset': ''}\n",
      "{'fresh': True, 'shot number': 0, 'GEECS device error': False, 'Device alive on instantiation': True, 'last_message': 'UC_TC_Phosphor>>0>>Device Status nval,Initialized nvar,\\r\\ndevice error nval, nvar,\\r\\ndevice preset nval, nvar,\\r\\nsystimestamp nval,3827754415.720 nvar,\\r\\n', 'Device Status': 'Initialized', '': 3827754415.72, 'device error': '', 'device preset': ''}\n",
      "{'fresh': True, 'shot number': 0, 'GEECS device error': False, 'Device alive on instantiation': True, 'last_message': 'UC_TC_Phosphor>>0>>Device Status nval,Initialized nvar,\\r\\ndevice error nval, nvar,\\r\\ndevice preset nval, nvar,\\r\\nsystimestamp nval,3827754416.720 nvar,\\r\\n', 'Device Status': 'Initialized', '': 3827754416.72, 'device error': '', 'device preset': ''}\n",
      "{'fresh': True, 'shot number': 0, 'GEECS device error': False, 'Device alive on instantiation': True, 'last_message': 'UC_TC_Phosphor>>0>>Device Status nval,Initialized nvar,\\r\\ndevice error nval, nvar,\\r\\ndevice preset nval, nvar,\\r\\nsystimestamp nval,3827754417.720 nvar,\\r\\n', 'Device Status': 'Initialized', '': 3827754417.72, 'device error': '', 'device preset': ''}\n",
      "{'fresh': True, 'shot number': 0, 'GEECS device error': False, 'Device alive on instantiation': True, 'last_message': 'UC_TC_Phosphor>>0>>Device Status nval,Initialized nvar,\\r\\ndevice error nval, nvar,\\r\\ndevice preset nval, nvar,\\r\\nsystimestamp nval,3827754418.720 nvar,\\r\\n', 'Device Status': 'Initialized', '': 3827754418.72, 'device error': '', 'device preset': ''}\n",
      "{'fresh': True, 'shot number': 0, 'GEECS device error': False, 'Device alive on instantiation': True, 'last_message': 'UC_TC_Phosphor>>0>>Device Status nval,Initialized nvar,\\r\\ndevice error nval, nvar,\\r\\ndevice preset nval, nvar,\\r\\nsystimestamp nval,3827754419.720 nvar,\\r\\n', 'Device Status': 'Initialized', '': 3827754419.72, 'device error': '', 'device preset': ''}\n",
      "{'fresh': True, 'shot number': 0, 'GEECS device error': False, 'Device alive on instantiation': True, 'last_message': 'UC_TC_Phosphor>>0>>Device Status nval,Initialized nvar,\\r\\ndevice error nval, nvar,\\r\\ndevice preset nval, nvar,\\r\\nsystimestamp nval,3827754420.720 nvar,\\r\\n', 'Device Status': 'Initialized', '': 3827754420.72, 'device error': '', 'device preset': ''}\n",
      "{'fresh': True, 'shot number': 0, 'GEECS device error': False, 'Device alive on instantiation': True, 'last_message': 'UC_TC_Phosphor>>0>>Device Status nval,Initialized nvar,\\r\\ndevice error nval, nvar,\\r\\ndevice preset nval, nvar,\\r\\nsystimestamp nval,3827754421.720 nvar,\\r\\n', 'Device Status': 'Initialized', '': 3827754421.72, 'device error': '', 'device preset': ''}\n",
      "{'fresh': True, 'shot number': 0, 'GEECS device error': False, 'Device alive on instantiation': True, 'last_message': 'UC_TC_Phosphor>>0>>Device Status nval,Initialized nvar,\\r\\ndevice error nval, nvar,\\r\\ndevice preset nval, nvar,\\r\\nsystimestamp nval,3827754422.720 nvar,\\r\\n', 'Device Status': 'Initialized', '': 3827754422.72, 'device error': '', 'device preset': ''}\n",
      "{'fresh': True, 'shot number': 0, 'GEECS device error': False, 'Device alive on instantiation': True, 'last_message': 'UC_TC_Phosphor>>0>>Device Status nval,Initialized nvar,\\r\\ndevice error nval, nvar,\\r\\ndevice preset nval, nvar,\\r\\nsystimestamp nval,3827754423.720 nvar,\\r\\n', 'Device Status': 'Initialized', '': 3827754423.72, 'device error': '', 'device preset': ''}\n",
      "{'fresh': True, 'shot number': 0, 'GEECS device error': False, 'Device alive on instantiation': True, 'last_message': 'UC_TC_Phosphor>>0>>Device Status nval,Initialized nvar,\\r\\ndevice error nval, nvar,\\r\\ndevice preset nval, nvar,\\r\\nsystimestamp nval,3827754424.720 nvar,\\r\\n', 'Device Status': 'Initialized', '': 3827754424.72, 'device error': '', 'device preset': ''}\n",
      "{'fresh': True, 'shot number': 0, 'GEECS device error': False, 'Device alive on instantiation': True, 'last_message': 'UC_TC_Phosphor>>0>>Device Status nval,Initialized nvar,\\r\\ndevice error nval, nvar,\\r\\ndevice preset nval, nvar,\\r\\nsystimestamp nval,3827754425.720 nvar,\\r\\n', 'Device Status': 'Initialized', '': 3827754425.72, 'device error': '', 'device preset': ''}\n"
     ]
    },
    {
     "name": "stdout",
     "output_type": "stream",
     "text": [
      "{'fresh': True, 'shot number': 0, 'GEECS device error': False, 'Device alive on instantiation': True, 'last_message': 'UC_TC_Phosphor>>0>>Device Status nval,Initialized nvar,\\r\\ndevice error nval, nvar,\\r\\ndevice preset nval, nvar,\\r\\nsystimestamp nval,3827754426.721 nvar,\\r\\n', 'Device Status': 'Initialized', '': 3827754426.721, 'device error': '', 'device preset': ''}\n",
      "{'fresh': True, 'shot number': 0, 'GEECS device error': False, 'Device alive on instantiation': True, 'last_message': 'UC_TC_Phosphor>>0>>Device Status nval,Initialized nvar,\\r\\ndevice error nval, nvar,\\r\\ndevice preset nval, nvar,\\r\\nsystimestamp nval,3827754427.721 nvar,\\r\\n', 'Device Status': 'Initialized', '': 3827754427.721, 'device error': '', 'device preset': ''}\n",
      "{'fresh': True, 'shot number': 0, 'GEECS device error': False, 'Device alive on instantiation': True, 'last_message': 'UC_TC_Phosphor>>0>>Device Status nval,Initialized nvar,\\r\\ndevice error nval, nvar,\\r\\ndevice preset nval, nvar,\\r\\nsystimestamp nval,3827754428.721 nvar,\\r\\n', 'Device Status': 'Initialized', '': 3827754428.721, 'device error': '', 'device preset': ''}\n",
      "{'fresh': True, 'shot number': 0, 'GEECS device error': False, 'Device alive on instantiation': True, 'last_message': 'UC_TC_Phosphor>>0>>Device Status nval,Initialized nvar,\\r\\ndevice error nval, nvar,\\r\\ndevice preset nval, nvar,\\r\\nsystimestamp nval,3827754429.721 nvar,\\r\\n', 'Device Status': 'Initialized', '': 3827754429.721, 'device error': '', 'device preset': ''}\n",
      "{'fresh': True, 'shot number': 0, 'GEECS device error': False, 'Device alive on instantiation': True, 'last_message': 'UC_TC_Phosphor>>0>>Device Status nval,Initialized nvar,\\r\\ndevice error nval, nvar,\\r\\ndevice preset nval, nvar,\\r\\nsystimestamp nval,3827754430.721 nvar,\\r\\n', 'Device Status': 'Initialized', '': 3827754430.721, 'device error': '', 'device preset': ''}\n",
      "{'fresh': True, 'shot number': 0, 'GEECS device error': False, 'Device alive on instantiation': True, 'last_message': 'UC_TC_Phosphor>>0>>Device Status nval,Initialized nvar,\\r\\ndevice error nval, nvar,\\r\\ndevice preset nval, nvar,\\r\\nsystimestamp nval,3827754431.721 nvar,\\r\\n', 'Device Status': 'Initialized', '': 3827754431.721, 'device error': '', 'device preset': ''}\n",
      "{'fresh': True, 'shot number': 0, 'GEECS device error': False, 'Device alive on instantiation': True, 'last_message': 'UC_TC_Phosphor>>0>>Device Status nval,Initialized nvar,\\r\\ndevice error nval, nvar,\\r\\ndevice preset nval, nvar,\\r\\nsystimestamp nval,3827754432.722 nvar,\\r\\n', 'Device Status': 'Initialized', '': 3827754432.722, 'device error': '', 'device preset': ''}\n",
      "{'fresh': True, 'shot number': 0, 'GEECS device error': False, 'Device alive on instantiation': True, 'last_message': 'UC_TC_Phosphor>>0>>Device Status nval,Initialized nvar,\\r\\ndevice error nval, nvar,\\r\\ndevice preset nval, nvar,\\r\\nsystimestamp nval,3827754433.721 nvar,\\r\\n', 'Device Status': 'Initialized', '': 3827754433.721, 'device error': '', 'device preset': ''}\n",
      "{'fresh': True, 'shot number': 0, 'GEECS device error': False, 'Device alive on instantiation': True, 'last_message': 'UC_TC_Phosphor>>0>>Device Status nval,Initialized nvar,\\r\\ndevice error nval, nvar,\\r\\ndevice preset nval, nvar,\\r\\nsystimestamp nval,3827754434.721 nvar,\\r\\n', 'Device Status': 'Initialized', '': 3827754434.721, 'device error': '', 'device preset': ''}\n",
      "{'fresh': True, 'shot number': 0, 'GEECS device error': False, 'Device alive on instantiation': True, 'last_message': 'UC_TC_Phosphor>>0>>Device Status nval,Initialized nvar,\\r\\ndevice error nval, nvar,\\r\\ndevice preset nval, nvar,\\r\\nsystimestamp nval,3827754435.721 nvar,\\r\\n', 'Device Status': 'Initialized', '': 3827754435.721, 'device error': '', 'device preset': ''}\n",
      "{'fresh': True, 'shot number': 0, 'GEECS device error': False, 'Device alive on instantiation': True, 'last_message': 'UC_TC_Phosphor>>0>>Device Status nval,Initialized nvar,\\r\\ndevice error nval, nvar,\\r\\ndevice preset nval, nvar,\\r\\nsystimestamp nval,3827754436.721 nvar,\\r\\n', 'Device Status': 'Initialized', '': 3827754436.721, 'device error': '', 'device preset': ''}\n",
      "{'fresh': True, 'shot number': 0, 'GEECS device error': False, 'Device alive on instantiation': True, 'last_message': 'UC_TC_Phosphor>>0>>Device Status nval,Initialized nvar,\\r\\ndevice error nval, nvar,\\r\\ndevice preset nval, nvar,\\r\\nsystimestamp nval,3827754437.722 nvar,\\r\\n', 'Device Status': 'Initialized', '': 3827754437.722, 'device error': '', 'device preset': ''}\n",
      "{'fresh': True, 'shot number': 0, 'GEECS device error': False, 'Device alive on instantiation': True, 'last_message': 'UC_TC_Phosphor>>0>>Device Status nval,Initialized nvar,\\r\\ndevice error nval, nvar,\\r\\ndevice preset nval, nvar,\\r\\nsystimestamp nval,3827754438.723 nvar,\\r\\n', 'Device Status': 'Initialized', '': 3827754438.723, 'device error': '', 'device preset': ''}\n",
      "{'fresh': True, 'shot number': 0, 'GEECS device error': False, 'Device alive on instantiation': True, 'last_message': 'UC_TC_Phosphor>>0>>Device Status nval,Initialized nvar,\\r\\ndevice error nval, nvar,\\r\\ndevice preset nval, nvar,\\r\\nsystimestamp nval,3827754439.722 nvar,\\r\\n', 'Device Status': 'Initialized', '': 3827754439.722, 'device error': '', 'device preset': ''}\n",
      "{'fresh': True, 'shot number': 0, 'GEECS device error': False, 'Device alive on instantiation': True, 'last_message': 'UC_TC_Phosphor>>0>>Device Status nval,Initialized nvar,\\r\\ndevice error nval, nvar,\\r\\ndevice preset nval, nvar,\\r\\nsystimestamp nval,3827754440.722 nvar,\\r\\n', 'Device Status': 'Initialized', '': 3827754440.722, 'device error': '', 'device preset': ''}\n",
      "{'fresh': True, 'shot number': 0, 'GEECS device error': False, 'Device alive on instantiation': True, 'last_message': 'UC_TC_Phosphor>>0>>Device Status nval,Initialized nvar,\\r\\ndevice error nval, nvar,\\r\\ndevice preset nval, nvar,\\r\\nsystimestamp nval,3827754440.722 nvar,\\r\\n', 'Device Status': 'Initialized', '': 3827754440.722, 'device error': '', 'device preset': ''}\n",
      "{'fresh': True, 'shot number': 0, 'GEECS device error': False, 'Device alive on instantiation': True, 'last_message': 'UC_TC_Phosphor>>0>>Device Status nval,Initialized nvar,\\r\\ndevice error nval, nvar,\\r\\ndevice preset nval, nvar,\\r\\nsystimestamp nval,3827754442.224 nvar,\\r\\n', 'Device Status': 'Initialized', '': 3827754442.224, 'device error': '', 'device preset': ''}\n",
      "{'fresh': True, 'shot number': 0, 'GEECS device error': False, 'Device alive on instantiation': True, 'last_message': 'UC_TC_Phosphor>>0>>Device Status nval,Initialized nvar,\\r\\ndevice error nval, nvar,\\r\\ndevice preset nval, nvar,\\r\\nsystimestamp nval,3827754443.725 nvar,\\r\\n', 'Device Status': 'Initialized', '': 3827754443.725, 'device error': '', 'device preset': ''}\n",
      "{'fresh': True, 'shot number': 0, 'GEECS device error': False, 'Device alive on instantiation': True, 'last_message': 'UC_TC_Phosphor>>0>>Device Status nval,Initialized nvar,\\r\\ndevice error nval, nvar,\\r\\ndevice preset nval, nvar,\\r\\nsystimestamp nval,3827754443.725 nvar,\\r\\n', 'Device Status': 'Initialized', '': 3827754443.725, 'device error': '', 'device preset': ''}\n",
      "{'fresh': True, 'shot number': 0, 'GEECS device error': False, 'Device alive on instantiation': True, 'last_message': 'UC_TC_Phosphor>>0>>Device Status nval,Initialized nvar,\\r\\ndevice error nval, nvar,\\r\\ndevice preset nval, nvar,\\r\\nsystimestamp nval,3827754445.273 nvar,\\r\\n', 'Device Status': 'Initialized', '': 3827754445.273, 'device error': '', 'device preset': ''}\n",
      "{'fresh': True, 'shot number': 0, 'GEECS device error': False, 'Device alive on instantiation': True, 'last_message': 'UC_TC_Phosphor>>0>>Device Status nval,Initialized nvar,\\r\\ndevice error nval, nvar,\\r\\ndevice preset nval, nvar,\\r\\nsystimestamp nval,3827754446.825 nvar,\\r\\n', 'Device Status': 'Initialized', '': 3827754446.825, 'device error': '', 'device preset': ''}\n",
      "{'fresh': True, 'shot number': 0, 'GEECS device error': False, 'Device alive on instantiation': True, 'last_message': 'UC_TC_Phosphor>>0>>Device Status nval,Initialized nvar,\\r\\ndevice error nval, nvar,\\r\\ndevice preset nval, nvar,\\r\\nsystimestamp nval,3827754446.825 nvar,\\r\\n', 'Device Status': 'Initialized', '': 3827754446.825, 'device error': '', 'device preset': ''}\n"
     ]
    },
    {
     "name": "stdout",
     "output_type": "stream",
     "text": [
      "{'fresh': True, 'shot number': 0, 'GEECS device error': False, 'Device alive on instantiation': True, 'last_message': 'UC_TC_Phosphor>>0>>Device Status nval,Initialized nvar,\\r\\ndevice error nval, nvar,\\r\\ndevice preset nval, nvar,\\r\\nsystimestamp nval,3827754448.326 nvar,\\r\\n', 'Device Status': 'Initialized', '': 3827754448.326, 'device error': '', 'device preset': ''}\n",
      "{'fresh': True, 'shot number': 0, 'GEECS device error': False, 'Device alive on instantiation': True, 'last_message': 'UC_TC_Phosphor>>0>>Device Status nval,Initialized nvar,\\r\\ndevice error nval, nvar,\\r\\ndevice preset nval, nvar,\\r\\nsystimestamp nval,3827754449.828 nvar,\\r\\n', 'Device Status': 'Initialized', '': 3827754449.828, 'device error': '', 'device preset': ''}\n",
      "{'fresh': True, 'shot number': 0, 'GEECS device error': False, 'Device alive on instantiation': True, 'last_message': 'UC_TC_Phosphor>>0>>Device Status nval,Initialized nvar,\\r\\ndevice error nval, nvar,\\r\\ndevice preset nval, nvar,\\r\\nsystimestamp nval,3827754449.828 nvar,\\r\\n', 'Device Status': 'Initialized', '': 3827754449.828, 'device error': '', 'device preset': ''}\n",
      "{'fresh': True, 'shot number': 0, 'GEECS device error': False, 'Device alive on instantiation': True, 'last_message': 'UC_TC_Phosphor>>0>>Device Status nval,Initialized nvar,\\r\\ndevice error nval, nvar,\\r\\ndevice preset nval, nvar,\\r\\nsystimestamp nval,3827754451.329 nvar,\\r\\n', 'Device Status': 'Initialized', '': 3827754451.329, 'device error': '', 'device preset': ''}\n",
      "{'fresh': True, 'shot number': 0, 'GEECS device error': False, 'Device alive on instantiation': True, 'last_message': 'UC_TC_Phosphor>>0>>Device Status nval,Initialized nvar,\\r\\ndevice error nval, nvar,\\r\\ndevice preset nval, nvar,\\r\\nsystimestamp nval,3827754452.830 nvar,\\r\\n', 'Device Status': 'Initialized', '': 3827754452.83, 'device error': '', 'device preset': ''}\n",
      "{'fresh': True, 'shot number': 0, 'GEECS device error': False, 'Device alive on instantiation': True, 'last_message': 'UC_TC_Phosphor>>0>>Device Status nval,Initialized nvar,\\r\\ndevice error nval, nvar,\\r\\ndevice preset nval, nvar,\\r\\nsystimestamp nval,3827754452.830 nvar,\\r\\n', 'Device Status': 'Initialized', '': 3827754452.83, 'device error': '', 'device preset': ''}\n",
      "{'fresh': True, 'shot number': 0, 'GEECS device error': False, 'Device alive on instantiation': True, 'last_message': 'UC_TC_Phosphor>>0>>Device Status nval,Initialized nvar,\\r\\ndevice error nval, nvar,\\r\\ndevice preset nval, nvar,\\r\\nsystimestamp nval,3827754454.331 nvar,\\r\\n', 'Device Status': 'Initialized', '': 3827754454.331, 'device error': '', 'device preset': ''}\n",
      "{'fresh': True, 'shot number': 0, 'GEECS device error': False, 'Device alive on instantiation': True, 'last_message': 'UC_TC_Phosphor>>0>>Device Status nval,Initialized nvar,\\r\\ndevice error nval, nvar,\\r\\ndevice preset nval, nvar,\\r\\nsystimestamp nval,3827754455.833 nvar,\\r\\n', 'Device Status': 'Initialized', '': 3827754455.833, 'device error': '', 'device preset': ''}\n",
      "{'fresh': True, 'shot number': 0, 'GEECS device error': False, 'Device alive on instantiation': True, 'last_message': 'UC_TC_Phosphor>>0>>Device Status nval,Initialized nvar,\\r\\ndevice error nval, nvar,\\r\\ndevice preset nval, nvar,\\r\\nsystimestamp nval,3827754455.833 nvar,\\r\\n', 'Device Status': 'Initialized', '': 3827754455.833, 'device error': '', 'device preset': ''}\n",
      "{'fresh': True, 'shot number': 0, 'GEECS device error': False, 'Device alive on instantiation': True, 'last_message': 'UC_TC_Phosphor>>0>>Device Status nval,Initialized nvar,\\r\\ndevice error nval, nvar,\\r\\ndevice preset nval, nvar,\\r\\nsystimestamp nval,3827754457.390 nvar,\\r\\n', 'Device Status': 'Initialized', '': 3827754457.39, 'device error': '', 'device preset': ''}\n",
      "{'fresh': True, 'shot number': 0, 'GEECS device error': False, 'Device alive on instantiation': True, 'last_message': 'UC_TC_Phosphor>>0>>Device Status nval,Initialized nvar,\\r\\ndevice error nval, nvar,\\r\\ndevice preset nval, nvar,\\r\\nsystimestamp nval,3827754458.724 nvar,\\r\\n', 'Device Status': 'Initialized', '': 3827754458.724, 'device error': '', 'device preset': ''}\n"
     ]
    }
   ],
   "source": [
    "camera.subscribe_var_values([\"systimestamp\"])\n",
    "for i in range(100):\n",
    "    \n",
    "    print(camera.state)\n",
    "    time.sleep(1)"
   ]
  },
  {
   "cell_type": "code",
   "execution_count": null,
   "id": "1c8c03d3",
   "metadata": {},
   "outputs": [],
   "source": []
  }
 ],
 "metadata": {
  "kernelspec": {
   "display_name": "Python 3 (ipykernel)",
   "language": "python",
   "name": "python3"
  },
  "language_info": {
   "codemirror_mode": {
    "name": "ipython",
    "version": 3
   },
   "file_extension": ".py",
   "mimetype": "text/x-python",
   "name": "python",
   "nbconvert_exporter": "python",
   "pygments_lexer": "ipython3",
   "version": "3.11.5"
  }
 },
 "nbformat": 4,
 "nbformat_minor": 5
}
