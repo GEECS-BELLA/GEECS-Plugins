{
 "cells": [
  {
   "cell_type": "code",
   "execution_count": 4,
   "id": "0b4db1da",
   "metadata": {},
   "outputs": [
    {
     "name": "stdout",
     "output_type": "stream",
     "text": [
      "PyGEECSPlot imported successfully...\n"
     ]
    }
   ],
   "source": [
    "# You should be able to just run the whole script to align\n",
    "# Just run all cells\n",
    "#this\n",
    "import os\n",
    "import yaml\n",
    "import time\n",
    "import numpy as np\n",
    "import pandas as pd\n",
    "import shelve\n",
    "import sys\n",
    "import random\n",
    "import matplotlib.pyplot as plt\n",
    "import scipy.stats as stats\n",
    "from scipy.optimize import fsolve\n",
    "from scipy.interpolate import interp1d\n",
    "from scipy.optimize import minimize\n",
    "import PIL\n",
    "import cv2\n",
    "\n",
    "import PyGEECSPlotter.py_geecs_v2 as pygc"
   ]
  },
  {
   "cell_type": "code",
   "execution_count": 6,
   "id": "3bda13d9",
   "metadata": {},
   "outputs": [
    {
     "data": {
      "text/plain": [
       "True"
      ]
     },
     "execution_count": 6,
     "metadata": {},
     "output_type": "execute_result"
    }
   ],
   "source": [
    "arr = np.zeros((1216, 1936))\n",
    "arr[550:565, 1000:1015] = 2**16 - 1\n",
    "\n",
    "# Ensure array is in uint16 format\n",
    "array_uint16 = arr.astype(np.uint16)\n",
    "# Save image (OpenCV automatically handles 16-bit depth)\n",
    "filename = r\"N:\\data\\Y2025\\04-Apr\\25_0416\\analysis\\fake_LPMode_mask.png\"\n",
    "cv2.imwrite(filename, array_uint16)"
   ]
  }
 ],
 "metadata": {
  "kernelspec": {
   "display_name": "geecs",
   "language": "python",
   "name": "python3"
  },
  "language_info": {
   "codemirror_mode": {
    "name": "ipython",
    "version": 3
   },
   "file_extension": ".py",
   "mimetype": "text/x-python",
   "name": "python",
   "nbconvert_exporter": "python",
   "pygments_lexer": "ipython3",
   "version": "3.11.5"
  }
 },
 "nbformat": 4,
 "nbformat_minor": 5
}
