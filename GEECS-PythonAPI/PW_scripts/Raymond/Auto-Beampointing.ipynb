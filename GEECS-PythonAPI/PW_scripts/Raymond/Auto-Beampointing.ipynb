{
 "cells": [
  {
   "cell_type": "code",
   "execution_count": 3,
   "id": "3afa6a2f",
   "metadata": {},
   "outputs": [
    {
     "ename": "DatabaseError",
     "evalue": "2003 (HY000): Can't connect to MySQL server on 'localhost:3306' (10061)",
     "output_type": "error",
     "traceback": [
      "\u001b[1;31m---------------------------------------------------------------------------\u001b[0m",
      "\u001b[1;31mMySQLInterfaceError\u001b[0m                       Traceback (most recent call last)",
      "File \u001b[1;32m~\\AppData\\Local\\anaconda3\\envs\\geecs\\Lib\\site-packages\\mysql\\connector\\connection_cext.py:288\u001b[0m, in \u001b[0;36mCMySQLConnection._open_connection\u001b[1;34m(self)\u001b[0m\n\u001b[0;32m    287\u001b[0m \u001b[38;5;28;01mtry\u001b[39;00m:\n\u001b[1;32m--> 288\u001b[0m     \u001b[38;5;28mself\u001b[39m\u001b[38;5;241m.\u001b[39m_cmysql\u001b[38;5;241m.\u001b[39mconnect(\u001b[38;5;241m*\u001b[39m\u001b[38;5;241m*\u001b[39mcnx_kwargs)\n\u001b[0;32m    289\u001b[0m     \u001b[38;5;28mself\u001b[39m\u001b[38;5;241m.\u001b[39m_cmysql\u001b[38;5;241m.\u001b[39mconverter_str_fallback \u001b[38;5;241m=\u001b[39m \u001b[38;5;28mself\u001b[39m\u001b[38;5;241m.\u001b[39m_converter_str_fallback\n",
      "\u001b[1;31mMySQLInterfaceError\u001b[0m: Can't connect to MySQL server on 'localhost:3306' (10061)",
      "\nThe above exception was the direct cause of the following exception:\n",
      "\u001b[1;31mDatabaseError\u001b[0m                             Traceback (most recent call last)",
      "Cell \u001b[1;32mIn[3], line 13\u001b[0m\n\u001b[0;32m     10\u001b[0m \u001b[38;5;28;01mfrom\u001b[39;00m \u001b[38;5;21;01mgeecs_python_api\u001b[39;00m\u001b[38;5;21;01m.\u001b[39;00m\u001b[38;5;21;01mcontrols\u001b[39;00m\u001b[38;5;21;01m.\u001b[39;00m\u001b[38;5;21;01mdevices\u001b[39;00m\u001b[38;5;21;01m.\u001b[39;00m\u001b[38;5;21;01mgeecs_device\u001b[39;00m \u001b[38;5;28;01mimport\u001b[39;00m GeecsDevice\n\u001b[0;32m     11\u001b[0m \u001b[38;5;66;03m# from geecs_python_api.controls.experiment.experiment import Experiment\u001b[39;00m\n\u001b[1;32m---> 13\u001b[0m GeecsDevice\u001b[38;5;241m.\u001b[39mexp_info \u001b[38;5;241m=\u001b[39m GeecsDatabase\u001b[38;5;241m.\u001b[39mcollect_exp_info(\u001b[38;5;124m\"\u001b[39m\u001b[38;5;124mTest\u001b[39m\u001b[38;5;124m\"\u001b[39m)\n\u001b[0;32m     14\u001b[0m \u001b[38;5;66;03m# Experiment.get_info('Bella')\u001b[39;00m\n\u001b[0;32m     15\u001b[0m \n\u001b[0;32m     16\u001b[0m \u001b[38;5;66;03m# set up the python objects for the geecs devices to be used in optimization\u001b[39;00m\n\u001b[0;32m     17\u001b[0m split \u001b[38;5;241m=\u001b[39m GeecsDevice(\u001b[38;5;124m'\u001b[39m\u001b[38;5;124mZTEST-ND-SimCam\u001b[39m\u001b[38;5;124m'\u001b[39m)\n",
      "File \u001b[1;32mc:\\GEECS\\Developers Version\\source\\GEECS-Plugins\\GEECS-PythonAPI\\PW_scripts\\Raymond\\../..\\geecs_python_api\\controls\\interface\\geecs_database.py:74\u001b[0m, in \u001b[0;36mGeecsDatabase.collect_exp_info\u001b[1;34m(exp_name)\u001b[0m\n\u001b[0;32m     71\u001b[0m \u001b[38;5;129m@staticmethod\u001b[39m\n\u001b[0;32m     72\u001b[0m \u001b[38;5;28;01mdef\u001b[39;00m \u001b[38;5;21mcollect_exp_info\u001b[39m(exp_name: \u001b[38;5;28mstr\u001b[39m \u001b[38;5;241m=\u001b[39m \u001b[38;5;124m'\u001b[39m\u001b[38;5;124mUndulator\u001b[39m\u001b[38;5;124m'\u001b[39m)\\\n\u001b[0;32m     73\u001b[0m         \u001b[38;5;241m-\u001b[39m\u001b[38;5;241m>\u001b[39m \u001b[38;5;28mdict\u001b[39m[\u001b[38;5;28mstr\u001b[39m, Union[ExpDict, \u001b[38;5;28mdict\u001b[39m[\u001b[38;5;28mstr\u001b[39m, Path], Path, \u001b[38;5;28mint\u001b[39m]]:\n\u001b[1;32m---> 74\u001b[0m     db \u001b[38;5;241m=\u001b[39m GeecsDatabase\u001b[38;5;241m.\u001b[39m_get_db()\n\u001b[0;32m     75\u001b[0m     db_cursor \u001b[38;5;241m=\u001b[39m db\u001b[38;5;241m.\u001b[39mcursor(dictionary\u001b[38;5;241m=\u001b[39m\u001b[38;5;28;01mTrue\u001b[39;00m)\n\u001b[0;32m     77\u001b[0m     exp_devs \u001b[38;5;241m=\u001b[39m GeecsDatabase\u001b[38;5;241m.\u001b[39m_find_exp_variables(db_cursor, exp_name)\n",
      "File \u001b[1;32mc:\\GEECS\\Developers Version\\source\\GEECS-Plugins\\GEECS-PythonAPI\\PW_scripts\\Raymond\\../..\\geecs_python_api\\controls\\interface\\geecs_database.py:51\u001b[0m, in \u001b[0;36mGeecsDatabase._get_db\u001b[1;34m()\u001b[0m\n\u001b[0;32m     49\u001b[0m \u001b[38;5;129m@staticmethod\u001b[39m\n\u001b[0;32m     50\u001b[0m \u001b[38;5;28;01mdef\u001b[39;00m \u001b[38;5;21m_get_db\u001b[39m():\n\u001b[1;32m---> 51\u001b[0m     db \u001b[38;5;241m=\u001b[39m mysql\u001b[38;5;241m.\u001b[39mconnector\u001b[38;5;241m.\u001b[39mconnect(\n\u001b[0;32m     52\u001b[0m         host\u001b[38;5;241m=\u001b[39mGeecsDatabase\u001b[38;5;241m.\u001b[39mipv4,\n\u001b[0;32m     53\u001b[0m         user\u001b[38;5;241m=\u001b[39mGeecsDatabase\u001b[38;5;241m.\u001b[39musername,\n\u001b[0;32m     54\u001b[0m         password\u001b[38;5;241m=\u001b[39mGeecsDatabase\u001b[38;5;241m.\u001b[39mpassword,\n\u001b[0;32m     55\u001b[0m         database\u001b[38;5;241m=\u001b[39mGeecsDatabase\u001b[38;5;241m.\u001b[39mname)\n\u001b[0;32m     56\u001b[0m     \u001b[38;5;28;01mreturn\u001b[39;00m db\n",
      "File \u001b[1;32m~\\AppData\\Local\\anaconda3\\envs\\geecs\\Lib\\site-packages\\mysql\\connector\\pooling.py:293\u001b[0m, in \u001b[0;36mconnect\u001b[1;34m(*args, **kwargs)\u001b[0m\n\u001b[0;32m    290\u001b[0m         \u001b[38;5;28;01mraise\u001b[39;00m \u001b[38;5;167;01mImportError\u001b[39;00m(ERROR_NO_CEXT)\n\u001b[0;32m    292\u001b[0m \u001b[38;5;28;01mif\u001b[39;00m CMySQLConnection \u001b[38;5;129;01mand\u001b[39;00m \u001b[38;5;129;01mnot\u001b[39;00m use_pure:\n\u001b[1;32m--> 293\u001b[0m     \u001b[38;5;28;01mreturn\u001b[39;00m CMySQLConnection(\u001b[38;5;241m*\u001b[39margs, \u001b[38;5;241m*\u001b[39m\u001b[38;5;241m*\u001b[39mkwargs)\n\u001b[0;32m    294\u001b[0m \u001b[38;5;28;01mreturn\u001b[39;00m MySQLConnection(\u001b[38;5;241m*\u001b[39margs, \u001b[38;5;241m*\u001b[39m\u001b[38;5;241m*\u001b[39mkwargs)\n",
      "File \u001b[1;32m~\\AppData\\Local\\anaconda3\\envs\\geecs\\Lib\\site-packages\\mysql\\connector\\connection_cext.py:118\u001b[0m, in \u001b[0;36mCMySQLConnection.__init__\u001b[1;34m(self, **kwargs)\u001b[0m\n\u001b[0;32m    115\u001b[0m \u001b[38;5;28msuper\u001b[39m()\u001b[38;5;241m.\u001b[39m\u001b[38;5;21m__init__\u001b[39m()\n\u001b[0;32m    117\u001b[0m \u001b[38;5;28;01mif\u001b[39;00m kwargs:\n\u001b[1;32m--> 118\u001b[0m     \u001b[38;5;28mself\u001b[39m\u001b[38;5;241m.\u001b[39mconnect(\u001b[38;5;241m*\u001b[39m\u001b[38;5;241m*\u001b[39mkwargs)\n",
      "File \u001b[1;32m~\\AppData\\Local\\anaconda3\\envs\\geecs\\Lib\\site-packages\\mysql\\connector\\abstracts.py:1178\u001b[0m, in \u001b[0;36mMySQLConnectionAbstract.connect\u001b[1;34m(self, **kwargs)\u001b[0m\n\u001b[0;32m   1175\u001b[0m     \u001b[38;5;28mself\u001b[39m\u001b[38;5;241m.\u001b[39mconfig(\u001b[38;5;241m*\u001b[39m\u001b[38;5;241m*\u001b[39mkwargs)\n\u001b[0;32m   1177\u001b[0m \u001b[38;5;28mself\u001b[39m\u001b[38;5;241m.\u001b[39mdisconnect()\n\u001b[1;32m-> 1178\u001b[0m \u001b[38;5;28mself\u001b[39m\u001b[38;5;241m.\u001b[39m_open_connection()\n\u001b[0;32m   1179\u001b[0m \u001b[38;5;66;03m# Server does not allow to run any other statement different from ALTER\u001b[39;00m\n\u001b[0;32m   1180\u001b[0m \u001b[38;5;66;03m# when user's password has been expired.\u001b[39;00m\n\u001b[0;32m   1181\u001b[0m \u001b[38;5;28;01mif\u001b[39;00m \u001b[38;5;129;01mnot\u001b[39;00m \u001b[38;5;28mself\u001b[39m\u001b[38;5;241m.\u001b[39m_client_flags \u001b[38;5;241m&\u001b[39m ClientFlag\u001b[38;5;241m.\u001b[39mCAN_HANDLE_EXPIRED_PASSWORDS:\n",
      "File \u001b[1;32m~\\AppData\\Local\\anaconda3\\envs\\geecs\\Lib\\site-packages\\mysql\\connector\\connection_cext.py:293\u001b[0m, in \u001b[0;36mCMySQLConnection._open_connection\u001b[1;34m(self)\u001b[0m\n\u001b[0;32m    291\u001b[0m         \u001b[38;5;28mself\u001b[39m\u001b[38;5;241m.\u001b[39mconverter\u001b[38;5;241m.\u001b[39mstr_fallback \u001b[38;5;241m=\u001b[39m \u001b[38;5;28mself\u001b[39m\u001b[38;5;241m.\u001b[39m_converter_str_fallback\n\u001b[0;32m    292\u001b[0m \u001b[38;5;28;01mexcept\u001b[39;00m MySQLInterfaceError \u001b[38;5;28;01mas\u001b[39;00m err:\n\u001b[1;32m--> 293\u001b[0m     \u001b[38;5;28;01mraise\u001b[39;00m get_mysql_exception(\n\u001b[0;32m    294\u001b[0m         msg\u001b[38;5;241m=\u001b[39merr\u001b[38;5;241m.\u001b[39mmsg, errno\u001b[38;5;241m=\u001b[39merr\u001b[38;5;241m.\u001b[39merrno, sqlstate\u001b[38;5;241m=\u001b[39merr\u001b[38;5;241m.\u001b[39msqlstate\n\u001b[0;32m    295\u001b[0m     ) \u001b[38;5;28;01mfrom\u001b[39;00m \u001b[38;5;21;01merr\u001b[39;00m\n\u001b[0;32m    297\u001b[0m \u001b[38;5;28mself\u001b[39m\u001b[38;5;241m.\u001b[39m_do_handshake()\n",
      "\u001b[1;31mDatabaseError\u001b[0m: 2003 (HY000): Can't connect to MySQL server on 'localhost:3306' (10061)"
     ]
    }
   ],
   "source": [
    "import os\n",
    "import yaml\n",
    "import time\n",
    "import numpy as np\n",
    "import pandas as pd\n",
    "import shelve\n",
    "import sys\n",
    "sys.path.append('../../')\n",
    "from geecs_python_api.controls.interface import GeecsDatabase\n",
    "from geecs_python_api.controls.devices.geecs_device import GeecsDevice\n",
    "# from geecs_python_api.controls.experiment.experiment import Experiment\n",
    "\n",
    "GeecsDevice.exp_info = GeecsDatabase.collect_exp_info(\"Test\")\n",
    "# Experiment.get_info('Bella')\n",
    "\n",
    "# set up the python objects for the geecs devices to be used in optimization\n",
    "split = GeecsDevice('ZTEST-ND-SimCam')\n",
    "split.subscribe_var_values(['exposure'])\n",
    "#statusvalue=split.get_status()\n",
    "#print(statusvalue,'is the status')\n",
    "print(split.state)\n",
    "# split.set('exposure',0.003)\n",
    "# split.get('exposure')\n",
    "#split.close()"
   ]
  },
  {
   "cell_type": "code",
   "execution_count": null,
   "id": "ae3264f4",
   "metadata": {},
   "outputs": [],
   "source": []
  }
 ],
 "metadata": {
  "kernelspec": {
   "display_name": "Python 3 (ipykernel)",
   "language": "python",
   "name": "python3"
  },
  "language_info": {
   "codemirror_mode": {
    "name": "ipython",
    "version": 3
   },
   "file_extension": ".py",
   "mimetype": "text/x-python",
   "name": "python",
   "nbconvert_exporter": "python",
   "pygments_lexer": "ipython3",
   "version": "3.11.5"
  }
 },
 "nbformat": 4,
 "nbformat_minor": 5
}
