{
 "cells": [
  {
   "cell_type": "code",
   "execution_count": 38,
   "id": "fb97bf80-17cb-41a6-8d7c-2d30161f3b43",
   "metadata": {},
   "outputs": [],
   "source": [
    "# You should be able to just run the whole script to align\n",
    "# Just run all cells\n",
    "#this\n",
    "import os\n",
    "import yaml\n",
    "import time\n",
    "import numpy as np\n",
    "import pandas as pd\n",
    "import shelve\n",
    "import sys\n",
    "import random\n",
    "import matplotlib.pyplot as plt\n",
    "import scipy.stats as stats\n",
    "from scipy.optimize import fsolve\n",
    "from scipy.interpolate import interp1d\n",
    "from scipy.optimize import minimize\n",
    "sys.path.append('../../')\n",
    "from geecs_python_api.controls.interface import GeecsDatabase\n",
    "from geecs_python_api.controls.devices.geecs_device import GeecsDevice\n",
    "# from geecs_python_api.controls.experiment.experiment import Experiment"
   ]
  },
  {
   "cell_type": "code",
   "execution_count": 73,
   "id": "1732b0aa-12ac-45d0-9324-ce330d921770",
   "metadata": {},
   "outputs": [
    {
     "name": "stdout",
     "output_type": "stream",
     "text": [
      "200.0\n",
      "200.0\n"
     ]
    }
   ],
   "source": [
    "#experiment\n",
    "GeecsDevice.exp_info = GeecsDatabase.collect_exp_info(\"Plasma2\")\n",
    "\n",
    "#Device List\n",
    "P2_hexapod = GeecsDevice('P2-hexapod')\n",
    "wfs = GeecsDevice('P2-WFS_LQ')\n",
    "FF_cam = GeecsDevice('P2-HeatCamPostNear')\n",
    "\n",
    "# #hexapod vars\n",
    "# xpos = P2_hexapod.get(\"xpos\")\n",
    "# ypos = P2_hexapod.get(\"ypos\")\n",
    "# zpos = P2_hexapod.get(\"zpos\")\n",
    "# wangle = P2_hexapod.get(\"wangle\")\n",
    "# vangle = P2_hexapod.get(\"vangle\")\n",
    "\n",
    "# #WFS vars\n",
    "# X_center = wfs.get(\"BeamCentroidX\")\n",
    "# Y_center = wfs.get(\"BeamCentroidY\")\n",
    "\n",
    "#HCPN vars\n",
    "x_center = FF_cam.get(\"TargetBP.X\")\n",
    "y_center = FF_cam.get(\"TargetBP.Y\")\n",
    "\n",
    "print(x_center)\n",
    "print(y_center)\n",
    "# #test printouts\n",
    "# print(\"xpos:\",xpos)\n",
    "# print(\"ypos:\",ypos)\n",
    "# print(\"zpos:\",zpos)\n",
    "# print(\"wangle:\",wangle)\n",
    "# print(\"vangle:\",vangle)\n",
    "\n",
    "# #test sets\n",
    "# P2_hexapod.set(\"wangle\", -.38)\n",
    "# print(\"done\")\n",
    "# print(P2_hexapod.get(\"wangle\"))\n",
    "\n",
    "\n",
    "# wfs.subscribe_var_values(['Zernike1', 'Zernike2'])\n",
    "# print(wfs.state)\n",
    "\n",
    "# for i in range(10):\n",
    "#     print(wfs.state['Zernike1'], wfs.state['Zernike2'])\n",
    "#     time.sleep(0.1)"
   ]
  },
  {
   "cell_type": "code",
   "execution_count": 62,
   "id": "f595fae0",
   "metadata": {},
   "outputs": [
    {
     "name": "stdout",
     "output_type": "stream",
     "text": [
      "done\n",
      "-0.5\n",
      "Centroid X: 1.217657\n",
      "Centroid Y: 0.705436\n",
      "RoC: 18169.522816\n"
     ]
    }
   ],
   "source": [
    "#test sets\n",
    "P2_hexapod.set(\"wangle\", -.50)\n",
    "print(\"done\")\n",
    "print(P2_hexapod.get(\"wangle\"))\n",
    "\n",
    "print(\"Centroid X:\",wfs.get(\"BeamCentroidX\"))\n",
    "print(\"Centroid Y:\",wfs.get(\"BeamCentroidY\"))\n",
    "print(\"RoC:\",wfs.get(\"RadiusOfCurvature\"))"
   ]
  },
  {
   "cell_type": "code",
   "execution_count": 63,
   "id": "cdee9f14",
   "metadata": {},
   "outputs": [
    {
     "name": "stdout",
     "output_type": "stream",
     "text": [
      "done\n",
      "-0.55\n",
      "Centroid X: 0.654831\n",
      "Centroid Y: 0.743928\n",
      "RoC: 20479.998555\n"
     ]
    }
   ],
   "source": [
    "P2_hexapod.set(\"wangle\", -.55)\n",
    "print(\"done\")\n",
    "print(P2_hexapod.get(\"wangle\"))\n",
    "\n",
    "print(\"Centroid X:\",wfs.get(\"BeamCentroidX\"))\n",
    "print(\"Centroid Y:\",wfs.get(\"BeamCentroidY\"))\n",
    "print(\"RoC:\",wfs.get(\"RadiusOfCurvature\"))"
   ]
  },
  {
   "cell_type": "code",
   "execution_count": 64,
   "id": "226517ff",
   "metadata": {},
   "outputs": [
    {
     "name": "stdout",
     "output_type": "stream",
     "text": [
      "done\n",
      "-0.6\n",
      "Centroid X: 0.001707\n",
      "Centroid Y: 0.75452\n",
      "RoC: 15368.8543\n"
     ]
    }
   ],
   "source": [
    "P2_hexapod.set(\"wangle\", -.60)\n",
    "print(\"done\")\n",
    "print(P2_hexapod.get(\"wangle\"))\n",
    "\n",
    "print(\"Centroid X:\",wfs.get(\"BeamCentroidX\"))\n",
    "print(\"Centroid Y:\",wfs.get(\"BeamCentroidY\"))\n",
    "print(\"RoC:\",wfs.get(\"RadiusOfCurvature\"))"
   ]
  },
  {
   "cell_type": "code",
   "execution_count": 65,
   "id": "55537251",
   "metadata": {},
   "outputs": [
    {
     "name": "stdout",
     "output_type": "stream",
     "text": [
      "done\n",
      "-0.65\n",
      "Centroid X: -0.649927\n",
      "Centroid Y: 0.807164\n",
      "RoC: 9629.602992\n"
     ]
    }
   ],
   "source": [
    "P2_hexapod.set(\"wangle\", -.65)\n",
    "print(\"done\")\n",
    "print(P2_hexapod.get(\"wangle\"))\n",
    "\n",
    "print(\"Centroid X:\",wfs.get(\"BeamCentroidX\"))\n",
    "print(\"Centroid Y:\",wfs.get(\"BeamCentroidY\"))\n",
    "print(\"RoC:\",wfs.get(\"RadiusOfCurvature\"))"
   ]
  },
  {
   "cell_type": "code",
   "execution_count": null,
   "id": "10b1564b",
   "metadata": {},
   "outputs": [],
   "source": []
  }
 ],
 "metadata": {
  "kernelspec": {
   "display_name": "Python 3 (ipykernel)",
   "language": "python",
   "name": "python3"
  },
  "language_info": {
   "codemirror_mode": {
    "name": "ipython",
    "version": 3
   },
   "file_extension": ".py",
   "mimetype": "text/x-python",
   "name": "python",
   "nbconvert_exporter": "python",
   "pygments_lexer": "ipython3",
   "version": "3.11.5"
  }
 },
 "nbformat": 4,
 "nbformat_minor": 5
}
