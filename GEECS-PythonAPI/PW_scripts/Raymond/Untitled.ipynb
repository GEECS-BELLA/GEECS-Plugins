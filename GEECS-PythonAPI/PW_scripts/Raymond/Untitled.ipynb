{
 "cells": [
  {
   "cell_type": "code",
   "execution_count": null,
   "id": "839eb780",
   "metadata": {},
   "outputs": [],
   "source": [
    "import os\n",
    "import yaml\n",
    "import time\n",
    "import numpy as np\n",
    "import pandas as pd\n",
    "import shelve\n",
    "import sys\n",
    "import random\n",
    "import matplotlib.pyplot as plt\n",
    "from scipy.optimize import fsolve\n",
    "sys.path.append('../../')\n",
    "from geecs_python_api.controls.interface import GeecsDatabase\n",
    "from geecs_python_api.controls.devices.geecs_device import GeecsDevice"
   ]
  },
  {
   "cell_type": "code",
   "execution_count": null,
   "id": "b77937a2",
   "metadata": {},
   "outputs": [],
   "source": [
    "GeecsDevice.exp_info = GeecsDatabase.collect_exp_info(\"ControlRoom\")\n",
    "\n",
    "# set up the python objects for the geecs devices to be used in optimization\n",
    "camera1 = GeecsDevice('CAM-CR-Beampointing')\n",
    "camera1.use_alias_in_TCP_subscription = False\n",
    "camera1.subscribe_var_values(['Target.X', 'Target.Y', 'Target2.X', 'Target2.Y'])"
   ]
  },
  {
   "cell_type": "code",
   "execution_count": null,
   "id": "c4c04cb1",
   "metadata": {},
   "outputs": [],
   "source": [
    "print(camera1.state.var_alias)\n",
    "print(camera1.var_aliases_by_name)"
   ]
  },
  {
   "cell_type": "code",
   "execution_count": null,
   "id": "6ad2dc25",
   "metadata": {},
   "outputs": [],
   "source": [
    "centroidx = camera1.get('Centroidx')\n",
    "print(centroidx)\n",
    "print(camera1.state)"
   ]
  },
  {
   "cell_type": "code",
   "execution_count": null,
   "id": "faf48351",
   "metadata": {},
   "outputs": [],
   "source": [
    "camera1.unsubscribe_var_values()"
   ]
  },
  {
   "cell_type": "code",
   "execution_count": null,
   "id": "86039307",
   "metadata": {},
   "outputs": [],
   "source": []
  }
 ],
 "metadata": {
  "kernelspec": {
   "display_name": "Python 3 (ipykernel)",
   "language": "python",
   "name": "python3"
  },
  "language_info": {
   "codemirror_mode": {
    "name": "ipython",
    "version": 3
   },
   "file_extension": ".py",
   "mimetype": "text/x-python",
   "name": "python",
   "nbconvert_exporter": "python",
   "pygments_lexer": "ipython3",
   "version": "3.11.5"
  }
 },
 "nbformat": 4,
 "nbformat_minor": 5
}
