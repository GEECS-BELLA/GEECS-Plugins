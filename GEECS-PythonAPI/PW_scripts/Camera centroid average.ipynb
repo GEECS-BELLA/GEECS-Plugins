{
 "cells": [
  {
   "cell_type": "code",
   "execution_count": 1,
   "id": "3c758cb7-370a-42be-8595-55ca4138a6ed",
   "metadata": {},
   "outputs": [
    {
     "name": "stdout",
     "output_type": "stream",
     "text": [
      "path config ..\\..\\..\\..\\user data\\Configurations.INI\n",
      "database name  loasis\n"
     ]
    }
   ],
   "source": [
    "# You should be able to just run the whole script to align\n",
    "# Just run all cells\n",
    "#this\n",
    "import os\n",
    "import yaml\n",
    "import time\n",
    "import numpy as np\n",
    "import pandas as pd\n",
    "import shelve\n",
    "import sys\n",
    "import random\n",
    "import matplotlib.pyplot as plt\n",
    "import scipy.stats as stats\n",
    "from scipy.optimize import fsolve\n",
    "sys.path.append('../')\n",
    "from geecs_python_api.controls.interface import GeecsDatabase\n",
    "from geecs_python_api.controls.devices.geecs_device import GeecsDevice\n",
    "# from geecs_python_api.controls.experiment.experiment import Experiment\n",
    "\n"
   ]
  },
  {
   "cell_type": "code",
   "execution_count": 5,
   "id": "67f6b64b-b6ec-4d05-9af0-7ac5abd1fe69",
   "metadata": {},
   "outputs": [],
   "source": [
    "#steup the geecs experiment\n",
    "GeecsDevice.exp_info = GeecsDatabase.collect_exp_info(\"Bella\")\n"
   ]
  },
  {
   "cell_type": "code",
   "execution_count": 11,
   "id": "8cf263b2-b5ce-4b5e-acbd-0f578f6c6326",
   "metadata": {},
   "outputs": [
    {
     "name": "stdout",
     "output_type": "stream",
     "text": [
      "{'fresh': True, 'shot number': None, 'GEECS device error': False}\n",
      "{'fresh': True, 'shot number': None, 'GEECS device error': False}\n",
      "{'fresh': True, 'shot number': None, 'GEECS device error': False}\n",
      "{'fresh': True, 'shot number': None, 'GEECS device error': False}\n",
      "{'fresh': True, 'shot number': None, 'GEECS device error': False}\n",
      "{'fresh': True, 'shot number': None, 'GEECS device error': False}\n",
      "{'fresh': True, 'shot number': 0, 'GEECS device error': False, 'last_message': 'CAM-HPD-CCD>>0>>Device Status nval,no scan nvar,\\r\\ndevice error nval, nvar,\\r\\ndevice preset nval,Amp2, MegaAttenuator nvar,\\r\\ncentroidx nval,1040.731323 nvar,\\r\\ncentroidy nval,1027.323364 nvar,\\r\\n', 'Device Status': 'no scan', '': '', 'device error': '', 'HPD_CCD_centroidx': 1040.731323, 'HPD_CCD_centroidy': 1027.323364}\n"
     ]
    },
    {
     "ename": "KeyError",
     "evalue": "-2",
     "output_type": "error",
     "traceback": [
      "\u001b[1;31m---------------------------------------------------------------------------\u001b[0m",
      "\u001b[1;31mKeyError\u001b[0m                                  Traceback (most recent call last)",
      "Cell \u001b[1;32mIn[11], line 20\u001b[0m\n\u001b[0;32m     16\u001b[0m \u001b[38;5;28mprint\u001b[39m(a)\n\u001b[0;32m     17\u001b[0m \u001b[38;5;28;01mif\u001b[39;00m \u001b[38;5;28mlen\u001b[39m(a) \u001b[38;5;241m>\u001b[39m \u001b[38;5;241m3\u001b[39m:\n\u001b[0;32m     18\u001b[0m     \u001b[38;5;66;03m#print(a['HPD_CCD_centroidx'],a['HPD_CCD_centroidy'])\u001b[39;00m\n\u001b[0;32m     19\u001b[0m     \u001b[38;5;66;03m#get the x,y centroid values\u001b[39;00m\n\u001b[1;32m---> 20\u001b[0m     x \u001b[38;5;241m=\u001b[39m a[\u001b[38;5;241m-\u001b[39m\u001b[38;5;241m2\u001b[39m]\n\u001b[0;32m     21\u001b[0m     y \u001b[38;5;241m=\u001b[39m a[\u001b[38;5;241m-\u001b[39m\u001b[38;5;241m1\u001b[39m]\n\u001b[0;32m     23\u001b[0m     \u001b[38;5;66;03m#append to the array till you have atleast num_ave values\u001b[39;00m\n\u001b[0;32m     24\u001b[0m     \u001b[38;5;66;03m#once you have that, you can use it to get the running average\u001b[39;00m\n",
      "\u001b[1;31mKeyError\u001b[0m: -2"
     ]
    }
   ],
   "source": [
    "\"\"\"This is the camera setup to get the centroid values and to average over some\n",
    "number of images\"\"\"\n",
    "\n",
    "camera = GeecsDevice('CAM-HPD-CCD')\n",
    "camera.subscribe_var_values(['centroidx', 'centroidy'])\n",
    "#camera.get('centroidx')\n",
    "print(camera.state)\n",
    "\n",
    "#inititalizing a empty array to store the centroid values and use it for running mean of 10\n",
    "arr = []\n",
    "#this variable defines the number of images to average over\n",
    "num_ave = 10\n",
    "\n",
    "for i in range(50):\n",
    "    a = camera.state\n",
    "    print(a)\n",
    "    if len(a) > 3:\n",
    "        #print(a['HPD_CCD_centroidx'],a['HPD_CCD_centroidy'])\n",
    "        #get the x,y centroid values\n",
    "        x = a[-2]\n",
    "        y = a[-1]\n",
    "\n",
    "        #append to the array till you have atleast num_ave values\n",
    "        #once you have that, you can use it to get the running average\n",
    "        if len(arr)<num_ave:\n",
    "            arr.append([x,y])\n",
    "        else:\n",
    "            #This removes the first entry in the array\n",
    "            #Then it appends the latest value at the end\n",
    "            arr.remove(arr[0])\n",
    "            arr.append([x,y])\n",
    "            #print(i, np.mean(arr, axis = 0))\n",
    "    time.sleep(0.2)\n",
    "    \n",
    "camera.close"
   ]
  },
  {
   "cell_type": "code",
   "execution_count": 21,
   "id": "9a54cb79-1be6-48ee-a6a6-760b7ca5afb3",
   "metadata": {},
   "outputs": [
    {
     "data": {
      "text/plain": [
       "'HPD_CCD_centroidx'"
      ]
     },
     "execution_count": 21,
     "metadata": {},
     "output_type": "execute_result"
    }
   ],
   "source": [
    "list(a)[-2]"
   ]
  },
  {
   "cell_type": "code",
   "execution_count": 58,
   "id": "ba0d3603-5dc2-4978-a971-f246a7da7fec",
   "metadata": {},
   "outputs": [],
   "source": [
    "\"\"\"This function returns the calibration factor for one of the \n",
    "axis at a time. It is the ratio of the voltage difference between \n",
    "positions and the amount by which the centroid moved.\n",
    "\n",
    "Right now it requires that the lower and upper limit is defined\n",
    "lower_lim = lower value of the mount at which the centroid dissapears from the camera\n",
    "or the lower limit of the calibration you want to do\n",
    "\n",
    "same for the upper limit\n",
    "\n",
    "\"\"\"\n",
    "\n",
    "def calibrate(camera, mount,axis ,lower_lim, upper_lim):\n",
    "    if axis == \"x\":\n",
    "        mount.set('X_Voltage', lower_lim)\n",
    "        time.sleep(10)\n",
    "        lower_centroid = centroid[0]\n",
    "        mount.set('X_Voltage', upper_lim)\n",
    "        time.sleep(10)\n",
    "        upper_centroid = centroid[0]\n",
    "        calib = (upper_lim-lower_lim)/(upper_centroid - lower_centroid)\n",
    "\n",
    "    elif axis == \"y\":\n",
    "        mount.set('Y_Voltage', lower_lim)\n",
    "        time.sleep(10)\n",
    "        lower_centroid = centroid[1]\n",
    "        mount.set('Y_Voltage', upper_lim)\n",
    "        time.sleep(10)\n",
    "        upper_centroid = centroid[1]\n",
    "        calib = (upper_lim-lower_lim)/(upper_centroid - lower_centroid)\n",
    "\n",
    "    return(calib)\n",
    "    \n",
    "    "
   ]
  },
  {
   "cell_type": "code",
   "execution_count": 60,
   "id": "51d20014-9320-4ada-8954-231ebf0c8958",
   "metadata": {},
   "outputs": [
    {
     "name": "stdout",
     "output_type": "stream",
     "text": [
      "{'fresh': True, 'shot number': None, 'GEECS device error': False}\n"
     ]
    }
   ],
   "source": [
    "\"\"\"This function finds out the distance from the target and then calculates\n",
    "the amount of moves we need to do\"\"\"\n",
    "\n",
    "mount = GeecsDevice('')\n",
    "mount.subscribe_var_values(['x_voltage', 'y_voltage'])\n",
    "#camera.get('centroidx')\n",
    "print(mount.state)\n",
    "\n",
    "def steps_to_target(targetx, targety, mean):\n",
    "    stepx = (targetx - mean[0])*calibx\n",
    "    stepy = (targety - mean[1])*caliby\n",
    "    result_arr = [stepx, stepy]\n",
    "    return(result_arr)\n",
    "\n",
    "def move_to_target(step_arr):\n",
    "    mount.set('X_Voltage', step_arr[0])\n",
    "    mount.set('Y_Voltage', step_arr[1])\n",
    "    \n",
    "    "
   ]
  },
  {
   "cell_type": "code",
   "execution_count": 3,
   "id": "5fc941c9-7430-465d-b68a-16e69d1a0b4a",
   "metadata": {},
   "outputs": [],
   "source": [
    "import asyncio\n",
    "\n",
    "def async_mean_centroid_acq(camera):\n",
    "    \n",
    "    "
   ]
  }
 ],
 "metadata": {
  "kernelspec": {
   "display_name": "Python 3 (ipykernel)",
   "language": "python",
   "name": "python3"
  },
  "language_info": {
   "codemirror_mode": {
    "name": "ipython",
    "version": 3
   },
   "file_extension": ".py",
   "mimetype": "text/x-python",
   "name": "python",
   "nbconvert_exporter": "python",
   "pygments_lexer": "ipython3",
   "version": "3.12.3"
  }
 },
 "nbformat": 4,
 "nbformat_minor": 5
}
