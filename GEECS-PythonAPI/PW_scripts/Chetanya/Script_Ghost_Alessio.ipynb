{
 "cells": [
  {
   "cell_type": "code",
   "execution_count": 1,
   "id": "0b4db1da",
   "metadata": {},
   "outputs": [
    {
     "name": "stdout",
     "output_type": "stream",
     "text": [
      "path config ..\\..\\..\\..\\..\\user data\\Configurations.INI\n",
      "database name  loasis\n"
     ]
    }
   ],
   "source": [
    "# You should be able to just run the whole script to align\n",
    "# Just run all cells\n",
    "#this\n",
    "import os\n",
    "import yaml\n",
    "import time\n",
    "import numpy as np\n",
    "import pandas as pd\n",
    "import shelve\n",
    "import sys\n",
    "import random\n",
    "import matplotlib.pyplot as plt\n",
    "import scipy.stats as stats\n",
    "from scipy.optimize import fsolve\n",
    "sys.path.append('../../')\n",
    "from geecs_python_api.controls.interface import GeecsDatabase\n",
    "from geecs_python_api.controls.devices.geecs_device import GeecsDevice\n",
    "import csv\n",
    "# from geecs_python_api.controls.experiment.experiment import Experiment\n",
    "\n"
   ]
  },
  {
   "cell_type": "code",
   "execution_count": null,
   "id": "99d8cfe3-e866-4075-9a4f-89ee8e6226db",
   "metadata": {},
   "outputs": [],
   "source": [
    "GeecsDevice.exp_info = GeecsDatabase.collect_exp_info(\"ControlRoom\")\n",
    "\n",
    "ghost = GeecsDevice('CAM-CR-Beampointing2')\n",
    "print(ghost.get(\"image\"))"
   ]
  },
  {
   "cell_type": "code",
   "execution_count": 3,
   "id": "4c44ce7e-be70-43b4-b694-6c355f7c7a42",
   "metadata": {},
   "outputs": [
    {
     "name": "stdout",
     "output_type": "stream",
     "text": [
      "True\n",
      "{'fresh': True, 'shot number': None, 'GEECS device error': False}\n"
     ]
    },
    {
     "ename": "IndexError",
     "evalue": "list index out of range",
     "output_type": "error",
     "traceback": [
      "\u001b[1;31m---------------------------------------------------------------------------\u001b[0m",
      "\u001b[1;31mIndexError\u001b[0m                                Traceback (most recent call last)",
      "Cell \u001b[1;32mIn[3], line 12\u001b[0m\n\u001b[0;32m      9\u001b[0m \u001b[38;5;28mprint\u001b[39m(ghost\u001b[38;5;241m.\u001b[39mstate)\n\u001b[0;32m     11\u001b[0m items \u001b[38;5;241m=\u001b[39m \u001b[38;5;28mlist\u001b[39m(ghost\u001b[38;5;241m.\u001b[39mstate\u001b[38;5;241m.\u001b[39mitems())\n\u001b[1;32m---> 12\u001b[0m \u001b[38;5;28mprint\u001b[39m(items[\u001b[38;5;241m3\u001b[39m][\u001b[38;5;241m1\u001b[39m], \u001b[38;5;124m\"\u001b[39m\u001b[38;5;124mand\u001b[39m\u001b[38;5;124m\"\u001b[39m, items[\u001b[38;5;241m4\u001b[39m][\u001b[38;5;241m1\u001b[39m])\n",
      "\u001b[1;31mIndexError\u001b[0m: list index out of range"
     ]
    }
   ],
   "source": [
    "GeecsDevice.exp_info = GeecsDatabase.collect_exp_info(\"ControlRoom\")\n",
    "\n",
    "ghost = GeecsDevice('CAM-CR-Beampointing2')\n",
    "\n",
    "#print(ghost.get(\"centroidx\"))\n",
    "#print(ghost.get(\"centroidy\"))\n",
    "\n",
    "print(ghost.subscribe_var_values(['centroidx', 'centroidy']))\n",
    "print(ghost.state)\n",
    "\n",
    "items = list(ghost.state.items())\n",
    "print(items[3][1], \"and\", items[4][1])"
   ]
  },
  {
   "cell_type": "code",
   "execution_count": 5,
   "id": "3f72b817-589d-46ba-aff8-58ab0325fe97",
   "metadata": {},
   "outputs": [
    {
     "name": "stdout",
     "output_type": "stream",
     "text": [
      "Error:\n",
      "\tMessage: Failed to read UDP acknowledge message\n",
      "\tSource:  Class \"UdpHandler\", method \"ack_cmd\"\n",
      "Warning:\n",
      "\tMessage: Socket not ready to receive\n",
      "\tSource:  Class \"UdpHandler\", method \"ack_cmd\"\n",
      "Error:\n",
      "\tMessage: Failed to read UDP acknowledge message\n",
      "\tSource:  Class \"UdpHandler\", method \"ack_cmd\"\n"
     ]
    },
    {
     "ename": "KeyboardInterrupt",
     "evalue": "",
     "output_type": "error",
     "traceback": [
      "\u001b[1;31m---------------------------------------------------------------------------\u001b[0m",
      "\u001b[1;31mKeyboardInterrupt\u001b[0m                         Traceback (most recent call last)",
      "Cell \u001b[1;32mIn[5], line 11\u001b[0m\n\u001b[0;32m      8\u001b[0m writer\u001b[38;5;241m.\u001b[39mwriterow([\u001b[38;5;124m'\u001b[39m\u001b[38;5;124mLoop_Number\u001b[39m\u001b[38;5;124m'\u001b[39m, \u001b[38;5;124m'\u001b[39m\u001b[38;5;124mcentroidx\u001b[39m\u001b[38;5;124m'\u001b[39m, \u001b[38;5;124m'\u001b[39m\u001b[38;5;124mcentroidy\u001b[39m\u001b[38;5;124m'\u001b[39m])\n\u001b[0;32m     10\u001b[0m \u001b[38;5;28;01mfor\u001b[39;00m i \u001b[38;5;129;01min\u001b[39;00m \u001b[38;5;28mrange\u001b[39m(\u001b[38;5;241m10\u001b[39m):\n\u001b[1;32m---> 11\u001b[0m     \u001b[38;5;28mprint\u001b[39m(ghost\u001b[38;5;241m.\u001b[39mget(\u001b[38;5;124m\"\u001b[39m\u001b[38;5;124mcentroidx\u001b[39m\u001b[38;5;124m\"\u001b[39m))\n\u001b[0;32m     12\u001b[0m     centroidx \u001b[38;5;241m=\u001b[39m ghost\u001b[38;5;241m.\u001b[39mget(\u001b[38;5;124m\"\u001b[39m\u001b[38;5;124mcentroidx\u001b[39m\u001b[38;5;124m\"\u001b[39m)\n\u001b[0;32m     13\u001b[0m     \u001b[38;5;28mprint\u001b[39m(ghost\u001b[38;5;241m.\u001b[39mget(\u001b[38;5;124m\"\u001b[39m\u001b[38;5;124mcentroidy\u001b[39m\u001b[38;5;124m\"\u001b[39m))\n",
      "File \u001b[1;32mC:\\GEECS\\Developers Version\\source\\GEECS-Plugins\\GEECS-PythonAPI\\PW_scripts\\Chetanya\\../..\\geecs_python_api\\controls\\devices\\geecs_device.py:310\u001b[0m, in \u001b[0;36mGeecsDevice.get\u001b[1;34m(self, variable, exec_timeout, attempts_max, sync)\u001b[0m\n\u001b[0;32m    305\u001b[0m \u001b[38;5;28;01mdef\u001b[39;00m \u001b[38;5;21mget\u001b[39m(\u001b[38;5;28mself\u001b[39m, variable: \u001b[38;5;28mstr\u001b[39m, exec_timeout: Optional[\u001b[38;5;28mfloat\u001b[39m] \u001b[38;5;241m=\u001b[39m \u001b[38;5;241m5.0\u001b[39m, attempts_max: \u001b[38;5;28mint\u001b[39m \u001b[38;5;241m=\u001b[39m \u001b[38;5;241m5\u001b[39m, sync\u001b[38;5;241m=\u001b[39m\u001b[38;5;28;01mTrue\u001b[39;00m) \u001b[38;5;241m-\u001b[39m\u001b[38;5;241m>\u001b[39m Any:\n\u001b[0;32m    306\u001b[0m \u001b[38;5;250m    \u001b[39m\u001b[38;5;124;03m\"\"\"\u001b[39;00m\n\u001b[0;32m    307\u001b[0m \u001b[38;5;124;03m    if sync=True (default), returns updated state value\u001b[39;00m\n\u001b[0;32m    308\u001b[0m \u001b[38;5;124;03m    else, returns AsyncResult (tuple of \"queued\", \"cmd_label\", \"async_thread\")\u001b[39;00m\n\u001b[0;32m    309\u001b[0m \u001b[38;5;124;03m    \"\"\"\u001b[39;00m\n\u001b[1;32m--> 310\u001b[0m     ret \u001b[38;5;241m=\u001b[39m \u001b[38;5;28mself\u001b[39m\u001b[38;5;241m.\u001b[39m_execute(variable, \u001b[38;5;28;01mNone\u001b[39;00m, exec_timeout, attempts_max, sync)\n\u001b[0;32m    312\u001b[0m     \u001b[38;5;28;01mif\u001b[39;00m ret \u001b[38;5;129;01mand\u001b[39;00m sync:\n\u001b[0;32m    313\u001b[0m         \u001b[38;5;28;01mreturn\u001b[39;00m \u001b[38;5;28mself\u001b[39m\u001b[38;5;241m.\u001b[39m_state_value(variable)\n",
      "File \u001b[1;32mC:\\GEECS\\Developers Version\\source\\GEECS-Plugins\\GEECS-PythonAPI\\PW_scripts\\Chetanya\\../..\\geecs_python_api\\controls\\devices\\geecs_device.py:352\u001b[0m, in \u001b[0;36mGeecsDevice._execute\u001b[1;34m(self, variable, value, exec_timeout, attempts_max, sync)\u001b[0m\n\u001b[0;32m    349\u001b[0m     \u001b[38;5;28mself\u001b[39m\u001b[38;5;241m.\u001b[39mwait_for_all_cmds(timeout\u001b[38;5;241m=\u001b[39m\u001b[38;5;241m120.\u001b[39m)\n\u001b[0;32m    351\u001b[0m     \u001b[38;5;28;01mwith\u001b[39;00m GeecsDevice\u001b[38;5;241m.\u001b[39mthreads_lock:\n\u001b[1;32m--> 352\u001b[0m         \u001b[38;5;28mself\u001b[39m\u001b[38;5;241m.\u001b[39m_process_command(cmd_str, cmd_label, thread_info\u001b[38;5;241m=\u001b[39m(\u001b[38;5;28;01mNone\u001b[39;00m, \u001b[38;5;28;01mNone\u001b[39;00m), attempts_max\u001b[38;5;241m=\u001b[39mattempts_max)\n\u001b[0;32m    353\u001b[0m         \u001b[38;5;28mself\u001b[39m\u001b[38;5;241m.\u001b[39mdev_udp\u001b[38;5;241m.\u001b[39mcmd_checker\u001b[38;5;241m.\u001b[39mwait_for_exe(cmd_tag\u001b[38;5;241m=\u001b[39mcmd_label, timeout\u001b[38;5;241m=\u001b[39mexec_timeout, sync\u001b[38;5;241m=\u001b[39msync)\n\u001b[0;32m    355\u001b[0m \u001b[38;5;28;01melif\u001b[39;00m exec_timeout \u001b[38;5;241m>\u001b[39m \u001b[38;5;241m0\u001b[39m:\n",
      "File \u001b[1;32mC:\\GEECS\\Developers Version\\source\\GEECS-Plugins\\GEECS-PythonAPI\\PW_scripts\\Chetanya\\../..\\geecs_python_api\\controls\\devices\\geecs_device.py:574\u001b[0m, in \u001b[0;36mGeecsDevice._process_command\u001b[1;34m(self, cmd_str, cmd_label, thread_info, attempts_max)\u001b[0m\n\u001b[0;32m    572\u001b[0m sent \u001b[38;5;241m=\u001b[39m \u001b[38;5;28mself\u001b[39m\u001b[38;5;241m.\u001b[39mdev_udp\u001b[38;5;241m.\u001b[39msend_cmd(ipv4\u001b[38;5;241m=\u001b[39m(\u001b[38;5;28mself\u001b[39m\u001b[38;5;241m.\u001b[39mdev_ip, \u001b[38;5;28mself\u001b[39m\u001b[38;5;241m.\u001b[39mdev_port), msg\u001b[38;5;241m=\u001b[39mcmd_str)\n\u001b[0;32m    573\u001b[0m \u001b[38;5;28;01mif\u001b[39;00m sent:\n\u001b[1;32m--> 574\u001b[0m     accepted \u001b[38;5;241m=\u001b[39m \u001b[38;5;28mself\u001b[39m\u001b[38;5;241m.\u001b[39mdev_udp\u001b[38;5;241m.\u001b[39mack_cmd(timeout\u001b[38;5;241m=\u001b[39m\u001b[38;5;241m5.0\u001b[39m)\n\u001b[0;32m    575\u001b[0m \u001b[38;5;28;01melse\u001b[39;00m:\n\u001b[0;32m    576\u001b[0m     time\u001b[38;5;241m.\u001b[39msleep(\u001b[38;5;241m0.1\u001b[39m)\n",
      "File \u001b[1;32mC:\\GEECS\\Developers Version\\source\\GEECS-Plugins\\GEECS-PythonAPI\\PW_scripts\\Chetanya\\../..\\geecs_python_api\\controls\\interface\\udp_handler.py:83\u001b[0m, in \u001b[0;36mUdpHandler.ack_cmd\u001b[1;34m(self, sock, timeout)\u001b[0m\n\u001b[0;32m     80\u001b[0m     sock \u001b[38;5;241m=\u001b[39m \u001b[38;5;28mself\u001b[39m\u001b[38;5;241m.\u001b[39msock_cmd\n\u001b[0;32m     82\u001b[0m \u001b[38;5;28;01mtry\u001b[39;00m:\n\u001b[1;32m---> 83\u001b[0m     ready \u001b[38;5;241m=\u001b[39m select\u001b[38;5;241m.\u001b[39mselect([sock], [], [], timeout)\n\u001b[0;32m     84\u001b[0m     \u001b[38;5;28;01mif\u001b[39;00m ready[\u001b[38;5;241m0\u001b[39m]:\n\u001b[0;32m     85\u001b[0m         geecs_str \u001b[38;5;241m=\u001b[39m sock\u001b[38;5;241m.\u001b[39mrecv(\u001b[38;5;28mself\u001b[39m\u001b[38;5;241m.\u001b[39mbuffer_size)\n",
      "\u001b[1;31mKeyboardInterrupt\u001b[0m: "
     ]
    }
   ],
   "source": [
    "GeecsDevice.exp_info = GeecsDatabase.collect_exp_info(\"Bella\")\n",
    "\n",
    "ghost = GeecsDevice('CAM-1BL-Ghost')\n",
    "filename = 'hello.csv'\n",
    "\n",
    "with open(filename, mode ='w', newline ='') as file:\n",
    "    writer = csv.writer(file)\n",
    "    writer.writerow(['Loop_Number', 'centroidx', 'centroidy'])\n",
    "    \n",
    "    for i in range(10):\n",
    "        print(ghost.get(\"centroidx\"))\n",
    "        centroidx = ghost.get(\"centroidx\")\n",
    "        print(ghost.get(\"centroidy\"))\n",
    "        centroidy = ghost.get(\"centroidy\")\n",
    "        writer.writerow([i+1, centroidx, centroidy])\n",
    "        time.sleep(1)"
   ]
  },
  {
   "cell_type": "code",
   "execution_count": null,
   "id": "04022abf-3fb0-4cc3-b42f-595be6e18de3",
   "metadata": {},
   "outputs": [],
   "source": []
  }
 ],
 "metadata": {
  "kernelspec": {
   "display_name": "Python 3 (ipykernel)",
   "language": "python",
   "name": "python3"
  },
  "language_info": {
   "codemirror_mode": {
    "name": "ipython",
    "version": 3
   },
   "file_extension": ".py",
   "mimetype": "text/x-python",
   "name": "python",
   "nbconvert_exporter": "python",
   "pygments_lexer": "ipython3",
   "version": "3.12.3"
  }
 },
 "nbformat": 4,
 "nbformat_minor": 5
}
