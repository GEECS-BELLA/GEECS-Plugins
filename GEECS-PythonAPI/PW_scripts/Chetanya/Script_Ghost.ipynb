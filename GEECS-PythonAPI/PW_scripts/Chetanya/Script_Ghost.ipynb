{
 "cells": [
  {
   "cell_type": "code",
   "execution_count": 1,
   "id": "0b4db1da",
   "metadata": {},
   "outputs": [
    {
     "name": "stdout",
     "output_type": "stream",
     "text": [
      "path config ..\\..\\..\\..\\..\\user data\\Configurations.INI\n",
      "database name  loasis\n"
     ]
    }
   ],
   "source": [
    "# You should be able to just run the whole script to align\n",
    "# Just run all cells\n",
    "#this\n",
    "import os\n",
    "import yaml\n",
    "import time\n",
    "import numpy as np\n",
    "import pandas as pd\n",
    "import shelve\n",
    "import sys\n",
    "import random\n",
    "import matplotlib.pyplot as plt\n",
    "import scipy.stats as stats\n",
    "from scipy.optimize import fsolve\n",
    "sys.path.append('../../')\n",
    "from geecs_python_api.controls.interface import GeecsDatabase\n",
    "from geecs_python_api.controls.devices.geecs_device import GeecsDevice\n",
    "import csv\n",
    "# from geecs_python_api.controls.experiment.experiment import Experiment\n",
    "\n"
   ]
  },
  {
   "cell_type": "code",
   "execution_count": 15,
   "id": "4c44ce7e-be70-43b4-b694-6c355f7c7a42",
   "metadata": {},
   "outputs": [
    {
     "name": "stdout",
     "output_type": "stream",
     "text": [
      "307.389008\n",
      "268.360596\n",
      "True\n",
      "{'fresh': True, 'shot number': None, 'GEECS device error': False, '1BLghostCentroidX': 307.389008, '1BLghostCentroidY': 268.360596}\n",
      "307.389008 and 268.360596\n",
      "307.389008 and 268.360596\n",
      "307.389008 and 268.360596\n",
      "308.430969 and 268.711151\n",
      "308.430969 and 268.711151\n",
      "307.195709 and 267.720795\n",
      "307.195709 and 267.720795\n",
      "307.045715 and 267.600525\n",
      "307.045715 and 267.600525\n",
      "307.594666 and 268.040649\n"
     ]
    }
   ],
   "source": [
    "GeecsDevice.exp_info = GeecsDatabase.collect_exp_info(\"Bella\")\n",
    "\n",
    "ghost = GeecsDevice('CAM-1BL-Ghost')\n",
    "\n",
    "print(ghost.get(\"centroidx\"))\n",
    "print(ghost.get(\"centroidy\"))\n",
    "\n",
    "print(ghost.subscribe_var_values(['centroidx', 'centroidy']))\n",
    "print(ghost.state)\n",
    "\n",
    "for i in range(10):\n",
    "    items = list(ghost.state.items())\n",
    "    print(items[3][1], \"and\", items[4][1])\n",
    "    time.sleep(1)"
   ]
  },
  {
   "cell_type": "code",
   "execution_count": 23,
   "id": "3f72b817-589d-46ba-aff8-58ab0325fe97",
   "metadata": {},
   "outputs": [
    {
     "name": "stdout",
     "output_type": "stream",
     "text": [
      "306.557922\n",
      "267.220795\n",
      "308.186493\n",
      "267.032104\n",
      "309.369934\n",
      "267.804626\n",
      "306.612274\n",
      "267.49057\n",
      "307.00647\n",
      "267.91629\n",
      "308.23761\n",
      "268.11026\n",
      "306.80954\n",
      "267.762177\n",
      "307.070648\n",
      "266.922455\n",
      "308.147461\n",
      "268.373749\n",
      "308.726074\n",
      "267.662567\n"
     ]
    }
   ],
   "source": [
    "GeecsDevice.exp_info = GeecsDatabase.collect_exp_info(\"Bella\")\n",
    "\n",
    "ghost = GeecsDevice('CAM-1BL-Ghost')\n",
    "filename = 'hello.csv'\n",
    "\n",
    "with open(filename, mode ='w', newline ='') as file:\n",
    "    writer = csv.writer(file)\n",
    "    writer.writerow(['Loop_Number', 'centroidx', 'centroidy'])\n",
    "    \n",
    "    for i in range(10):\n",
    "        print(ghost.get(\"centroidx\"))\n",
    "        centroidx = ghost.get(\"centroidx\")\n",
    "        print(ghost.get(\"centroidy\"))\n",
    "        centroidy = ghost.get(\"centroidy\")\n",
    "        writer.writerow([i+1, centroidx, centroidy])\n",
    "        #time.sleep(1)"
   ]
  },
  {
   "cell_type": "code",
   "execution_count": null,
   "id": "04022abf-3fb0-4cc3-b42f-595be6e18de3",
   "metadata": {},
   "outputs": [],
   "source": []
  }
 ],
 "metadata": {
  "kernelspec": {
   "display_name": "Python 3 (ipykernel)",
   "language": "python",
   "name": "python3"
  },
  "language_info": {
   "codemirror_mode": {
    "name": "ipython",
    "version": 3
   },
   "file_extension": ".py",
   "mimetype": "text/x-python",
   "name": "python",
   "nbconvert_exporter": "python",
   "pygments_lexer": "ipython3",
   "version": "3.12.3"
  }
 },
 "nbformat": 4,
 "nbformat_minor": 5
}
