{
 "cells": [
  {
   "cell_type": "code",
   "execution_count": 11,
   "id": "7cc4e0b5-e37c-479f-931e-fe66bd40c289",
   "metadata": {},
   "outputs": [],
   "source": [
    "import tkinter as tk\n",
    "\n",
    "r=tk.Tk()\n",
    "\n",
    "r.title('Hello')\n",
    "\n",
    "button = tk.Button(r, text = \"Stop\", width = 24, command = r.destroy)\n",
    "\n",
    "button.pack()\n",
    "r.mainloop()"
   ]
  },
  {
   "cell_type": "code",
   "execution_count": null,
   "id": "f50a3842-656c-453b-b810-edbb3bb049fd",
   "metadata": {},
   "outputs": [],
   "source": []
  },
  {
   "cell_type": "code",
   "execution_count": null,
   "id": "8b097974-fb7f-4d08-980c-c776fecd0d04",
   "metadata": {},
   "outputs": [],
   "source": []
  }
 ],
 "metadata": {
  "kernelspec": {
   "display_name": "Python 3 (ipykernel)",
   "language": "python",
   "name": "python3"
  },
  "language_info": {
   "codemirror_mode": {
    "name": "ipython",
    "version": 3
   },
   "file_extension": ".py",
   "mimetype": "text/x-python",
   "name": "python",
   "nbconvert_exporter": "python",
   "pygments_lexer": "ipython3",
   "version": "3.12.3"
  }
 },
 "nbformat": 4,
 "nbformat_minor": 5
}
