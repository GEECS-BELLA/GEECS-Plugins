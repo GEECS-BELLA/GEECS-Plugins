{
 "cells": [
  {
   "cell_type": "code",
   "execution_count": 1,
   "id": "20fec5f6",
   "metadata": {
    "tags": []
   },
   "outputs": [],
   "source": [
    "import os\n",
    "import yaml\n",
    "import time\n",
    "import numpy as np\n",
    "import pandas as pd\n",
    "import shelve\n",
    "import sys\n",
    "sys.path.append('../')\n",
    "from geecs_python_api.controls.interface import GeecsDatabase\n",
    "from geecs_python_api.controls.devices.geecs_device import GeecsDevice\n",
    "\n",
    "GeecsDevice.exp_info = GeecsDatabase.collect_exp_info(\"Bella\")"
   ]
  },
  {
   "cell_type": "code",
   "execution_count": null,
   "id": "513a07bb",
   "metadata": {
    "tags": []
   },
   "outputs": [],
   "source": [
    "# set up the python objects for the geecs devices to be used in optimization\n",
    "dev1 = GeecsDevice('HEX-PL1-2')\n",
    "\n",
    "# define a dict containing the specific variables and bounds to be used in optimization\n",
    "objs={'var1':{\"GEECS_Object\":dev1,'variable':\"ypos\",\"bounds\":[4.45,4.65]},\n",
    "    'var2':{\"GEECS_Object\":dev1,'variable':\"xpos\",\"bounds\":[-0.67,-0.47]}}\n",
    "\n",
    "\n",
    "#define whether or not to use normalized values and ranges for optimization controls. \n",
    "#Normalization seems like a good idea\n",
    "normalize=True\n",
    "\n",
    "#for opt method, choose nelder or bayes for now\n",
    "opt_method='bayes'"
   ]
  },
  {
   "cell_type": "code",
   "execution_count": null,
   "id": "a67bb9ac",
   "metadata": {
    "tags": []
   },
   "outputs": [],
   "source": [
    "#define the xopt configuration\n",
    "YAML = \"\"\"\n",
    "xopt:\n",
    "    dump_file: dump.yaml\n",
    "generator:\n",
    "    name:\n",
    "evaluator:\n",
    "    function: __main__.geecs_measurement\n",
    "\n",
    "vocs:\n",
    "    variables:\n",
    "        {}\n",
    "    objectives: {f: \"MAXIMIZE\"}\n",
    "\n",
    "\"\"\"\n",
    "\n",
    "yaml_output = yaml.safe_load(YAML)\n",
    "\n",
    "if opt_method == 'bayes':\n",
    "    yaml_output['generator']['name'] = 'upper_confidence_bound'\n",
    "    yaml_output['generator']['n_initial'] = 2\n",
    "    yaml_output['generator']['acq'] = {'beta':0.1}\n",
    "    yaml_output['xopt']['dump_file'] = 'bayes.yaml'\n",
    "elif opt_method == 'nelder':\n",
    "    yaml_output['generator']['name'] = 'neldermead'\n",
    "    yaml_output['generator']['adaptive'] = True\n",
    "    yaml_output['generator']['xatol'] = 0.01\n",
    "    yaml_output['generator']['fatol'] = 0.005\n",
    "    yaml_output['generator']['initial_point'] = { \"var1\": 4.55,\"var2\": -0.57}\n",
    "    yaml_output['xopt']['dump_file'] = 'nelder.yaml'\n",
    "\n",
    "#define some functions to normalize/unnormalize real variables to [-1,1]\n",
    "def unnormalize_var(obj,val):\n",
    "    range=objs[obj]['bounds'][1]-objs[obj]['bounds'][0]\n",
    "    offset=objs[obj]['bounds'][0]\n",
    "    new_val=(val/2+0.5)*range+offset\n",
    "    return new_val\n",
    "\n",
    "def normalize_var(obj,val):\n",
    "    range=objs[obj]['bounds'][1]-objs[obj]['bounds'][0]\n",
    "    offset=objs[obj]['bounds'][0]\n",
    "    new_val=((val - offset)/range - 0.5)*2\n",
    "    return new_val\n",
    "    \n",
    "\n",
    "for tag in objs.keys():\n",
    "    yaml_output['vocs']['variables'][tag]=objs[tag]['bounds']\n",
    "    \n",
    "if normalize:\n",
    "    for tag in objs.keys():\n",
    "        yaml_output['vocs']['variables'][tag]=[-1.0,1.0]\n",
    "    keys = yaml_output['vocs']['variables'].keys()\n",
    "    \n",
    "\n",
    "if yaml_output['generator']['name']=='neldermead':\n",
    "    if normalize:\n",
    "        initial_point = yaml_output['generator']['initial_point']\n",
    "\n",
    "        normalized_initial_point = {}\n",
    "        for key in keys:\n",
    "            normalized_initial_point[key] = normalize_var(key, initial_point[key])\n",
    "\n",
    "        yaml_output['generator']['initial_point'] = normalized_initial_point\n",
    "\n",
    "print(yaml_output)"
   ]
  },
  {
   "cell_type": "code",
   "execution_count": null,
   "id": "940079ca",
   "metadata": {
    "tags": []
   },
   "outputs": [],
   "source": [
    "# #simulate transmission of blue diode through PMQ triplet\n",
    "# import numpy as np\n",
    "\n",
    "# optPosition = np.array([18.45, 0.6])\n",
    "# numParts = 200000\n",
    "\n",
    "# startDist = np.transpose([\n",
    "#     np.random.normal(optPosition[0], 0.4, numParts),\n",
    "#     np.random.normal(optPosition[1], 0.4, numParts)\n",
    "# ])\n",
    "\n",
    "# def calcTransmission(input_dict):\n",
    "#     center1 = [input_dict['HexY'], input_dict['HexZ']]\n",
    "#     separation = 15\n",
    "\n",
    "#     center2 = [input_dict['HexY'], input_dict['HexZ']]\n",
    "#     rotw = np.pi / 180 * (input_dict['HexW'] + 0.15) * 4\n",
    "#     rotv = np.pi / 180 * (input_dict['HexV'] + 0.25) * 4\n",
    "\n",
    "#     yOffset = separation * np.tan(rotw)\n",
    "#     zOffset = separation * np.tan(rotv)\n",
    "\n",
    "#     center2[0] = center2[0] + yOffset\n",
    "#     center2[1] = center2[1] + zOffset\n",
    "\n",
    "#     dist = startDist[\n",
    "#         (np.sqrt((startDist[:, 0] - center1[0])**2 + (startDist[:, 1] - center1[1])**2) < 0.2) &\n",
    "#         (np.sqrt((startDist[:, 0] - center2[0])**2 + (startDist[:, 1] - center2[1])**2) < 0.2)\n",
    "#     ]\n",
    "\n",
    "#     return len(dist) / numParts"
   ]
  },
  {
   "cell_type": "code",
   "execution_count": null,
   "id": "39190ce2",
   "metadata": {
    "tags": []
   },
   "outputs": [],
   "source": [
    "ObjFunc=GeecsDevice('CAM-HPD-CCD')\n",
    "ObjFunc.get(\"maxcounts\")\n",
    "def geecs_measurement(input_dict):\n",
    "    for i in list(input_dict.keys()):\n",
    "        set_val=float(input_dict[i])\n",
    "        if normalize:\n",
    "            set_val=unnormalize_var(i,set_val)\n",
    "        \n",
    "        print('set '+str(i)+' to '+str(set_val))\n",
    "        \n",
    "        #line below executes the set commands.\n",
    "        #objs[i][\"GEECS_Object\"].set(objs[i][\"variable\"],set_val)\n",
    "        time.sleep(0)\n",
    "        \n",
    "    if normalize:\n",
    "        setpoint = {}\n",
    "        for key in input_dict:\n",
    "            setpoint[key] = unnormalize_var(key, input_dict[key])\n",
    "    else:\n",
    "        setpoint=input_dict\n",
    "        \n",
    "    print(setpoint)\n",
    "    \n",
    "    outs=[]\n",
    "    counter=0\n",
    "    while counter<5:\n",
    "        #val=simulate_objective(input_dict)\n",
    "        val=ObjFunc.get(\"maxcounts\")\n",
    "        outs.append(val)\n",
    "        counter=counter+1\n",
    "        \n",
    "    print(outs)\n",
    "\n",
    "# this one is good for aligning to a crosshair\n",
    "    return {'f': abs(np.median(outs))}\n"
   ]
  },
  {
   "cell_type": "code",
   "execution_count": null,
   "id": "23dd5258",
   "metadata": {
    "tags": []
   },
   "outputs": [],
   "source": [
    "if opt_method == 'nelder':\n",
    "    geecs_measurement(yaml_output['generator']['initial_point'])"
   ]
  },
  {
   "cell_type": "code",
   "execution_count": null,
   "id": "43b8d4c1",
   "metadata": {
    "tags": []
   },
   "outputs": [],
   "source": [
    "from xopt.evaluator import Evaluator\n",
    "from xopt.generators.bayesian import ExpectedImprovementGenerator\n",
    "from xopt import Xopt\n",
    "\n",
    "X = Xopt(config=yaml_output)\n",
    "X"
   ]
  },
  {
   "cell_type": "code",
   "execution_count": null,
   "id": "a87dcbf5",
   "metadata": {
    "tags": []
   },
   "outputs": [],
   "source": [
    "if opt_method == 'bayes':\n",
    "    # print initial number of points to be generated\n",
    "    print(X.generator.options.n_initial)\n",
    "\n",
    "    # call X.step() to generate + evaluate initial points\n",
    "    X.step()\n",
    "\n",
    "    # inspect the gathered data\n",
    "    X.data\n",
    "\n",
    "import torch\n",
    "import matplotlib.pyplot as plt\n",
    "n_steps = 50\n",
    "\n",
    "for i in range(n_steps):\n",
    "    print('step'+str(i))\n",
    "    X.step()\n"
   ]
  },
  {
   "cell_type": "code",
   "execution_count": null,
   "id": "01052702",
   "metadata": {
    "scrolled": true
   },
   "outputs": [],
   "source": [
    "X.data"
   ]
  },
  {
   "cell_type": "code",
   "execution_count": null,
   "id": "4e70478c",
   "metadata": {},
   "outputs": [],
   "source": [
    "import matplotlib.pyplot as plt\n",
    "X.data['f'].plot(marker='.')\n",
    "plt.yscale('log')\n",
    "plt.xlabel('iteration')\n",
    "plt.ylabel('Rosenbrock value')\n",
    "best=dict(X.data.iloc[X.data[\"f\"].argmax()]);\n",
    "\n",
    "if normalize:\n",
    "    for key in yaml_output['vocs']['variables'].keys():\n",
    "        best[key] = unnormalize_var(key, best[key])\n",
    "\n",
    "best"
   ]
  },
  {
   "cell_type": "code",
   "execution_count": null,
   "id": "cd7da062",
   "metadata": {},
   "outputs": [],
   "source": []
  },
  {
   "cell_type": "code",
   "execution_count": null,
   "id": "3b7661ab",
   "metadata": {},
   "outputs": [],
   "source": []
  }
 ],
 "metadata": {
  "kernelspec": {
   "display_name": "Python 3 (ipykernel)",
   "language": "python",
   "name": "python3"
  },
  "language_info": {
   "codemirror_mode": {
    "name": "ipython",
    "version": 3
   },
   "file_extension": ".py",
   "mimetype": "text/x-python",
   "name": "python",
   "nbconvert_exporter": "python",
   "pygments_lexer": "ipython3",
   "version": "3.11.5"
  }
 },
 "nbformat": 4,
 "nbformat_minor": 5
}
