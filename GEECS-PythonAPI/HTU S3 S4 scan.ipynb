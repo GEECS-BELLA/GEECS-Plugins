{
 "cells": [
  {
   "cell_type": "code",
   "execution_count": 1,
   "metadata": {},
   "outputs": [],
   "source": [
    "import time\n",
    "import numpy as np\n",
    "from GEECSPythonAPI import GEECSDevice\n",
    "from GEECSPythonAPI import ExperimentControl\n",
    "\n",
    "import socket\n",
    "import os\n",
    "import datetime\n",
    "    "
   ]
  },
  {
   "cell_type": "code",
   "execution_count": 23,
   "metadata": {},
   "outputs": [
    {
     "name": "stdout",
     "output_type": "stream",
     "text": [
      "55075\n",
      "55077\n",
      "55079\n",
      "55081\n",
      "b'U_S3H>>getCurrent>>-0.699100>>no error,'\n",
      "b'U_S3V>>getCurrent>>0.200870>>no error,'\n",
      "b'U_S4H>>getCurrent>>0.999940>>no error,'\n",
      "b'U_S4V>>getCurrent>>-0.696040>>no error,'\n"
     ]
    }
   ],
   "source": [
    "HTU=ExperimentControl()\n",
    "\n",
    "##List of of device names\n",
    "caenSteeringMagnetsNames=[\"U_S3H\",\"U_S3V\",\"U_S4H\",\"U_S4V\"]\n",
    "caenSteeringMagnets=dict({})\n",
    "\n",
    "#loop to make a dict of initialized device objects\n",
    "for name in caenSteeringMagnetsNames:\n",
    "    caenSteeringMagnets[name]=GEECSDevice(device_name=name)\n",
    "    caenSteeringMagnets[name].device_initialize()\n",
    "\n",
    "#define the range over which to scan the magnets in amps\n",
    "current_variation=np.linspace(-0.2,0.2,3)\n",
    "\n",
    "#define reference points using the current values on the magnets\n",
    "reference_points=[]\n",
    "for name in caenSteeringMagnetsNames:\n",
    "    reference_points.append(float(caenSteeringMagnets[name].get_and_wait_udp('Current')))\n",
    "\n",
    "#a function to offset the beam from a reference position by a given amount\n",
    "def beam_offset(direction,amount):\n",
    "    if direction=='horizontal':\n",
    "        caenSteeringMagnets['U_S3H'].set_and_wait_udp('Current',reference_points[0]+amount)\n",
    "        time.sleep(0.5)\n",
    "        caenSteeringMagnets['U_S4H'].set_and_wait_udp('Current',reference_points[2]-amount)\n",
    "        time.sleep(0.5)\n",
    "    \n",
    "    if direction=='vertical':\n",
    "        caenSteeringMagnets['U_S3V'].set_and_wait_udp('Current',reference_points[1]+amount)\n",
    "        time.sleep(0.5)\n",
    "        caenSteeringMagnets['U_S4V'].set_and_wait_udp('Current',reference_points[3]-amount)\n",
    "        time.sleep(0.5)"
   ]
  },
  {
   "cell_type": "code",
   "execution_count": 24,
   "metadata": {},
   "outputs": [
    {
     "name": "stdout",
     "output_type": "stream",
     "text": [
      "horizontal offset: -0.2\n",
      "vertical offset: -0.2\n",
      "b'U_S3H>>getCurrent>>-0.898900>>no error,'\n",
      "b'U_S3V>>getCurrent>>0.000940>>no error,'\n",
      "b'U_S4H>>getCurrent>>1.200050>>no error,'\n",
      "b'U_S4V>>getCurrent>>-0.495900>>no error,'\n",
      "[-0.8989, 0.00094, 1.20005, -0.4959]\n",
      "vertical offset: 0.0\n",
      "b'U_S3H>>getCurrent>>-0.898900>>no error,'\n",
      "b'U_S3V>>getCurrent>>0.200870>>no error,'\n",
      "b'U_S4H>>getCurrent>>1.200050>>no error,'\n",
      "b'U_S4V>>getCurrent>>-0.695810>>no error,'\n",
      "[-0.8989, 0.20087, 1.20005, -0.69581]\n",
      "vertical offset: 0.2\n",
      "b'U_S3H>>getCurrent>>-0.898900>>no error,'\n",
      "b'U_S3V>>getCurrent>>0.400810>>no error,'\n",
      "b'U_S4H>>getCurrent>>1.200050>>no error,'\n",
      "b'U_S4V>>getCurrent>>-0.895720>>no error,'\n",
      "[-0.8989, 0.40081, 1.20005, -0.89572]\n",
      "horizontal offset: 0.0\n",
      "vertical offset: -0.2\n",
      "b'U_S3H>>getCurrent>>-0.698870>>no error,'\n",
      "b'U_S3V>>getCurrent>>0.000940>>no error,'\n",
      "b'U_S4H>>getCurrent>>0.999940>>no error,'\n",
      "b'U_S4V>>getCurrent>>-0.495900>>no error,'\n",
      "[-0.69887, 0.00094, 0.99994, -0.4959]\n",
      "vertical offset: 0.0\n",
      "b'U_S3H>>getCurrent>>-0.698870>>no error,'\n",
      "b'U_S3V>>getCurrent>>0.200870>>no error,'\n",
      "b'U_S4H>>getCurrent>>0.999940>>no error,'\n",
      "b'U_S4V>>getCurrent>>-0.695810>>no error,'\n",
      "[-0.69887, 0.20087, 0.99994, -0.69581]\n",
      "vertical offset: 0.2\n",
      "b'U_S3H>>getCurrent>>-0.698870>>no error,'\n",
      "b'U_S3V>>getCurrent>>0.400810>>no error,'\n",
      "b'U_S4H>>getCurrent>>0.999940>>no error,'\n",
      "b'U_S4V>>getCurrent>>-0.895720>>no error,'\n",
      "[-0.69887, 0.40081, 0.99994, -0.89572]\n",
      "horizontal offset: 0.2\n",
      "vertical offset: -0.2\n",
      "b'U_S3H>>getCurrent>>-0.498830>>no error,'\n",
      "b'U_S3V>>getCurrent>>0.000940>>no error,'\n",
      "b'U_S4H>>getCurrent>>0.799840>>no error,'\n",
      "b'U_S4V>>getCurrent>>-0.495900>>no error,'\n",
      "[-0.49883, 0.00094, 0.79984, -0.4959]\n",
      "vertical offset: 0.0\n",
      "b'U_S3H>>getCurrent>>-0.498830>>no error,'\n",
      "b'U_S3V>>getCurrent>>0.200870>>no error,'\n",
      "b'U_S4H>>getCurrent>>0.799840>>no error,'\n",
      "b'U_S4V>>getCurrent>>-0.695810>>no error,'\n",
      "[-0.49883, 0.20087, 0.79984, -0.69581]\n",
      "vertical offset: 0.2\n",
      "b'U_S3H>>getCurrent>>-0.498830>>no error,'\n",
      "b'U_S3V>>getCurrent>>0.400810>>no error,'\n",
      "b'U_S4H>>getCurrent>>0.799840>>no error,'\n",
      "b'U_S4V>>getCurrent>>-0.895720>>no error,'\n",
      "[-0.49883, 0.40081, 0.79984, -0.89572]\n"
     ]
    }
   ],
   "source": [
    "\n",
    "for i in current_variation:\n",
    "    print('horizontal offset: '+str(i))\n",
    "    for j in current_variation:\n",
    "        print('vertical offset: '+str(j))\n",
    "        beam_offset('horizontal',i)\n",
    "        beam_offset('vertical',j)\n",
    "        current_values=[]\n",
    "        for name in caenSteeringMagnetsNames:\n",
    "            current_values.append(float(caenSteeringMagnets[name].get_and_wait_udp('Current')))\n",
    "        print(current_values)\n",
    "        \n",
    "        #uncomment below to run a no scan\n",
    "        #run_scan('s3 s4 2D scan')\n",
    "    \n",
    "beam_offset('horizontal',0)\n",
    "beam_offset('vertical',0)     "
   ]
  },
  {
   "cell_type": "code",
   "execution_count": null,
   "metadata": {},
   "outputs": [],
   "source": []
  },
  {
   "cell_type": "code",
   "execution_count": null,
   "metadata": {},
   "outputs": [],
   "source": []
  },
  {
   "cell_type": "code",
   "execution_count": null,
   "metadata": {},
   "outputs": [],
   "source": []
  },
  {
   "cell_type": "code",
   "execution_count": null,
   "metadata": {},
   "outputs": [],
   "source": []
  }
 ],
 "metadata": {
  "kernelspec": {
   "display_name": "Python 3",
   "language": "python",
   "name": "python3"
  },
  "language_info": {
   "codemirror_mode": {
    "name": "ipython",
    "version": 3
   },
   "file_extension": ".py",
   "mimetype": "text/x-python",
   "name": "python",
   "nbconvert_exporter": "python",
   "pygments_lexer": "ipython3",
   "version": "3.7.3"
  }
 },
 "nbformat": 4,
 "nbformat_minor": 4
}
