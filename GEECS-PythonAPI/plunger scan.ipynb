{
 "cells": [
  {
   "cell_type": "code",
   "execution_count": 3,
   "metadata": {},
   "outputs": [],
   "source": [
    "import time\n",
    "import numpy as np\n",
    "from GEECSPythonAPI import GEECSDevice"
   ]
  },
  {
   "cell_type": "code",
   "execution_count": 10,
   "metadata": {},
   "outputs": [
    {
     "name": "stdout",
     "output_type": "stream",
     "text": [
      "53720\n",
      "54083\n"
     ]
    },
    {
     "ename": "AttributeError",
     "evalue": "'GEECSDevice' object has no attribute 'close'",
     "output_type": "error",
     "traceback": [
      "\u001b[0;31m---------------------------------------------------------------------------\u001b[0m",
      "\u001b[0;31mAttributeError\u001b[0m                            Traceback (most recent call last)",
      "\u001b[0;32m/var/folders/nw/9r6cgfp912gbw8jl8fq0wsjc0000gn/T/ipykernel_72650/488805945.py\u001b[0m in \u001b[0;36m<module>\u001b[0;34m\u001b[0m\n\u001b[1;32m      6\u001b[0m \u001b[0mplc_dev\u001b[0m\u001b[0;34m.\u001b[0m\u001b[0mset_and_wait_udp\u001b[0m\u001b[0;34m(\u001b[0m\u001b[0;34m\"DO.Ch18\"\u001b[0m\u001b[0;34m,\u001b[0m\u001b[0;34m\"on\"\u001b[0m\u001b[0;34m)\u001b[0m\u001b[0;34m\u001b[0m\u001b[0;34m\u001b[0m\u001b[0m\n\u001b[1;32m      7\u001b[0m \u001b[0;34m\u001b[0m\u001b[0m\n\u001b[0;32m----> 8\u001b[0;31m \u001b[0mplc_dev\u001b[0m\u001b[0;34m.\u001b[0m\u001b[0mclose\u001b[0m\u001b[0;34m(\u001b[0m\u001b[0;34m)\u001b[0m\u001b[0;34m\u001b[0m\u001b[0;34m\u001b[0m\u001b[0m\n\u001b[0m",
      "\u001b[0;31mAttributeError\u001b[0m: 'GEECSDevice' object has no attribute 'close'"
     ]
    }
   ],
   "source": [
    "plc_dev=GEECSDevice(device_name='U_PLC')\n",
    "plc_dev.device_initialize()\n",
    "visa_plunger=GEECSDevice(device_name='U_VisaPlungers')\n",
    "visa_plunger.device_initialize()\n",
    "\n",
    "plc_dev.set_and_wait_udp(\"DO.Ch18\",\"on\")\n",
    "\n"
   ]
  },
  {
   "cell_type": "code",
   "execution_count": 15,
   "metadata": {},
   "outputs": [
    {
     "data": {
      "text/plain": [
       "43"
      ]
     },
     "execution_count": 15,
     "metadata": {},
     "output_type": "execute_result"
    }
   ],
   "source": [
    "import socket\n",
    "mc_udp = socket.socket(socket.AF_INET, # Internet\n",
    "                    socket.SOCK_DGRAM) # UDP\n",
    "mc_udp.settimeout(5)\n",
    "# get the port number used for the UDP command\n",
    "mc_udp.bind(('', 0))\n",
    "info = mc_udp.getsockname()[1]\n",
    "\n",
    "MESSAGE=\"ScanStart>>whatever scan info text you want\".encode('ascii')\n",
    "mc_udp.sendto(MESSAGE, ('192.168.7.203', 61559))"
   ]
  },
  {
   "cell_type": "code",
   "execution_count": null,
   "metadata": {},
   "outputs": [],
   "source": []
  }
 ],
 "metadata": {
  "kernelspec": {
   "display_name": "Python 3 (ipykernel)",
   "language": "python",
   "name": "python3"
  },
  "language_info": {
   "codemirror_mode": {
    "name": "ipython",
    "version": 3
   },
   "file_extension": ".py",
   "mimetype": "text/x-python",
   "name": "python",
   "nbconvert_exporter": "python",
   "pygments_lexer": "ipython3",
   "version": "3.9.13"
  }
 },
 "nbformat": 4,
 "nbformat_minor": 4
}
