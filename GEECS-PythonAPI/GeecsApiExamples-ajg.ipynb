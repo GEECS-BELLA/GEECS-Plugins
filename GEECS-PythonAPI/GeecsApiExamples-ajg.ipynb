{
 "cells": [
  {
   "cell_type": "code",
   "execution_count": 2,
   "id": "b10a3d5b-0d08-4a06-9d8e-4cc0ba6bedd4",
   "metadata": {
    "tags": []
   },
   "outputs": [],
   "source": [
    "from geecs_api.interface.geecs_database import GeecsDatabase\n",
    "from geecs_api.devices.geecs_device import GeecsDevice"
   ]
  },
  {
   "cell_type": "code",
   "execution_count": 3,
   "id": "0970ee73-457c-49b8-9f3b-ee07d26169c4",
   "metadata": {},
   "outputs": [],
   "source": [
    "GeecsDevice.exp_info = GeecsDatabase.collect_exp_info(\"Bella\")"
   ]
  },
  {
   "cell_type": "code",
   "execution_count": 4,
   "id": "78f14e48-535f-4b3f-bb95-7216e660d03b",
   "metadata": {
    "tags": []
   },
   "outputs": [
    {
     "name": "stdout",
     "output_type": "stream",
     "text": [
      "name\n",
      "devices\n",
      "GUIs\n",
      "data_path\n",
      "MC_port\n"
     ]
    },
    {
     "data": {
      "text/plain": [
       "[None, None, None, None, None]"
      ]
     },
     "execution_count": 4,
     "metadata": {},
     "output_type": "execute_result"
    }
   ],
   "source": [
    "[print(key) for key in GeecsDevice.exp_info]"
   ]
  },
  {
   "cell_type": "code",
   "execution_count": 6,
   "id": "4c5eaa4d-296e-4112-a526-a6f0d3277461",
   "metadata": {
    "tags": []
   },
   "outputs": [
    {
     "data": {
      "text/plain": [
       "61559"
      ]
     },
     "execution_count": 6,
     "metadata": {},
     "output_type": "execute_result"
    }
   ],
   "source": [
    "GeecsDevice.exp_info['MC_port']"
   ]
  },
  {
   "cell_type": "code",
   "execution_count": 7,
   "id": "d3e87e01-9715-4e69-9443-0a56d983e22b",
   "metadata": {
    "tags": []
   },
   "outputs": [],
   "source": [
    "ccd = GeecsDevice('CAM-HPD-CCD')"
   ]
  },
  {
   "cell_type": "code",
   "execution_count": 8,
   "id": "4b6763b9-e63d-4f04-9aa4-3fdf400e4fc3",
   "metadata": {
    "tags": []
   },
   "outputs": [
    {
     "data": {
      "text/plain": [
       "True"
      ]
     },
     "execution_count": 8,
     "metadata": {},
     "output_type": "execute_result"
    }
   ],
   "source": [
    "ccd.subscribe_var_values(['exposure'])"
   ]
  },
  {
   "cell_type": "code",
   "execution_count": 9,
   "id": "bd5a1223-911a-4a99-b1ab-9206721d1373",
   "metadata": {
    "tags": []
   },
   "outputs": [
    {
     "data": {
      "text/plain": [
       "{'device status': 'Initialized',\n",
       " '': '',\n",
       " 'device error': '',\n",
       " 'device preset': '',\n",
       " 'exposure': 1.0}"
      ]
     },
     "execution_count": 9,
     "metadata": {},
     "output_type": "execute_result"
    }
   ],
   "source": [
    "ccd.state"
   ]
  },
  {
   "cell_type": "code",
   "execution_count": 10,
   "id": "cfead929-813c-4379-b787-1d297bd98bd8",
   "metadata": {
    "tags": []
   },
   "outputs": [
    {
     "data": {
      "text/plain": [
       "1.0"
      ]
     },
     "execution_count": 10,
     "metadata": {},
     "output_type": "execute_result"
    }
   ],
   "source": [
    "ccd.state['exposure']"
   ]
  },
  {
   "cell_type": "code",
   "execution_count": 17,
   "id": "5d5b5dd7-c73f-4404-a7dc-7ae54f3da996",
   "metadata": {
    "tags": []
   },
   "outputs": [
    {
     "data": {
      "text/plain": [
       "(False, 'get(exposure) @ 2023-05-09-14-45-18-745585', (None, None))"
      ]
     },
     "execution_count": 17,
     "metadata": {},
     "output_type": "execute_result"
    }
   ],
   "source": [
    "ccd.get('exposure', sync=True)"
   ]
  },
  {
   "cell_type": "code",
   "execution_count": 13,
   "id": "c72a35bc-6cb7-4ed0-b228-be0c0f4a33f3",
   "metadata": {
    "tags": []
   },
   "outputs": [],
   "source": [
    "ccd.unsubscribe_var_values()"
   ]
  },
  {
   "cell_type": "code",
   "execution_count": 14,
   "id": "2d98e99c-94d2-4fce-9a9e-af67e6b826a9",
   "metadata": {
    "tags": []
   },
   "outputs": [
    {
     "data": {
      "text/plain": [
       "(False, 'set(exposure, 0.900000) @ 2023-05-09-14-44-09-560393', (None, None))"
      ]
     },
     "execution_count": 14,
     "metadata": {},
     "output_type": "execute_result"
    }
   ],
   "source": [
    "ccd.set('exposure', 0.9)"
   ]
  },
  {
   "cell_type": "code",
   "execution_count": 18,
   "id": "87f017ce-3212-4e50-bec4-ee5b5e8085f5",
   "metadata": {
    "tags": []
   },
   "outputs": [
    {
     "data": {
      "text/plain": [
       "{'device status': 'Initialized',\n",
       " '': '',\n",
       " 'device error': '',\n",
       " 'device preset': '',\n",
       " 'exposure': 0.8}"
      ]
     },
     "execution_count": 18,
     "metadata": {},
     "output_type": "execute_result"
    }
   ],
   "source": [
    "ccd.state"
   ]
  },
  {
   "cell_type": "code",
   "execution_count": null,
   "id": "dde39158-330b-4672-89d7-7ed38af5a78a",
   "metadata": {},
   "outputs": [],
   "source": []
  }
 ],
 "metadata": {
  "kernelspec": {
   "display_name": "Python 3 (ipykernel)",
   "language": "python",
   "name": "python3"
  },
  "language_info": {
   "codemirror_mode": {
    "name": "ipython",
    "version": 3
   },
   "file_extension": ".py",
   "mimetype": "text/x-python",
   "name": "python",
   "nbconvert_exporter": "python",
   "pygments_lexer": "ipython3",
   "version": "3.11.3"
  }
 },
 "nbformat": 4,
 "nbformat_minor": 5
}
