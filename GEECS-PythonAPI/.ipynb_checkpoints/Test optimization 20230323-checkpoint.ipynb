{
 "cells": [
  {
   "cell_type": "code",
   "execution_count": 1,
   "id": "143e87c5-90cf-475f-b05b-f35053e3ce92",
   "metadata": {},
   "outputs": [],
   "source": [
    "import time\n",
    "from GEECSPythonAPI import GEECSDevice\n",
    "from GEECSPythonAPI import OptimizationControl\n",
    "import yaml"
   ]
  },
  {
   "cell_type": "code",
   "execution_count": 2,
   "id": "825ba635-1f1c-44e6-a552-02438b6b35a3",
   "metadata": {},
   "outputs": [],
   "source": [
    "# Axicon Horizontal vertical looking at minimizing STD \n",
    "# yamlfile=\"AxiconHorizontalVertical.yaml\"\n",
    "# evaluator_str = \"-abs(np.std(outs))\"\n",
    "# TestPoints_dict = {\"AxiconHorizontal\":0.5,\"AxiconVertical\":0.5}\n",
    "# InitialPoints_dict = {\"AxiconHorizontal\":[0.85,0.1],\"AxiconVertical\":[0.85,0.1]}\n",
    "#tolerance=0.001\n",
    "\n",
    "#hpd focal scan\n",
    "yamlfile=\"PWfocusLpMode.yaml\"\n",
    "evaluator_str = \"np.median(outs)\"\n",
    "TestPoints_dict = {\"Position\":0.5}\n",
    "InitialPoints_dict = {\"Position\":[0.7,0.3]}\n",
    "tolerance=0.01\n",
    "\n",
    "# yamlfile=\"AxiconHorizontalVertical.yaml\"\n",
    "# evaluator_str = \"-abs(np.std(outs))\"\n",
    "# TestPoints_dict = {\"AxiconHorizontal\":0.5,\"AxiconVertical\":0.5}\n",
    "# InitialPoints_dict = {\"AxiconHorizontal\":[0.85,0.1],\"AxiconVertical\":[0.85,0.1]}\n",
    "#tolerance=0.01\n",
    "\n",
    "\n",
    "# this one is good for aligning to a crosshair\n",
    "#    return {'f': -abs(np.median(outs)-672)}\n",
    "#This is for minimizing fluctuation of the data\n",
    "#    return {'f': eval(evaluator_str)}"
   ]
  },
  {
   "cell_type": "code",
   "execution_count": 8,
   "id": "a4cd56ae-ec3d-449d-95ca-1d0aaafb0611",
   "metadata": {},
   "outputs": [
    {
     "data": {
      "text/plain": [
       "{'control_variables': {'Position': {'device_name': 'STAGE-PL1-LPmodeLong',\n",
       "   'device_variable': 'position',\n",
       "   'range': [400, 580],\n",
       "   'ipaddress': '0.0.0.0',\n",
       "   'port': 9999,\n",
       "   'busy': 0,\n",
       "   'newDataFlag': 0,\n",
       "   'tcp_client': 'na',\n",
       "   'actual_value': 0.0,\n",
       "   'set': True,\n",
       "   'set_value': 0.0,\n",
       "   'proximal_lengthscale': 0.001,\n",
       "   'objective': False},\n",
       "  'Charge': {'device_name': 'CAM-PL1-LPMode',\n",
       "   'device_variable': 'MaxCounts',\n",
       "   'ipaddress': '0.0.0.0',\n",
       "   'port': 9999,\n",
       "   'busy': 0,\n",
       "   'newDataFlag': 0,\n",
       "   'tcp_client': 'na',\n",
       "   'actual_value': 0.0,\n",
       "   'method': 'MAXIMIZE',\n",
       "   'objective': True,\n",
       "   'set': False}},\n",
       " 'objective_variables': {'Charge': {'device_name': 'CAM-PL1-LPMode',\n",
       "   'device_variable': 'MaxCounts',\n",
       "   'range': [0, 1000.0],\n",
       "   'ipaddress': '0.0.0.0',\n",
       "   'port': 9999,\n",
       "   'busy': 0,\n",
       "   'newDataFlag': 0,\n",
       "   'tcp_client': 'na',\n",
       "   'actual_value': 0.0,\n",
       "   'method': 'MAXIMIZE'}},\n",
       " 'database': {'name': 'loasis',\n",
       "  'port': 3306,\n",
       "  'ipaddress': '192.168.13.23',\n",
       "  'user': 'loasis',\n",
       "  'password': 'dat+l0sim'},\n",
       " 'optimization_parameters': {'shots_per_step': 15}}"
      ]
     },
     "execution_count": 8,
     "metadata": {},
     "output_type": "execute_result"
    }
   ],
   "source": [
    "#define a \"yaml file\" with no entries for variables. These will be filled in used the \"bella_config\" yamml file\n",
    "YAML = \"\"\"\n",
    "xopt:\n",
    "    dump_file: dump.yaml\n",
    "generator:\n",
    "    name: upper_confidence_bound\n",
    "    n_initial: 5\n",
    "    optim:\n",
    "        num_restarts: 1\n",
    "    acq:\n",
    "        proximal_lengthscales: []\n",
    "\n",
    "evaluator:\n",
    "    function: __main__.geecs_measurement\n",
    "\n",
    "vocs:\n",
    "    variables:\n",
    "        {}\n",
    "    objectives: {f: \"MAXIMIZE\"}\n",
    "\n",
    "\"\"\"\n",
    "yaml_output = yaml.safe_load(YAML)\n",
    "\n",
    "with open(yamlfile, \"r\") as stream:\n",
    "    try:\n",
    "        bella_config=yaml.safe_load(stream)\n",
    "    except yaml.YAMLError as exc:\n",
    "        print(exc)\n",
    "bella_config"
   ]
  },
  {
   "cell_type": "code",
   "execution_count": 10,
   "id": "4ca0f2b9-02f7-4d8c-924f-f2452caf36b6",
   "metadata": {},
   "outputs": [
    {
     "name": "stdout",
     "output_type": "stream",
     "text": [
      "[0, 180]\n"
     ]
    },
    {
     "data": {
      "text/plain": [
       "[<GEECSPythonAPI.OptimizationControl at 0x7fef62382820>]"
      ]
     },
     "execution_count": 10,
     "metadata": {},
     "output_type": "execute_result"
    }
   ],
   "source": [
    "optimization_controls=[]\n",
    "ranges=[]\n",
    "obj_tags=[]\n",
    "normalize_ranges=False\n",
    "cv_tags=dict(bella_config['control_variables'])\n",
    "for cv_tag, cv_config in cv_tags.items():\n",
    "    if cv_config['set']:\n",
    "        opt_contr=OptimizationControl(device_name=cv_config['device_name'],variable=cv_config['device_variable'],bounds=cv_config['range'])\n",
    "        optimization_controls.append(opt_contr)\n",
    "        ranges.append(cv_config['range'])\n",
    "        range_offset=[0,cv_config['range'][1]-cv_config['range'][0]]\n",
    "        range_norm=[0,1]\n",
    "        print(range_offset)\n",
    "        if normalize_ranges:\n",
    "            yaml_output['vocs']['variables'][cv_tag]=[0,1]\n",
    "            yaml_output['generator']['acq']['proximal_lengthscales'].append(cv_config['proximal_lengthscale']/range_offset[1])\n",
    "        else:\n",
    "            yaml_output['vocs']['variables'][cv_tag]=cv_config['range']\n",
    "    if cv_config['objective']:\n",
    "        obj_tags.append(cv_tag)\n",
    "optimization_controls"
   ]
  },
  {
   "cell_type": "code",
   "execution_count": 11,
   "id": "ee0acc0c",
   "metadata": {},
   "outputs": [
    {
     "data": {
      "text/plain": [
       "['Charge']"
      ]
     },
     "execution_count": 11,
     "metadata": {},
     "output_type": "execute_result"
    }
   ],
   "source": []
  },
  {
   "cell_type": "code",
   "execution_count": null,
   "id": "32b35aad-1954-49ec-b271-e4a7952aeea7",
   "metadata": {},
   "outputs": [],
   "source": [
    "outputs=obj_tags\n",
    "\n",
    "def geecs_measurement(input_dict):\n",
    "\n",
    "    for i in list(input_dict.keys()):\n",
    "        set_val=float(input_dict[i])\n",
    "        print('set '+str(i)+' to '+str(set_val))\n",
    "        set_and_wait_udp(i,float(set_val))\n",
    "\n",
    "    outs=[]\n",
    "    counter=0\n",
    "    while counter<bella_config['optimization_parameters']['shots_per_step']:\n",
    "        for i in outputs:\n",
    "            val=float(get_and_wait_udp(i))\n",
    "            outs.append(val)\n",
    "        counter=counter+1\n",
    "        \n",
    "    print(outs)\n",
    "\n",
    "###############\n",
    "## TO DO\n",
    "###############\n",
    "## Add some data processing on the resulting on the acquired data.\n",
    "## for example, remove the extreme values, then maybe take a median\n",
    "## also need to test with passing all acquired data points rather than some stat\n",
    "\n",
    "# this one is good for aligning to a crosshair\n",
    "#    return {'f': -abs(np.median(outs)-672)}\n",
    "#This is for minimizing fluctuation of the data\n",
    "#    return {'f': -abs(np.std(outs))}\n",
    "    return {'f': eval(evaluator_str)}"
   ]
  }
 ],
 "metadata": {
  "kernelspec": {
   "display_name": "Python 3 (ipykernel)",
   "language": "python",
   "name": "python3"
  },
  "language_info": {
   "codemirror_mode": {
    "name": "ipython",
    "version": 3
   },
   "file_extension": ".py",
   "mimetype": "text/x-python",
   "name": "python",
   "nbconvert_exporter": "python",
   "pygments_lexer": "ipython3",
   "version": "3.9.13"
  }
 },
 "nbformat": 4,
 "nbformat_minor": 5
}
