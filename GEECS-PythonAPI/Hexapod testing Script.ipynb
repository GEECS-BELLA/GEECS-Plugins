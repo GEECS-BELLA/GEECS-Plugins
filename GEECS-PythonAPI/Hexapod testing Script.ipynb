{
 "cells": [
  {
   "cell_type": "code",
   "execution_count": 1,
   "id": "f7dcfaf5-87ac-4d5c-964d-a014d0059492",
   "metadata": {},
   "outputs": [
    {
     "name": "stdout",
     "output_type": "stream",
     "text": [
      "path config ..\\..\\..\\user data\\Configurations.INI\n",
      "database name  loasis\n"
     ]
    }
   ],
   "source": [
    "# You should be able to just run the whole script to align\n",
    "# Just run all cells\n",
    "#this\n",
    "import os\n",
    "import yaml\n",
    "import time\n",
    "import numpy as np\n",
    "import pandas as pd\n",
    "import shelve\n",
    "import sys\n",
    "import random\n",
    "import matplotlib.pyplot as plt\n",
    "import scipy.stats as stats\n",
    "from scipy.optimize import fsolve\n",
    "sys.path.append('../../')\n",
    "from geecs_python_api.controls.interface import GeecsDatabase\n",
    "from geecs_python_api.controls.devices.geecs_device import GeecsDevice\n",
    "# from geecs_python_api.controls.experiment.experiment import Experiment\n",
    "\n"
   ]
  },
  {
   "cell_type": "code",
   "execution_count": 5,
   "id": "e34d5b2d-58d7-4727-b987-b5c19285b652",
   "metadata": {},
   "outputs": [
    {
     "name": "stdout",
     "output_type": "stream",
     "text": [
      "{'fresh': True, 'shot number': None, 'GEECS device error': False}\n",
      "0.0\n"
     ]
    },
    {
     "data": {
      "text/plain": [
       "0.00301"
      ]
     },
     "execution_count": 5,
     "metadata": {},
     "output_type": "execute_result"
    }
   ],
   "source": [
    "GeecsDevice.exp_info = GeecsDatabase.collect_exp_info(\"Bella\")\n",
    "\n",
    "# set up the python objects for the geecs devices to be used in optimization\n",
    "hex1 = GeecsDevice('HEX-PL1-1')\n",
    "hex1.subscribe_var_values(['xpos', 'ypos', 'zpos'])\n",
    "time.sleep(0.1)\n",
    "print(hex1.state)\n",
    "xpos = hex1.get('xpos')\n",
    "print(xpos)\n",
    "\n",
    "hex1.set('xpos',0.00301, sync=True)"
   ]
  },
  {
   "cell_type": "code",
   "execution_count": 11,
   "id": "4f11f75b-86d1-4f32-957d-0e78ddab5faa",
   "metadata": {},
   "outputs": [],
   "source": [
    "x = GeecsDatabase.collect_exp_info(\"Bella\")"
   ]
  },
  {
   "cell_type": "code",
   "execution_count": 64,
   "id": "c5024007-1c19-4c6a-b5c2-1a78c488ba80",
   "metadata": {},
   "outputs": [],
   "source": [
    "y = x.get('devices')\n",
    "y = y.get('HEX-PL1-1')\n",
    "y = y.get('xpos')\n",
    "y = y.get('stepsize')"
   ]
  },
  {
   "cell_type": "code",
   "execution_count": 84,
   "id": "24ffa56d-99f6-41a9-9578-90d44ebbcb7d",
   "metadata": {},
   "outputs": [
    {
     "data": {
      "text/plain": [
       "5"
      ]
     },
     "execution_count": 84,
     "metadata": {},
     "output_type": "execute_result"
    }
   ],
   "source": [
    "len(y)"
   ]
  },
  {
   "cell_type": "code",
   "execution_count": 86,
   "id": "186a3aa5-feab-447d-b2a9-02b66aabb87a",
   "metadata": {},
   "outputs": [
    {
     "name": "stdout",
     "output_type": "stream",
     "text": [
      "0.001\n"
     ]
    }
   ],
   "source": [
    "print(y)"
   ]
  },
  {
   "cell_type": "code",
   "execution_count": 82,
   "id": "72e98061-d1af-4a69-958e-41fafe4c28bb",
   "metadata": {},
   "outputs": [],
   "source": [
    "y = x.get('devices', {}).get('HEX-PL1-1', {}).get('xpos', {}).get('stepsize')"
   ]
  },
  {
   "cell_type": "code",
   "execution_count": 114,
   "id": "1c0f3357-0847-46ce-a47f-a86e2bf86ee5",
   "metadata": {},
   "outputs": [],
   "source": [
    "def collect_stepsizes(data, path = None):\n",
    "    stepsizes = []\n",
    "    path = []\n",
    "    if isinstance(data, dict):\n",
    "        for key, value in data.items():\n",
    "            if key == 'stepsize':\n",
    "                print(key, value)\n",
    "                device = {path}\n",
    "                device_name = {device}\n",
    "                variable_name = {device_name}\n",
    "                stepsizes.append((device_name, value))\n",
    "    \n",
    "    return stepsizes"
   ]
  },
  {
   "cell_type": "code",
   "execution_count": 116,
   "id": "13b652f6-0637-4292-a4a3-5d970440c955",
   "metadata": {},
   "outputs": [],
   "source": [
    "z = collect_stepsizes(x)"
   ]
  },
  {
   "cell_type": "code",
   "execution_count": 118,
   "id": "3264367c-71e9-4d24-b43a-7e6fe0ef6993",
   "metadata": {},
   "outputs": [
    {
     "name": "stdout",
     "output_type": "stream",
     "text": [
      "[]\n"
     ]
    }
   ],
   "source": [
    "print(z)"
   ]
  },
  {
   "cell_type": "code",
   "execution_count": null,
   "id": "c2db8b8d-d043-4d93-9e3e-2f6919efc374",
   "metadata": {},
   "outputs": [],
   "source": []
  }
 ],
 "metadata": {
  "kernelspec": {
   "display_name": "Python 3 (ipykernel)",
   "language": "python",
   "name": "python3"
  },
  "language_info": {
   "codemirror_mode": {
    "name": "ipython",
    "version": 3
   },
   "file_extension": ".py",
   "mimetype": "text/x-python",
   "name": "python",
   "nbconvert_exporter": "python",
   "pygments_lexer": "ipython3",
   "version": "3.12.3"
  }
 },
 "nbformat": 4,
 "nbformat_minor": 5
}
