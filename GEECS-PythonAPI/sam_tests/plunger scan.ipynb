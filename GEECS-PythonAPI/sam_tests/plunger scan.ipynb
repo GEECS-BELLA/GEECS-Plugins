{
 "cells": [
  {
   "cell_type": "code",
   "execution_count": 1,
   "metadata": {},
   "outputs": [],
   "source": [
    "import time\n",
    "import numpy as np\n",
    "from GEECSPythonAPI import GEECSDevice\n",
    "from GEECSPythonAPI import ExperimentControl\n",
    "\n",
    "import socket\n",
    "import os\n",
    "import datetime\n",
    "    "
   ]
  },
  {
   "cell_type": "code",
   "execution_count": 2,
   "metadata": {
    "scrolled": false
   },
   "outputs": [
    {
     "name": "stdout",
     "output_type": "stream",
     "text": [
      "(b'ok', ('192.168.7.203', 61561))\n",
      "waiting for Scan 39to start\n",
      "Scan 39 appears to be have started\n",
      "waiting for 39 to finish\n",
      "waiting for 39 to finish\n",
      "waiting for 39 to finish\n",
      "Scan 39 appears to have finished\n"
     ]
    }
   ],
   "source": [
    "HTU=ExperimentControl()\n",
    "HTU.run_scan('test')"
   ]
  },
  {
   "cell_type": "code",
   "execution_count": null,
   "metadata": {},
   "outputs": [],
   "source": [
    "#initiliaze the devices\n",
    "plc_dev=GEECSDevice(device_name='U_PLC')\n",
    "plc_dev.device_initialize()\n",
    "visa_plunger=GEECSDevice(device_name='U_VisaPlungers')\n",
    "visa_plunger.device_initialize()\n",
    "velmex_stage=GEECSDevice(device_name='U_Velmex')\n",
    "velmex_stage.device_initialize()\n",
    "\n",
    "dc_phos=\"DO.Ch7\"\n",
    "phos1=\"DO.Ch4\"\n",
    "\n",
    "aline1=\"DO.Ch18\"\n",
    "aline2=\"DO.Ch9\"\n",
    "aline3=\"DO.Ch8\"\n",
    "visa1='DigitalOutput.Channel 7'\n",
    "visa2='DigitalOutput.Channel 6'\n",
    "visa3='DigitalOutput.Channel 5'\n",
    "visa4='DigitalOutput.Channel 4'\n",
    "visa5='DigitalOutput.Channel 3'\n",
    "visa6='DigitalOutput.Channel 2'\n",
    "visa7='DigitalOutput.Channel 1'\n",
    "visa8='DigitalOutput.Channel 0'\n",
    "visa9=\"DO.Ch19\"\n",
    "\n",
    "#velmex positions for UC_UndulatorRad2 for visa 2-9\n",
    "velmex_positions={2:3469.9,3:2986.9,4:2476.3,5:1991.2,6:1498.4,7:993.3,8:506.5,9:76.6}\n",
    "velmex_positions[2]"
   ]
  },
  {
   "cell_type": "code",
   "execution_count": null,
   "metadata": {},
   "outputs": [],
   "source": [
    "# plc_dev.set_and_wait_udp(dc_phos,\"on\")\n",
    "# run_scan('DC phosphor')\n",
    "\n",
    "phos1\n",
    "plc_dev.set_and_wait_udp(phos1,\"off\")\n",
    "time.sleep(1)\n",
    "plc_dev.set_and_wait_udp(aline1,\"on\")\n",
    "run_scan('Aline1')\n",
    "\n",
    "plc_dev.set_and_wait_udp(aline1,\"off\")\n",
    "time.sleep(1)\n",
    "plc_dev.set_and_wait_udp(aline2,\"on\")\n",
    "run_scan('Aline2')\n",
    "\n",
    "plc_dev.set_and_wait_udp(aline2,\"off\")\n",
    "time.sleep(1)\n",
    "plc_dev.set_and_wait_udp(aline3,\"on\")\n",
    "run_scan('Aline3')\n",
    "\n",
    "# plc_dev.set_and_wait_udp(aline3,\"off\")\n",
    "# time.sleep(1)\n",
    "# visa_plunger.set_and_wait_udp(visa1,\"on\")\n",
    "# run_scan('Visa1')\n",
    "\n",
    "# visa_plunger.set_and_wait_udp(visa1,\"off\")\n",
    "# time.sleep(1)\n",
    "# visa_plunger.set_and_wait_udp(visa2,\"on\")\n",
    "# velmex_stage.set_and_wait_udp('Position',velmex_positions[2])\n",
    "# run_scan('Visa2')\n",
    "\n",
    "# visa_plunger.set_and_wait_udp(visa2,\"off\")\n",
    "# time.sleep(1)\n",
    "# visa_plunger.set_and_wait_udp(visa3,\"on\")\n",
    "# velmex_stage.set_and_wait_udp('Position',velmex_positions[3])\n",
    "# run_scan('Visa3')\n",
    "\n",
    "# visa_plunger.set_and_wait_udp(visa3,\"off\")\n",
    "# time.sleep(1)\n",
    "# visa_plunger.set_and_wait_udp(visa4,\"on\")\n",
    "# velmex_stage.set_and_wait_udp('Position',velmex_positions[4])\n",
    "# run_scan('Visa4')\n",
    "\n",
    "# visa_plunger.set_and_wait_udp(visa4,\"off\")\n",
    "# time.sleep(1)\n",
    "# visa_plunger.set_and_wait_udp(visa5,\"on\")\n",
    "# velmex_stage.set_and_wait_udp('Position',velmex_positions[5])\n",
    "# run_scan('Visa5')\n",
    "\n",
    "# visa_plunger.set_and_wait_udp(visa5,\"off\")\n",
    "# time.sleep(1)\n",
    "# visa_plunger.set_and_wait_udp(visa6,\"on\")\n",
    "# velmex_stage.set_and_wait_udp('Position',velmex_positions[6])\n",
    "# run_scan('Visa6')\n",
    "\n",
    "# visa_plunger.set_and_wait_udp(visa6,\"off\")\n",
    "# time.sleep(1)\n",
    "# visa_plunger.set_and_wait_udp(visa7,\"on\")\n",
    "# velmex_stage.set_and_wait_udp('Position',velmex_positions[7])\n",
    "# run_scan('Visa7')\n",
    "\n",
    "# visa_plunger.set_and_wait_udp(visa7,\"off\")\n",
    "# time.sleep(1)\n",
    "# visa_plunger.set_and_wait_udp(visa8,\"on\")\n",
    "# velmex_stage.set_and_wait_udp('Position',velmex_positions[8])\n",
    "# run_scan('Visa8')\n",
    "\n",
    "# visa_plunger.set_and_wait_udp(visa8,\"off\")\n",
    "# time.sleep(1)\n",
    "# plc_dev.set_and_wait_udp(visa9,\"on\")\n",
    "# velmex_stage.set_and_wait_udp('Position',velmex_positions[9])\n",
    "# run_scan('Visa9')\n",
    "\n",
    "# plc_dev.set_and_wait_udp(visa9,\"off\")"
   ]
  },
  {
   "cell_type": "code",
   "execution_count": null,
   "metadata": {},
   "outputs": [],
   "source": [
    "def start_no_scan2(description):\n",
    "    mc_udp = socket.socket(socket.AF_INET, # Internet\n",
    "                        socket.SOCK_DGRAM) # UDP\n",
    "\n",
    "    mc_udp.settimeout(5)\n",
    "    # get the port number used for the UDP command\n",
    "    mc_udp.bind(('', 0))\n",
    "\n",
    "    info = mc_udp.getsockname()[1]\n",
    "    MESSAGE=('ScanStart>>  this is a test').encode('ascii')\n",
    "    mc_udp.sendto(MESSAGE, ('192.168.7.203', 61561))\n",
    "    resp=mc_udp.recvfrom(1024)\n",
    "    print(resp)"
   ]
  },
  {
   "cell_type": "code",
   "execution_count": null,
   "metadata": {},
   "outputs": [],
   "source": [
    "\n",
    "start_no_scan2('nothing')"
   ]
  },
  {
   "cell_type": "code",
   "execution_count": null,
   "metadata": {},
   "outputs": [],
   "source": []
  },
  {
   "cell_type": "code",
   "execution_count": null,
   "metadata": {},
   "outputs": [],
   "source": []
  },
  {
   "cell_type": "code",
   "execution_count": null,
   "metadata": {},
   "outputs": [],
   "source": []
  },
  {
   "cell_type": "code",
   "execution_count": null,
   "metadata": {},
   "outputs": [],
   "source": []
  }
 ],
 "metadata": {
  "kernelspec": {
   "display_name": "Python 3",
   "language": "python",
   "name": "python3"
  },
  "language_info": {
   "codemirror_mode": {
    "name": "ipython",
    "version": 3
   },
   "file_extension": ".py",
   "mimetype": "text/x-python",
   "name": "python",
   "nbconvert_exporter": "python",
   "pygments_lexer": "ipython3",
   "version": "3.7.3"
  }
 },
 "nbformat": 4,
 "nbformat_minor": 4
}
