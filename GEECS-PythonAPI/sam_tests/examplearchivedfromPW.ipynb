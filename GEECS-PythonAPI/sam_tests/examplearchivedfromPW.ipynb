{
 "cells": [
  {
   "cell_type": "code",
   "execution_count": 1,
   "metadata": {},
   "outputs": [],
   "source": [
    "import time\n",
    "from GEECSPythonAPI import GEECSDevice"
   ]
  },
  {
   "cell_type": "code",
   "execution_count": 2,
   "metadata": {},
   "outputs": [],
   "source": [
    "JetX=GEECSDevice(device_name=\"U_ESP_JetXYZ\",variables=['Position.Axis 1',[2.0,7.0],True,None])\n",
    "JetX.device_initialize()\n"
   ]
  },
  {
   "cell_type": "code",
   "execution_count": 3,
   "metadata": {},
   "outputs": [
    {
     "name": "stdout",
     "output_type": "stream",
     "text": [
      "set command accepted\n",
      "56181\n",
      "Message from Server b'U_ESP_JetXYZ>>setPosition.Axis 1>>3.000000>>no error,' \n",
      "using the get command to read the value: 3.000000\n"
     ]
    }
   ],
   "source": [
    "JetX.set(3.00000003422)\n",
    "\n",
    "time.sleep(1)\n",
    "\n",
    "v1=JetX.get()\n",
    "print(\"using the get command to read the value: \"+v1)"
   ]
  },
  {
   "cell_type": "code",
   "execution_count": 4,
   "metadata": {},
   "outputs": [],
   "source": [
    "JetX.device_close()"
   ]
  },
  {
   "cell_type": "code",
   "execution_count": null,
   "metadata": {},
   "outputs": [],
   "source": []
  }
 ],
 "metadata": {
  "kernelspec": {
   "display_name": "Python 3 (ipykernel)",
   "language": "python",
   "name": "python3"
  },
  "language_info": {
   "codemirror_mode": {
    "name": "ipython",
    "version": 3
   },
   "file_extension": ".py",
   "mimetype": "text/x-python",
   "name": "python",
   "nbconvert_exporter": "python",
   "pygments_lexer": "ipython3",
   "version": "3.7.9"
  }
 },
 "nbformat": 4,
 "nbformat_minor": 4
}
