{
 "cells": [
  {
   "cell_type": "code",
   "execution_count": null,
   "metadata": {},
   "outputs": [],
   "source": [
    "import socket\n",
    "import struct\n",
    "\n",
    "client = socket.socket(socket.AF_INET, socket.SOCK_STREAM)\n",
    "server_address = ('192.168.14.148', 65234)\n",
    "client.connect(server_address)\n",
    "\n",
    "#create subscription message\n",
    "subcriptionstring = b'Wait>>centroidx,centroidy'\n",
    "#get length of subscription message\n",
    "SubcriptionCmdLength = len(subcriptionstring)\n",
    "#print(SubcriptionCmdLength)\n",
    "#Flatten the length of the subscription message length\n",
    "sizepack = struct.pack('>i', SubcriptionCmdLength)\n",
    "#Send the size of the message followed by the message\n",
    "client.sendall( sizepack + subcriptionstring)\n",
    "\n",
    "#Receive 5 data messages\n",
    "for x in range(5):\n",
    "    size = struct.unpack('>i', client.recv(4))[0]  # Extract the msg size from four bytes - mind the encoding\n",
    "    str_data = client.recv(size)\n",
    "    print('Data size: %s Data value: %s' % (size, str_data.decode('ascii')))\n"
   ]
  },
  {
   "cell_type": "code",
   "execution_count": null,
   "metadata": {},
   "outputs": [],
   "source": []
  }
 ],
 "metadata": {
  "kernelspec": {
   "display_name": "Python 3",
   "language": "python",
   "name": "python3"
  },
  "language_info": {
   "codemirror_mode": {
    "name": "ipython",
    "version": 3
   },
   "file_extension": ".py",
   "mimetype": "text/x-python",
   "name": "python",
   "nbconvert_exporter": "python",
   "pygments_lexer": "ipython3",
   "version": "3.8.2"
  }
 },
 "nbformat": 4,
 "nbformat_minor": 4
}
