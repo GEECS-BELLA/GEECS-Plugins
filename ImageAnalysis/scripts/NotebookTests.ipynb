{
 "cells": [
  {
   "cell_type": "code",
   "execution_count": 1,
   "metadata": {},
   "outputs": [
    {
     "name": "stdout",
     "output_type": "stream",
     "text": [
      "Hi\n"
     ]
    }
   ],
   "source": [
    "print(\"Hi\")"
   ]
  },
  {
   "cell_type": "code",
   "execution_count": 2,
   "metadata": {},
   "outputs": [],
   "source": [
    "import numpy as np"
   ]
  },
  {
   "cell_type": "code",
   "execution_count": 2,
   "metadata": {},
   "outputs": [],
   "source": [
    "import os"
   ]
  },
  {
   "cell_type": "code",
   "execution_count": 3,
   "metadata": {},
   "outputs": [
    {
     "data": {
      "text/plain": [
       "2"
      ]
     },
     "execution_count": 3,
     "metadata": {},
     "output_type": "execute_result"
    }
   ],
   "source": [
    "scriptname = \"/SingleImage_MagSpec.py\"\n",
    "os.system(f'python {scriptname}')"
   ]
  },
  {
   "cell_type": "code",
   "execution_count": 18,
   "metadata": {},
   "outputs": [
    {
     "name": "stdout",
     "output_type": "stream",
     "text": [
      "3.7.4\n"
     ]
    }
   ],
   "source": [
    "from platform import python_version\n",
    "print(python_version())"
   ]
  },
  {
   "cell_type": "code",
   "execution_count": 13,
   "metadata": {},
   "outputs": [
    {
     "name": "stdout",
     "output_type": "stream",
     "text": [
      "Requirement already satisfied: PyQt5 in c:\\python37\\lib\\site-packages (5.14.1)\n",
      "Requirement already satisfied: PyQt5-sip<13,>=12.7 in c:\\python37\\lib\\site-packages (from PyQt5) (12.7.0)\n"
     ]
    },
    {
     "name": "stderr",
     "output_type": "stream",
     "text": [
      "WARNING: You are using pip version 20.0.2; however, version 23.1.2 is available.\n",
      "You should consider upgrading via the 'c:\\python37\\python.exe -m pip install --upgrade pip' command.\n"
     ]
    }
   ],
   "source": [
    "!pip install PyQt5"
   ]
  },
  {
   "cell_type": "code",
   "execution_count": 14,
   "metadata": {},
   "outputs": [],
   "source": [
    "import PyQt5"
   ]
  },
  {
   "cell_type": "code",
   "execution_count": null,
   "metadata": {},
   "outputs": [],
   "source": [
    "!python -3.7.4 --version"
   ]
  },
  {
   "cell_type": "code",
   "execution_count": 9,
   "metadata": {
    "scrolled": true
   },
   "outputs": [
    {
     "name": "stderr",
     "output_type": "stream",
     "text": [
      "Traceback (most recent call last):\n",
      "  File \"C:\\Users\\CEDoss\\Desktop\\GitRepos\\GEECS-Plugins\\ImageAnalysis\\scripts\\SingleImage_MagSpec.py\", line 29, in <module>\n",
      "    energy_arr, spec_charge_arr = MagSpecAnalysis.ParseInterpSpec(specpath)\n",
      "  File \"..\\modules\\MagSpecAnalysis.py\", line 167, in ParseInterpSpec\n",
      "    with open(filename) as f:\n",
      "FileNotFoundError: [Errno 2] No such file or directory: 'C:/Users/chris/Desktop/cedoss_htu_data//Scan023/U_HiResMagCam-interpSpec/Scan023_U_HiResMagCam-interpSpec_025.txt'\n"
     ]
    }
   ],
   "source": [
    "!py -3.7 C:\\Users\\CEDoss\\Desktop\\GitRepos\\GEECS-Plugins\\ImageAnalysis\\scripts\\SingleImage_MagSpec.py"
   ]
  },
  {
   "cell_type": "code",
   "execution_count": 17,
   "metadata": {},
   "outputs": [
    {
     "ename": "FileNotFoundError",
     "evalue": "[Errno 2] No such file or directory: 'C:/Users/chris/Desktop/cedoss_htu_data/Scan023/U_HiResMagCam-interpSpec/Scan023_U_HiResMagCam-interpSpec_025.txt'",
     "output_type": "error",
     "traceback": [
      "\u001b[1;31m---------------------------------------------------------------------------\u001b[0m",
      "\u001b[1;31mFileNotFoundError\u001b[0m                         Traceback (most recent call last)",
      "\u001b[1;32m<ipython-input-17-b32ed99248e8>\u001b[0m in \u001b[0;36m<module>\u001b[1;34m\u001b[0m\n\u001b[0;32m     27\u001b[0m \u001b[0msuffix\u001b[0m \u001b[1;33m=\u001b[0m \u001b[1;34m\".txt\"\u001b[0m\u001b[1;33m\u001b[0m\u001b[1;33m\u001b[0m\u001b[0m\n\u001b[0;32m     28\u001b[0m \u001b[0mspecpath\u001b[0m \u001b[1;33m=\u001b[0m \u001b[0mMagSpecAnalysis\u001b[0m\u001b[1;33m.\u001b[0m\u001b[0mCompileImageDirectory\u001b[0m\u001b[1;33m(\u001b[0m\u001b[0msuperpath\u001b[0m\u001b[1;33m,\u001b[0m \u001b[0mscannumber\u001b[0m\u001b[1;33m,\u001b[0m \u001b[0mshotnumber\u001b[0m\u001b[1;33m,\u001b[0m \u001b[0mspec_folderpath\u001b[0m\u001b[1;33m,\u001b[0m \u001b[0msuffix\u001b[0m\u001b[1;33m)\u001b[0m\u001b[1;33m\u001b[0m\u001b[1;33m\u001b[0m\u001b[0m\n\u001b[1;32m---> 29\u001b[1;33m \u001b[0menergy_arr\u001b[0m\u001b[1;33m,\u001b[0m \u001b[0mspec_charge_arr\u001b[0m \u001b[1;33m=\u001b[0m \u001b[0mMagSpecAnalysis\u001b[0m\u001b[1;33m.\u001b[0m\u001b[0mParseInterpSpec\u001b[0m\u001b[1;33m(\u001b[0m\u001b[0mspecpath\u001b[0m\u001b[1;33m)\u001b[0m\u001b[1;33m\u001b[0m\u001b[1;33m\u001b[0m\u001b[0m\n\u001b[0m",
      "\u001b[1;32m~\\Desktop\\GitRepos\\GEECS-Plugins\\ImageAnalysis\\modules\\MagSpecAnalysis.py\u001b[0m in \u001b[0;36mParseInterpSpec\u001b[1;34m(filename)\u001b[0m\n\u001b[0;32m    165\u001b[0m \u001b[1;33m\u001b[0m\u001b[0m\n\u001b[0;32m    166\u001b[0m     \"\"\"\n\u001b[1;32m--> 167\u001b[1;33m     \u001b[1;32mwith\u001b[0m \u001b[0mopen\u001b[0m\u001b[1;33m(\u001b[0m\u001b[0mfilename\u001b[0m\u001b[1;33m)\u001b[0m \u001b[1;32mas\u001b[0m \u001b[0mf\u001b[0m\u001b[1;33m:\u001b[0m\u001b[1;33m\u001b[0m\u001b[1;33m\u001b[0m\u001b[0m\n\u001b[0m\u001b[0;32m    168\u001b[0m         \u001b[0mlines\u001b[0m \u001b[1;33m=\u001b[0m \u001b[0mf\u001b[0m\u001b[1;33m.\u001b[0m\u001b[0mreadlines\u001b[0m\u001b[1;33m(\u001b[0m\u001b[1;33m)\u001b[0m\u001b[1;33m\u001b[0m\u001b[1;33m\u001b[0m\u001b[0m\n\u001b[0;32m    169\u001b[0m         \u001b[0mnSlices\u001b[0m \u001b[1;33m=\u001b[0m \u001b[0mlen\u001b[0m\u001b[1;33m(\u001b[0m\u001b[0mlines\u001b[0m\u001b[1;33m)\u001b[0m\u001b[1;33m-\u001b[0m\u001b[1;36m1\u001b[0m\u001b[1;33m\u001b[0m\u001b[1;33m\u001b[0m\u001b[0m\n",
      "\u001b[1;31mFileNotFoundError\u001b[0m: [Errno 2] No such file or directory: 'C:/Users/chris/Desktop/cedoss_htu_data/Scan023/U_HiResMagCam-interpSpec/Scan023_U_HiResMagCam-interpSpec_025.txt'"
     ]
    }
   ],
   "source": [
    "# -*- coding: utf-8 -*-\n",
    "\"\"\"\n",
    "This script uses the modules for loading MagSpec images to display quick\n",
    "information about the MagSpec images.\n",
    "\n",
    "This initial test script uses data saved on my personal latop\n",
    "\n",
    "Doss - 7/10/2023\n",
    "\"\"\"\n",
    "import sys\n",
    "import numpy as np\n",
    "import matplotlib.pyplot as plt\n",
    "\n",
    "sys.path.insert(0, \"../\")\n",
    "import modules.MagSpecAnalysis as MagSpecAnalysis\n",
    "\n",
    "#I use another version of pngTools because the current version\n",
    "# is incompatible with my version of python?  Eventually merge these...\n",
    "#sys.path.insert(0, \"../../dataanalysis-notebook/functions/\")\n",
    "#from pngTools import nBitPNG\n",
    "\n",
    "superpath = \"C:/Users/chris/Desktop/cedoss_htu_data/\"\n",
    "scannumber = 23\n",
    "shotnumber = 25\n",
    "\n",
    "spec_folderpath = \"U_HiResMagCam-interpSpec\"\n",
    "suffix = \".txt\"\n",
    "specpath = MagSpecAnalysis.CompileImageDirectory(superpath, scannumber, shotnumber, spec_folderpath, suffix)\n",
    "energy_arr, spec_charge_arr = MagSpecAnalysis.ParseInterpSpec(specpath)"
   ]
  },
  {
   "cell_type": "code",
   "execution_count": null,
   "metadata": {},
   "outputs": [],
   "source": []
  }
 ],
 "metadata": {
  "kernelspec": {
   "display_name": "Python 3",
   "language": "python",
   "name": "python3"
  },
  "language_info": {
   "codemirror_mode": {
    "name": "ipython",
    "version": 3
   },
   "file_extension": ".py",
   "mimetype": "text/x-python",
   "name": "python",
   "nbconvert_exporter": "python",
   "pygments_lexer": "ipython3",
   "version": "3.7.4"
  }
 },
 "nbformat": 4,
 "nbformat_minor": 2
}
