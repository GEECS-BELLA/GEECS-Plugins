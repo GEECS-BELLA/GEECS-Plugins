{
 "cells": [
  {
   "cell_type": "code",
   "execution_count": 2,
   "metadata": {},
   "outputs": [],
   "source": [
    "from functions.image_convert import get_gif"
   ]
  },
  {
   "cell_type": "code",
   "execution_count": 7,
   "metadata": {},
   "outputs": [
    {
     "name": "stdout",
     "output_type": "stream",
     "text": [
      "opening  Scan001_UC_Amp4_IR_input\n",
      "/Volumes/vol1/data/Undulator/Y2023/03-Mar/23_0324/scans/Scan001/ScanInfoScan001.ini\n",
      "['/Volumes/vol1/data/Undulator/Y2023/03-Mar/23_0324/scans/Scan001/ScanInfoScan001.ini']\n",
      " opening  100 th image...\n",
      " opening  200 th image...\n",
      " opening  300 th image...\n",
      " opening  400 th image...\n",
      " Image mode:  I ( 32 bit)\n",
      " Rescale images to make count  65519 as maximum\n",
      " rescaling  100 th image...\n",
      " rescaling  200 th image...\n",
      " rescaling  300 th image...\n",
      " rescaling  400 th image...\n",
      "  Scan001_UC_Amp4_IR_input.gif  Saved\n"
     ]
    }
   ],
   "source": [
    "path_scan = 'Z:\\\\data\\\\Undulator\\\\Y2023\\\\03-Mar\\\\23_0324\\\\scans\\\\Scan001'\n",
    "path_scan ='/Volumes/vol1/data/Undulator/Y2023/03-Mar/23_0324/scans/Scan001/'\n",
    "\n",
    "get_gif(path_scan+'UC_Amp4_IR_input',labview=False, size=0.5, fps=15, rescale='auto')\n"
   ]
  },
  {
   "cell_type": "code",
   "execution_count": 1,
   "metadata": {},
   "outputs": [
    {
     "name": "stdout",
     "output_type": "stream",
     "text": [
      "/Volumes/vol1/data/Undulator/Y2023/03-Mar/23_0324//scans/Scan001/ScanInfoScan001.ini\n",
      "['/Volumes/vol1/data/Undulator/Y2023/03-Mar/23_0324//scans/Scan001/ScanInfoScan001.ini']\n"
     ]
    },
    {
     "data": {
      "text/plain": [
       "{'scan no': '1',\n",
       " 'scanstartinfo': 'MRC ON (Stage 1&2)',\n",
       " 'scan parameter': 'Shotnumber',\n",
       " 'scanendinfo': ''}"
      ]
     },
     "execution_count": 1,
     "metadata": {},
     "output_type": "execute_result"
    }
   ],
   "source": [
    "from functions.scanparameter import get_info\n",
    "get_info(\"/Volumes/vol1/data/Undulator/Y2023/03-Mar/23_0324/\",1)\n"
   ]
  },
  {
   "cell_type": "code",
   "execution_count": null,
   "metadata": {},
   "outputs": [],
   "source": []
  }
 ],
 "metadata": {
  "kernelspec": {
   "display_name": "Python 3 (ipykernel)",
   "language": "python",
   "name": "python3"
  },
  "language_info": {
   "codemirror_mode": {
    "name": "ipython",
    "version": 3
   },
   "file_extension": ".py",
   "mimetype": "text/x-python",
   "name": "python",
   "nbconvert_exporter": "python",
   "pygments_lexer": "ipython3",
   "version": "3.9.13"
  }
 },
 "nbformat": 4,
 "nbformat_minor": 2
}
