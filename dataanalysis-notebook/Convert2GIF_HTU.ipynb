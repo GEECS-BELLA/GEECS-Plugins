{
 "cells": [
  {
   "cell_type": "code",
   "execution_count": 2,
   "metadata": {},
   "outputs": [],
   "source": [
    "from functions.image_convert import get_gif"
   ]
  },
  {
   "cell_type": "code",
   "execution_count": 19,
   "metadata": {
    "scrolled": false
   },
   "outputs": [
    {
     "name": "stdout",
     "output_type": "stream",
     "text": [
      "opening  Scan023_MagCam3\n",
      " Image mode:  I ( 32 bit)\n",
      " Rescale images to make count  1107 as maximum\n",
      "  Scan023_MagCam3.gif  Saved\n",
      "opening  Scan023_UC_Probe\n",
      " Image mode:  I ( 32 bit)\n",
      " Rescale images to make count  4095 as maximum\n",
      "  Scan023_UC_Probe.gif  Saved\n"
     ]
    }
   ],
   "source": [
    "path_scan = 'Z:\\\\data\\\\Undulator\\\\Y2021\\\\05-May\\\\21_0520\\\\scans\\\\Scan023'\n",
    "\n",
    "#get_gif(path_scan+'\\\\UC_TC_Phosphor',labview=True, size=0.5, fps=15, rescale='auto')\n",
    "get_gif(path_scan+'\\\\MagCam3',labview=True, size=0.5, fps=15, rescale='auto')\n",
    "get_gif(path_scan+'\\\\UC_Probe',labview=True, size=0.5, fps=15, rescale='auto')\n"
   ]
  },
  {
   "cell_type": "code",
   "execution_count": 20,
   "metadata": {},
   "outputs": [
    {
     "name": "stdout",
     "output_type": "stream",
     "text": [
      "opening  scan023_Dutch1Lnr\n",
      " Image mode:  RGB ( 24 bit)\n",
      "  scan023_Dutch1Lnr.gif  Saved\n"
     ]
    }
   ],
   "source": [
    "\n",
    "path ='Z:\\\\data\\\\Undulator\\\\Y2021\\\\05-May\\\\21_0520\\\\analysis\\\\scan023\\\\Dutch1Lnr' \n",
    "get_gif(path, labview=False, size=0.5, fps=15, rescale=False)\n"
   ]
  },
  {
   "cell_type": "code",
   "execution_count": null,
   "metadata": {},
   "outputs": [],
   "source": []
  }
 ],
 "metadata": {
  "kernelspec": {
   "display_name": "Python 3",
   "language": "python",
   "name": "python3"
  },
  "language_info": {
   "codemirror_mode": {
    "name": "ipython",
    "version": 3
   },
   "file_extension": ".py",
   "mimetype": "text/x-python",
   "name": "python",
   "nbconvert_exporter": "python",
   "pygments_lexer": "ipython3",
   "version": "3.7.4"
  }
 },
 "nbformat": 4,
 "nbformat_minor": 2
}
