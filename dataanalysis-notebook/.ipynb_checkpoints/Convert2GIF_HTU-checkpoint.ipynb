{
 "cells": [
  {
   "cell_type": "code",
   "execution_count": 2,
   "metadata": {},
   "outputs": [],
   "source": [
    "from functions.image_convert import get_gif"
   ]
  },
  {
   "cell_type": "code",
   "execution_count": null,
   "metadata": {
    "scrolled": true
   },
   "outputs": [],
   "source": [
    "path_scan = 'Z:\\\\data\\\\Undulator\\\\Y2021\\\\05-May\\\\21_0520\\\\scans\\\\Scan018'\n",
    "\n",
    "#get_gif(path_scan+'\\\\UC_TC_Phosphor',labview=True, size=0.5, fps=15, rescale='auto')\n",
    "get_gif(path_scan+'\\\\MagCam3',labview=True, size=0.5, fps=15, rescale=False)\n"
   ]
  },
  {
   "cell_type": "code",
   "execution_count": null,
   "metadata": {},
   "outputs": [],
   "source": []
  }
 ],
 "metadata": {
  "kernelspec": {
   "display_name": "Python 3",
   "language": "python",
   "name": "python3"
  },
  "language_info": {
   "codemirror_mode": {
    "name": "ipython",
    "version": 3
   },
   "file_extension": ".py",
   "mimetype": "text/x-python",
   "name": "python",
   "nbconvert_exporter": "python",
   "pygments_lexer": "ipython3",
   "version": "3.7.4"
  }
 },
 "nbformat": 4,
 "nbformat_minor": 2
}
