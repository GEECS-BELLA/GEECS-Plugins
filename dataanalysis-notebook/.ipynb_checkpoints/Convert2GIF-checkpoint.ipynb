{
 "cells": [
  {
   "cell_type": "code",
   "execution_count": 1,
   "metadata": {},
   "outputs": [],
   "source": [
    "from functions.image_convert import get_gif"
   ]
  },
  {
   "cell_type": "code",
   "execution_count": 2,
   "metadata": {},
   "outputs": [
    {
     "name": "stdout",
     "output_type": "stream",
     "text": [
      "Scan013_UC_GaiaMode\n",
      " Image mode:  I ( 32 bit)\n",
      " Rescale image to make count  1109.0  max\n",
      "Scan013_UC_GaiaMode.gif  Saved\n"
     ]
    }
   ],
   "source": [
    "path_scan = 'Z:\\\\data\\\\Undulator\\\\Y2021\\\\04-Apr\\\\21_0419\\\\scans\\\\Scan013'\n",
    "\n",
    "get_gif(path_scan+'\\\\UC_GaiaMode',labview=True, size=0.5, fps=15, rescale='auto')\n"
   ]
  },
  {
   "cell_type": "code",
   "execution_count": null,
   "metadata": {},
   "outputs": [],
   "source": []
  }
 ],
 "metadata": {
  "kernelspec": {
   "display_name": "Python 3",
   "language": "python",
   "name": "python3"
  },
  "language_info": {
   "codemirror_mode": {
    "name": "ipython",
    "version": 3
   },
   "file_extension": ".py",
   "mimetype": "text/x-python",
   "name": "python",
   "nbconvert_exporter": "python",
   "pygments_lexer": "ipython3",
   "version": "3.7.4"
  }
 },
 "nbformat": 4,
 "nbformat_minor": 2
}
