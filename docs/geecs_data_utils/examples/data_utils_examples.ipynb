{
 "cells": [
  {
   "cell_type": "markdown",
   "id": "895c609a-5ca1-4af3-bef3-f8881f74358f",
   "metadata": {},
   "source": [
    "# Examples of interfacing with geecs data\n",
    "\n",
    "## Note:\n",
    "geecs_data_utils makes use of geecs_paths_config which is loaded in the background. This looks for a specific config file which has details about the users desired defaults. If this config doesn't exist, some basic attributes need to be set."
   ]
  },
  {
   "cell_type": "code",
   "execution_count": null,
   "id": "fb26ee91-73ed-4f9e-85c6-5883bc4c9fe0",
   "metadata": {},
   "outputs": [],
   "source": [
    "from geecs_data_utils import ScanData, ScanTag\n",
    "\n",
    "# if no config file exists, set base path to experiment data as below.\n",
    "# Assumption is that data is stored like <base_path>/<experiment name>\n",
    "# ScanPaths.paths_config.base_path = Path('Z:/data')\n",
    "\n",
    "# Create a unique identifier for the a scan\n",
    "tag = ScanTag(year=2025, month=8, day=7, number=5, experiment=\"Undulator\")\n",
    "\n",
    "# Create ScanData object\n",
    "sd = ScanData(tag=tag)"
   ]
  },
  {
   "cell_type": "markdown",
   "id": "b0123066-9754-4910-969d-9c3821cad31a",
   "metadata": {},
   "source": [
    "## Many available methods for interfacing\n",
    "\n",
    "### Load the sFile as a pandas dataframe"
   ]
  },
  {
   "cell_type": "code",
   "execution_count": null,
   "id": "3c676ea9-1854-4625-909a-4395015f9569",
   "metadata": {},
   "outputs": [],
   "source": [
    "df = sd.get_sfile_data()\n",
    "df.head(5)"
   ]
  },
  {
   "cell_type": "markdown",
   "id": "b62ae210-f29c-4d19-b8f0-664652f14d9f",
   "metadata": {},
   "source": [
    "### Create dataframe of shotnumber and files paths for devices restricted to shotnumbers where all devices are saved"
   ]
  },
  {
   "cell_type": "code",
   "execution_count": null,
   "id": "0c9b619c-728b-4240-886e-23f260190a73",
   "metadata": {},
   "outputs": [],
   "source": [
    "# make list of tuples with <device> <file_tail>. Note, file names are typically:\n",
    "# Scan<scan_number>DeviceName<shotnumber><extra><extenstion>. Here file_tail represents\n",
    "# everything after <shotnumber>. For example, for magspec type device, could be ('magspec', 'interpSpec.txt')\n",
    "\n",
    "dev_list = [\n",
    "    (\"Z_Test_Scope\", \".dat\"),\n",
    "    (\"Z_Test_Scope_2\", \".dat\"),\n",
    "    (\"UC_ALineEBeam3\", \".png\"),\n",
    "]\n",
    "shots = sd.get_common_shot_dataframe(dev_list)\n",
    "shots.head(5)"
   ]
  },
  {
   "cell_type": "markdown",
   "id": "773dbaa9-2633-4d7d-9768-b716e2e4651b",
   "metadata": {},
   "source": [
    "## Build a comprehensive, fast query-able parque 'scans database'\n",
    "see documentation for more details"
   ]
  },
  {
   "cell_type": "code",
   "execution_count": null,
   "id": "85e6225b-a1d7-4c90-b8d9-5cf877449551",
   "metadata": {},
   "outputs": [],
   "source": [
    "from datetime import date\n",
    "from geecs_data_utils.scans_database.builder import ScanDatabaseBuilder\n",
    "\n",
    "# Inputs\n",
    "data_root = ScanData.paths_config.base_path\n",
    "experiment = \"Undulator\"\n",
    "output_path = data_root / experiment / \"scan_database_parquet\"\n",
    "date_range = (date(2022, 1, 3), date(2025, 8, 5))\n",
    "\n",
    "ScanDatabaseBuilder.stream_to_parquet(\n",
    "    data_root=data_root,\n",
    "    experiment=experiment,\n",
    "    output_path=output_path,\n",
    "    date_range=date_range,\n",
    "    buffer_size=50,\n",
    "    max_scans=1000000,\n",
    "    mode=\"overwrite\",  # or 'append' or 'overwrite'\n",
    ")"
   ]
  },
  {
   "cell_type": "markdown",
   "id": "298c4ee0-e2ec-4cc9-badb-9d4b4d8a44db",
   "metadata": {},
   "source": [
    "### After database is initially built, new scan entries are easily added using mode='append' and data_range = None"
   ]
  },
  {
   "cell_type": "code",
   "execution_count": null,
   "id": "bd71d3d4-9c17-498b-8d3b-bf47eec64b54",
   "metadata": {},
   "outputs": [],
   "source": [
    "# Picks up from the last date in _update_log.json through today\n",
    "ScanDatabaseBuilder.stream_to_parquet(\n",
    "    data_root=data_root,\n",
    "    experiment=experiment,\n",
    "    output_path=output_path,\n",
    "    date_range=None,  # <- auto-resume via sidecar\n",
    "    buffer_size=50,\n",
    "    mode=\"append\",\n",
    ")"
   ]
  },
  {
   "cell_type": "markdown",
   "id": "1de06ac4-df82-4922-8ba0-eb6150f253af",
   "metadata": {},
   "source": [
    "### Filter scans database based on many flexible criteria"
   ]
  },
  {
   "cell_type": "code",
   "execution_count": null,
   "id": "3f507f67-1b9d-4529-9174-d85bd267265f",
   "metadata": {},
   "outputs": [],
   "source": [
    "from geecs_data_utils.scans_database.database import ScanDatabase\n",
    "from datetime import date\n",
    "\n",
    "data_root = ScanData.paths_config.base_path\n",
    "experiment = \"Undulator\"\n",
    "output_path = data_root / experiment / \"scan_database_parquet\"\n",
    "\n",
    "# initialize ScanDabase object\n",
    "db = ScanDatabase(output_path)\n",
    "\n",
    "# apply filters\n",
    "\n",
    "# Filter by date first, for fast initial filter\n",
    "db.date_range(date(2025, 8, 5), date(2025, 8, 8))\n",
    "\n",
    "# can filter by scanparameter, case insensitive. use alias, var name or any part\n",
    "db.filter_scan_parameter_contains(\"shotnumber\")\n",
    "\n",
    "# Filter by ecs live dump entries: (device_like, variable_like, target value, tolerance)\n",
    "db.filter_ecs_value_within(\"hexapod\", \"y\", target=18.5, tol=0.5)\n",
    "\n",
    "# use defined named filters autoloaded based on experiment name. Can have various date range validities\n",
    "db.apply(\"PMQ_inserted\")\n",
    "\n",
    "# convert result to dataframe\n",
    "df = db.to_df()\n",
    "\n",
    "print(\"rows:\", len(df))\n",
    "df.head(5)"
   ]
  }
 ],
 "metadata": {
  "kernelspec": {
   "display_name": "DataAnalysis",
   "language": "python",
   "name": "dataanalysis"
  },
  "language_info": {
   "codemirror_mode": {
    "name": "ipython",
    "version": 3
   },
   "file_extension": ".py",
   "mimetype": "text/x-python",
   "name": "python",
   "nbconvert_exporter": "python",
   "pygments_lexer": "ipython3",
   "version": "3.10.11"
  }
 },
 "nbformat": 4,
 "nbformat_minor": 5
}
