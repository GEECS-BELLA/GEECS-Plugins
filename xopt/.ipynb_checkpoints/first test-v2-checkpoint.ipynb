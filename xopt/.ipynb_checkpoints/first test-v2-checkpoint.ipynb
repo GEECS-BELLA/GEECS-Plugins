{
 "cells": [
  {
   "cell_type": "markdown",
   "metadata": {},
   "source": [
    "## First attempt to play with xopt\n"
   ]
  },
  {
   "cell_type": "markdown",
   "metadata": {},
   "source": [
    "## Load in a BELLA specific config file\n",
    "read in a yaml file which has the control variable information and the objective variable information"
   ]
  },
  {
   "cell_type": "code",
   "execution_count": 1,
   "metadata": {},
   "outputs": [
    {
     "name": "stdout",
     "output_type": "stream",
     "text": [
      "[0, 0.049]\n",
      "{'xopt': {'dump_file': 'dump.yaml'}, 'generator': {'name': 'upper_confidence_bound', 'n_initial': 5, 'optim': {'num_restarts': 1}, 'acq': {'proximal_lengthscales': [30.612244897959183]}}, 'evaluator': {'function': '__main__.geecs_measurement'}, 'vocs': {'variables': {'ExposureM1': [0.001, 0.05]}, 'objectives': {'f': 'MAXIMIZE'}}}\n",
      "['counts']\n"
     ]
    }
   ],
   "source": [
    "# Ignore all warnings\n",
    "import warnings\n",
    "warnings.filterwarnings(\"ignore\")\n",
    "\n",
    "import torch\n",
    "from xopt.vocs import VOCS\n",
    "from xopt.evaluator import Evaluator\n",
    "from xopt.generators.bayesian import ExpectedImprovementGenerator\n",
    "from xopt import Xopt\n",
    "\n",
    "import yaml\n",
    "import pandas as pd\n",
    "import numpy as np\n",
    "\n",
    "\n",
    "#define a \"yaml file\" with no entries for variables. These will be filled in used the \"bella_config\" yamml file\n",
    "YAML = \"\"\"\n",
    "xopt:\n",
    "    dump_file: dump.yaml\n",
    "generator:\n",
    "    name: upper_confidence_bound\n",
    "    n_initial: 5\n",
    "    optim:\n",
    "        num_restarts: 1\n",
    "    acq:\n",
    "        proximal_lengthscales: []\n",
    "\n",
    "evaluator:\n",
    "    function: __main__.geecs_measurement\n",
    "\n",
    "vocs:\n",
    "    variables:\n",
    "        {}\n",
    "    objectives: {f: \"MAXIMIZE\"}\n",
    "\n",
    "\"\"\"\n",
    "yaml_output = yaml.safe_load(YAML)\n",
    "\n",
    "with open(\"PW_config.yaml\", \"r\") as stream:\n",
    "    try:\n",
    "        bella_config=yaml.safe_load(stream)\n",
    "    except yaml.YAMLError as exc:\n",
    "        print(exc)\n",
    "        \n",
    "#parse the config file to create a dict with the variables in proper format for xopt\n",
    "cv_tags=list(bella_config['control_variables'].keys())\n",
    "#obj_tags=list(bella_config['objective_variables'].keys())\n",
    "\n",
    "ranges=[]\n",
    "obj_tags=[]\n",
    "# for i in cv_tags:\n",
    "#     if bella_config['control_variables'][i]['set']:\n",
    "#         ranges.append(bella_config['control_variables'][i]['range'])\n",
    "#         #get the normalization constants for the variable range. Normalizing the range seems to speed things up a bit\n",
    "#         range_offset=[0,bella_config['control_variables'][i]['range'][1]-bella_config['control_variables'][i]['range'][0]]\n",
    "#         range_norm=[0,1]\n",
    "#         print(range_offset)\n",
    "# #         yaml_output['vocs']['variables'][i]=bella_config['control_variables'][i]['range']\n",
    "#         yaml_output['vocs']['variables'][i]=[0,1]\n",
    "\n",
    "#         yaml_output['generator']['acq']['proximal_lengthscales']+=[bella_config['control_variables'][i]['proximal_lengthscale']/range_offset[1]]\n",
    "#     if bella_config['control_variables'][i]['objective']:\n",
    "#         obj_tags.append(i)\n",
    "    \n",
    "\n",
    "cv_tags=dict(bella_config['control_variables'])\n",
    "for cv_tag, cv_config in cv_tags.items():\n",
    "    if cv_config['set']:\n",
    "        ranges.append(cv_config['range'])\n",
    "        range_offset=[0,cv_config['range'][1]-cv_config['range'][0]]\n",
    "        range_norm=[0,1]\n",
    "        print(range_offset)\n",
    "        yaml_output['vocs']['variables'][cv_tag]=cv_config['range']\n",
    "        #yaml_output['vocs']['variables'][cv_tag]=[0,1]\n",
    "        yaml_output['generator']['acq']['proximal_lengthscales'].append(cv_config['proximal_lengthscale']/range_offset[1])\n",
    "    if cv_config['objective']:\n",
    "        obj_tags.append(cv_tag)\n",
    "        \n",
    "        \n",
    "# for i in obj_tags:\n",
    "#     yaml_output['vocs']['objectives'][i]=bella_config['objective_variables'][i]['method']\n",
    "    \n",
    "print(yaml_output)\n",
    "\n",
    "#until I figure out the above, we will need to initialize the requisite Xopt objects\n",
    "#individually\n",
    "\n",
    "# vocs = VOCS(\n",
    "#     variables=yaml_output['vocs']['variables'],\n",
    "#     objectives=yaml_output['vocs']['objectives'],\n",
    "# )\n",
    "\n",
    "# print(vocs)\n",
    "print(obj_tags)"
   ]
  },
  {
   "cell_type": "markdown",
   "metadata": {
    "tags": []
   },
   "source": [
    "## define the get/set functions for BELLA GEECS \n"
   ]
  },
  {
   "cell_type": "code",
   "execution_count": 2,
   "metadata": {
    "scrolled": true
   },
   "outputs": [],
   "source": [
    "def client_factory(ip, port, var):\n",
    "    print('in the client factory for device: ',var)\n",
    "    client=socket.socket(socket.AF_INET, socket.SOCK_STREAM);\n",
    "    client.connect((str(ip),int(port)))\n",
    "    #client.setblocking(0)\n",
    "    subcriptionstring = bytes('Wait>>'+str(var),'ascii')\n",
    "    #get length of subscription message\n",
    "    SubcriptionCmdLength = len(subcriptionstring)\n",
    "    #Flatten the length of the subscription message length\n",
    "    sizepack = struct.pack('>i', SubcriptionCmdLength)\n",
    "    #Send the size of the message followed by the message\n",
    "    client.sendall( sizepack + subcriptionstring)\n",
    "    return client   \n",
    "\n",
    "def get(tag):\n",
    "    #can change how get is defined but use this function elsewhere\n",
    "    value=get_tcp_nonblocking(tag)\n",
    "    return value\n",
    "\n",
    "def get_until_new(tag):\n",
    "    attempts=0\n",
    "    while attempts<6:\n",
    "        val=get(tag)\n",
    "        if bella_config['control_variables'][i]['newDataFlag']==1:\n",
    "            break\n",
    "        else:\n",
    "            time.sleep(0.2)\n",
    "            attempts=attempts+1\n",
    "    if attempts>5:\n",
    "        val=0.0\n",
    "    return val\n",
    "\n",
    "def get_tcp_nonblocking(tag):    \n",
    "    #info('function get1')\n",
    "    \n",
    "    #start by trying to check out a socket so that when a process calls  \n",
    "    #to get the value, you don't have multiple attempts to read/clear the buffer.\n",
    "    #If the socket isn't currently busy, swith it to \"busy\" until finished\n",
    "    if bella_config['control_variables'][tag]['busy']==0: \n",
    "        #print(\"socket was clear when requested\")\n",
    "        bella_config['control_variables'][tag]['busy']=1\n",
    "        if False: #skipping\n",
    "            #print('objective function')\n",
    "            f(x)\n",
    "            if hasattr(y, '__iter__'):\n",
    "                return y[0]\n",
    "            else:\n",
    "                return y\n",
    "        else:\n",
    "            client=bella_config['control_variables'][tag]['tcp_client']\n",
    "            #print(\"got client: \",client)\n",
    "            dt=0\n",
    "            counter=0\n",
    "            #note: the dt defined below should be shorter than the timeout in the select.select command\n",
    "            #The select.select command asks the client if there is any information to transmist. If there\n",
    "            #is, it returns true. If there is not any information after the timeout, it reports false.\n",
    "            #Typical response time when a device has information to transmit is well below 1 ms. So, we rely\n",
    "            # on the timeout to tell us that there is no information on the buffer, and we are waiting on \n",
    "            # another iteration of the device's acquire loop.\n",
    "            while dt<0.0015:\n",
    "                counter=counter+1\n",
    "                t0=time.monotonic()\n",
    "                ready=select.select([client],[],[],.002 ) #last arguement is timeout in seconds\n",
    "                #print(ready)\n",
    "                if ready[0]:\n",
    "                    size = struct.unpack('>i', client.recv(4))[0]  # Extract the msg size from four bytes - mind the encoding\n",
    "                    str_data = client.recv(size)\n",
    "                    geecs=str_data.decode('ascii').split(\",\")\n",
    "                    #print(geecs)\n",
    "                    geecs=geecs[-2].split(\" \")[0]\n",
    "                    #print(geecs)\n",
    "                    if len(geecs)==0:\n",
    "                        geecs=\"nan\"\n",
    "                    if geecs=='on':\n",
    "                        geecs=1\n",
    "                    if geecs=='off':\n",
    "                        geecs=0\n",
    "                    #print(geecs)\n",
    "                    if type(geecs) ==  str:\n",
    "                        if any(c.isalpha() for c in geecs):\n",
    "                            geecs=0\n",
    "                    bella_config['control_variables'][tag]['actual_value']=geecs\n",
    "                    #print(bella_config['control_variables'][tag]['value'])\n",
    "                    bella_config['control_variables'][tag]['newDataFlag']=1\n",
    "                    #print(\"chewing through TCP buffer. Device value: \",geecs)\n",
    "                else:\n",
    "                    #print(\"Buffer cleared\")\n",
    "                    if counter==1:\n",
    "                        geecs=bella_config['control_variables'][tag]['actual_value']\n",
    "                        bella_config['control_variables'][tag]['newDataFlag']=0\n",
    "                t1=time.monotonic()\n",
    "                dt=t1-t0\n",
    "            bella_config['control_variables'][tag]['busy']=0 #release the socket\n",
    "            #print(\"socket released\")\n",
    "    else:\n",
    "        print(\"socket was busy when requested\")\n",
    "        geecs=bella_config['control_variables'][tag]['actual_value']\n",
    "        bella_config['control_variables'][tag]['newDataFlag']=0\n",
    "        bella_config['control_variables'][tag]['busy']=0\n",
    "        print(\"new data: \",newDataFlags[index])\n",
    "    #print(\"in get1 gotvalue ans index \"+str(gotValues[index])+' '+str(index))\n",
    "    return geecs\n",
    "\n",
    "def set1(tag, value):\n",
    "    #check that the set value is in the range \n",
    "    if value>bella_config['control_variables'][tag]['range'][0] and value<bella_config['control_variables'][tag]['range'][1]:\n",
    "        \n",
    "        attempts=0\n",
    "        while attempts<3:\n",
    "            print('attempts loop')\n",
    "            UDP_IP = str(bella_config['control_variables'][tag]['ipaddress'])\n",
    "            UDP_PORT = int(bella_config['control_variables'][tag]['port'])\n",
    "            position = round(value,4)\n",
    "            #MESSAGE = bytes(\"set\"+str(bella_config['control_variables'][tag]['device_variable'])+\">>\" + str(position), 'ascii')\n",
    "            MESSAGE = f\"set{bella_config['control_variables'][tag]['device_variable']}>>{value:.4f}\".encode('ascii')\n",
    "            sock = socket.socket(socket.AF_INET, # Internet\n",
    "                    socket.SOCK_DGRAM) # UDP\n",
    "            sock.sendto(MESSAGE, (UDP_IP, UDP_PORT))\n",
    "            time.sleep(0.75)\n",
    "            checkVal=get(tag)\n",
    "            print(\"check value is: \"+str(checkVal)+\" and target value is: \"+str(value))\n",
    "            tolerance=abs((float(checkVal)-float(value))/float(value))\n",
    "            timeout=5\n",
    "            newCheckVal='NaN';\n",
    "            #loop to check value while device is moving. if value doesn't reach desired value, re-attempt to send the command\n",
    "            while tolerance>0.01:\n",
    "                print('tolerance loop')\n",
    "                time.sleep(0.75)\n",
    "                checkVal=get(tag)\n",
    "                tolerance=abs((float(checkVal)-float(value))/float(value))\n",
    "                if newCheckVal==checkVal:\n",
    "                    print('failed to move device',tag)\n",
    "                    attempts+=1\n",
    "                    break\n",
    "                newCheckVal=checkVal\n",
    "                print(\"still moving, check value is: \"+str(checkVal)+\" and target value is: \"+str(value))\n",
    "            if tolerance<0.01:\n",
    "                print('successfully moved device',tag)\n",
    "                attempts=4\n",
    "    else:\n",
    "        print(\"set value of \"+str(value)+\"for \"+str(tag)+\" is not in the range: \"+str(bella_config['control_variables'][tag]['range']))\n",
    "\n",
    "\n",
    "\n",
    "\n",
    "def set1Norm(tag, norm_value):\n",
    "    #check that the set value is in the range \n",
    "    value=norm_value*(bella_config['control_variables'][tag]['range'][1]-bella_config['control_variables'][tag]['range'][0])+bella_config['control_variables'][tag]['range'][0]\n",
    "    print(value)\n",
    "#     if value>bella_config['control_variables'][tag]['range'][0] and value<bella_config['control_variables'][tag]['range'][1]:\n",
    "        \n",
    "#         attempts=0\n",
    "#         while attempts<3:\n",
    "#             print('attempts loop')\n",
    "#             UDP_IP = str(bella_config['control_variables'][tag]['ipaddress'])\n",
    "#             UDP_PORT = int(bella_config['control_variables'][tag]['port'])\n",
    "#             position = round(value,4)\n",
    "#             #MESSAGE = bytes(\"set\"+str(bella_config['control_variables'][tag]['device_variable'])+\">>\" + str(position), 'ascii')\n",
    "#             MESSAGE = f\"set{bella_config['control_variables'][tag]['device_variable']}>>{value:.4f}\".encode('ascii')\n",
    "#             sock = socket.socket(socket.AF_INET, # Internet\n",
    "#                     socket.SOCK_DGRAM) # UDP\n",
    "#             sock.sendto(MESSAGE, (UDP_IP, UDP_PORT))\n",
    "#             time.sleep(0.75)\n",
    "#             checkVal=get(tag)\n",
    "#             print(\"check value is: \"+str(checkVal)+\" and target value is: \"+str(value))\n",
    "#             tolerance=abs((float(checkVal)-float(value))/float(value))\n",
    "#             timeout=5\n",
    "#             newCheckVal='NaN';\n",
    "#             #loop to check value while device is moving. if value doesn't reach desired value, re-attempt to send the command\n",
    "#             while tolerance>0.01:\n",
    "#                 print('tolerance loop')\n",
    "#                 time.sleep(0.75)\n",
    "#                 checkVal=get(tag)\n",
    "#                 tolerance=abs((float(checkVal)-float(value))/float(value))\n",
    "#                 if newCheckVal==checkVal:\n",
    "#                     print('failed to move device',tag)\n",
    "#                     attempts+=1\n",
    "#                     break\n",
    "#                 newCheckVal=checkVal\n",
    "#                 print(\"still moving, check value is: \"+str(checkVal)+\" and target value is: \"+str(value))\n",
    "#             if tolerance<0.01:\n",
    "#                 print('successfully moved device',tag)\n",
    "#                 attempts=4\n",
    "#     else:\n",
    "#         print(\"set value of \"+str(value)+\"for \"+str(tag)+\" is not in the range: \"+str(bella_config['control_variables'][tag]['range']))\n",
    "\n",
    "\n"
   ]
  },
  {
   "cell_type": "code",
   "execution_count": 3,
   "metadata": {},
   "outputs": [
    {
     "name": "stdout",
     "output_type": "stream",
     "text": [
      "{'device_name': 'CAM-1BL-M1', 'device_variable': 'exposure', 'range': [0.001, 0.05], 'ipaddress': '0.0.0.0', 'port': 9999, 'busy': 0, 'newDataFlag': 0, 'tcp_client': 'na', 'actual_value': 0.0, 'set': True, 'set_value': 0.0, 'proximal_lengthscale': 1.5, 'objective': False}\n",
      "{'device_name': 'CAM-1BL-M1', 'device_variable': 'MeanCounts', 'ipaddress': '0.0.0.0', 'port': 9999, 'busy': 0, 'newDataFlag': 0, 'tcp_client': 'na', 'actual_value': 0.0, 'method': 'MAXIMIZE', 'objective': True, 'set': False}\n"
     ]
    }
   ],
   "source": [
    "for cv_tag,cv_config in cv_tags.items():\n",
    "    print(cv_config)"
   ]
  },
  {
   "cell_type": "markdown",
   "metadata": {},
   "source": [
    "## get TCP info from database for variables, establish clients, initialize current values\n",
    "skip this part if running in simulation mode"
   ]
  },
  {
   "cell_type": "code",
   "execution_count": 5,
   "metadata": {},
   "outputs": [
    {
     "name": "stdout",
     "output_type": "stream",
     "text": [
      "['192.168.14.142', '65009']\n",
      "in the client factory for device:  exposure\n",
      "['192.168.14.142', '65009']\n",
      "in the client factory for device:  MeanCounts\n",
      "0.001000\n",
      "0\n"
     ]
    }
   ],
   "source": [
    "#get TCP info from database\n",
    "import mysql.connector\n",
    "import socket\n",
    "import struct\n",
    "import time\n",
    "import select\n",
    "\n",
    "mydb = mysql.connector.connect(\n",
    "host=bella_config['database']['ipaddress'],\n",
    "user=bella_config['database']['user'],\n",
    "password=bella_config['database']['password'])\n",
    "\n",
    "selectors=[\"ipaddress\",\"commport\"]\n",
    "selectorString=\",\".join(selectors)\n",
    "\n",
    "mycursor = mydb.cursor()\n",
    "db_name=bella_config['database']['name']\n",
    "\n",
    "# for i in cv_tags:\n",
    "#     #create a sql query command that looks in the 'device' table to find the IP address and port for a given device name\n",
    "#     mycursor.execute(\"SELECT \"+selectorString+\" FROM \"+db_name+\".device where name=\"+'\"' + bella_config['control_variables'][i]['device_name'] + '\"'+\";\")\n",
    "#     myresult = list(mycursor.fetchall()[0])\n",
    "#     print(myresult)\n",
    "#     bella_config['control_variables'][i]['ipaddress']=myresult[0]\n",
    "#     bella_config['control_variables'][i]['port']=myresult[1]\n",
    "#     bella_config['control_variables'][i]['tcp_client']=client_factory(myresult[0],myresult[1],bella_config['control_variables'][i]['device_variable'])\n",
    "#     time.sleep(1)\n",
    "#     get(i)\n",
    "    \n",
    "for cv_tag,cv_config in cv_tags.items():\n",
    "    #create a sql query command that looks in the 'device' table to find the IP address and port for a given device name\n",
    "    select_stmt=\"SELECT \"+selectorString+\" FROM \"+db_name+\".device where name=\"+'\"' + cv_config['device_name'] + '\"'+\";\"\n",
    "    print\n",
    "    mycursor.execute(select_stmt)\n",
    "    myresult = list(mycursor.fetchall()[0])\n",
    "    print(myresult)\n",
    "    cv_config['ipaddress']=myresult[0]\n",
    "    cv_config['port']=myresult[1]\n",
    "    cv_config['tcp_client']=client_factory(myresult[0],myresult[1],cv_config['device_variable'])\n",
    "    time.sleep(1)\n",
    "    get(cv_tag)\n",
    "    \n",
    "# for i in obj_tags:\n",
    "#     #create a sql query command that looks in the 'device' table to find the IP address and port for a given device name\n",
    "#     mycursor.execute(\"SELECT \"+selectorString+\" FROM \"+db_name+\".device where name=\"+'\"' + bella_config['objective_variables'][i]['device_name'] + '\"'+\";\")\n",
    "#     myresult = list(mycursor.fetchall()[0])\n",
    "#     print(myresult)\n",
    "#     bella_config['objective_variables'][i]['ipaddress']=myresult[0]\n",
    "#     bella_config['objective_variables'][i]['port']=myresult[1]\n",
    "#     bella_config['objective_variables'][i]['tcp_client']=client_factory(myresult[0],myresult[1],bella_config['objective_variables'][i]['device_variable'])\n",
    "#     get(i)\n",
    "    \n",
    "\n",
    "    \n",
    "for cv_tag,cv_config in cv_tags.items():\n",
    "    print(cv_config['actual_value'])\n",
    "    \n",
    "# for i in obj_tags:\n",
    "#     print(bella_config['objective_variables'][i]['actual_value'])\n",
    "\n",
    "# for i in cv_tags:\n",
    "#     bella_config['control_variables'][i]['tcp_client'].close()"
   ]
  },
  {
   "cell_type": "markdown",
   "metadata": {},
   "source": [
    "## define a simulated objective function\n"
   ]
  },
  {
   "cell_type": "code",
   "execution_count": null,
   "metadata": {},
   "outputs": [],
   "source": [
    "def gaussian(x, mu, sig):\n",
    "    return np.exp(-np.power(x - mu, 2.) / (2 * np.power(sig, 2.)))\n",
    "\n",
    "#simulate objective using actual values\n",
    "# def simulate_objective1():\n",
    "#     v1=gaussian(float(bella_config['control_variables']['JetX']['actual_value']),5.5,.5)+np.random.normal(0,.05,1)[0]\n",
    "#     v2=gaussian(float(bella_config['control_variables']['JetY']['actual_value']),-7.0,.5)+np.random.normal(0,.05,1)[0]\n",
    "#     v3=gaussian(float(bella_config['control_variables']['JetZ']['actual_value']),15.0,1)+np.random.normal(0,.05,1)[0]\n",
    "#     v4=gaussian(float(bella_config['control_variables']['GratingSeparation']['actual_value']),43.1000,0.0500)+np.random.normal(0,.05,1)[0]\n",
    "#     res=v1*v2*v4*v4\n",
    "#     res=float(\"%.4f\" % res)\n",
    "#     return res\n",
    "\n",
    "\n",
    "#simulate objective using set values. \n",
    "def simulate_objective2_norm(input_dict):\n",
    "    v1=gaussian(float(input_dict['JetX']),0.5,.3)+np.random.normal(0,.05,1)[0]\n",
    "    v2=gaussian(float(input_dict['JetY']),0.2,.5)+np.random.normal(0,.05,1)[0]\n",
    "    v3=gaussian(float(input_dict['JetZ']),0.4,.1)+np.random.normal(0,.05,1)[0]\n",
    "    v4=gaussian(float(input_dict['GratingSeparation']),0.9,.25)+np.random.normal(0,.05,1)[0]\n",
    "    \n",
    "    v5=0.8*gaussian(float(input_dict['JetX']),0.5+.2,.3)+np.random.normal(0,.05,1)[0]\n",
    "    v6=0.8*gaussian(float(input_dict['JetY']),0.2+.2,.5)+np.random.normal(0,.05,1)[0]\n",
    "    v7=0.8*gaussian(float(input_dict['JetZ']),0.4+.2,.1)+np.random.normal(0,.05,1)[0]\n",
    "    v8=0.8*gaussian(float(input_dict['GratingSeparation']),0.9-.2,.25)+np.random.normal(0,.05,1)[0]\n",
    "    res=v1*v2*v3*v4+v5*v6*v7*v8\n",
    "    res=float(\"%.4f\" % res)\n",
    "    return res\n",
    "\n",
    "\n",
    "    \n",
    "        "
   ]
  },
  {
   "cell_type": "code",
   "execution_count": null,
   "metadata": {},
   "outputs": [],
   "source": [
    "outputs=obj_tags\n",
    "\n",
    "def geecs_measurement(input_dict):\n",
    "\n",
    "    for i in list(input_dict.keys()):\n",
    "        set_val=float(input_dict[i])\n",
    "        #print('set '+str(i)+' to '+str(set_val))\n",
    "        #set1(i,float(set_val))\n",
    "    \n",
    "    outs=[]\n",
    "    counter=0\n",
    "# use while loop below for simulating the objective function\n",
    "    while counter<bella_config['optimization_parameters']['shots_per_step']:\n",
    "        for i in outputs:\n",
    "            val=simulate_objective2_norm(input_dict)\n",
    "            outs.append(val)\n",
    "        counter=counter+1\n",
    "\n",
    "#Use below for making actual maeasurements on beamline\n",
    "#     while counter<bella_config['optimization_parameters']['shots_per_step']:\n",
    "#         for i in outputs:\n",
    "#             val=float(get_until_new(i))\n",
    "#             outs.append(val)\n",
    "#         counter=counter+1\n",
    "        \n",
    "#     print(outs)\n",
    "\n",
    "###############\n",
    "## TO DO\n",
    "###############\n",
    "## Add some data processing on the resulting on the acquired data.\n",
    "## for example, remove the extreme values, then maybe take a median\n",
    "## also need to test with passing all acquired data points rather than some stat\n",
    "\n",
    "    return {'f': np.mean(outs)}\n"
   ]
  },
  {
   "cell_type": "code",
   "execution_count": null,
   "metadata": {},
   "outputs": [],
   "source": [
    "#close all tcp clients\n",
    "# for i in cv_tags:\n",
    "#     bella_config['control_variables'][i]['tcp_client'].close()"
   ]
  },
  {
   "cell_type": "markdown",
   "metadata": {},
   "source": [
    "## Create Xopt objects\n",
    "Create the evaluator to evaluate our test function and create a generator that uses\n",
    "the Expected Improvement acqusition function to perform Bayesian Optimization."
   ]
  },
  {
   "cell_type": "code",
   "execution_count": null,
   "metadata": {
    "execution": {
     "iopub.execute_input": "2022-11-28T19:37:01.171133Z",
     "iopub.status.busy": "2022-11-28T19:37:01.170597Z",
     "iopub.status.idle": "2022-11-28T19:37:01.183566Z",
     "shell.execute_reply": "2022-11-28T19:37:01.182621Z"
    }
   },
   "outputs": [],
   "source": [
    "from xopt.evaluator import Evaluator\n",
    "from xopt.generators.bayesian import ExpectedImprovementGenerator\n",
    "from xopt import Xopt\n",
    "\n",
    "X = Xopt(config=yaml_output)\n",
    "\n",
    "\n",
    "# evaluator = Evaluator(function=geecs_measurement)\n",
    "# generator = ExpectedImprovementGenerator(vocs)\n",
    "\n",
    "# X = Xopt(evaluator=evaluator, generator=generator, vocs=vocs)\n",
    "# X.options.dump_file='dump.yaml'\n",
    "X\n"
   ]
  },
  {
   "cell_type": "markdown",
   "metadata": {},
   "source": [
    "## Generate and evaluate initial points\n",
    "To begin optimization, we must generate some random initial data points. The first call\n",
    "to `X.step()` will generate and evaluate a number of randomly points specified by the\n",
    " generator. Note that if we add data to xopt before calling `X.step()` by assigning\n",
    " the data to `X.data`, calls to `X.step()` will ignore the random generation and\n",
    " proceed to generating points via Bayesian optimization."
   ]
  },
  {
   "cell_type": "code",
   "execution_count": null,
   "metadata": {},
   "outputs": [],
   "source": [
    "X.evaluate_data(pd.DataFrame({\"JetX\":[.1, .7],\"JetY\":[.1, .4],\"JetZ\":[.1, .55],'GratingSeparation':[.1, .7]}))\n",
    "#X.evaluate_data(pd.DataFrame({\"JetX\":[4.1, 5.4],\"JetY\":[-6.1, -7.1],\"JetZ\":[10.1, 14.35],'GratingSeparation':[40500.1, 41100.8]}))"
   ]
  },
  {
   "cell_type": "code",
   "execution_count": null,
   "metadata": {
    "execution": {
     "iopub.execute_input": "2022-11-28T19:37:01.186956Z",
     "iopub.status.busy": "2022-11-28T19:37:01.186622Z",
     "iopub.status.idle": "2022-11-28T19:37:01.208735Z",
     "shell.execute_reply": "2022-11-28T19:37:01.208255Z"
    }
   },
   "outputs": [],
   "source": [
    "# # print initial number of points to be generated\n",
    "# print(X.generator.options.n_initial)\n",
    "\n",
    "# # call X.step() to generate + evaluate initial points\n",
    "# X.step()\n",
    "\n",
    "# # inspect the gathered data\n",
    "# X.data"
   ]
  },
  {
   "cell_type": "markdown",
   "metadata": {},
   "source": [
    "## Do bayesian optimization steps\n",
    "To perform optimization we simply call `X.step()` in a loop. This allows us to do\n",
    "intermediate tasks in between optimization steps, such as examining the model and\n",
    "acquisition function at each step (as we demonstrate here)."
   ]
  },
  {
   "cell_type": "code",
   "execution_count": null,
   "metadata": {
    "execution": {
     "iopub.execute_input": "2022-11-28T19:37:01.243600Z",
     "iopub.status.busy": "2022-11-28T19:37:01.243097Z",
     "iopub.status.idle": "2022-11-28T19:37:03.528401Z",
     "shell.execute_reply": "2022-11-28T19:37:03.527671Z"
    }
   },
   "outputs": [],
   "source": [
    "import torch\n",
    "import matplotlib.pyplot as plt\n",
    "n_steps = 100\n",
    "\n",
    "# test points for plotting\n",
    "#test_x = torch.linspace(*X.vocs.bounds.flatten(),50).double()\n",
    "\n",
    "for i in range(n_steps):\n",
    "    print('step'+str(i))\n",
    "    t0=time.monotonic()\n",
    "    X.step()\n",
    "    t1=time.monotonic()\n",
    "    print('step'+str(i)+\".1: \"+str(t1-t0))\n",
    "    # get the Gaussian process model from the generator\n",
    "    model = X.generator.model\n",
    "    t2=time.monotonic()\n",
    "    print('step'+str(i)+\".2: \"+str(t2-t0))\n",
    "    # get acquisition function from generator\n",
    "    acq = X.generator.get_acquisition(model)\n",
    "    t3=time.monotonic()\n",
    "    print('step'+str(i)+\".3: \"+str(t3-t0))\n",
    "    # calculate model posterior and acquisition function at each test point\n",
    "    # NOTE: need to add a dimension to the input tensor for evaluating the\n",
    "    # posterior and another for the acquisition function, see\n",
    "    # https://botorch.org/docs/batching for details\n",
    "    # NOTE: we use the `torch.no_grad()` environment to speed up computation by\n",
    "    # skipping calculations for backpropagation\n",
    "#     with torch.no_grad():\n",
    "#         posterior = model.posterior(test_x.unsqueeze(1))\n",
    "#         acq_val = acq(test_x.reshape(-1,1,1))\n",
    "#     # get mean function and confidence regions\n",
    "#     mean = posterior.mean\n",
    "#     l,u = posterior.mvn.confidence_region()\n",
    "#     # plot model and acquisition function\n",
    "#     fig,ax = plt.subplots(2,1,sharex=\"all\")\n",
    "#     # plot model posterior\n",
    "#     ax[0].plot(test_x, mean, label=\"Posterior mean\")\n",
    "#     ax[0].fill_between(test_x, l, u,alpha=0.25, label=\"Posterior confidence region\")\n",
    "#     # add data to model plot\n",
    "#     ax[0].plot(X.data[\"x\"],X.data[\"f\"],\"C1o\", label=\"Training data\")\n",
    "#     # plot true function\n",
    "#     true_f = sin_function({\"x\": test_x})[\"f\"]\n",
    "#     ax[0].plot(test_x, true_f,'--', label=\"Ground truth\")\n",
    "#     # add legend\n",
    "#     ax[0].legend()\n",
    "#     # plot acquisition function\n",
    "#     ax[1].plot(test_x, acq_val.flatten())\n",
    "#     ax[0].set_ylabel(\"f\")\n",
    "#     ax[1].set_ylabel(r\"$\\alpha(x)$\")\n",
    "#     ax[1].set_xlabel(\"x\")\n"
   ]
  },
  {
   "cell_type": "code",
   "execution_count": null,
   "metadata": {
    "execution": {
     "iopub.execute_input": "2022-11-28T19:37:03.532035Z",
     "iopub.status.busy": "2022-11-28T19:37:03.531476Z",
     "iopub.status.idle": "2022-11-28T19:37:03.539904Z",
     "shell.execute_reply": "2022-11-28T19:37:03.539295Z"
    }
   },
   "outputs": [],
   "source": [
    "# access the collected data\n",
    "X.data\n"
   ]
  },
  {
   "cell_type": "code",
   "execution_count": null,
   "metadata": {},
   "outputs": [],
   "source": []
  },
  {
   "cell_type": "markdown",
   "metadata": {},
   "source": [
    "## Getting the optimization result\n",
    "To get the ideal point (without evaluating the point) we ask the generator to\n",
    "generate a new point."
   ]
  },
  {
   "cell_type": "code",
   "execution_count": null,
   "metadata": {
    "execution": {
     "iopub.execute_input": "2022-11-28T19:37:03.543499Z",
     "iopub.status.busy": "2022-11-28T19:37:03.543163Z",
     "iopub.status.idle": "2022-11-28T19:37:03.895648Z",
     "shell.execute_reply": "2022-11-28T19:37:03.895124Z"
    }
   },
   "outputs": [],
   "source": [
    "X.generator.generate(1)"
   ]
  },
  {
   "cell_type": "code",
   "execution_count": null,
   "metadata": {},
   "outputs": [],
   "source": [
    "X.evaluate_data(pd.DataFrame({\"JetX\":[.5],\"JetY\":[.64],\"JetZ\":[.8],'GratingSeparation':[.82]}))"
   ]
  },
  {
   "cell_type": "markdown",
   "metadata": {},
   "source": [
    "## Customizing optimization\n",
    "Each generator has a set of options that can be modified to effect optimization behavior"
   ]
  },
  {
   "cell_type": "code",
   "execution_count": null,
   "metadata": {
    "execution": {
     "iopub.execute_input": "2022-11-28T19:37:03.898940Z",
     "iopub.status.busy": "2022-11-28T19:37:03.898466Z",
     "iopub.status.idle": "2022-11-28T19:37:03.902850Z",
     "shell.execute_reply": "2022-11-28T19:37:03.902398Z"
    }
   },
   "outputs": [],
   "source": [
    "X.generator.options.dict()"
   ]
  },
  {
   "cell_type": "code",
   "execution_count": null,
   "metadata": {
    "execution": {
     "iopub.execute_input": "2022-11-28T19:37:03.905547Z",
     "iopub.status.busy": "2022-11-28T19:37:03.905220Z",
     "iopub.status.idle": "2022-11-28T19:37:03.907830Z",
     "shell.execute_reply": "2022-11-28T19:37:03.907380Z"
    }
   },
   "outputs": [],
   "source": [
    "# example: add a Gamma(1.0,10.0) prior to the noise hyperparameter to reduce model noise\n",
    "# (good for optimizing noise-free simulations)\n",
    "X.generator.options.model.kwargs.use_low_noise_prior = True"
   ]
  },
  {
   "cell_type": "code",
   "execution_count": null,
   "metadata": {},
   "outputs": [],
   "source": [
    "\n"
   ]
  },
  {
   "cell_type": "code",
   "execution_count": null,
   "metadata": {},
   "outputs": [],
   "source": []
  },
  {
   "cell_type": "code",
   "execution_count": null,
   "metadata": {},
   "outputs": [],
   "source": []
  },
  {
   "cell_type": "code",
   "execution_count": null,
   "metadata": {},
   "outputs": [],
   "source": []
  },
  {
   "cell_type": "code",
   "execution_count": null,
   "metadata": {},
   "outputs": [],
   "source": []
  }
 ],
 "metadata": {
  "kernelspec": {
   "display_name": "Python 3 (ipykernel)",
   "language": "python",
   "name": "python3"
  },
  "language_info": {
   "codemirror_mode": {
    "name": "ipython",
    "version": 3
   },
   "file_extension": ".py",
   "mimetype": "text/x-python",
   "name": "python",
   "nbconvert_exporter": "python",
   "pygments_lexer": "ipython3",
   "version": "3.7.9"
  }
 },
 "nbformat": 4,
 "nbformat_minor": 4
}
