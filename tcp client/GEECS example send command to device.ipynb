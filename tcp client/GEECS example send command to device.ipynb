{
 "cells": [
  {
   "cell_type": "code",
   "execution_count": 11,
   "metadata": {},
   "outputs": [
    {
     "name": "stdout",
     "output_type": "stream",
     "text": [
      "Message from Server b'getanalysis>>accepted' \n"
     ]
    },
    {
     "ename": "ConnectionRefusedError",
     "evalue": "[WinError 10061] No connection could be made because the target machine actively refused it",
     "output_type": "error",
     "traceback": [
      "\u001b[1;31m---------------------------------------------------------------------------\u001b[0m",
      "\u001b[1;31mConnectionRefusedError\u001b[0m                    Traceback (most recent call last)",
      "\u001b[1;32m~\\AppData\\Local\\Temp\\ipykernel_26092\\1775317881.py\u001b[0m in \u001b[0;36m<module>\u001b[1;34m\u001b[0m\n\u001b[0;32m     57\u001b[0m \u001b[1;33m\u001b[0m\u001b[0m\n\u001b[0;32m     58\u001b[0m \u001b[0mhost\u001b[0m\u001b[1;33m,\u001b[0m \u001b[0mport\u001b[0m \u001b[1;33m=\u001b[0m \u001b[0mUDP_IP\u001b[0m\u001b[1;33m,\u001b[0m \u001b[1;36m65304\u001b[0m\u001b[1;33m\u001b[0m\u001b[1;33m\u001b[0m\u001b[0m\n\u001b[1;32m---> 59\u001b[1;33m \u001b[0ms\u001b[0m\u001b[1;33m.\u001b[0m\u001b[0mconnect\u001b[0m\u001b[1;33m(\u001b[0m\u001b[1;33m(\u001b[0m\u001b[0mhost\u001b[0m\u001b[1;33m,\u001b[0m \u001b[0mport\u001b[0m\u001b[1;33m)\u001b[0m\u001b[1;33m)\u001b[0m\u001b[1;33m\u001b[0m\u001b[1;33m\u001b[0m\u001b[0m\n\u001b[0m\u001b[0;32m     60\u001b[0m \u001b[1;33m\u001b[0m\u001b[0m\n\u001b[0;32m     61\u001b[0m \u001b[1;31m#s.send(\"Hello World!\\r\\n\")\u001b[0m\u001b[1;33m\u001b[0m\u001b[1;33m\u001b[0m\u001b[1;33m\u001b[0m\u001b[0m\n",
      "\u001b[1;31mConnectionRefusedError\u001b[0m: [WinError 10061] No connection could be made because the target machine actively refused it"
     ]
    }
   ],
   "source": [
    "import socket\n",
    "import struct\n",
    "\n",
    "UDP_IP = \"192.168.14.130\"\n",
    "UDP_PORT = 65303\n",
    "bufferSize = 1024\n",
    "\n",
    "position = 50\n",
    "#example message to set something\n",
    "#MESSAGE = bytes(\"setPosition.device 1>>\" + str(position), 'ascii')\n",
    "\n",
    "#example message to get something\n",
    "MESSAGE = bytes(\"getanalysis\", 'ascii')\n",
    "\n",
    "\n",
    "sock = socket.socket(socket.AF_INET, # Internet\n",
    "                 \tsocket.SOCK_DGRAM) # UDP\n",
    "#sock.settimeout(0.0001)\n",
    "# to get socket port?\n",
    "sock.bind(('', 65303))\n",
    "# info = socket.getnameinfo()[1]\n",
    "# print(info)\n",
    "\n",
    "sock.sendto(MESSAGE, (UDP_IP, UDP_PORT))\n",
    "\n",
    "msgFromServer = sock.recvfrom(bufferSize)\n",
    "\n",
    "msg = \"Message from Server {} \".format(msgFromServer[0])\n",
    "\n",
    "print(msg)\n",
    "sock.close()\n",
    "\n",
    "# UDP_IP = \"\"\n",
    "# UDP_PORT = 65304\n",
    "# sock2 = socket.socket(socket.AF_INET, # Internet\n",
    "#                  \tsocket.SOCK_DGRAM) # UDP\n",
    "\n",
    "# sock2.settimeout(1)\n",
    "# sock2.bind((UDP_IP, UDP_PORT))\n",
    "\n",
    "# #while True:\n",
    "# data, addr = sock.recvfrom(1024) # buffer size is 1024 bytes\n",
    "# print(\"received message: %s\" % data)\n",
    "\n",
    "# SlowMsgFromServer = sock2.recvfrom(bufferSize)\n",
    "\n",
    "# msg = \"Message from Server {}\".format(SlowMsgFromServer[0])\n",
    "\n",
    "# print(msg)\n",
    "\n",
    "s = socket.socket()\n",
    "\n",
    "s.settimeout(5) # Sets the socket to timeout after 1 second of no activity\n",
    "\n",
    "UDP_IP = \"192.168.14.15\"\n",
    "UDP_PORT = 65303\n",
    "\n",
    "host, port = UDP_IP, 65304\n",
    "s.connect((host, port))\n",
    "\n",
    "#s.send(\"Hello World!\\r\\n\")\n",
    "\n",
    "try:\n",
    "    rec = s.recv(100) # try to receive 100 bytes\n",
    "except socket.timeout: # fail after 1 second of no activity\n",
    "    print(\"Didn't receive data! [Timeout]\")\n",
    "finally:\n",
    "    s.close()"
   ]
  },
  {
   "cell_type": "code",
   "execution_count": null,
   "metadata": {},
   "outputs": [],
   "source": []
  },
  {
   "cell_type": "code",
   "execution_count": null,
   "metadata": {},
   "outputs": [],
   "source": []
  }
 ],
 "metadata": {
  "kernelspec": {
   "display_name": "Python 3 (ipykernel)",
   "language": "python",
   "name": "python3"
  },
  "language_info": {
   "codemirror_mode": {
    "name": "ipython",
    "version": 3
   },
   "file_extension": ".py",
   "mimetype": "text/x-python",
   "name": "python",
   "nbconvert_exporter": "python",
   "pygments_lexer": "ipython3",
   "version": "3.7.9"
  }
 },
 "nbformat": 4,
 "nbformat_minor": 4
}
