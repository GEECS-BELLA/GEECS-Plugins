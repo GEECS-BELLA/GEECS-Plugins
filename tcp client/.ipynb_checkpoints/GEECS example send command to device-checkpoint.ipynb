{
 "cells": [
  {
   "cell_type": "code",
   "execution_count": null,
   "metadata": {},
   "outputs": [],
   "source": [
    "import socket\n",
    "import struct\n",
    "\n",
    "UDP_IP = \"192.168.15.27\"\n",
    "UDP_PORT = 65244\n",
    "\n",
    "position = 50\n",
    "MESSAGE = bytes(\"setPosition.device 1>>\" + str(position), 'ascii')\n",
    "\n",
    "sock = socket.socket(socket.AF_INET, # Internet\n",
    "                 \tsocket.SOCK_DGRAM) # UDP\n",
    "sock.sendto(MESSAGE, (UDP_IP, UDP_PORT))\n"
   ]
  }
 ],
 "metadata": {
  "kernelspec": {
   "display_name": "Python 3",
   "language": "python",
   "name": "python3"
  },
  "language_info": {
   "codemirror_mode": {
    "name": "ipython",
    "version": 3
   },
   "file_extension": ".py",
   "mimetype": "text/x-python",
   "name": "python",
   "nbconvert_exporter": "python",
   "pygments_lexer": "ipython3",
   "version": "3.8.2"
  }
 },
 "nbformat": 4,
 "nbformat_minor": 4
}
